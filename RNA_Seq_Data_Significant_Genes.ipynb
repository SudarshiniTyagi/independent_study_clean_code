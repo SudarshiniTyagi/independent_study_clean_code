{
 "cells": [
  {
   "cell_type": "code",
   "execution_count": 1,
   "metadata": {
    "colab": {},
    "colab_type": "code",
    "id": "FAIqfRcaRTt-"
   },
   "outputs": [],
   "source": [
    "import pandas as pd\n",
    "import matplotlib.pyplot as plt\n",
    "import re\n",
    "import numpy as np"
   ]
  },
  {
   "cell_type": "markdown",
   "metadata": {
    "colab_type": "text",
    "id": "1zkjQXQtgXRW"
   },
   "source": [
    "### Reads the data into a dataframe and renames the columns to remove unnecessary numbers "
   ]
  },
  {
   "cell_type": "code",
   "execution_count": 2,
   "metadata": {
    "colab": {},
    "colab_type": "code",
    "id": "E8JZsjDRRbla"
   },
   "outputs": [],
   "source": [
    "data_df = pd.read_excel(\"RNASeqData.xlsx\")"
   ]
  },
  {
   "cell_type": "code",
   "execution_count": 3,
   "metadata": {
    "colab": {},
    "colab_type": "code",
    "id": "L5SIC7ykeqLo"
   },
   "outputs": [],
   "source": [
    "data_df = data_df.rename(columns=lambda x: re.sub(\"w_[0-9]+_O\", \"w_O\",x))\n",
    "data_df = data_df.rename(columns=lambda x: re.sub(\"m_[0-9]+_O\", \"m_O\",x))"
   ]
  },
  {
   "cell_type": "code",
   "execution_count": 4,
   "metadata": {
    "colab": {},
    "colab_type": "code",
    "id": "RfuwTmgERdju"
   },
   "outputs": [],
   "source": [
    "columns = list(data_df.columns) "
   ]
  },
  {
   "cell_type": "code",
   "execution_count": 5,
   "metadata": {
    "colab": {},
    "colab_type": "code",
    "id": "53N3U1QORlyV"
   },
   "outputs": [],
   "source": [
    "norm_cols = [x for x in columns if \"Norm\" in x] # get all normalized values\n",
    "healthy_control = [x for x in norm_cols if \"HC\" in x] # healthy control norm values\n",
    "norm_cols_base = [x for x in norm_cols if \"Base\" in x] # cf without treatment\n",
    "norm_cols_v2 = [x for x in norm_cols if \"V2\" in x] # cf with treatment\n",
    "\n"
   ]
  },
  {
   "cell_type": "markdown",
   "metadata": {
    "colab_type": "text",
    "id": "qFE6PTePg0KZ"
   },
   "source": [
    "### Remove extra characters so we can keep patient identifiers"
   ]
  },
  {
   "cell_type": "code",
   "execution_count": 6,
   "metadata": {
    "colab": {},
    "colab_type": "code",
    "id": "zzbolvnReQp1"
   },
   "outputs": [],
   "source": [
    "df_norm_base = data_df[norm_cols_base]\n",
    "df_norm_base = df_norm_base.rename(columns=lambda x: re.sub(\"Norm_Orkambi_0\", \"\",x))\n",
    "df_norm_base = df_norm_base.rename(columns=lambda x: re.sub(\"_Base\", \"\",x))\n",
    "df_norm_base = df_norm_base.sort_index(axis=1)\n",
    "df_norm_base = df_norm_base.drop(columns=['02'])\n",
    "\n",
    "df_norm_v2 = data_df[norm_cols_v2]\n",
    "df_norm_v2 = df_norm_v2.rename(columns=lambda x: re.sub(\"Norm_Orkambi_0\", \"\",x))\n",
    "df_norm_v2 = df_norm_v2.rename(columns=lambda x: re.sub(\"_V2\", \"\",x))\n",
    "df_norm_v2 = df_norm_v2.sort_index(axis=1)\n",
    "df_norm_v2 = df_norm_v2.drop(columns=['19'])"
   ]
  },
  {
   "cell_type": "markdown",
   "metadata": {
    "colab_type": "text",
    "id": "nihjnYeuhCNC"
   },
   "source": [
    "### Function: get_mean_diff\n",
    "The function takes to lists and simply subtracts the corresponding values and finally takes the average of the differences.\n",
    "\n",
    "Making a function call can take extra time, so for simple operations like these, it may be helpful when used in conjunction with the **map()** function."
   ]
  },
  {
   "cell_type": "code",
   "execution_count": 7,
   "metadata": {
    "colab": {},
    "colab_type": "code",
    "id": "AJ-A6XLhRoIp"
   },
   "outputs": [],
   "source": [
    "from statistics import mean\n",
    "def get_mean_diff(base, v2):\n",
    "  diff = [base[i] - v2[i] for i in range(len(base))] \n",
    "  mean_diff = mean(diff)\n",
    "  # mean of the vector \n",
    "  return mean_diff"
   ]
  },
  {
   "cell_type": "markdown",
   "metadata": {
    "colab_type": "text",
    "id": "elvQrjV4mkfb"
   },
   "source": [
    "### Function: get_avg_diff_count"
   ]
  },
  {
   "cell_type": "code",
   "execution_count": 53,
   "metadata": {
    "colab": {},
    "colab_type": "code",
    "id": "hBTa-wkVRp0D"
   },
   "outputs": [],
   "source": [
    "import random\n",
    "from random import randrange\n",
    "from random import shuffle\n",
    "def get_avg_diff_count(expvalues):\n",
    "    num_shuffles=1000000\n",
    "    base_copy = expvalues[0]\n",
    "    v2_copy = expvalues[1]\n",
    "    n_samples = len(base_copy)\n",
    "    #observed_avg_diff = get_mean_diff(base_copy, v2_copy)\n",
    "    obsdiff = [base_copy[i] - v2_copy[i] for i in range(n_samples)]\n",
    "    observed_avg_diff = mean(obsdiff)\n",
    "    count = 0\n",
    "    #avg_diffs = []\n",
    "    # try looping over shuffles\n",
    "    randomorder = np.array(random.choices([1,-1], k=n_samples*num_shuffles))\n",
    "    randomshape = (num_shuffles, n_samples)\n",
    "    randomorder = randomorder.reshape(randomshape)\n",
    "    randomdiff = np.multiply(randomorder, obsdiff)\n",
    "    avg_diffs = np.average(randomdiff, axis=1)\n",
    "\n",
    "    count=[]\n",
    "    if (observed_avg_diff < 0):\n",
    "        count = np.count_nonzero(avg_diffs < observed_avg_diff)\n",
    "    elif (observed_avg_diff > 0):\n",
    "        count = np.count_nonzero(avg_diffs > observed_avg_diff)\n",
    "        \n",
    "  \n",
    "#    return count/num_shuffles, np.asarray(avg_diffs)\n",
    "    return count/num_shuffles\n"
   ]
  },
  {
   "cell_type": "markdown",
   "metadata": {
    "colab_type": "text",
    "id": "471OW3BMmw36"
   },
   "source": [
    "### Function: avg_diff_sig_test"
   ]
  },
  {
   "cell_type": "code",
   "execution_count": 22,
   "metadata": {
    "colab": {},
    "colab_type": "code",
    "id": "6cYRjRoLRumA"
   },
   "outputs": [],
   "source": [
    "def avg_diff_sig_test(df_norm_base, df_norm_v2):\n",
    "    fullzip = list(zip(df_norm_base.values, df_norm_v2.values))\n",
    "    all_p_sig_values = [get_avg_diff_count(fullzip[i]) for i in range(len(fullzip))]\n",
    "    #all_p_sig_values = map(get_avg_diff_count, fullzip)\n",
    "    return list(all_p_sig_values)"
   ]
  },
  {
   "cell_type": "code",
   "execution_count": 23,
   "metadata": {
    "colab": {
     "base_uri": "https://localhost:8080/",
     "height": 34
    },
    "colab_type": "code",
    "id": "Jj0uTrsFeQqr",
    "outputId": "6ae59e68-2b83-47ca-e466-d97eb731811e"
   },
   "outputs": [
    {
     "data": {
      "text/plain": [
       "(15570, 19)"
      ]
     },
     "execution_count": 23,
     "metadata": {},
     "output_type": "execute_result"
    }
   ],
   "source": [
    "df_norm_v2.shape"
   ]
  },
  {
   "cell_type": "code",
   "execution_count": 54,
   "metadata": {
    "colab": {
     "base_uri": "https://localhost:8080/",
     "height": 34
    },
    "colab_type": "code",
    "id": "PmpDSBStRwek",
    "outputId": "d9414b64-37ad-4434-a8d6-92e9a5f63372",
    "tags": [
     "outputPrepend"
    ]
   },
   "outputs": [],
   "source": [
    "norm_p_values = avg_diff_sig_test(df_norm_base, df_norm_v2)"
   ]
  },
  {
   "cell_type": "code",
   "execution_count": 76,
   "metadata": {
    "colab": {
     "base_uri": "https://localhost:8080/",
     "height": 164
    },
    "colab_type": "code",
    "id": "UjjjK_laeQq0",
    "outputId": "4d3ea549-fbb8-49de-f164-4b2921839883"
   },
   "outputs": [
    {
     "data": {
      "text/plain": [
       "[0.140237, 0.145074, 0.004809, 0.323272, 0.051686]"
      ]
     },
     "execution_count": 76,
     "metadata": {},
     "output_type": "execute_result"
    }
   ],
   "source": [
    "norm_p_values[0:5]"
   ]
  },
  {
   "cell_type": "code",
   "execution_count": 36,
   "metadata": {
    "colab": {},
    "colab_type": "code",
    "id": "DCbRAr5yRp7A"
   },
   "outputs": [],
   "source": [
    "#draw histogram\n",
    "\n",
    "def draw_hist(d, observed):\n",
    "    print(observed)\n",
    "    hist,bin_edges = np.histogram(d,bins =70)    \n",
    "    plt.figure(figsize=[8,8])\n",
    "    plt.bar(bin_edges[:-1], hist, width = 0.1, color='#0504aa',alpha=0.7)\n",
    "    #plt.xlim(min(min(bin_edges),-4), max(max(bin_edges),4))\n",
    "    plt.grid(axis='y', alpha=0.75)\n",
    "    plt.xlabel('Value',fontsize=15)\n",
    "    plt.ylabel('Frequency',fontsize=15)\n",
    "    plt.xticks(fontsize=15)\n",
    "    plt.yticks(fontsize=15)\n",
    "    plt.ylabel('Frequency',fontsize=15)\n",
    "    plt.title('Normal Distribution Histogram',fontsize=15)\n",
    "    plt.axvline(x=observed, color='r', linestyle='dashed', linewidth=2)\n",
    "    plt.show()"
   ]
  },
  {
   "cell_type": "code",
   "execution_count": 56,
   "metadata": {
    "colab": {},
    "colab_type": "code",
    "id": "2quyhpBaRy0f"
   },
   "outputs": [],
   "source": [
    "import pickle\n",
    "pickle.dump( norm_p_values, open( \"norm_p_values.p\", \"wb\" ) )"
   ]
  },
  {
   "cell_type": "markdown",
   "metadata": {
    "colab_type": "text",
    "id": "If3jPZW6R13a"
   },
   "source": [
    "**Bonferroni correction**"
   ]
  },
  {
   "cell_type": "markdown",
   "metadata": {
    "colab_type": "text",
    "id": "gb-bYne4R6TZ"
   },
   "source": [
    "In this method, we divide the threshold by the number of genes. So, if we take a default threshold of 5% (or 0.05), now our threshold would be `0.05/len(norm_p_values)`"
   ]
  },
  {
   "cell_type": "code",
   "execution_count": 57,
   "metadata": {
    "colab": {
     "base_uri": "https://localhost:8080/",
     "height": 170
    },
    "colab_type": "code",
    "id": "joWk5fWbSBRK",
    "outputId": "18fa802f-1bea-4efa-9c3b-873835adfc8e",
    "tags": []
   },
   "outputs": [
    {
     "name": "stdout",
     "output_type": "stream",
     "text": [
      "Number of significant genes:  0\n"
     ]
    }
   ],
   "source": [
    "import pickle\n",
    "norm_p_values = pickle.load( open( \"norm_p_values.p\", \"rb\" ) )\n",
    "count_significant_genes_bonferroni = 0\n",
    "for i, ele in enumerate(norm_p_values):\n",
    "  if ele < (0.05/len(norm_p_values)):\n",
    "    count_significant_genes_bonferroni += 1\n",
    "    print(i+1)\n",
    "print(\"Number of significant genes: \", count_significant_genes_bonferroni)"
   ]
  },
  {
   "cell_type": "markdown",
   "metadata": {
    "colab_type": "text",
    "id": "1wbHwRJkSH7K"
   },
   "source": [
    "**Benjamini–Hochberg procedure**"
   ]
  },
  {
   "cell_type": "markdown",
   "metadata": {
    "colab_type": "text",
    "id": "ltfby0LWSM4c"
   },
   "source": [
    " Put the individual P values in order, from smallest to largest. The smallest P value has a rank of i=1, then next smallest has i=2, etc. Compare each individual P value to its Benjamini-Hochberg critical value, (i/m)Q, where i is the rank, m is the total number of tests, and Q is the false discovery rate you choose. The largest P value that has P<(i/m)Q is significant, and all of the P values smaller than it are also significant, even the ones that aren't less than their Benjamini-Hochberg critical value."
   ]
  },
  {
   "cell_type": "code",
   "execution_count": 28,
   "metadata": {
    "colab": {},
    "colab_type": "code",
    "id": "CSvKOcR5SIZJ"
   },
   "outputs": [],
   "source": [
    "def benjamin_hochberg_corrected_p_values(p_values, fdr):\n",
    "  num_genes = len(p_values)\n",
    "  import numpy as np\n",
    "  sorted_indices = np.argsort(p_values)\n",
    "  sorted_p_values = sorted(p_values)\n",
    "  benjamini_hochberg_critical_values = [((i+1)/num_genes)*fdr for i in range(num_genes)]\n",
    "  for i, p_value in reversed(list(enumerate(sorted_p_values))):\n",
    "    if p_value < benjamini_hochberg_critical_values[i]:\n",
    "      break\n",
    "  return i, sorted_indices"
   ]
  },
  {
   "cell_type": "code",
   "execution_count": 74,
   "metadata": {
    "colab": {
     "base_uri": "https://localhost:8080/",
     "height": 34
    },
    "colab_type": "code",
    "id": "fGZnls8PSRaf",
    "outputId": "9d878dd4-abbd-4a08-8268-5e79272e11a0",
    "tags": []
   },
   "outputs": [
    {
     "name": "stdout",
     "output_type": "stream",
     "text": [
      "Number of significant genes:  3231\n"
     ]
    }
   ],
   "source": [
    "import pickle\n",
    "norm_p_values = pickle.load( open( \"norm_p_values.p\", \"rb\" ) )\n",
    "i, sorted_indices = benjamin_hochberg_corrected_p_values(norm_p_values, 0.25)\n",
    "print(\"Number of significant genes: \", i+1)"
   ]
  },
  {
   "cell_type": "code",
   "execution_count": 59,
   "metadata": {
    "colab": {
     "base_uri": "https://localhost:8080/",
     "height": 34
    },
    "colab_type": "code",
    "id": "nhaIX-MTSf2_",
    "outputId": "b092dc06-a8ec-484e-9ebe-e0c4d629affe"
   },
   "outputs": [
    {
     "data": {
      "text/plain": [
       "[188,\n",
       " 1095,\n",
       " 13503,\n",
       " 5750,\n",
       " 1549,\n",
       " 10516,\n",
       " 11160,\n",
       " 10363,\n",
       " 1392,\n",
       " 7868,\n",
       " 7204,\n",
       " 3290,\n",
       " 8384,\n",
       " 15332,\n",
       " 10593,\n",
       " 361]"
      ]
     },
     "execution_count": 59,
     "metadata": {},
     "output_type": "execute_result"
    }
   ],
   "source": [
    "significant_genes = []\n",
    "for i in range(16):\n",
    "  significant_genes.append((sorted_indices[i]+1))\n",
    "\n",
    "\n",
    "significant_genes"
   ]
  },
  {
   "cell_type": "code",
   "execution_count": 31,
   "metadata": {
    "colab": {
     "base_uri": "https://localhost:8080/",
     "height": 170
    },
    "colab_type": "code",
    "id": "6wYK5OdSSirJ",
    "outputId": "37a1646e-69cb-421c-9898-466db0a45024",
    "tags": []
   },
   "outputs": [
    {
     "name": "stdout",
     "output_type": "stream",
     "text": [
      "       RowID            ID                                        Description\n",
      "187      188        ADAM22                    ADAM metallopeptidase domain 22\n",
      "1094    1095          BCO2                          beta-carotene oxygenase 2\n",
      "1548    1549      CACNA2D2  calcium voltage-gated channel auxiliary subuni...\n",
      "2670    2671        CUEDC2                            CUE domain containing 2\n",
      "3077    3078        DNASE1                                deoxyribonuclease I\n",
      "5749    5750         KITLG                                         KIT ligand\n",
      "7203    7204  LOC105378698                                                NaN\n",
      "7867    7868        LRRC8D   leucine-rich repeat containing 8 family member D\n",
      "10362  10363         PRDX1                                    peroxiredoxin 1\n",
      "10515  10516         PSMD1               proteasome 26S subunit, non-ATPase 1\n",
      "10592  10593        PTP4A2    protein tyrosine phosphatase type IVA, member 2\n",
      "11159  11160        RNF165                            ring finger protein 165\n",
      "12402  12403          SNF8                     SNF8, ESCRT-II complex subunit\n",
      "12583  12584          SNX2                                    sorting nexin 2\n",
      "13502  13503       TMEM181                          transmembrane protein 181\n",
      "15331  15332        ZNF593                            zinc finger protein 593\n"
     ]
    }
   ],
   "source": [
    "print(data_df.loc[data_df['RowID'].isin(significant_genes)][['RowID', 'ID', 'Description']])"
   ]
  },
  {
   "cell_type": "code",
   "execution_count": null,
   "metadata": {
    "colab": {},
    "colab_type": "code",
    "id": "jXcJvTCbTFNj",
    "outputId": "5bba2d0f-d2d2-42cc-f3d5-cc6b2b93788f"
   },
   "outputs": [
    {
     "data": {
      "text/plain": [
       "Norm_Orkambi_007_V2    2.201250e+07\n",
       "Norm_Orkambi_009_V2    2.599588e+07\n",
       "Norm_Orkambi_010_V2    2.801257e+07\n",
       "Norm_Orkambi_012_V2    2.576081e+07\n",
       "Norm_Orkambi_013_V2    2.615355e+07\n",
       "Norm_Orkambi_014_V2    2.786734e+07\n",
       "Norm_Orkambi_001_V2    3.455492e+07\n",
       "Norm_Orkambi_004_V2    3.376038e+07\n",
       "Norm_Orkambi_006_V2    2.666307e+07\n",
       "Norm_Orkambi_015_V2    2.896782e+07\n",
       "Norm_Orkambi_016_V2    2.332386e+07\n",
       "Norm_Orkambi_017_V2    2.449434e+07\n",
       "Norm_Orkambi_018_V2    2.312316e+07\n",
       "Norm_Orkambi_019_V2    2.542411e+07\n",
       "Norm_Orkambi_020_V2    2.495638e+07\n",
       "Norm_Orkambi_021_V2    2.707834e+07\n",
       "Norm_Orkambi_022_V2    2.569940e+07\n",
       "Norm_Orkambi_024_V2    2.229553e+07\n",
       "Norm_Orkambi_025_V2    3.108347e+07\n",
       "Norm_Orkambi_026_V2    2.474027e+07\n",
       "dtype: float64"
      ]
     },
     "execution_count": 79,
     "metadata": {
      "tags": []
     },
     "output_type": "execute_result"
    }
   ],
   "source": [
    "data_df[norm_cols_v2].sum(axis=0)"
   ]
  },
  {
   "cell_type": "code",
   "execution_count": 63,
   "metadata": {
    "colab": {
     "base_uri": "https://localhost:8080/",
     "height": 68
    },
    "colab_type": "code",
    "id": "XPSzM4yweQrR",
    "outputId": "2840d265-85b9-4e63-faa2-d2ac456a4567"
   },
   "outputs": [
    {
     "name": "stdout",
     "output_type": "stream",
     "text": [
      "[1, 2]\n",
      "[10, 11]\n"
     ]
    },
    {
     "data": {
      "text/plain": [
       "[-9, -9]"
      ]
     },
     "execution_count": 63,
     "metadata": {
      "tags": []
     },
     "output_type": "execute_result"
    }
   ],
   "source": [
    "a = ([1,2], [3,4], [5,6])\n",
    "b = ([10,11], [12,13], [14,15])\n",
    "\n",
    "x = zip(a, b)\n",
    "x = list(x)\n",
    "#use the tuple() function to display a readable version of the result:\n",
    "\n",
    "#print(x[0])\n",
    "\n",
    "[x[j] for j in range(len(x))]\n",
    "exptest, exptest2 = x[0]\n",
    "print(exptest)\n",
    "print(exptest2)\n",
    "\n",
    "[exptest[i] - exptest2[i] for i in range(len(exptest))]\n",
    "\n",
    "#print(diff)\n"
   ]
  },
  {
   "cell_type": "code",
   "execution_count": 83,
   "metadata": {
    "colab": {
     "base_uri": "https://localhost:8080/",
     "height": 34
    },
    "colab_type": "code",
    "id": "fTqMAKGjn8zq",
    "outputId": "c5d395ac-5db0-4704-df45-90d4be067242"
   },
   "outputs": [
    {
     "data": {
      "text/plain": [
       "[1, -1]"
      ]
     },
     "execution_count": 83,
     "metadata": {
      "tags": []
     },
     "output_type": "execute_result"
    }
   ],
   "source": [
    "random.choices([1,-1], k=len(exptest))"
   ]
  },
  {
   "cell_type": "code",
   "execution_count": 75,
   "metadata": {
    "colab": {},
    "colab_type": "code",
    "id": "iFjKawc_tu-h"
   },
   "outputs": [
    {
     "name": "stdout",
     "output_type": "stream",
     "text": [
      "0.05\n"
     ]
    },
    {
     "data": {
      "image/png": "[encoded data removed]",
      "text/plain": [
       "<Figure size 576x576 with 1 Axes>"
      ]
     },
     "metadata": {
      "needs_background": "light"
     },
     "output_type": "display_data"
    }
   ],
   "source": [
    "draw_hist(norm_p_values, 0.05)"
   ]
  },
  {
   "cell_type": "code",
   "execution_count": 60,
   "metadata": {},
   "outputs": [],
   "source": [
    "tmp_sorted_indices = np.argsort(norm_p_values)"
   ]
  },
  {
   "cell_type": "code",
   "execution_count": 61,
   "metadata": {},
   "outputs": [
    {
     "data": {
      "text/plain": [
       "array([  187,  1094, 13502,  5749,  1548], dtype=int64)"
      ]
     },
     "execution_count": 61,
     "metadata": {},
     "output_type": "execute_result"
    }
   ],
   "source": [
    "tmp_sorted_indices[:5]"
   ]
  },
  {
   "cell_type": "code",
   "execution_count": 62,
   "metadata": {},
   "outputs": [],
   "source": [
    "tmp_sorted_p_values = sorted(norm_p_values)"
   ]
  },
  {
   "cell_type": "code",
   "execution_count": 63,
   "metadata": {},
   "outputs": [
    {
     "data": {
      "text/plain": [
       "[1.1e-05,\n",
       " 6e-05,\n",
       " 0.000107,\n",
       " 0.000113,\n",
       " 0.000121,\n",
       " 0.000123,\n",
       " 0.000151,\n",
       " 0.000179,\n",
       " 0.000188,\n",
       " 0.000189,\n",
       " 0.000203,\n",
       " 0.000205,\n",
       " 0.000218,\n",
       " 0.000227,\n",
       " 0.00023,\n",
       " 0.000233,\n",
       " 0.00027,\n",
       " 0.000289,\n",
       " 0.000305,\n",
       " 0.000349,\n",
       " 0.000352,\n",
       " 0.000352,\n",
       " 0.000392,\n",
       " 0.000416,\n",
       " 0.000429,\n",
       " 0.000443,\n",
       " 0.000458,\n",
       " 0.000459,\n",
       " 0.000472,\n",
       " 0.000483,\n",
       " 0.000493,\n",
       " 0.000504,\n",
       " 0.000513,\n",
       " 0.000531,\n",
       " 0.000543,\n",
       " 0.000547,\n",
       " 0.000548,\n",
       " 0.000549,\n",
       " 0.00064,\n",
       " 0.000644,\n",
       " 0.000658,\n",
       " 0.0007,\n",
       " 0.000709,\n",
       " 0.000732,\n",
       " 0.000781,\n",
       " 0.000799,\n",
       " 0.000801,\n",
       " 0.000834,\n",
       " 0.000876,\n",
       " 0.000941]"
      ]
     },
     "execution_count": 63,
     "metadata": {},
     "output_type": "execute_result"
    }
   ],
   "source": [
    "tmp_sorted_p_values[:50]"
   ]
  },
  {
   "cell_type": "code",
   "execution_count": 67,
   "metadata": {},
   "outputs": [],
   "source": [
    "tmp_critical_values = [((i+1)/15000)*0.1 for i in range(15000)]"
   ]
  },
  {
   "cell_type": "code",
   "execution_count": 68,
   "metadata": {},
   "outputs": [
    {
     "data": {
      "text/plain": [
       "[6.6666666666666675e-06,\n",
       " 1.3333333333333335e-05,\n",
       " 2e-05,\n",
       " 2.666666666666667e-05,\n",
       " 3.3333333333333335e-05,\n",
       " 4e-05,\n",
       " 4.666666666666667e-05,\n",
       " 5.333333333333334e-05,\n",
       " 5.9999999999999995e-05,\n",
       " 6.666666666666667e-05]"
      ]
     },
     "execution_count": 68,
     "metadata": {},
     "output_type": "execute_result"
    }
   ],
   "source": [
    "tmp_critical_values[:10]"
   ]
  },
  {
   "cell_type": "markdown",
   "metadata": {},
   "source": [
    "### Akternative method\n",
    "story \n",
    "https://puolival.github.io/multipy/\n"
   ]
  },
  {
   "cell_type": "code",
   "execution_count": null,
   "metadata": {},
   "outputs": [],
   "source": []
  }
 ],
 "metadata": {
  "colab": {
   "name": "RNA_Seq_Data_Significant_Genes.ipynb",
   "provenance": []
  },
  "kernelspec": {
   "display_name": "Python 3",
   "language": "python",
   "name": "python3"
  },
  "language_info": {
   "codemirror_mode": {
    "name": "ipython",
    "version": 3
   },
   "file_extension": ".py",
   "mimetype": "text/x-python",
   "name": "python",
   "nbconvert_exporter": "python",
   "pygments_lexer": "ipython3",
   "version": "3.7.7"
  }
 },
 "nbformat": 4,
 "nbformat_minor": 4
}
