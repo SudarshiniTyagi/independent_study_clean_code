{
  "nbformat": 4,
  "nbformat_minor": 0,
  "metadata": {
    "colab": {
      "name": "RNA Seq Data - Significant Genes.ipynb",
      "provenance": []
    },
    "kernelspec": {
      "name": "python3",
      "display_name": "Python 3"
    }
  },
  "cells": [
    {
      "cell_type": "code",
      "metadata": {
        "id": "FAIqfRcaRTt-",
        "colab_type": "code",
        "colab": {}
      },
      "source": [
        "import pandas as pd\n",
        "import matplotlib.pyplot as plt\n",
        "import re\n",
        "import numpy as np"
      ],
      "execution_count": 10,
      "outputs": []
    },
    {
      "cell_type": "code",
      "metadata": {
        "id": "E8JZsjDRRbla",
        "colab_type": "code",
        "colab": {}
      },
      "source": [
        "#Reads the data into a dataframe and renames the columns to remove unnecessary numbers \n",
        "data_df = pd.read_excel(\"RNASeqData.xlsx\")\n",
        "data_df = data_df.rename(columns=lambda x: re.sub(\"w_[0-9]+_O\", \"w_O\",x))\n",
        "data_df = data_df.rename(columns=lambda x: re.sub(\"m_[0-9]+_O\", \"m_O\",x))"
      ],
      "execution_count": 11,
      "outputs": []
    },
    {
      "cell_type": "code",
      "metadata": {
        "id": "RfuwTmgERdju",
        "colab_type": "code",
        "colab": {}
      },
      "source": [
        "columns = list(data_df.columns) "
      ],
      "execution_count": null,
      "outputs": []
    },
    {
      "cell_type": "code",
      "metadata": {
        "id": "53N3U1QORlyV",
        "colab_type": "code",
        "colab": {}
      },
      "source": [
        "norm_cols = [x for x in columns if \"Norm\" in x]\n",
        "norm_cols = [x for x in norm_cols if \"HC\" not in x]\n",
        "norm_cols_base = [x for x in norm_cols if \"Base\" in x]\n",
        "norm_cols_v2 = [x for x in norm_cols if \"V2\" in x]\n",
        "\n",
        "df_norm_base = data_df[norm_cols_base]\n",
        "df_norm_base = df_norm_base.rename(columns=lambda x: re.sub(\"Norm_Orkambi_0\", \"\",x))\n",
        "df_norm_base = df_norm_base.rename(columns=lambda x: re.sub(\"_Base\", \"\",x))\n",
        "df_norm_base = df_norm_base.sort_index(axis=1)\n",
        "df_norm_base = df_norm_base.drop(columns=['02'])\n",
        "\n",
        "df_norm_v2 = data_df[norm_cols_v2]\n",
        "df_norm_v2 = df_norm_v2.rename(columns=lambda x: re.sub(\"Norm_Orkambi_0\", \"\",x))\n",
        "df_norm_v2 = df_norm_v2.rename(columns=lambda x: re.sub(\"_V2\", \"\",x))\n",
        "df_norm_v2 = df_norm_v2.sort_index(axis=1)\n",
        "df_norm_v2 = df_norm_v2.drop(columns=['19'])"
      ],
      "execution_count": null,
      "outputs": []
    },
    {
      "cell_type": "code",
      "metadata": {
        "id": "AJ-A6XLhRoIp",
        "colab_type": "code",
        "colab": {}
      },
      "source": [
        "from statistics import mean\n",
        "def get_mean_diff(base, v2):\n",
        "  diff = [base[i] - v2[i] for i in range(len(base))] \n",
        "  mean_diff = mean(diff)\n",
        "  return mean_diff"
      ],
      "execution_count": null,
      "outputs": []
    },
    {
      "cell_type": "code",
      "metadata": {
        "id": "hBTa-wkVRp0D",
        "colab_type": "code",
        "colab": {}
      },
      "source": [
        "from random import randrange\n",
        "def get_avg_diff_count(observed_avg_diff, base, v2, num_shuffles):\n",
        "  base_copy = base.copy()\n",
        "  v2_copy = v2.copy()\n",
        "  count = 0\n",
        "  avg_diffs = []\n",
        "  for i in range(num_shuffles):\n",
        "    # if (i>0 and i%1000 == 0):\n",
        "    #   print(\"Done: \", i)\n",
        "    idx = randrange(len(base))-1\n",
        "    temp = base_copy[idx]\n",
        "    base_copy[idx] = v2_copy[idx]\n",
        "    v2_copy[idx] = temp\n",
        "    avg_diff = get_mean_diff(base_copy,v2_copy)\n",
        "    avg_diffs.append(avg_diff)\n",
        "    if observed_avg_diff < 0 and avg_diff <= observed_avg_diff:\n",
        "      count += 1\n",
        "    elif observed_avg_diff >= 0 and avg_diff >= observed_avg_diff:\n",
        "      count += 1\n",
        "  return count, np.asarray(avg_diffs)\n"
      ],
      "execution_count": null,
      "outputs": []
    },
    {
      "cell_type": "code",
      "metadata": {
        "id": "DCbRAr5yRp7A",
        "colab_type": "code",
        "colab": {}
      },
      "source": [
        "#draw histogram\n",
        "\n",
        "def draw_hist(d, observed):\n",
        "    print(observed)\n",
        "    hist,bin_edges = np.histogram(d,bins =70)    \n",
        "    plt.figure(figsize=[8,8])\n",
        "    plt.bar(bin_edges[:-1], hist, width = 0.1, color='#0504aa',alpha=0.7)\n",
        "    plt.xlim(min(min(bin_edges),-4), max(max(bin_edges),4))\n",
        "    plt.grid(axis='y', alpha=0.75)\n",
        "    plt.xlabel('Value',fontsize=15)\n",
        "    plt.ylabel('Frequency',fontsize=15)\n",
        "    plt.xticks(fontsize=15)\n",
        "    plt.yticks(fontsize=15)\n",
        "    plt.ylabel('Frequency',fontsize=15)\n",
        "    plt.title('Normal Distribution Histogram',fontsize=15)\n",
        "    plt.axvline(x=observed, color='r', linestyle='dashed', linewidth=2)\n",
        "    plt.show()"
      ],
      "execution_count": null,
      "outputs": []
    },
    {
      "cell_type": "code",
      "metadata": {
        "id": "6cYRjRoLRumA",
        "colab_type": "code",
        "colab": {}
      },
      "source": [
        "def avg_diff_sig_test(df_norm_base, df_norm_v2):\n",
        "    num_shuffles = 10000\n",
        "    num_genes = df_norm_base.shape[0]\n",
        "    all_p_sig_values = []\n",
        "    for i in range(num_genes):\n",
        "      print(i)\n",
        "      base = list(df_norm_base.loc[i, :])\n",
        "      v2 = list(df_norm_v2.loc[i, :])\n",
        "      observed_avg_diff = get_mean_diff(base, v2)\n",
        "      count, avg_diffs = get_avg_diff_count(observed_avg_diff, base, v2, num_shuffles)\n",
        "      # draw_hist(avg_diffs, observed_avg_diff)\n",
        "        \n",
        "      ######################################\n",
        "      #\n",
        "      # Output\n",
        "      #\n",
        "      ######################################\n",
        "      # print(\"**********Gene: \", i, \"**********\")\n",
        "\n",
        "      # print (\"Observed avg of differences: %.2f\" % observed_avg_diff)\n",
        "      # print (count, \"out of\", num_shuffles, \"experiments had a difference of two means\", end=\" \")\n",
        "      # if observed_avg_diff < 0:\n",
        "      #     print (\"less than or equal to\", end=\" \")\n",
        "      # else:\n",
        "      #     print (\"greater than or equal to\", end=\" \")\n",
        "      # print (\"%.2f\" % observed_avg_diff, \".\")\n",
        "      # print (\"The chance of getting a difference of two means\", end=\" \")\n",
        "      # if observed_avg_diff < 0:\n",
        "      #     print (\"less than or equal to\", end=\" \")\n",
        "      # else:\n",
        "      #     print (\"greater than or equal to\", end=\" \")\n",
        "      # print (\"%.2f\" % observed_avg_diff, \"is\", (count / float(num_shuffles)), \"\\n\")\n",
        "      all_p_sig_values.append(count / float(num_shuffles))\n",
        "    return all_p_sig_values"
      ],
      "execution_count": null,
      "outputs": []
    },
    {
      "cell_type": "code",
      "metadata": {
        "id": "PmpDSBStRwek",
        "colab_type": "code",
        "colab": {}
      },
      "source": [
        "norm_p_values = avg_diff_sig_test(df_norm_base, df_norm_v2)"
      ],
      "execution_count": null,
      "outputs": []
    },
    {
      "cell_type": "code",
      "metadata": {
        "id": "2quyhpBaRy0f",
        "colab_type": "code",
        "colab": {}
      },
      "source": [
        "import pickle\n",
        "pickle.dump( norm_p_values, open( \"norm_p_values.p\", \"wb\" ) )"
      ],
      "execution_count": null,
      "outputs": []
    },
    {
      "cell_type": "markdown",
      "metadata": {
        "id": "If3jPZW6R13a",
        "colab_type": "text"
      },
      "source": [
        "**Bonferroni correction**"
      ]
    },
    {
      "cell_type": "markdown",
      "metadata": {
        "id": "gb-bYne4R6TZ",
        "colab_type": "text"
      },
      "source": [
        "In this method, we divide the threshold by the number of genes. So, if we take a default threshold of 5% (or 0.05), now our threshold would be `0.05/len(norm_p_values)`"
      ]
    },
    {
      "cell_type": "code",
      "metadata": {
        "id": "joWk5fWbSBRK",
        "colab_type": "code",
        "colab": {
          "base_uri": "https://localhost:8080/",
          "height": 170
        },
        "outputId": "18fa802f-1bea-4efa-9c3b-873835adfc8e"
      },
      "source": [
        "import pickle\n",
        "norm_p_values = pickle.load( open( \"norm_p_values.p\", \"rb\" ) )\n",
        "count_significant_genes_bonferroni = 0\n",
        "for i, ele in enumerate(norm_p_values):\n",
        "  if ele < (0.05/len(norm_p_values)):\n",
        "    count_significant_genes_bonferroni += 1\n",
        "    print(i+1)\n",
        "print(\"Number of significant genes: \", count_significant_genes_bonferroni)"
      ],
      "execution_count": 9,
      "outputs": [
        {
          "output_type": "stream",
          "text": [
            "188\n",
            "2066\n",
            "3290\n",
            "5750\n",
            "7204\n",
            "8384\n",
            "10516\n",
            "13503\n",
            "Number of significant genes:  8\n"
          ],
          "name": "stdout"
        }
      ]
    },
    {
      "cell_type": "markdown",
      "metadata": {
        "id": "1wbHwRJkSH7K",
        "colab_type": "text"
      },
      "source": [
        "**Benjamini–Hochberg procedure**"
      ]
    },
    {
      "cell_type": "markdown",
      "metadata": {
        "id": "ltfby0LWSM4c",
        "colab_type": "text"
      },
      "source": [
        " Put the individual P values in order, from smallest to largest. The smallest P value has a rank of i=1, then next smallest has i=2, etc. Compare each individual P value to its Benjamini-Hochberg critical value, (i/m)Q, where i is the rank, m is the total number of tests, and Q is the false discovery rate you choose. The largest P value that has P<(i/m)Q is significant, and all of the P values smaller than it are also significant, even the ones that aren't less than their Benjamini-Hochberg critical value."
      ]
    },
    {
      "cell_type": "code",
      "metadata": {
        "id": "CSvKOcR5SIZJ",
        "colab_type": "code",
        "colab": {}
      },
      "source": [
        "def benjamin_hochberg_corrected_p_values(p_values, fdr):\n",
        "  num_genes = len(p_values)\n",
        "  import numpy as np\n",
        "  sorted_indices = np.argsort(p_values)\n",
        "  sorted_p_values = sorted(p_values)\n",
        "  benjamini_hochberg_critical_values = [((i+1)/num_genes)*fdr for i in range(num_genes)]\n",
        "  for i, p_value in reversed(list(enumerate(sorted_p_values))):\n",
        "    if p_value < benjamini_hochberg_critical_values[i]:\n",
        "      break\n",
        "  return i, sorted_indices"
      ],
      "execution_count": 5,
      "outputs": []
    },
    {
      "cell_type": "code",
      "metadata": {
        "id": "fGZnls8PSRaf",
        "colab_type": "code",
        "colab": {
          "base_uri": "https://localhost:8080/",
          "height": 34
        },
        "outputId": "9d878dd4-abbd-4a08-8268-5e79272e11a0"
      },
      "source": [
        "import pickle\n",
        "norm_p_values = pickle.load( open( \"norm_p_values.p\", \"rb\" ) )\n",
        "i, sorted_indices = benjamin_hochberg_corrected_p_values(norm_p_values, 0.1)\n",
        "print(\"Number of significant genes: \", i+1)"
      ],
      "execution_count": 6,
      "outputs": [
        {
          "output_type": "stream",
          "text": [
            "Number of significant genes:  8\n"
          ],
          "name": "stdout"
        }
      ]
    },
    {
      "cell_type": "code",
      "metadata": {
        "id": "nhaIX-MTSf2_",
        "colab_type": "code",
        "colab": {
          "base_uri": "https://localhost:8080/",
          "height": 34
        },
        "outputId": "b092dc06-a8ec-484e-9ebe-e0c4d629affe"
      },
      "source": [
        "significant_genes = []\n",
        "for i in range(8):\n",
        "  significant_genes.append((sorted_indices[i]+1))\n",
        "\n",
        "\n",
        "significant_genes"
      ],
      "execution_count": 7,
      "outputs": [
        {
          "output_type": "execute_result",
          "data": {
            "text/plain": [
              "[8384, 2066, 13503, 7204, 188, 10516, 5750, 3290]"
            ]
          },
          "metadata": {
            "tags": []
          },
          "execution_count": 7
        }
      ]
    },
    {
      "cell_type": "code",
      "metadata": {
        "id": "6wYK5OdSSirJ",
        "colab_type": "code",
        "colab": {
          "base_uri": "https://localhost:8080/",
          "height": 170
        },
        "outputId": "37a1646e-69cb-421c-9898-466db0a45024"
      },
      "source": [
        "print(data_df.loc[data_df['RowID'].isin(significant_genes)][['RowID', 'ID', 'Description']])"
      ],
      "execution_count": 12,
      "outputs": [
        {
          "output_type": "stream",
          "text": [
            "       RowID            ID                                        Description\n",
            "187      188        ADAM22                    ADAM metallopeptidase domain 22\n",
            "2065    2066         CENPM                               centromere protein M\n",
            "3289    3290       EEF1DP3  eukaryotic translation elongation factor 1 del...\n",
            "5749    5750         KITLG                                         KIT ligand\n",
            "7203    7204  LOC105378698                                                NaN\n",
            "8383    8384       MIR3939                                      microRNA 3939\n",
            "10515  10516         PSMD1               proteasome 26S subunit, non-ATPase 1\n",
            "13502  13503       TMEM181                          transmembrane protein 181\n"
          ],
          "name": "stdout"
        }
      ]
    },
    {
      "cell_type": "code",
      "metadata": {
        "id": "jXcJvTCbTFNj",
        "colab_type": "code",
        "colab": {}
      },
      "source": [
        ""
      ],
      "execution_count": null,
      "outputs": []
    }
  ]
}