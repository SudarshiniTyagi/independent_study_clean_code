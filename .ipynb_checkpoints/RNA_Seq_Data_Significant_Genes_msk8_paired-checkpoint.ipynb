{
 "cells": [
  {
   "cell_type": "code",
   "execution_count": 2,
   "metadata": {
    "colab": {},
    "colab_type": "code",
    "id": "FAIqfRcaRTt-"
   },
   "outputs": [],
   "source": [
    "import pandas as pd\n",
    "import matplotlib.pyplot as plt\n",
    "import re\n",
    "import numpy as np"
   ]
  },
  {
   "cell_type": "markdown",
   "metadata": {
    "colab_type": "text",
    "id": "1zkjQXQtgXRW"
   },
   "source": [
    "### Reads the data into a dataframe and renames the columns to remove unnecessary numbers "
   ]
  },
  {
   "cell_type": "code",
   "execution_count": 4,
   "metadata": {
    "colab": {},
    "colab_type": "code",
    "id": "E8JZsjDRRbla"
   },
   "outputs": [],
   "source": [
    "data_df = pd.read_excel(\"RNASeqData.xlsx\")"
   ]
  },
  {
   "cell_type": "code",
   "execution_count": 5,
   "metadata": {
    "colab": {},
    "colab_type": "code",
    "id": "L5SIC7ykeqLo"
   },
   "outputs": [],
   "source": [
    "data_df = data_df.rename(columns=lambda x: re.sub(\"w_[0-9]+_O\", \"w_O\",x))\n",
    "data_df = data_df.rename(columns=lambda x: re.sub(\"m_[0-9]+_O\", \"m_O\",x))"
   ]
  },
  {
   "cell_type": "code",
   "execution_count": 6,
   "metadata": {
    "colab": {},
    "colab_type": "code",
    "id": "RfuwTmgERdju"
   },
   "outputs": [],
   "source": [
    "columns = list(data_df.columns) "
   ]
  },
  {
   "cell_type": "code",
   "execution_count": 7,
   "metadata": {
    "colab": {},
    "colab_type": "code",
    "id": "53N3U1QORlyV"
   },
   "outputs": [],
   "source": [
    "norm_cols = [x for x in columns if \"Norm\" in x] # get all normalized values\n",
    "healthy_control = [x for x in norm_cols if \"HC\" in x] # healthy control norm values\n",
    "norm_cols_base = [x for x in norm_cols if \"Base\" in x] # cf without treatment\n",
    "norm_cols_v2 = [x for x in norm_cols if \"V2\" in x] # cf with treatment\n",
    "\n"
   ]
  },
  {
   "cell_type": "markdown",
   "metadata": {
    "colab_type": "text",
    "id": "qFE6PTePg0KZ"
   },
   "source": [
    "### Remove extra characters so we can keep patient identifiers"
   ]
  },
  {
   "cell_type": "code",
   "execution_count": 8,
   "metadata": {
    "colab": {},
    "colab_type": "code",
    "id": "zzbolvnReQp1"
   },
   "outputs": [],
   "source": [
    "df_norm_base = data_df[norm_cols_base]\n",
    "df_norm_base = df_norm_base.rename(columns=lambda x: re.sub(\"Norm_Orkambi_0\", \"\",x))\n",
    "df_norm_base = df_norm_base.rename(columns=lambda x: re.sub(\"_Base\", \"\",x))\n",
    "df_norm_base = df_norm_base.sort_index(axis=1)\n",
    "df_norm_base = df_norm_base.drop(columns=['02'])\n",
    "\n",
    "df_norm_v2 = data_df[norm_cols_v2]\n",
    "df_norm_v2 = df_norm_v2.rename(columns=lambda x: re.sub(\"Norm_Orkambi_0\", \"\",x))\n",
    "df_norm_v2 = df_norm_v2.rename(columns=lambda x: re.sub(\"_V2\", \"\",x))\n",
    "df_norm_v2 = df_norm_v2.sort_index(axis=1)\n",
    "df_norm_v2 = df_norm_v2.drop(columns=['19'])"
   ]
  },
  {
   "cell_type": "markdown",
   "metadata": {
    "colab_type": "text",
    "id": "nihjnYeuhCNC"
   },
   "source": [
    "### Function: get_mean_diff\n",
    "The function takes to lists and simply subtracts the corresponding values and finally takes the average of the differences.\n",
    "\n",
    "Making a function call can take extra time, so for simple operations like these, it may be helpful when used in conjunction with the **map()** function."
   ]
  },
  {
   "cell_type": "code",
   "execution_count": 9,
   "metadata": {
    "colab": {},
    "colab_type": "code",
    "id": "AJ-A6XLhRoIp"
   },
   "outputs": [],
   "source": [
    "from statistics import mean\n",
    "def get_mean_diff(base, v2):\n",
    "  diff = [base[i] - v2[i] for i in range(len(base))] \n",
    "  mean_diff = mean(diff)\n",
    "  # mean of the vector \n",
    "  return mean_diff"
   ]
  },
  {
   "cell_type": "markdown",
   "metadata": {
    "colab_type": "text",
    "id": "elvQrjV4mkfb"
   },
   "source": [
    "### Function: get_avg_diff_count"
   ]
  },
  {
   "cell_type": "code",
   "execution_count": 10,
   "metadata": {
    "colab": {},
    "colab_type": "code",
    "id": "hBTa-wkVRp0D"
   },
   "outputs": [],
   "source": [
    "import random\n",
    "from random import randrange\n",
    "from random import shuffle\n",
    "def get_avg_diff_count(expvalues):\n",
    "    num_shuffles=10000\n",
    "    base_copy = expvalues[0]\n",
    "    v2_copy = expvalues[1]\n",
    "    n_samples = len(base_copy)\n",
    "    #observed_avg_diff = get_mean_diff(base_copy, v2_copy)\n",
    "    obsdiff = [base_copy[i] - v2_copy[i] for i in range(n_samples)]\n",
    "    observed_avg_diff = mean(obsdiff)\n",
    "    count = 0\n",
    "    #avg_diffs = []\n",
    "    # try looping over shuffles\n",
    "    randomorder = np.array(random.choices([1,-1], k=n_samples*num_shuffles))\n",
    "    randomshape = (num_shuffles, n_samples)\n",
    "    randomorder = randomorder.reshape(randomshape)\n",
    "    randomdiff = np.multiply(randomorder, obsdiff)\n",
    "    avg_diffs = np.average(randomdiff, axis=1)\n",
    "\n",
    "    count=[]\n",
    "    count = np.count_nonzero(avg_diffs < observed_avg_diff)\n",
    "        \n",
    "  \n",
    "#    return count/num_shuffles, np.asarray(avg_diffs)\n",
    "    return count/num_shuffles\n"
   ]
  },
  {
   "cell_type": "markdown",
   "metadata": {
    "colab_type": "text",
    "id": "471OW3BMmw36"
   },
   "source": [
    "### Function: avg_diff_sig_test"
   ]
  },
  {
   "cell_type": "code",
   "execution_count": 11,
   "metadata": {
    "colab": {},
    "colab_type": "code",
    "id": "6cYRjRoLRumA"
   },
   "outputs": [],
   "source": [
    "def avg_diff_sig_test(df_norm_base, df_norm_v2):\n",
    "    fullzip = list(zip(df_norm_base.values, df_norm_v2.values))\n",
    "    all_p_sig_values = [get_avg_diff_count(fullzip[i]) for i in range(len(fullzip))]\n",
    "    #all_p_sig_values = map(get_avg_diff_count, fullzip)\n",
    "    return list(all_p_sig_values)"
   ]
  },
  {
   "cell_type": "code",
   "execution_count": 12,
   "metadata": {
    "colab": {
     "base_uri": "https://localhost:8080/",
     "height": 34
    },
    "colab_type": "code",
    "id": "Jj0uTrsFeQqr",
    "outputId": "6ae59e68-2b83-47ca-e466-d97eb731811e"
   },
   "outputs": [
    {
     "data": {
      "text/plain": [
       "(15570, 19)"
      ]
     },
     "execution_count": 12,
     "metadata": {},
     "output_type": "execute_result"
    }
   ],
   "source": [
    "df_norm_v2.shape"
   ]
  },
  {
   "cell_type": "code",
   "execution_count": 13,
   "metadata": {
    "colab": {
     "base_uri": "https://localhost:8080/",
     "height": 34
    },
    "colab_type": "code",
    "id": "PmpDSBStRwek",
    "outputId": "d9414b64-37ad-4434-a8d6-92e9a5f63372",
    "tags": [
     "outputPrepend"
    ]
   },
   "outputs": [],
   "source": [
    "norm_p_values = avg_diff_sig_test(df_norm_base, df_norm_v2)"
   ]
  },
  {
   "cell_type": "code",
   "execution_count": 14,
   "metadata": {
    "colab": {
     "base_uri": "https://localhost:8080/",
     "height": 164
    },
    "colab_type": "code",
    "id": "UjjjK_laeQq0",
    "outputId": "4d3ea549-fbb8-49de-f164-4b2921839883"
   },
   "outputs": [
    {
     "data": {
      "text/plain": [
       "[0.1437, 0.1514, 0.994, 0.3201, 0.9501]"
      ]
     },
     "execution_count": 14,
     "metadata": {},
     "output_type": "execute_result"
    }
   ],
   "source": [
    "norm_p_values[0:5]"
   ]
  },
  {
   "cell_type": "code",
   "execution_count": 15,
   "metadata": {
    "colab": {},
    "colab_type": "code",
    "id": "DCbRAr5yRp7A"
   },
   "outputs": [],
   "source": [
    "#draw histogram\n",
    "\n",
    "def draw_hist(d, observed):\n",
    "    print(observed)\n",
    "    hist,bin_edges = np.histogram(d,bins =70)    \n",
    "    plt.figure(figsize=[8,8])\n",
    "    plt.bar(bin_edges[:-1], hist, width = 0.1, color='#0504aa',alpha=0.7)\n",
    "    #plt.xlim(min(min(bin_edges),-4), max(max(bin_edges),4))\n",
    "    plt.grid(axis='y', alpha=0.75)\n",
    "    plt.xlabel('Value',fontsize=15)\n",
    "    plt.ylabel('Frequency',fontsize=15)\n",
    "    plt.xticks(fontsize=15)\n",
    "    plt.yticks(fontsize=15)\n",
    "    plt.ylabel('Frequency',fontsize=15)\n",
    "    plt.title('Normal Distribution Histogram',fontsize=15)\n",
    "    plt.axvline(x=observed, color='r', linestyle='dashed', linewidth=2)\n",
    "    plt.show()"
   ]
  },
  {
   "cell_type": "code",
   "execution_count": 16,
   "metadata": {
    "colab": {},
    "colab_type": "code",
    "id": "2quyhpBaRy0f"
   },
   "outputs": [],
   "source": [
    "import pickle\n",
    "pickle.dump( norm_p_values, open( \"norm_p_values.p\", \"wb\" ) )"
   ]
  },
  {
   "cell_type": "markdown",
   "metadata": {
    "colab_type": "text",
    "id": "If3jPZW6R13a"
   },
   "source": [
    "**Bonferroni correction**"
   ]
  },
  {
   "cell_type": "markdown",
   "metadata": {
    "colab_type": "text",
    "id": "gb-bYne4R6TZ"
   },
   "source": [
    "In this method, we divide the threshold by the number of genes. So, if we take a default threshold of 5% (or 0.05), now our threshold would be `0.05/len(norm_p_values)`"
   ]
  },
  {
   "cell_type": "code",
   "execution_count": 17,
   "metadata": {
    "colab": {
     "base_uri": "https://localhost:8080/",
     "height": 170
    },
    "colab_type": "code",
    "id": "joWk5fWbSBRK",
    "outputId": "18fa802f-1bea-4efa-9c3b-873835adfc8e",
    "tags": []
   },
   "outputs": [
    {
     "name": "stdout",
     "output_type": "stream",
     "text": [
      "10516\n",
      "Number of significant genes:  1\n"
     ]
    }
   ],
   "source": [
    "import pickle\n",
    "norm_p_values = pickle.load( open( \"norm_p_values.p\", \"rb\" ) )\n",
    "count_significant_genes_bonferroni = 0\n",
    "for i, ele in enumerate(norm_p_values):\n",
    "  if ele < (0.05/len(norm_p_values)):\n",
    "    count_significant_genes_bonferroni += 1\n",
    "    print(i+1)\n",
    "print(\"Number of significant genes: \", count_significant_genes_bonferroni)"
   ]
  },
  {
   "cell_type": "markdown",
   "metadata": {
    "colab_type": "text",
    "id": "1wbHwRJkSH7K"
   },
   "source": [
    "**Benjamini–Hochberg procedure**"
   ]
  },
  {
   "cell_type": "markdown",
   "metadata": {
    "colab_type": "text",
    "id": "ltfby0LWSM4c"
   },
   "source": [
    " Put the individual P values in order, from smallest to largest. The smallest P value has a rank of i=1, then next smallest has i=2, etc. Compare each individual P value to its Benjamini-Hochberg critical value, (i/m)Q, where i is the rank, m is the total number of tests, and Q is the false discovery rate you choose. The largest P value that has P<(i/m)Q is significant, and all of the P values smaller than it are also significant, even the ones that aren't less than their Benjamini-Hochberg critical value."
   ]
  },
  {
   "cell_type": "code",
   "execution_count": 18,
   "metadata": {
    "colab": {},
    "colab_type": "code",
    "id": "CSvKOcR5SIZJ"
   },
   "outputs": [],
   "source": [
    "def benjamin_hochberg_corrected_p_values(p_values, fdr):\n",
    "  num_genes = len(p_values)\n",
    "  import numpy as np\n",
    "  sorted_indices = np.argsort(p_values)\n",
    "  sorted_p_values = sorted(p_values)\n",
    "  benjamini_hochberg_critical_values = [((i+1)/num_genes)*fdr for i in range(num_genes)]\n",
    "  for i, p_value in reversed(list(enumerate(sorted_p_values))):\n",
    "    if p_value < benjamini_hochberg_critical_values[i]:\n",
    "      break\n",
    "  return i, sorted_indices"
   ]
  },
  {
   "cell_type": "code",
   "execution_count": 19,
   "metadata": {
    "colab": {
     "base_uri": "https://localhost:8080/",
     "height": 34
    },
    "colab_type": "code",
    "id": "fGZnls8PSRaf",
    "outputId": "9d878dd4-abbd-4a08-8268-5e79272e11a0",
    "tags": []
   },
   "outputs": [
    {
     "name": "stdout",
     "output_type": "stream",
     "text": [
      "Number of significant genes:  1\n"
     ]
    }
   ],
   "source": [
    "import pickle\n",
    "norm_p_values = pickle.load( open( \"norm_p_values.p\", \"rb\" ) )\n",
    "i, sorted_indices = benjamin_hochberg_corrected_p_values(norm_p_values, 0.10)\n",
    "print(\"Number of significant genes: \", i+1)"
   ]
  },
  {
   "cell_type": "code",
   "execution_count": 20,
   "metadata": {
    "colab": {
     "base_uri": "https://localhost:8080/",
     "height": 34
    },
    "colab_type": "code",
    "id": "nhaIX-MTSf2_",
    "outputId": "b092dc06-a8ec-484e-9ebe-e0c4d629affe"
   },
   "outputs": [
    {
     "data": {
      "text/plain": [
       "[10516,\n",
       " 15332,\n",
       " 5750,\n",
       " 10363,\n",
       " 8064,\n",
       " 361,\n",
       " 7868,\n",
       " 8153,\n",
       " 10593,\n",
       " 94,\n",
       " 8604,\n",
       " 1392,\n",
       " 13513,\n",
       " 2041,\n",
       " 11369,\n",
       " 8660]"
      ]
     },
     "execution_count": 20,
     "metadata": {},
     "output_type": "execute_result"
    }
   ],
   "source": [
    "significant_genes = []\n",
    "for i in range(16):\n",
    "  significant_genes.append((sorted_indices[i]+1))\n",
    "\n",
    "\n",
    "significant_genes"
   ]
  },
  {
   "cell_type": "code",
   "execution_count": 21,
   "metadata": {
    "colab": {
     "base_uri": "https://localhost:8080/",
     "height": 170
    },
    "colab_type": "code",
    "id": "6wYK5OdSSirJ",
    "outputId": "37a1646e-69cb-421c-9898-466db0a45024",
    "tags": []
   },
   "outputs": [
    {
     "name": "stdout",
     "output_type": "stream",
     "text": [
      "       RowID        ID                                        Description\n",
      "93        94     ACADM  acyl-CoA dehydrogenase, C-4 to C-12 straight c...\n",
      "360      361     AKIP1                     A-kinase interacting protein 1\n",
      "1391    1392  C1orf115                chromosome 1 open reading frame 115\n",
      "2040    2041     CEBPG               CCAAT/enhancer binding protein gamma\n",
      "5749    5750     KITLG                                         KIT ligand\n",
      "7867    7868    LRRC8D   leucine-rich repeat containing 8 family member D\n",
      "8063    8064     MAPK6                 mitogen-activated protein kinase 6\n",
      "8152    8153      MCM6     minichromosome maintenance complex component 6\n",
      "8603    8604    MRPS28                mitochondrial ribosomal protein S28\n",
      "8659    8660      MT1X                                 metallothionein 1X\n",
      "10362  10363     PRDX1                                    peroxiredoxin 1\n",
      "10515  10516     PSMD1               proteasome 26S subunit, non-ATPase 1\n",
      "10592  10593    PTP4A2    protein tyrosine phosphatase type IVA, member 2\n",
      "11368  11369  RPL7AP45                ribosomal protein L7a pseudogene 45\n",
      "13512  13513   TMEM187                          transmembrane protein 187\n",
      "15331  15332    ZNF593                            zinc finger protein 593\n"
     ]
    }
   ],
   "source": [
    "print(data_df.loc[data_df['RowID'].isin(significant_genes)][['RowID', 'ID', 'Description']])"
   ]
  },
  {
   "cell_type": "code",
   "execution_count": 22,
   "metadata": {
    "colab": {},
    "colab_type": "code",
    "id": "jXcJvTCbTFNj",
    "outputId": "5bba2d0f-d2d2-42cc-f3d5-cc6b2b93788f"
   },
   "outputs": [
    {
     "data": {
      "text/plain": [
       "Norm_Orkambi_007_V2    2.201250e+07\n",
       "Norm_Orkambi_009_V2    2.599588e+07\n",
       "Norm_Orkambi_010_V2    2.801257e+07\n",
       "Norm_Orkambi_012_V2    2.576081e+07\n",
       "Norm_Orkambi_013_V2    2.615355e+07\n",
       "Norm_Orkambi_014_V2    2.786734e+07\n",
       "Norm_Orkambi_001_V2    3.455492e+07\n",
       "Norm_Orkambi_004_V2    3.376038e+07\n",
       "Norm_Orkambi_006_V2    2.666307e+07\n",
       "Norm_Orkambi_015_V2    2.896782e+07\n",
       "Norm_Orkambi_016_V2    2.332386e+07\n",
       "Norm_Orkambi_017_V2    2.449434e+07\n",
       "Norm_Orkambi_018_V2    2.312316e+07\n",
       "Norm_Orkambi_019_V2    2.542411e+07\n",
       "Norm_Orkambi_020_V2    2.495638e+07\n",
       "Norm_Orkambi_021_V2    2.707834e+07\n",
       "Norm_Orkambi_022_V2    2.569940e+07\n",
       "Norm_Orkambi_024_V2    2.229553e+07\n",
       "Norm_Orkambi_025_V2    3.108347e+07\n",
       "Norm_Orkambi_026_V2    2.474027e+07\n",
       "dtype: float64"
      ]
     },
     "execution_count": 22,
     "metadata": {},
     "output_type": "execute_result"
    }
   ],
   "source": [
    "data_df[norm_cols_v2].sum(axis=0)"
   ]
  },
  {
   "cell_type": "code",
   "execution_count": 24,
   "metadata": {
    "colab": {},
    "colab_type": "code",
    "id": "iFjKawc_tu-h"
   },
   "outputs": [
    {
     "name": "stdout",
     "output_type": "stream",
     "text": [
      "0.05\n"
     ]
    },
    {
     "data": {
      "image/png": "[encoded data removed]",
      "text/plain": [
       "<Figure size 576x576 with 1 Axes>"
      ]
     },
     "metadata": {
      "needs_background": "light"
     },
     "output_type": "display_data"
    }
   ],
   "source": [
    "draw_hist(norm_p_values, 0.05)"
   ]
  },
  {
   "cell_type": "code",
   "execution_count": 25,
   "metadata": {},
   "outputs": [],
   "source": [
    "tmp_sorted_indices = np.argsort(norm_p_values)"
   ]
  },
  {
   "cell_type": "code",
   "execution_count": 26,
   "metadata": {},
   "outputs": [
    {
     "data": {
      "text/plain": [
       "array([10515, 15331,  5749, 10362,  8063])"
      ]
     },
     "execution_count": 26,
     "metadata": {},
     "output_type": "execute_result"
    }
   ],
   "source": [
    "tmp_sorted_indices[:5]"
   ]
  },
  {
   "cell_type": "code",
   "execution_count": 27,
   "metadata": {},
   "outputs": [],
   "source": [
    "tmp_sorted_p_values = sorted(norm_p_values)"
   ]
  },
  {
   "cell_type": "code",
   "execution_count": 28,
   "metadata": {},
   "outputs": [
    {
     "data": {
      "text/plain": [
       "[0.0, 0.0001, 0.0001, 0.0001, 0.0001, 0.0001, 0.0002, 0.0002, 0.0002, 0.0002]"
      ]
     },
     "execution_count": 28,
     "metadata": {},
     "output_type": "execute_result"
    }
   ],
   "source": [
    "tmp_sorted_p_values[:10]"
   ]
  },
  {
   "cell_type": "code",
   "execution_count": 29,
   "metadata": {},
   "outputs": [],
   "source": [
    "tmp_critical_values = [((i+1)/15000)*0.1 for i in range(15000)]"
   ]
  },
  {
   "cell_type": "code",
   "execution_count": 30,
   "metadata": {},
   "outputs": [
    {
     "data": {
      "text/plain": [
       "[6.6666666666666675e-06,\n",
       " 1.3333333333333335e-05,\n",
       " 2e-05,\n",
       " 2.666666666666667e-05,\n",
       " 3.3333333333333335e-05,\n",
       " 4e-05,\n",
       " 4.666666666666667e-05,\n",
       " 5.333333333333334e-05,\n",
       " 5.9999999999999995e-05,\n",
       " 6.666666666666667e-05]"
      ]
     },
     "execution_count": 30,
     "metadata": {},
     "output_type": "execute_result"
    }
   ],
   "source": [
    "tmp_critical_values[:10]"
   ]
  },
  {
   "cell_type": "markdown",
   "metadata": {},
   "source": [
    "### Akternative method\n",
    "story \n",
    "https://puolival.github.io/multipy/\n"
   ]
  },
  {
   "cell_type": "code",
   "execution_count": 31,
   "metadata": {},
   "outputs": [
    {
     "ename": "ModuleNotFoundError",
     "evalue": "No module named 'multipy'",
     "output_type": "error",
     "traceback": [
      "\u001b[0;31m---------------------------------------------------------------------------\u001b[0m",
      "\u001b[0;31mModuleNotFoundError\u001b[0m                       Traceback (most recent call last)",
      "\u001b[0;32m<ipython-input-31-893f740ed5ca>\u001b[0m in \u001b[0;36m<module>\u001b[0;34m\u001b[0m\n\u001b[0;32m----> 1\u001b[0;31m \u001b[0;32mfrom\u001b[0m \u001b[0mmultipy\u001b[0m\u001b[0;34m.\u001b[0m\u001b[0mfwer\u001b[0m \u001b[0;32mimport\u001b[0m \u001b[0msidak\u001b[0m\u001b[0;34m\u001b[0m\u001b[0;34m\u001b[0m\u001b[0m\n\u001b[0m\u001b[1;32m      2\u001b[0m \u001b[0;34m\u001b[0m\u001b[0m\n\u001b[1;32m      3\u001b[0m \u001b[0msidak_pvals\u001b[0m \u001b[0;34m=\u001b[0m \u001b[0msidak\u001b[0m\u001b[0;34m(\u001b[0m\u001b[0mnorm_p_values\u001b[0m\u001b[0;34m,\u001b[0m \u001b[0malpha\u001b[0m\u001b[0;34m=\u001b[0m\u001b[0;36m.10\u001b[0m\u001b[0;34m)\u001b[0m\u001b[0;34m\u001b[0m\u001b[0;34m\u001b[0m\u001b[0m\n\u001b[1;32m      4\u001b[0m \u001b[0mprint\u001b[0m\u001b[0;34m(\u001b[0m\u001b[0msidak_pvals\u001b[0m\u001b[0;34m)\u001b[0m\u001b[0;34m\u001b[0m\u001b[0;34m\u001b[0m\u001b[0m\n",
      "\u001b[0;31mModuleNotFoundError\u001b[0m: No module named 'multipy'"
     ]
    }
   ],
   "source": [
    "from multipy.fwer import sidak\n",
    "\n",
    "sidak_pvals = sidak(norm_p_values, alpha=.10)\n",
    "print(sidak_pvals)"
   ]
  },
  {
   "cell_type": "code",
   "execution_count": 48,
   "metadata": {},
   "outputs": [
    {
     "name": "stdout",
     "output_type": "stream",
     "text": [
      "The estimated proportion of truly null features is 0.096\n"
     ]
    },
    {
     "data": {
      "text/plain": [
       "15570"
      ]
     },
     "execution_count": 48,
     "metadata": {},
     "output_type": "execute_result"
    }
   ],
   "source": [
    "from multipy.fdr import qvalue\n",
    "_, qvals = qvalue(norm_p_values, threshold=0.10)\n",
    "len(qvals)"
   ]
  },
  {
   "cell_type": "code",
   "execution_count": 51,
   "metadata": {},
   "outputs": [
    {
     "data": {
      "text/plain": [
       "15570"
      ]
     },
     "execution_count": 51,
     "metadata": {},
     "output_type": "execute_result"
    }
   ],
   "source": [
    "sum(qvals<0.05)"
   ]
  },
  {
   "cell_type": "code",
   "execution_count": 40,
   "metadata": {},
   "outputs": [
    {
     "data": {
      "text/plain": [
       "[0.01649525005352053,\n",
       " 0.02047213337996313,\n",
       " 0.02047213337996313,\n",
       " 0.02047213337996313,\n",
       " 0.02047213337996313,\n",
       " 0.02047213337996313,\n",
       " 0.02047213337996313,\n",
       " 0.02047213337996313,\n",
       " 0.02047213337996313,\n",
       " 0.02047213337996313]"
      ]
     },
     "execution_count": 40,
     "metadata": {},
     "output_type": "execute_result"
    }
   ],
   "source": [
    "tmp_sorted_qvals = sorted(qvals)\n",
    "tmp_sorted_qvals[:10]"
   ]
  },
  {
   "cell_type": "code",
   "execution_count": 33,
   "metadata": {},
   "outputs": [],
   "source": [
    "import statsmodels.stats.multitest as ssm\n",
    "norm_p_values_np = np.array(norm_p_values, float)\n",
    "\n",
    "rej, s_adjpval = ssm.multipletests(norm_p_values_np, alpha=0.05, method=\"s\")[:2]\n",
    "rej, fdr_adjpval = ssm.multipletests(norm_p_values_np, alpha=0.05, method=\"fdr_i\")[:2]"
   ]
  },
  {
   "cell_type": "code",
   "execution_count": 34,
   "metadata": {},
   "outputs": [
    {
     "data": {
      "text/plain": [
       "[0.0,\n",
       " 0.789248982726272,\n",
       " 0.789248982726272,\n",
       " 0.789248982726272,\n",
       " 0.789248982726272,\n",
       " 0.789248982726272,\n",
       " 0.9555909251327228,\n",
       " 0.9555909251327228,\n",
       " 0.9555909251327228,\n",
       " 0.9555909251327228]"
      ]
     },
     "execution_count": 34,
     "metadata": {},
     "output_type": "execute_result"
    }
   ],
   "source": [
    "tmp_sorted_s_adjpval = sorted(s_adjpval)\n",
    "tmp_sorted_s_adjpval[:10]"
   ]
  },
  {
   "cell_type": "code",
   "execution_count": 35,
   "metadata": {},
   "outputs": [
    {
     "data": {
      "text/plain": [
       "[0.0, 0.2595, 0.2595, 0.2595, 0.2595, 0.2595, 0.3114, 0.3114, 0.3114, 0.3114]"
      ]
     },
     "execution_count": 35,
     "metadata": {},
     "output_type": "execute_result"
    }
   ],
   "source": [
    "tmp_sorted_fdr_adjpval = sorted(fdr_adjpval)\n",
    "tmp_sorted_fdr_adjpval[:10]"
   ]
  },
  {
   "cell_type": "code",
   "execution_count": 37,
   "metadata": {},
   "outputs": [
    {
     "data": {
      "text/html": [
       "<div>\n",
       "<style scoped>\n",
       "    .dataframe tbody tr th:only-of-type {\n",
       "        vertical-align: middle;\n",
       "    }\n",
       "\n",
       "    .dataframe tbody tr th {\n",
       "        vertical-align: top;\n",
       "    }\n",
       "\n",
       "    .dataframe thead th {\n",
       "        text-align: right;\n",
       "    }\n",
       "</style>\n",
       "<table border=\"1\" class=\"dataframe\">\n",
       "  <thead>\n",
       "    <tr style=\"text-align: right;\">\n",
       "      <th></th>\n",
       "      <th>0</th>\n",
       "      <th>1</th>\n",
       "      <th>2</th>\n",
       "      <th>3</th>\n",
       "      <th>4</th>\n",
       "      <th>5</th>\n",
       "      <th>6</th>\n",
       "      <th>7</th>\n",
       "      <th>8</th>\n",
       "      <th>9</th>\n",
       "    </tr>\n",
       "  </thead>\n",
       "  <tbody>\n",
       "    <tr>\n",
       "      <th>0</th>\n",
       "      <td>0.0</td>\n",
       "      <td>0.000100</td>\n",
       "      <td>0.000100</td>\n",
       "      <td>0.000100</td>\n",
       "      <td>0.000100</td>\n",
       "      <td>0.000100</td>\n",
       "      <td>0.000200</td>\n",
       "      <td>0.000200</td>\n",
       "      <td>0.000200</td>\n",
       "      <td>0.000200</td>\n",
       "    </tr>\n",
       "    <tr>\n",
       "      <th>1</th>\n",
       "      <td>0.0</td>\n",
       "      <td>0.259500</td>\n",
       "      <td>0.259500</td>\n",
       "      <td>0.259500</td>\n",
       "      <td>0.259500</td>\n",
       "      <td>0.259500</td>\n",
       "      <td>0.311400</td>\n",
       "      <td>0.311400</td>\n",
       "      <td>0.311400</td>\n",
       "      <td>0.311400</td>\n",
       "    </tr>\n",
       "    <tr>\n",
       "      <th>2</th>\n",
       "      <td>0.0</td>\n",
       "      <td>0.789249</td>\n",
       "      <td>0.789249</td>\n",
       "      <td>0.789249</td>\n",
       "      <td>0.789249</td>\n",
       "      <td>0.789249</td>\n",
       "      <td>0.955591</td>\n",
       "      <td>0.955591</td>\n",
       "      <td>0.955591</td>\n",
       "      <td>0.955591</td>\n",
       "    </tr>\n",
       "  </tbody>\n",
       "</table>\n",
       "</div>"
      ],
      "text/plain": [
       "     0         1         2         3         4         5         6         7  \\\n",
       "0  0.0  0.000100  0.000100  0.000100  0.000100  0.000100  0.000200  0.000200   \n",
       "1  0.0  0.259500  0.259500  0.259500  0.259500  0.259500  0.311400  0.311400   \n",
       "2  0.0  0.789249  0.789249  0.789249  0.789249  0.789249  0.955591  0.955591   \n",
       "\n",
       "          8         9  \n",
       "0  0.000200  0.000200  \n",
       "1  0.311400  0.311400  \n",
       "2  0.955591  0.955591  "
      ]
     },
     "execution_count": 37,
     "metadata": {},
     "output_type": "execute_result"
    }
   ],
   "source": [
    "pd.DataFrame([tmp_sorted_p_values[:10],tmp_sorted_fdr_adjpval[:10],tmp_sorted_s_adjpval[:10]])"
   ]
  },
  {
   "cell_type": "code",
   "execution_count": 47,
   "metadata": {},
   "outputs": [],
   "source": [
    "another_qvalue = estimate(norm_p_values_np, pi0=0.5)"
   ]
  },
  {
   "cell_type": "code",
   "execution_count": null,
   "metadata": {},
   "outputs": [],
   "source": []
  },
  {
   "cell_type": "code",
   "execution_count": 48,
   "metadata": {},
   "outputs": [
    {
     "data": {
      "text/plain": [
       "[0.085635,\n",
       " 0.10628096793349168,\n",
       " 0.10628096793349168,\n",
       " 0.10628096793349168,\n",
       " 0.10628096793349168,\n",
       " 0.10628096793349168,\n",
       " 0.10628096793349168,\n",
       " 0.10628096793349168,\n",
       " 0.10628096793349168,\n",
       " 0.10628096793349168]"
      ]
     },
     "execution_count": 48,
     "metadata": {},
     "output_type": "execute_result"
    }
   ],
   "source": [
    "tmp_sorted_another_qvalue = sorted(another_qvalue)\n",
    "tmp_sorted_another_qvalue[:10]"
   ]
  },
  {
   "cell_type": "code",
   "execution_count": 52,
   "metadata": {},
   "outputs": [
    {
     "data": {
      "text/plain": [
       "1"
      ]
     },
     "execution_count": 52,
     "metadata": {},
     "output_type": "execute_result"
    }
   ],
   "source": [
    "sum(np.array(tmp_sorted_another_qvalue)<0.1)"
   ]
  },
  {
   "cell_type": "code",
   "execution_count": 23,
   "metadata": {},
   "outputs": [],
   "source": [
    "import scipy as sp\n",
    "def estimate(pv, m=None, verbose=False, lowmem=False, pi0=None):\n",
    "    \"\"\"\n",
    "    Estimates q-values from p-values\n",
    "\n",
    "    Args\n",
    "    =====\n",
    "\n",
    "    m: number of tests. If not specified m = pv.size\n",
    "    verbose: print verbose messages? (default False)\n",
    "    lowmem: use memory-efficient in-place algorithm\n",
    "    pi0: if None, it's estimated as suggested in Storey and Tibshirani, 2003.\n",
    "         For most GWAS this is not necessary, since pi0 is extremely likely to be\n",
    "         1\n",
    "\n",
    "    \"\"\"\n",
    "    assert(pv.min() >= 0 and pv.max() <= 1), \"p-values should be between 0 and 1\"\n",
    "\n",
    "    original_shape = pv.shape\n",
    "    pv = pv.ravel()  # flattens the array in place, more efficient than flatten()\n",
    "\n",
    "    if m is None:\n",
    "        m = float(len(pv))\n",
    "    else:\n",
    "        # the user has supplied an m\n",
    "        m *= 1.0\n",
    "\n",
    "    # if the number of hypotheses is small, just set pi0 to 1\n",
    "    if len(pv) < 100 and pi0 is None:\n",
    "        pi0 = 1.0\n",
    "    elif pi0 is not None:\n",
    "        pi0 = pi0\n",
    "    else:\n",
    "        # evaluate pi0 for different lambdas\n",
    "        pi0 = []\n",
    "        lam = np.arange(0, 0.90, 0.01)\n",
    "        counts = np.array([(pv > i).sum() for i in np.arange(0, 0.9, 0.01)])\n",
    "        for l in range(len(lam)):\n",
    "            pi0.append(counts[l]/(m*(1-lam[l])))\n",
    "\n",
    "        pi0 = np.array(pi0)\n",
    "\n",
    "        # fit natural cubic spline\n",
    "        tck = sp.interpolate.splrep(lam, pi0, k=3)\n",
    "        pi0 = sp.interpolate.splev(lam[-1], tck)\n",
    "        if verbose:\n",
    "            print(\"qvalues pi0=%.3f, estimated proportion of null features \" % pi0)\n",
    "\n",
    "        if pi0 > 1:\n",
    "            if verbose:\n",
    "                print(\"got pi0 > 1 (%.3f) while estimating qvalues, setting it to 1\" % pi0)\n",
    "            pi0 = 1.0\n",
    "\n",
    "    assert(pi0 >= 0 and pi0 <= 1), \"pi0 is not between 0 and 1: %f\" % pi0\n",
    "\n",
    "    if lowmem:\n",
    "        # low memory version, only uses 1 pv and 1 qv matrices\n",
    "        qv = np.zeros((len(pv),))\n",
    "        last_pv = pv.argmax()\n",
    "        qv[last_pv] = (pi0*pv[last_pv]*m)/float(m)\n",
    "        pv[last_pv] = -np.inf\n",
    "        prev_qv = last_pv\n",
    "        for i in range(int(len(pv))-2, -1, -1):\n",
    "            cur_max = pv.argmax()\n",
    "            qv_i = (pi0*m*pv[cur_max]/float(i+1))\n",
    "            pv[cur_max] = -np.inf\n",
    "            qv_i1 = prev_qv\n",
    "            qv[cur_max] = min(qv_i, qv_i1)\n",
    "            prev_qv = qv[cur_max]\n",
    "\n",
    "    else:\n",
    "        p_ordered = np.argsort(pv)\n",
    "        pv = pv[p_ordered]\n",
    "        qv = pi0 * m/len(pv) * pv\n",
    "        qv[-1] = min(qv[-1], 1.0)\n",
    "\n",
    "        for i in range(len(pv)-2, -1, -1):\n",
    "            qv[i] = min(pi0*m*pv[i]/(i+1.0), qv[i+1])\n",
    "\n",
    "        # reorder qvalues\n",
    "        qv_temp = qv.copy()\n",
    "        qv = np.zeros_like(qv)\n",
    "        qv[p_ordered] = qv_temp\n",
    "\n",
    "    # reshape qvalues\n",
    "    qv = qv.reshape(original_shape)\n",
    "\n",
    "    return qv\n"
   ]
  },
  {
   "cell_type": "code",
   "execution_count": 27,
   "metadata": {},
   "outputs": [
    {
     "data": {
      "text/plain": [
       "15570"
      ]
     },
     "execution_count": 27,
     "metadata": {},
     "output_type": "execute_result"
    }
   ],
   "source": [
    "len(norm_p_values_np)"
   ]
  },
  {
   "cell_type": "code",
   "execution_count": 36,
   "metadata": {},
   "outputs": [
    {
     "data": {
      "text/plain": [
       "array([0., 0., 0., ..., 0., 0., 0.])"
      ]
     },
     "execution_count": 36,
     "metadata": {},
     "output_type": "execute_result"
    }
   ],
   "source": [
    "np.array(tmp_sorted_another_qvalue)"
   ]
  },
  {
   "cell_type": "code",
   "execution_count": 46,
   "metadata": {},
   "outputs": [
    {
     "data": {
      "text/plain": [
       "0.500277"
      ]
     },
     "execution_count": 46,
     "metadata": {},
     "output_type": "execute_result"
    }
   ],
   "source": [
    "max(norm_p_values_np)"
   ]
  },
  {
   "cell_type": "code",
   "execution_count": null,
   "metadata": {},
   "outputs": [],
   "source": []
  }
 ],
 "metadata": {
  "colab": {
   "name": "RNA_Seq_Data_Significant_Genes.ipynb",
   "provenance": []
  },
  "kernelspec": {
   "display_name": "Python 3",
   "language": "python",
   "name": "python3"
  },
  "language_info": {
   "codemirror_mode": {
    "name": "ipython",
    "version": 3
   },
   "file_extension": ".py",
   "mimetype": "text/x-python",
   "name": "python",
   "nbconvert_exporter": "python",
   "pygments_lexer": "ipython3",
   "version": "3.8.5"
  }
 },
 "nbformat": 4,
 "nbformat_minor": 4
}
