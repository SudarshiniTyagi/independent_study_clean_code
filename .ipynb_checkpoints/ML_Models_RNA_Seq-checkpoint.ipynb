{
  "nbformat": 4,
  "nbformat_minor": 0,
  "metadata": {
    "colab": {
      "name": "ML Models RNA Seq.ipynb",
      "provenance": []
    },
    "kernelspec": {
      "name": "python3",
      "display_name": "Python 3"
    }
  },
  "cells": [
    {
      "cell_type": "code",
      "metadata": {
        "id": "Yx7PSYejfpTB",
        "colab_type": "code",
        "colab": {}
      },
      "source": [
        "import pandas as pd\n",
        "import matplotlib.pyplot as plt\n",
        "import re\n",
        "import numpy as np"
      ],
      "execution_count": null,
      "outputs": []
    },
    {
      "cell_type": "code",
      "metadata": {
        "id": "hdsGwjyBfyzq",
        "colab_type": "code",
        "colab": {}
      },
      "source": [
        "# Reads the data into a dataframe and renames the columns to remove unnecessary numbers \n",
        "data_df = pd.read_excel(\"RNASeqData.xlsx\")\n",
        "data_df = data_df.rename(columns=lambda x: re.sub(\"w_[0-9]+_O\", \"w_O\",x))\n",
        "data_df = data_df.rename(columns=lambda x: re.sub(\"m_[0-9]+_O\", \"m_O\",x))\n",
        "columns = list(data_df.columns) "
      ],
      "execution_count": null,
      "outputs": []
    },
    {
      "cell_type": "code",
      "metadata": {
        "id": "nyN9OPCPf2uP",
        "colab_type": "code",
        "colab": {}
      },
      "source": [
        "# Filtering Significant Genes - As per previous Analysis\n",
        "significant_genes = [8384, 2066, 13503, 7204, 188, 10516, 5750, 3290]\n",
        "significant_data_df = data_df.loc[data_df['RowID'].isin(significant_genes)]"
      ],
      "execution_count": null,
      "outputs": []
    },
    {
      "cell_type": "code",
      "metadata": {
        "id": "53QloujmgzkH",
        "colab_type": "code",
        "colab": {}
      },
      "source": [
        "norm_cols = [x for x in columns if \"Norm\" in x]\n",
        "norm_cols_healthy = [x for x in norm_cols if \"HC\" in x]\n",
        "norm_cols_patient = [x for x in norm_cols if \"HC\" not in x]\n",
        "norm_cols_base = [x for x in norm_cols_patient if \"Base\" in x]"
      ],
      "execution_count": null,
      "outputs": []
    },
    {
      "cell_type": "code",
      "metadata": {
        "id": "qGXm0wI_gbx-",
        "colab_type": "code",
        "colab": {}
      },
      "source": [
        "#Preparing Data\n",
        "df_norm_healthy = significant_data_df[norm_cols_healthy]\n",
        "df_norm_healthy_T = df_norm_healthy.T\n",
        "labels_healthy = [1]*20\n",
        "\n",
        "df_norm_base = significant_data_df[norm_cols_base]\n",
        "df_norm_base_T = df_norm_base.T\n",
        "labels_patient = [0]*20"
      ],
      "execution_count": null,
      "outputs": []
    },
    {
      "cell_type": "code",
      "metadata": {
        "id": "_ekgunX9iHZq",
        "colab_type": "code",
        "colab": {}
      },
      "source": [
        "X1 = df_norm_healthy_T.values\n",
        "X2 = df_norm_base_T.values\n",
        "Y1 = np.zeros((1,20))\n",
        "Y2 = np.ones((1,20))"
      ],
      "execution_count": null,
      "outputs": []
    },
    {
      "cell_type": "code",
      "metadata": {
        "id": "8UwuHmZvlH4Z",
        "colab_type": "code",
        "colab": {
          "base_uri": "https://localhost:8080/",
          "height": 34
        },
        "outputId": "04d59a4d-1790-4a19-a9e4-d77576587a23"
      },
      "source": [
        "X = np.concatenate((X1, X2), axis=0)\n",
        "X.shape"
      ],
      "execution_count": null,
      "outputs": [
        {
          "output_type": "execute_result",
          "data": {
            "text/plain": [
              "(40, 8)"
            ]
          },
          "metadata": {
            "tags": []
          },
          "execution_count": 12
        }
      ]
    },
    {
      "cell_type": "code",
      "metadata": {
        "id": "6Z7fN8gllY_a",
        "colab_type": "code",
        "colab": {
          "base_uri": "https://localhost:8080/",
          "height": 34
        },
        "outputId": "b2164538-ebb1-47c2-e111-c489dbc78522"
      },
      "source": [
        "Y = np.concatenate((Y1, Y2), axis=1)\n",
        "Y = np.reshape(Y, 40)\n",
        "Y.shape"
      ],
      "execution_count": null,
      "outputs": [
        {
          "output_type": "execute_result",
          "data": {
            "text/plain": [
              "(40,)"
            ]
          },
          "metadata": {
            "tags": []
          },
          "execution_count": 13
        }
      ]
    },
    {
      "cell_type": "code",
      "metadata": {
        "id": "9_zKS5xQmZhP",
        "colab_type": "code",
        "colab": {}
      },
      "source": [
        "from sklearn.model_selection import train_test_split\n",
        "X_train, X_test, Y_train, Y_test = train_test_split(X, Y, test_size = 0.20)"
      ],
      "execution_count": null,
      "outputs": []
    },
    {
      "cell_type": "markdown",
      "metadata": {
        "id": "7fJb0PQGAP_G",
        "colab_type": "text"
      },
      "source": [
        "**SVM**"
      ]
    },
    {
      "cell_type": "code",
      "metadata": {
        "id": "1K4OZrPLm-c8",
        "colab_type": "code",
        "colab": {
          "base_uri": "https://localhost:8080/",
          "height": 238
        },
        "outputId": "78c3e713-12d6-4f23-fcc1-9b04d907b6ed"
      },
      "source": [
        "from sklearn.svm import SVC\n",
        "svclassifier = SVC(kernel='linear')\n",
        "svclassifier.fit(X_train, Y_train)\n",
        "Y_pred = svclassifier.predict(X_test)\n",
        "from sklearn.metrics import classification_report, confusion_matrix\n",
        "print(confusion_matrix(Y_test,Y_pred))\n",
        "print(classification_report(Y_test,Y_pred))\n",
        "print(\"Predictions: \", Y_pred)\n",
        "print(\"Expected:    \", Y_test)"
      ],
      "execution_count": null,
      "outputs": [
        {
          "output_type": "stream",
          "text": [
            "[[3 1]\n",
            " [0 4]]\n",
            "              precision    recall  f1-score   support\n",
            "\n",
            "         0.0       1.00      0.75      0.86         4\n",
            "         1.0       0.80      1.00      0.89         4\n",
            "\n",
            "    accuracy                           0.88         8\n",
            "   macro avg       0.90      0.88      0.87         8\n",
            "weighted avg       0.90      0.88      0.87         8\n",
            "\n",
            "Predictions:  [0. 1. 0. 0. 1. 1. 1. 1.]\n",
            "Expected:     [0. 1. 0. 0. 1. 0. 1. 1.]\n"
          ],
          "name": "stdout"
        }
      ]
    },
    {
      "cell_type": "markdown",
      "metadata": {
        "id": "TqYfUXPAAZI1",
        "colab_type": "text"
      },
      "source": [
        "**Decision Trees**"
      ]
    },
    {
      "cell_type": "code",
      "metadata": {
        "id": "d_ODsj9P_WFm",
        "colab_type": "code",
        "colab": {
          "base_uri": "https://localhost:8080/",
          "height": 238
        },
        "outputId": "ddfe9605-ac42-4bfe-c672-cb46b014f27a"
      },
      "source": [
        "from sklearn.tree import DecisionTreeClassifier\n",
        "dtclassifier = DecisionTreeClassifier(random_state=0)\n",
        "dtclassifier.fit(X_train, Y_train)\n",
        "Y_pred_dt = dtclassifier.predict(X_test)\n",
        "print(confusion_matrix(Y_test,Y_pred_dt))\n",
        "print(classification_report(Y_test,Y_pred_dt))\n",
        "print(\"Predictions: \", Y_pred_dt)\n",
        "print(\"Expected:    \", Y_test)"
      ],
      "execution_count": null,
      "outputs": [
        {
          "output_type": "stream",
          "text": [
            "[[3 1]\n",
            " [0 4]]\n",
            "              precision    recall  f1-score   support\n",
            "\n",
            "         0.0       1.00      0.75      0.86         4\n",
            "         1.0       0.80      1.00      0.89         4\n",
            "\n",
            "    accuracy                           0.88         8\n",
            "   macro avg       0.90      0.88      0.87         8\n",
            "weighted avg       0.90      0.88      0.87         8\n",
            "\n",
            "Predictions:  [0. 1. 0. 0. 1. 1. 1. 1.]\n",
            "Expected:     [0. 1. 0. 0. 1. 0. 1. 1.]\n"
          ],
          "name": "stdout"
        }
      ]
    },
    {
      "cell_type": "markdown",
      "metadata": {
        "id": "JX-JgU-fBpHS",
        "colab_type": "text"
      },
      "source": [
        "**Random Forest**"
      ]
    },
    {
      "cell_type": "code",
      "metadata": {
        "id": "R-hMeCkZBBXO",
        "colab_type": "code",
        "colab": {
          "base_uri": "https://localhost:8080/",
          "height": 238
        },
        "outputId": "0d01e92b-ec4f-410c-8536-33acf95b44e8"
      },
      "source": [
        "from sklearn.ensemble import RandomForestClassifier\n",
        "rfclassifier = RandomForestClassifier(n_estimators=100)\n",
        "rfclassifier.fit(X_train, Y_train)\n",
        "Y_pred_rf = rfclassifier.predict(X_test)\n",
        "print(confusion_matrix(Y_test,Y_pred_rf))\n",
        "print(classification_report(Y_test,Y_pred_rf))\n",
        "print(\"Predictions: \", Y_pred_rf)\n",
        "print(\"Expected:    \", Y_test)"
      ],
      "execution_count": null,
      "outputs": [
        {
          "output_type": "stream",
          "text": [
            "[[3 1]\n",
            " [0 4]]\n",
            "              precision    recall  f1-score   support\n",
            "\n",
            "         0.0       1.00      0.75      0.86         4\n",
            "         1.0       0.80      1.00      0.89         4\n",
            "\n",
            "    accuracy                           0.88         8\n",
            "   macro avg       0.90      0.88      0.87         8\n",
            "weighted avg       0.90      0.88      0.87         8\n",
            "\n",
            "Predictions:  [0. 1. 0. 0. 1. 1. 1. 1.]\n",
            "Expected:     [0. 1. 0. 0. 1. 0. 1. 1.]\n"
          ],
          "name": "stdout"
        }
      ]
    },
    {
      "cell_type": "code",
      "metadata": {
        "id": "oQdMxWNwBcgI",
        "colab_type": "code",
        "colab": {}
      },
      "source": [
        ""
      ],
      "execution_count": null,
      "outputs": []
    }
  ]
}