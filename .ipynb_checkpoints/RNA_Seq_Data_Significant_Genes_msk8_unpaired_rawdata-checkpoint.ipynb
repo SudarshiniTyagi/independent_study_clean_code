{
 "cells": [
  {
   "cell_type": "code",
   "execution_count": 1,
   "metadata": {
    "colab": {},
    "colab_type": "code",
    "id": "FAIqfRcaRTt-"
   },
   "outputs": [],
   "source": [
    "import pandas as pd\n",
    "import matplotlib.pyplot as plt\n",
    "import re\n",
    "import numpy as np\n",
    "import random\n",
    "import pickle\n",
    "import seaborn as sns\n",
    "import math\n",
    "import sys"
   ]
  },
  {
   "cell_type": "markdown",
   "metadata": {
    "colab_type": "text",
    "id": "1zkjQXQtgXRW"
   },
   "source": [
    "### Reads the data into a dataframe and renames the columns to remove unnecessary numbers "
   ]
  },
  {
   "cell_type": "code",
   "execution_count": 2,
   "metadata": {},
   "outputs": [],
   "source": [
    "data_df = pd.read_excel(\"https://ftp.ncbi.nlm.nih.gov/geo/series/\\\n",
    "GSE124nnn/GSE124548/suppl/\\\n",
    "GSE124548_AllData_170308_RNAseq_Kopp_Results.xlsx\")"
   ]
  },
  {
   "cell_type": "code",
   "execution_count": 3,
   "metadata": {},
   "outputs": [
    {
     "data": {
      "text/plain": [
       "(15570, 140)"
      ]
     },
     "execution_count": 3,
     "metadata": {},
     "output_type": "execute_result"
    }
   ],
   "source": [
    "data_df.shape"
   ]
  },
  {
   "cell_type": "code",
   "execution_count": 4,
   "metadata": {
    "colab": {},
    "colab_type": "code",
    "id": "L5SIC7ykeqLo"
   },
   "outputs": [],
   "source": [
    "data_df = data_df.rename(columns=lambda x: re.sub(\"w_[0-9]+_O\", \"w_O\",x))\n",
    "data_df = data_df.rename(columns=lambda x: re.sub(\"m_[0-9]+_O\", \"m_O\",x))"
   ]
  },
  {
   "cell_type": "code",
   "execution_count": 5,
   "metadata": {
    "colab": {},
    "colab_type": "code",
    "id": "RfuwTmgERdju"
   },
   "outputs": [
    {
     "data": {
      "text/plain": [
       "['RowID', 'ID', 'Description', 'EntrezID', 'Class']"
      ]
     },
     "execution_count": 5,
     "metadata": {},
     "output_type": "execute_result"
    }
   ],
   "source": [
    "columns = list(data_df.columns) \n",
    "columns[:5]"
   ]
  },
  {
   "cell_type": "code",
   "execution_count": 6,
   "metadata": {},
   "outputs": [],
   "source": [
    "raw_cols = [x for x in columns if \"Raw\" in x] # get all raw values\n",
    "raw_cols_sums = data_df[raw_cols].sum()\n",
    "norm_cpm = [data_df[raw_cols].iloc[i]*1000000/raw_cols_sums \\\n",
    "            for i in range(data_df.shape[0])]"
   ]
  },
  {
   "cell_type": "code",
   "execution_count": 7,
   "metadata": {},
   "outputs": [
    {
     "data": {
      "text/plain": [
       "(15570, 60)"
      ]
     },
     "execution_count": 7,
     "metadata": {},
     "output_type": "execute_result"
    }
   ],
   "source": [
    "norm_cpm_df = pd.DataFrame(data=norm_cpm)\n",
    "norm_cpm_df.shape"
   ]
  },
  {
   "cell_type": "code",
   "execution_count": 8,
   "metadata": {},
   "outputs": [
    {
     "data": {
      "text/html": [
       "<div>\n",
       "<style scoped>\n",
       "    .dataframe tbody tr th:only-of-type {\n",
       "        vertical-align: middle;\n",
       "    }\n",
       "\n",
       "    .dataframe tbody tr th {\n",
       "        vertical-align: top;\n",
       "    }\n",
       "\n",
       "    .dataframe thead th {\n",
       "        text-align: right;\n",
       "    }\n",
       "</style>\n",
       "<table border=\"1\" class=\"dataframe\">\n",
       "  <thead>\n",
       "    <tr style=\"text-align: right;\">\n",
       "      <th></th>\n",
       "      <th>Raw_10_HC_Auto_066_237</th>\n",
       "      <th>Raw_Orkambi_006_Base</th>\n",
       "      <th>Raw_Orkambi_007_V2</th>\n",
       "      <th>Raw_13_HC_Auto_068_239</th>\n",
       "      <th>Raw_Orkambi_007_Base</th>\n",
       "      <th>Raw_Orkambi_009_V2</th>\n",
       "      <th>Raw_16_HC_Auto_072_243</th>\n",
       "      <th>Raw_Orkambi_009_Base</th>\n",
       "      <th>Raw_Orkambi_010_V2</th>\n",
       "      <th>Raw_19_HC_Auto_074_245</th>\n",
       "      <th>...</th>\n",
       "      <th>Raw_Orkambi_026_V2</th>\n",
       "      <th>RowID</th>\n",
       "      <th>ID</th>\n",
       "      <th>Description</th>\n",
       "      <th>EntrezID</th>\n",
       "      <th>Class</th>\n",
       "      <th>pre_drug.vs.control_ShrunkenLog2FC</th>\n",
       "      <th>pre_drug.vs.control_MLELog2FC</th>\n",
       "      <th>pre_drug.vs.control_pVal</th>\n",
       "      <th>pre_drug.vs.control_pAdj</th>\n",
       "    </tr>\n",
       "  </thead>\n",
       "  <tbody>\n",
       "    <tr>\n",
       "      <th>0</th>\n",
       "      <td>3.573084</td>\n",
       "      <td>2.084737</td>\n",
       "      <td>4.012814</td>\n",
       "      <td>2.405698</td>\n",
       "      <td>2.554380</td>\n",
       "      <td>5.560526</td>\n",
       "      <td>3.970076</td>\n",
       "      <td>3.336330</td>\n",
       "      <td>2.125438</td>\n",
       "      <td>4.603163</td>\n",
       "      <td>...</td>\n",
       "      <td>3.045395</td>\n",
       "      <td>1</td>\n",
       "      <td>A1BG</td>\n",
       "      <td>alpha-1-B glycoprotein</td>\n",
       "      <td>1</td>\n",
       "      <td>protein_coding</td>\n",
       "      <td>-0.050497</td>\n",
       "      <td>-0.066327</td>\n",
       "      <td>0.691693</td>\n",
       "      <td>0.824882</td>\n",
       "    </tr>\n",
       "    <tr>\n",
       "      <th>1</th>\n",
       "      <td>2.161495</td>\n",
       "      <td>1.700706</td>\n",
       "      <td>3.009610</td>\n",
       "      <td>1.359742</td>\n",
       "      <td>1.516663</td>\n",
       "      <td>2.439823</td>\n",
       "      <td>2.540848</td>\n",
       "      <td>1.811150</td>\n",
       "      <td>1.121759</td>\n",
       "      <td>2.478626</td>\n",
       "      <td>...</td>\n",
       "      <td>2.305799</td>\n",
       "      <td>2</td>\n",
       "      <td>A1BG-AS1</td>\n",
       "      <td>A1BG antisense RNA 1</td>\n",
       "      <td>503538</td>\n",
       "      <td>lncRNA</td>\n",
       "      <td>0.004178</td>\n",
       "      <td>0.032895</td>\n",
       "      <td>0.971929</td>\n",
       "      <td>0.986309</td>\n",
       "    </tr>\n",
       "    <tr>\n",
       "      <th>2</th>\n",
       "      <td>3.264299</td>\n",
       "      <td>5.925042</td>\n",
       "      <td>2.221379</td>\n",
       "      <td>2.457996</td>\n",
       "      <td>1.636400</td>\n",
       "      <td>0.879471</td>\n",
       "      <td>3.334864</td>\n",
       "      <td>1.072392</td>\n",
       "      <td>1.859759</td>\n",
       "      <td>8.940759</td>\n",
       "      <td>...</td>\n",
       "      <td>1.435686</td>\n",
       "      <td>3</td>\n",
       "      <td>A2M-AS1</td>\n",
       "      <td>A2M antisense RNA 1 (head to head)</td>\n",
       "      <td>144571</td>\n",
       "      <td>lncRNA</td>\n",
       "      <td>0.356337</td>\n",
       "      <td>0.932311</td>\n",
       "      <td>0.050847</td>\n",
       "      <td>0.179776</td>\n",
       "    </tr>\n",
       "    <tr>\n",
       "      <th>3</th>\n",
       "      <td>7.102057</td>\n",
       "      <td>4.718089</td>\n",
       "      <td>7.058253</td>\n",
       "      <td>4.811396</td>\n",
       "      <td>4.629815</td>\n",
       "      <td>4.056914</td>\n",
       "      <td>7.717827</td>\n",
       "      <td>3.241006</td>\n",
       "      <td>4.457517</td>\n",
       "      <td>6.594917</td>\n",
       "      <td>...</td>\n",
       "      <td>5.264183</td>\n",
       "      <td>4</td>\n",
       "      <td>AAAS</td>\n",
       "      <td>aladin WD repeat nucleoporin</td>\n",
       "      <td>8086</td>\n",
       "      <td>protein_coding</td>\n",
       "      <td>-0.139005</td>\n",
       "      <td>-0.152091</td>\n",
       "      <td>0.285215</td>\n",
       "      <td>0.495514</td>\n",
       "    </tr>\n",
       "    <tr>\n",
       "      <th>4</th>\n",
       "      <td>8.778318</td>\n",
       "      <td>7.022272</td>\n",
       "      <td>7.094081</td>\n",
       "      <td>6.118841</td>\n",
       "      <td>6.465776</td>\n",
       "      <td>7.461318</td>\n",
       "      <td>6.923812</td>\n",
       "      <td>5.790915</td>\n",
       "      <td>5.933516</td>\n",
       "      <td>6.727700</td>\n",
       "      <td>...</td>\n",
       "      <td>6.830386</td>\n",
       "      <td>5</td>\n",
       "      <td>AACS</td>\n",
       "      <td>acetoacetyl-CoA synthetase</td>\n",
       "      <td>65985</td>\n",
       "      <td>protein_coding</td>\n",
       "      <td>0.138032</td>\n",
       "      <td>0.143003</td>\n",
       "      <td>0.088856</td>\n",
       "      <td>0.251817</td>\n",
       "    </tr>\n",
       "  </tbody>\n",
       "</table>\n",
       "<p>5 rows × 69 columns</p>\n",
       "</div>"
      ],
      "text/plain": [
       "   Raw_10_HC_Auto_066_237  Raw_Orkambi_006_Base  Raw_Orkambi_007_V2  \\\n",
       "0                3.573084              2.084737            4.012814   \n",
       "1                2.161495              1.700706            3.009610   \n",
       "2                3.264299              5.925042            2.221379   \n",
       "3                7.102057              4.718089            7.058253   \n",
       "4                8.778318              7.022272            7.094081   \n",
       "\n",
       "   Raw_13_HC_Auto_068_239  Raw_Orkambi_007_Base  Raw_Orkambi_009_V2  \\\n",
       "0                2.405698              2.554380            5.560526   \n",
       "1                1.359742              1.516663            2.439823   \n",
       "2                2.457996              1.636400            0.879471   \n",
       "3                4.811396              4.629815            4.056914   \n",
       "4                6.118841              6.465776            7.461318   \n",
       "\n",
       "   Raw_16_HC_Auto_072_243  Raw_Orkambi_009_Base  Raw_Orkambi_010_V2  \\\n",
       "0                3.970076              3.336330            2.125438   \n",
       "1                2.540848              1.811150            1.121759   \n",
       "2                3.334864              1.072392            1.859759   \n",
       "3                7.717827              3.241006            4.457517   \n",
       "4                6.923812              5.790915            5.933516   \n",
       "\n",
       "   Raw_19_HC_Auto_074_245  ...  Raw_Orkambi_026_V2  RowID        ID  \\\n",
       "0                4.603163  ...            3.045395      1      A1BG   \n",
       "1                2.478626  ...            2.305799      2  A1BG-AS1   \n",
       "2                8.940759  ...            1.435686      3   A2M-AS1   \n",
       "3                6.594917  ...            5.264183      4      AAAS   \n",
       "4                6.727700  ...            6.830386      5      AACS   \n",
       "\n",
       "                          Description  EntrezID           Class  \\\n",
       "0              alpha-1-B glycoprotein         1  protein_coding   \n",
       "1                A1BG antisense RNA 1    503538          lncRNA   \n",
       "2  A2M antisense RNA 1 (head to head)    144571          lncRNA   \n",
       "3        aladin WD repeat nucleoporin      8086  protein_coding   \n",
       "4          acetoacetyl-CoA synthetase     65985  protein_coding   \n",
       "\n",
       "   pre_drug.vs.control_ShrunkenLog2FC  pre_drug.vs.control_MLELog2FC  \\\n",
       "0                           -0.050497                      -0.066327   \n",
       "1                            0.004178                       0.032895   \n",
       "2                            0.356337                       0.932311   \n",
       "3                           -0.139005                      -0.152091   \n",
       "4                            0.138032                       0.143003   \n",
       "\n",
       "   pre_drug.vs.control_pVal  pre_drug.vs.control_pAdj  \n",
       "0                  0.691693                  0.824882  \n",
       "1                  0.971929                  0.986309  \n",
       "2                  0.050847                  0.179776  \n",
       "3                  0.285215                  0.495514  \n",
       "4                  0.088856                  0.251817  \n",
       "\n",
       "[5 rows x 69 columns]"
      ]
     },
     "execution_count": 8,
     "metadata": {},
     "output_type": "execute_result"
    }
   ],
   "source": [
    "norm_cpm_df = pd.concat([norm_cpm_df, data_df[columns[:9]]], axis=1)\n",
    "norm_cpm_df.head()\n"
   ]
  },
  {
   "cell_type": "code",
   "execution_count": 9,
   "metadata": {},
   "outputs": [
    {
     "data": {
      "text/plain": [
       "Raw_10_HC_Auto_066_237    1000000.0\n",
       "Raw_Orkambi_006_Base      1000000.0\n",
       "Raw_Orkambi_007_V2        1000000.0\n",
       "Raw_13_HC_Auto_068_239    1000000.0\n",
       "Raw_Orkambi_007_Base      1000000.0\n",
       "dtype: float64"
      ]
     },
     "execution_count": 9,
     "metadata": {},
     "output_type": "execute_result"
    }
   ],
   "source": [
    "norm_cpm_df.iloc[:,:5].sum()"
   ]
  },
  {
   "cell_type": "markdown",
   "metadata": {},
   "source": [
    "## Find out how many genes have zeroes"
   ]
  },
  {
   "cell_type": "code",
   "execution_count": 10,
   "metadata": {},
   "outputs": [],
   "source": [
    "number_of_zeroes = [ list(norm_cpm_df[raw_cols].values[i]).count(0) for i in range(norm_cpm_df.shape[0])]\n",
    "genes_no_zeroes_logic = [number_of_zeroes[i] == 0 for i in range(len(number_of_zeroes))]"
   ]
  },
  {
   "cell_type": "markdown",
   "metadata": {},
   "source": [
    "Keep only genes with no zeroes"
   ]
  },
  {
   "cell_type": "code",
   "execution_count": 11,
   "metadata": {},
   "outputs": [
    {
     "data": {
      "text/plain": [
       "(15250, 69)"
      ]
     },
     "execution_count": 11,
     "metadata": {},
     "output_type": "execute_result"
    }
   ],
   "source": [
    "data_df_subset = norm_cpm_df[genes_no_zeroes_logic]\n",
    "data_df_subset.shape"
   ]
  },
  {
   "cell_type": "code",
   "execution_count": 12,
   "metadata": {},
   "outputs": [
    {
     "data": {
      "text/html": [
       "<div>\n",
       "<style scoped>\n",
       "    .dataframe tbody tr th:only-of-type {\n",
       "        vertical-align: middle;\n",
       "    }\n",
       "\n",
       "    .dataframe tbody tr th {\n",
       "        vertical-align: top;\n",
       "    }\n",
       "\n",
       "    .dataframe thead th {\n",
       "        text-align: right;\n",
       "    }\n",
       "</style>\n",
       "<table border=\"1\" class=\"dataframe\">\n",
       "  <thead>\n",
       "    <tr style=\"text-align: right;\">\n",
       "      <th></th>\n",
       "      <th>Raw_10_HC_Auto_066_237</th>\n",
       "      <th>Raw_Orkambi_006_Base</th>\n",
       "      <th>Raw_Orkambi_007_V2</th>\n",
       "      <th>Raw_13_HC_Auto_068_239</th>\n",
       "      <th>Raw_Orkambi_007_Base</th>\n",
       "      <th>Raw_Orkambi_009_V2</th>\n",
       "      <th>Raw_16_HC_Auto_072_243</th>\n",
       "      <th>Raw_Orkambi_009_Base</th>\n",
       "      <th>Raw_Orkambi_010_V2</th>\n",
       "      <th>Raw_19_HC_Auto_074_245</th>\n",
       "      <th>...</th>\n",
       "      <th>Raw_Orkambi_026_V2</th>\n",
       "      <th>RowID</th>\n",
       "      <th>ID</th>\n",
       "      <th>Description</th>\n",
       "      <th>EntrezID</th>\n",
       "      <th>Class</th>\n",
       "      <th>pre_drug.vs.control_ShrunkenLog2FC</th>\n",
       "      <th>pre_drug.vs.control_MLELog2FC</th>\n",
       "      <th>pre_drug.vs.control_pVal</th>\n",
       "      <th>pre_drug.vs.control_pAdj</th>\n",
       "    </tr>\n",
       "  </thead>\n",
       "  <tbody>\n",
       "    <tr>\n",
       "      <th>0</th>\n",
       "      <td>3.573084</td>\n",
       "      <td>2.084737</td>\n",
       "      <td>4.012814</td>\n",
       "      <td>2.405698</td>\n",
       "      <td>2.554380</td>\n",
       "      <td>5.560526</td>\n",
       "      <td>3.970076</td>\n",
       "      <td>3.336330</td>\n",
       "      <td>2.125438</td>\n",
       "      <td>4.603163</td>\n",
       "      <td>...</td>\n",
       "      <td>3.045395</td>\n",
       "      <td>1</td>\n",
       "      <td>A1BG</td>\n",
       "      <td>alpha-1-B glycoprotein</td>\n",
       "      <td>1</td>\n",
       "      <td>protein_coding</td>\n",
       "      <td>-0.050497</td>\n",
       "      <td>-0.066327</td>\n",
       "      <td>0.691693</td>\n",
       "      <td>0.824882</td>\n",
       "    </tr>\n",
       "    <tr>\n",
       "      <th>1</th>\n",
       "      <td>2.161495</td>\n",
       "      <td>1.700706</td>\n",
       "      <td>3.009610</td>\n",
       "      <td>1.359742</td>\n",
       "      <td>1.516663</td>\n",
       "      <td>2.439823</td>\n",
       "      <td>2.540848</td>\n",
       "      <td>1.811150</td>\n",
       "      <td>1.121759</td>\n",
       "      <td>2.478626</td>\n",
       "      <td>...</td>\n",
       "      <td>2.305799</td>\n",
       "      <td>2</td>\n",
       "      <td>A1BG-AS1</td>\n",
       "      <td>A1BG antisense RNA 1</td>\n",
       "      <td>503538</td>\n",
       "      <td>lncRNA</td>\n",
       "      <td>0.004178</td>\n",
       "      <td>0.032895</td>\n",
       "      <td>0.971929</td>\n",
       "      <td>0.986309</td>\n",
       "    </tr>\n",
       "    <tr>\n",
       "      <th>2</th>\n",
       "      <td>3.264299</td>\n",
       "      <td>5.925042</td>\n",
       "      <td>2.221379</td>\n",
       "      <td>2.457996</td>\n",
       "      <td>1.636400</td>\n",
       "      <td>0.879471</td>\n",
       "      <td>3.334864</td>\n",
       "      <td>1.072392</td>\n",
       "      <td>1.859759</td>\n",
       "      <td>8.940759</td>\n",
       "      <td>...</td>\n",
       "      <td>1.435686</td>\n",
       "      <td>3</td>\n",
       "      <td>A2M-AS1</td>\n",
       "      <td>A2M antisense RNA 1 (head to head)</td>\n",
       "      <td>144571</td>\n",
       "      <td>lncRNA</td>\n",
       "      <td>0.356337</td>\n",
       "      <td>0.932311</td>\n",
       "      <td>0.050847</td>\n",
       "      <td>0.179776</td>\n",
       "    </tr>\n",
       "    <tr>\n",
       "      <th>3</th>\n",
       "      <td>7.102057</td>\n",
       "      <td>4.718089</td>\n",
       "      <td>7.058253</td>\n",
       "      <td>4.811396</td>\n",
       "      <td>4.629815</td>\n",
       "      <td>4.056914</td>\n",
       "      <td>7.717827</td>\n",
       "      <td>3.241006</td>\n",
       "      <td>4.457517</td>\n",
       "      <td>6.594917</td>\n",
       "      <td>...</td>\n",
       "      <td>5.264183</td>\n",
       "      <td>4</td>\n",
       "      <td>AAAS</td>\n",
       "      <td>aladin WD repeat nucleoporin</td>\n",
       "      <td>8086</td>\n",
       "      <td>protein_coding</td>\n",
       "      <td>-0.139005</td>\n",
       "      <td>-0.152091</td>\n",
       "      <td>0.285215</td>\n",
       "      <td>0.495514</td>\n",
       "    </tr>\n",
       "    <tr>\n",
       "      <th>4</th>\n",
       "      <td>8.778318</td>\n",
       "      <td>7.022272</td>\n",
       "      <td>7.094081</td>\n",
       "      <td>6.118841</td>\n",
       "      <td>6.465776</td>\n",
       "      <td>7.461318</td>\n",
       "      <td>6.923812</td>\n",
       "      <td>5.790915</td>\n",
       "      <td>5.933516</td>\n",
       "      <td>6.727700</td>\n",
       "      <td>...</td>\n",
       "      <td>6.830386</td>\n",
       "      <td>5</td>\n",
       "      <td>AACS</td>\n",
       "      <td>acetoacetyl-CoA synthetase</td>\n",
       "      <td>65985</td>\n",
       "      <td>protein_coding</td>\n",
       "      <td>0.138032</td>\n",
       "      <td>0.143003</td>\n",
       "      <td>0.088856</td>\n",
       "      <td>0.251817</td>\n",
       "    </tr>\n",
       "  </tbody>\n",
       "</table>\n",
       "<p>5 rows × 69 columns</p>\n",
       "</div>"
      ],
      "text/plain": [
       "   Raw_10_HC_Auto_066_237  Raw_Orkambi_006_Base  Raw_Orkambi_007_V2  \\\n",
       "0                3.573084              2.084737            4.012814   \n",
       "1                2.161495              1.700706            3.009610   \n",
       "2                3.264299              5.925042            2.221379   \n",
       "3                7.102057              4.718089            7.058253   \n",
       "4                8.778318              7.022272            7.094081   \n",
       "\n",
       "   Raw_13_HC_Auto_068_239  Raw_Orkambi_007_Base  Raw_Orkambi_009_V2  \\\n",
       "0                2.405698              2.554380            5.560526   \n",
       "1                1.359742              1.516663            2.439823   \n",
       "2                2.457996              1.636400            0.879471   \n",
       "3                4.811396              4.629815            4.056914   \n",
       "4                6.118841              6.465776            7.461318   \n",
       "\n",
       "   Raw_16_HC_Auto_072_243  Raw_Orkambi_009_Base  Raw_Orkambi_010_V2  \\\n",
       "0                3.970076              3.336330            2.125438   \n",
       "1                2.540848              1.811150            1.121759   \n",
       "2                3.334864              1.072392            1.859759   \n",
       "3                7.717827              3.241006            4.457517   \n",
       "4                6.923812              5.790915            5.933516   \n",
       "\n",
       "   Raw_19_HC_Auto_074_245  ...  Raw_Orkambi_026_V2  RowID        ID  \\\n",
       "0                4.603163  ...            3.045395      1      A1BG   \n",
       "1                2.478626  ...            2.305799      2  A1BG-AS1   \n",
       "2                8.940759  ...            1.435686      3   A2M-AS1   \n",
       "3                6.594917  ...            5.264183      4      AAAS   \n",
       "4                6.727700  ...            6.830386      5      AACS   \n",
       "\n",
       "                          Description  EntrezID           Class  \\\n",
       "0              alpha-1-B glycoprotein         1  protein_coding   \n",
       "1                A1BG antisense RNA 1    503538          lncRNA   \n",
       "2  A2M antisense RNA 1 (head to head)    144571          lncRNA   \n",
       "3        aladin WD repeat nucleoporin      8086  protein_coding   \n",
       "4          acetoacetyl-CoA synthetase     65985  protein_coding   \n",
       "\n",
       "   pre_drug.vs.control_ShrunkenLog2FC  pre_drug.vs.control_MLELog2FC  \\\n",
       "0                           -0.050497                      -0.066327   \n",
       "1                            0.004178                       0.032895   \n",
       "2                            0.356337                       0.932311   \n",
       "3                           -0.139005                      -0.152091   \n",
       "4                            0.138032                       0.143003   \n",
       "\n",
       "   pre_drug.vs.control_pVal  pre_drug.vs.control_pAdj  \n",
       "0                  0.691693                  0.824882  \n",
       "1                  0.971929                  0.986309  \n",
       "2                  0.050847                  0.179776  \n",
       "3                  0.285215                  0.495514  \n",
       "4                  0.088856                  0.251817  \n",
       "\n",
       "[5 rows x 69 columns]"
      ]
     },
     "execution_count": 12,
     "metadata": {},
     "output_type": "execute_result"
    }
   ],
   "source": [
    "data_df_subset.head()"
   ]
  },
  {
   "cell_type": "code",
   "execution_count": 13,
   "metadata": {},
   "outputs": [
    {
     "data": {
      "text/plain": [
       "[]"
      ]
     },
     "execution_count": 13,
     "metadata": {},
     "output_type": "execute_result"
    }
   ],
   "source": [
    "number_of_zeroes_confirm = [ list(data_df_subset[raw_cols].values[i]).count(0) for i in range(data_df_subset.shape[0])]\n",
    "[ print(str(y)+\" \"+str(number_of_zeroes_confirm[y])) for y in range(len(number_of_zeroes_confirm)) if number_of_zeroes_confirm[y] > 0]"
   ]
  },
  {
   "cell_type": "code",
   "execution_count": 14,
   "metadata": {},
   "outputs": [],
   "source": [
    "healthy = [x for x in data_df_subset.columns if \"HC\" in x] # healthy control norm values\n",
    "cf_base = [x for x in data_df_subset.columns if \"Base\" in x] # cf without treatment\n",
    "cf_v2 = [x for x in data_df_subset.columns if \"V2\" in x] # cf with treatment\n"
   ]
  },
  {
   "cell_type": "code",
   "execution_count": 15,
   "metadata": {},
   "outputs": [
    {
     "data": {
      "text/plain": [
       "['Raw_10_HC_Auto_066_237',\n",
       " 'Raw_13_HC_Auto_068_239',\n",
       " 'Raw_16_HC_Auto_072_243',\n",
       " 'Raw_19_HC_Auto_074_245',\n",
       " 'Raw_21_HC_Immune_004',\n",
       " 'Raw_23_HC_Auto_076_247',\n",
       " 'Raw_26_HC_Auto_078_249',\n",
       " 'Raw_29_HC_Auto_080_251',\n",
       " 'Raw_3_HC_Auto_062_233',\n",
       " 'Raw_42_HC_Auto_089_261',\n",
       " 'Raw_4_HC_Immune_002',\n",
       " 'Raw_7_HC_Auto_064_235',\n",
       " 'Raw_HC_Auto_082_253',\n",
       " 'Raw_HC_Auto_084_255',\n",
       " 'Raw_HC_Auto_088_259',\n",
       " 'Raw_HC_Auto_091_263',\n",
       " 'Raw_HC_Auto_093_265',\n",
       " 'Raw_HC_Auto_095_267',\n",
       " 'Raw_HC_Immune_006',\n",
       " 'Raw_HC_Immune_008']"
      ]
     },
     "execution_count": 15,
     "metadata": {},
     "output_type": "execute_result"
    }
   ],
   "source": [
    "healthy"
   ]
  },
  {
   "cell_type": "code",
   "execution_count": 16,
   "metadata": {},
   "outputs": [],
   "source": [
    "def shuffle(grps):\n",
    "\tnum_grps = len(grps)\n",
    "\tpool = []\n",
    "\t\n",
    "\t# pool all values\n",
    "\tfor i in range(num_grps):\n",
    "\t\tpool.extend(grps[i])\n",
    "\t# mix them up\n",
    "\trandom.shuffle(pool)\n",
    "\t# reassign to groups of same size as original groups\n",
    "\tnew_grps = []\n",
    "\tstart_index = 0\n",
    "\tend_index = 0\n",
    "\tfor i in range(num_grps):\n",
    "\t\tend_index = start_index + len(grps[i])\n",
    "\t\tnew_grps.append(pool[start_index:end_index])\n",
    "\t\tstart_index = end_index\n",
    "\treturn new_grps"
   ]
  },
  {
   "cell_type": "code",
   "execution_count": 17,
   "metadata": {},
   "outputs": [
    {
     "data": {
      "text/plain": [
       "[[4, 8, 3, 2], [5, 1, 7, 6]]"
      ]
     },
     "execution_count": 17,
     "metadata": {},
     "output_type": "execute_result"
    }
   ],
   "source": [
    "shuffle([[1,2,3,4],[5,6,7,8]])"
   ]
  },
  {
   "cell_type": "code",
   "execution_count": 18,
   "metadata": {},
   "outputs": [],
   "source": [
    "def meandiff(grpA, grpB):\n",
    "\treturn sum(grpB) / float(len(grpB)) - sum(grpA) / float(len(grpA))"
   ]
  },
  {
   "cell_type": "code",
   "execution_count": 19,
   "metadata": {},
   "outputs": [
    {
     "data": {
      "text/plain": [
       "6.0"
      ]
     },
     "execution_count": 19,
     "metadata": {},
     "output_type": "execute_result"
    }
   ],
   "source": [
    "meandiff([2,2,2],[8,8,8])"
   ]
  },
  {
   "cell_type": "code",
   "execution_count": 20,
   "metadata": {},
   "outputs": [],
   "source": [
    "def meanlogFC(grpA, grpB):\n",
    "    return math.log2( (sum(grpB) / float(len(grpB))) / (sum(grpA) / float(len(grpA))))"
   ]
  },
  {
   "cell_type": "code",
   "execution_count": 21,
   "metadata": {},
   "outputs": [
    {
     "data": {
      "text/plain": [
       "2.0"
      ]
     },
     "execution_count": 21,
     "metadata": {},
     "output_type": "execute_result"
    }
   ],
   "source": [
    "meanlogFC([2,2,2],[8,8,8])"
   ]
  },
  {
   "cell_type": "code",
   "execution_count": 22,
   "metadata": {},
   "outputs": [],
   "source": [
    "def diff2meansig(grpA, grpB):\n",
    "\n",
    "    # list of lists\n",
    "    samples = [grpA, grpB]\n",
    "    a = 0\n",
    "    b = 1\n",
    "\n",
    "    observed_mean_diff = meandiff(samples[a], samples[b])\n",
    "    all_mean_diffs = []\n",
    "\n",
    "    count = 0\n",
    "    num_shuffles = 100000\n",
    "\n",
    "    for i in range(num_shuffles):\n",
    "        new_samples = shuffle(samples)\n",
    "        mean_diff = meandiff(new_samples[a], new_samples[b])\n",
    "        all_mean_diffs.append(mean_diff)\n",
    "        # if the observed difference is negative, look for differences that are smaller\n",
    "        # if the observed difference is positive, look for differences that are greater        \n",
    "        #if observed_mean_diff < 0 and mean_diff < observed_mean_diff:\n",
    "        #    count = count + 1\n",
    "        #elif observed_mean_diff >= 0 and mean_diff >= observed_mean_diff:\n",
    "        #    count = count + 1\n",
    "        if abs(observed_mean_diff) <= abs(mean_diff):\n",
    "            count = count + 1\n",
    "    \n",
    "    return count/num_shuffles"
   ]
  },
  {
   "cell_type": "code",
   "execution_count": 34,
   "metadata": {},
   "outputs": [],
   "source": [
    "def lfc2meansig(grpA, grpB):\n",
    "\n",
    "    # list of lists\n",
    "    samples = [grpA, grpB]\n",
    "    a = 0\n",
    "    b = 1\n",
    "\n",
    "    observed_mean_diff = meanlogFC(samples[a], samples[b])\n",
    "    #all_mean_diffs = []\n",
    "\n",
    "    count = 0\n",
    "    num_shuffles = 100000\n",
    "\n",
    "    for i in range(num_shuffles):\n",
    "        new_samples = shuffle(samples)\n",
    "        mean_diff = meanlogFC(new_samples[a], new_samples[b])\n",
    "        #all_mean_diffs.append(mean_diff)\n",
    "        # if the observed difference is negative, look for differences that are smaller\n",
    "        # if the observed difference is positive, look for differences that are greater\n",
    "        #if observed_mean_diff < 0 and mean_diff <= observed_mean_diff:\n",
    "        #    count = count + 1\n",
    "        #elif observed_mean_diff >= 0 and mean_diff >= observed_mean_diff:\n",
    "        #    count = count + 1\n",
    "        if abs(observed_mean_diff) <= abs(mean_diff):\n",
    "            count = count + 1\n",
    "    \n",
    "    return count/num_shuffles"
   ]
  },
  {
   "cell_type": "code",
   "execution_count": 35,
   "metadata": {},
   "outputs": [],
   "source": [
    "def avg_diff_sig_test(df_norm_hc, df_norm_cf):\n",
    "    fullzip = list(zip(df_norm_hc.values, df_norm_cf.values))\n",
    "    #print(fullzip[0][1])\n",
    "    #all_p_sig_values = [diff2meansig(fullzip[i][0],fullzip[i][1]) for i in range(100)]\n",
    "    #all_p_sig_values = [diff2meansig(fullzip[i][0],fullzip[i][1]) for i in range(len(fullzip))]\n",
    "    all_p_sig_values = [lfc2meansig(fullzip[i][0],fullzip[i][1]) for i in range(len(fullzip))]\n",
    "    \n",
    "    return list(all_p_sig_values)"
   ]
  },
  {
   "cell_type": "code",
   "execution_count": 36,
   "metadata": {},
   "outputs": [
    {
     "data": {
      "text/html": [
       "<div>\n",
       "<style scoped>\n",
       "    .dataframe tbody tr th:only-of-type {\n",
       "        vertical-align: middle;\n",
       "    }\n",
       "\n",
       "    .dataframe tbody tr th {\n",
       "        vertical-align: top;\n",
       "    }\n",
       "\n",
       "    .dataframe thead th {\n",
       "        text-align: right;\n",
       "    }\n",
       "</style>\n",
       "<table border=\"1\" class=\"dataframe\">\n",
       "  <thead>\n",
       "    <tr style=\"text-align: right;\">\n",
       "      <th></th>\n",
       "      <th>Raw_10_HC_Auto_066_237</th>\n",
       "      <th>Raw_13_HC_Auto_068_239</th>\n",
       "      <th>Raw_16_HC_Auto_072_243</th>\n",
       "      <th>Raw_19_HC_Auto_074_245</th>\n",
       "      <th>Raw_21_HC_Immune_004</th>\n",
       "      <th>Raw_23_HC_Auto_076_247</th>\n",
       "      <th>Raw_26_HC_Auto_078_249</th>\n",
       "      <th>Raw_29_HC_Auto_080_251</th>\n",
       "      <th>Raw_3_HC_Auto_062_233</th>\n",
       "      <th>Raw_42_HC_Auto_089_261</th>\n",
       "      <th>Raw_4_HC_Immune_002</th>\n",
       "      <th>Raw_7_HC_Auto_064_235</th>\n",
       "      <th>Raw_HC_Auto_082_253</th>\n",
       "      <th>Raw_HC_Auto_084_255</th>\n",
       "      <th>Raw_HC_Auto_088_259</th>\n",
       "      <th>Raw_HC_Auto_091_263</th>\n",
       "      <th>Raw_HC_Auto_093_265</th>\n",
       "      <th>Raw_HC_Auto_095_267</th>\n",
       "      <th>Raw_HC_Immune_006</th>\n",
       "      <th>Raw_HC_Immune_008</th>\n",
       "    </tr>\n",
       "  </thead>\n",
       "  <tbody>\n",
       "    <tr>\n",
       "      <th>0</th>\n",
       "      <td>3.573084</td>\n",
       "      <td>2.405698</td>\n",
       "      <td>3.970076</td>\n",
       "      <td>4.603163</td>\n",
       "      <td>3.789697</td>\n",
       "      <td>2.031677</td>\n",
       "      <td>3.191271</td>\n",
       "      <td>4.895554</td>\n",
       "      <td>3.583114</td>\n",
       "      <td>2.633735</td>\n",
       "      <td>2.992650</td>\n",
       "      <td>2.828261</td>\n",
       "      <td>5.620358</td>\n",
       "      <td>3.027327</td>\n",
       "      <td>2.338965</td>\n",
       "      <td>3.825157</td>\n",
       "      <td>3.163328</td>\n",
       "      <td>3.720840</td>\n",
       "      <td>3.684246</td>\n",
       "      <td>5.142579</td>\n",
       "    </tr>\n",
       "    <tr>\n",
       "      <th>1</th>\n",
       "      <td>2.161495</td>\n",
       "      <td>1.359742</td>\n",
       "      <td>2.540848</td>\n",
       "      <td>2.478626</td>\n",
       "      <td>2.526465</td>\n",
       "      <td>2.062460</td>\n",
       "      <td>2.260484</td>\n",
       "      <td>2.864065</td>\n",
       "      <td>2.177082</td>\n",
       "      <td>1.850733</td>\n",
       "      <td>2.272197</td>\n",
       "      <td>2.510081</td>\n",
       "      <td>2.767601</td>\n",
       "      <td>1.602702</td>\n",
       "      <td>1.611990</td>\n",
       "      <td>2.142088</td>\n",
       "      <td>2.757029</td>\n",
       "      <td>1.766460</td>\n",
       "      <td>1.902853</td>\n",
       "      <td>2.041329</td>\n",
       "    </tr>\n",
       "    <tr>\n",
       "      <th>2</th>\n",
       "      <td>3.264299</td>\n",
       "      <td>2.457996</td>\n",
       "      <td>3.334864</td>\n",
       "      <td>8.940759</td>\n",
       "      <td>2.947542</td>\n",
       "      <td>2.493422</td>\n",
       "      <td>4.033412</td>\n",
       "      <td>3.663339</td>\n",
       "      <td>1.678167</td>\n",
       "      <td>2.989645</td>\n",
       "      <td>5.098589</td>\n",
       "      <td>2.686848</td>\n",
       "      <td>3.023071</td>\n",
       "      <td>1.869819</td>\n",
       "      <td>4.614716</td>\n",
       "      <td>3.404390</td>\n",
       "      <td>4.904609</td>\n",
       "      <td>4.510110</td>\n",
       "      <td>3.198412</td>\n",
       "      <td>1.648766</td>\n",
       "    </tr>\n",
       "    <tr>\n",
       "      <th>3</th>\n",
       "      <td>7.102057</td>\n",
       "      <td>4.811396</td>\n",
       "      <td>7.717827</td>\n",
       "      <td>6.594917</td>\n",
       "      <td>6.348553</td>\n",
       "      <td>6.433644</td>\n",
       "      <td>5.451755</td>\n",
       "      <td>7.559800</td>\n",
       "      <td>6.894092</td>\n",
       "      <td>5.125106</td>\n",
       "      <td>6.982851</td>\n",
       "      <td>6.611059</td>\n",
       "      <td>7.493811</td>\n",
       "      <td>4.540990</td>\n",
       "      <td>3.223979</td>\n",
       "      <td>3.327887</td>\n",
       "      <td>5.920357</td>\n",
       "      <td>4.434941</td>\n",
       "      <td>4.574943</td>\n",
       "      <td>3.415300</td>\n",
       "    </tr>\n",
       "    <tr>\n",
       "      <th>4</th>\n",
       "      <td>8.778318</td>\n",
       "      <td>6.118841</td>\n",
       "      <td>6.923812</td>\n",
       "      <td>6.727700</td>\n",
       "      <td>6.704849</td>\n",
       "      <td>5.417805</td>\n",
       "      <td>6.471189</td>\n",
       "      <td>6.760526</td>\n",
       "      <td>5.760196</td>\n",
       "      <td>5.658972</td>\n",
       "      <td>7.758723</td>\n",
       "      <td>5.727228</td>\n",
       "      <td>8.047331</td>\n",
       "      <td>6.232731</td>\n",
       "      <td>5.562945</td>\n",
       "      <td>6.579271</td>\n",
       "      <td>8.271087</td>\n",
       "      <td>7.291344</td>\n",
       "      <td>8.704538</td>\n",
       "      <td>6.320269</td>\n",
       "    </tr>\n",
       "  </tbody>\n",
       "</table>\n",
       "</div>"
      ],
      "text/plain": [
       "   Raw_10_HC_Auto_066_237  Raw_13_HC_Auto_068_239  Raw_16_HC_Auto_072_243  \\\n",
       "0                3.573084                2.405698                3.970076   \n",
       "1                2.161495                1.359742                2.540848   \n",
       "2                3.264299                2.457996                3.334864   \n",
       "3                7.102057                4.811396                7.717827   \n",
       "4                8.778318                6.118841                6.923812   \n",
       "\n",
       "   Raw_19_HC_Auto_074_245  Raw_21_HC_Immune_004  Raw_23_HC_Auto_076_247  \\\n",
       "0                4.603163              3.789697                2.031677   \n",
       "1                2.478626              2.526465                2.062460   \n",
       "2                8.940759              2.947542                2.493422   \n",
       "3                6.594917              6.348553                6.433644   \n",
       "4                6.727700              6.704849                5.417805   \n",
       "\n",
       "   Raw_26_HC_Auto_078_249  Raw_29_HC_Auto_080_251  Raw_3_HC_Auto_062_233  \\\n",
       "0                3.191271                4.895554               3.583114   \n",
       "1                2.260484                2.864065               2.177082   \n",
       "2                4.033412                3.663339               1.678167   \n",
       "3                5.451755                7.559800               6.894092   \n",
       "4                6.471189                6.760526               5.760196   \n",
       "\n",
       "   Raw_42_HC_Auto_089_261  Raw_4_HC_Immune_002  Raw_7_HC_Auto_064_235  \\\n",
       "0                2.633735             2.992650               2.828261   \n",
       "1                1.850733             2.272197               2.510081   \n",
       "2                2.989645             5.098589               2.686848   \n",
       "3                5.125106             6.982851               6.611059   \n",
       "4                5.658972             7.758723               5.727228   \n",
       "\n",
       "   Raw_HC_Auto_082_253  Raw_HC_Auto_084_255  Raw_HC_Auto_088_259  \\\n",
       "0             5.620358             3.027327             2.338965   \n",
       "1             2.767601             1.602702             1.611990   \n",
       "2             3.023071             1.869819             4.614716   \n",
       "3             7.493811             4.540990             3.223979   \n",
       "4             8.047331             6.232731             5.562945   \n",
       "\n",
       "   Raw_HC_Auto_091_263  Raw_HC_Auto_093_265  Raw_HC_Auto_095_267  \\\n",
       "0             3.825157             3.163328             3.720840   \n",
       "1             2.142088             2.757029             1.766460   \n",
       "2             3.404390             4.904609             4.510110   \n",
       "3             3.327887             5.920357             4.434941   \n",
       "4             6.579271             8.271087             7.291344   \n",
       "\n",
       "   Raw_HC_Immune_006  Raw_HC_Immune_008  \n",
       "0           3.684246           5.142579  \n",
       "1           1.902853           2.041329  \n",
       "2           3.198412           1.648766  \n",
       "3           4.574943           3.415300  \n",
       "4           8.704538           6.320269  "
      ]
     },
     "execution_count": 36,
     "metadata": {},
     "output_type": "execute_result"
    }
   ],
   "source": [
    "data_df_subset[healthy].head()"
   ]
  },
  {
   "cell_type": "code",
   "execution_count": 37,
   "metadata": {},
   "outputs": [
    {
     "name": "stdout",
     "output_type": "stream",
     "text": [
      "49777.931671619415\n"
     ]
    }
   ],
   "source": [
    "import time\n",
    "a = time.time()\n",
    "norm_p_values = avg_diff_sig_test(data_df_subset[healthy], data_df_subset[cf_base])\n",
    "b = time.time()\n",
    "print(b - a)"
   ]
  },
  {
   "cell_type": "code",
   "execution_count": 38,
   "metadata": {
    "colab": {
     "base_uri": "https://localhost:8080/",
     "height": 164
    },
    "colab_type": "code",
    "id": "UjjjK_laeQq0",
    "outputId": "4d3ea549-fbb8-49de-f164-4b2921839883"
   },
   "outputs": [
    {
     "data": {
      "text/plain": [
       "[0.07164, 0.3652, 0.42836, 0.06547, 0.97293]"
      ]
     },
     "execution_count": 38,
     "metadata": {},
     "output_type": "execute_result"
    }
   ],
   "source": [
    "norm_p_values[0:5]"
   ]
  },
  {
   "cell_type": "code",
   "execution_count": 39,
   "metadata": {},
   "outputs": [
    {
     "data": {
      "text/plain": [
       "7361"
      ]
     },
     "execution_count": 39,
     "metadata": {},
     "output_type": "execute_result"
    }
   ],
   "source": [
    "sig_genes = [True if norm_p_values[i] < 0.05 else False for i in range(len(norm_p_values))]\n",
    "sum(sig_genes)"
   ]
  },
  {
   "cell_type": "code",
   "execution_count": 40,
   "metadata": {
    "colab": {},
    "colab_type": "code",
    "id": "2quyhpBaRy0f"
   },
   "outputs": [],
   "source": [
    "pickle.dump( norm_p_values, open( \"norm_p_values_unpaired_raw.p\", \"wb\" ) )"
   ]
  },
  {
   "cell_type": "code",
   "execution_count": 41,
   "metadata": {},
   "outputs": [],
   "source": [
    "norm_p_values = pickle.load( open( \"norm_p_values_unpaired_raw.p\", \"rb\" ) )"
   ]
  },
  {
   "cell_type": "markdown",
   "metadata": {
    "colab_type": "text",
    "id": "If3jPZW6R13a"
   },
   "source": [
    "**Bonferroni correction**"
   ]
  },
  {
   "cell_type": "markdown",
   "metadata": {
    "colab_type": "text",
    "id": "gb-bYne4R6TZ"
   },
   "source": [
    "In this method, we divide the threshold by the number of genes. So, if we take a default threshold of 5% (or 0.05), now our threshold would be `0.05/len(norm_p_values)`"
   ]
  },
  {
   "cell_type": "markdown",
   "metadata": {},
   "source": [
    "Bonferroni may just be all genes that have only 0.\n",
    " - count the number of p-values that are 0\n",
    "violin plot of a set, 5-10 genes to see if they are really separate. \n",
    "confirm that their diagnostics are also present here.\n",
    "Take top 5 genes to do machine learning.\n",
    " - do decision tree and random forest\n"
   ]
  },
  {
   "cell_type": "code",
   "execution_count": 42,
   "metadata": {
    "colab": {
     "base_uri": "https://localhost:8080/",
     "height": 170
    },
    "colab_type": "code",
    "id": "joWk5fWbSBRK",
    "outputId": "18fa802f-1bea-4efa-9c3b-873835adfc8e",
    "tags": []
   },
   "outputs": [
    {
     "name": "stdout",
     "output_type": "stream",
     "text": [
      "Number of significant genes:  531\n"
     ]
    }
   ],
   "source": [
    "count_significant_genes_bonferroni = 0\n",
    "for i, ele in enumerate(norm_p_values):\n",
    "  if ele < (0.2/len(norm_p_values)):\n",
    "    count_significant_genes_bonferroni += 1\n",
    "    #print(i+1)\n",
    "print(\"Number of significant genes: \", count_significant_genes_bonferroni)"
   ]
  },
  {
   "cell_type": "code",
   "execution_count": 43,
   "metadata": {},
   "outputs": [
    {
     "data": {
      "text/plain": [
       "1.3114754098360657e-05"
      ]
     },
     "execution_count": 43,
     "metadata": {},
     "output_type": "execute_result"
    }
   ],
   "source": [
    "0.2/len(norm_p_values)"
   ]
  },
  {
   "cell_type": "code",
   "execution_count": 44,
   "metadata": {},
   "outputs": [
    {
     "data": {
      "text/plain": [
       "366"
      ]
     },
     "execution_count": 44,
     "metadata": {},
     "output_type": "execute_result"
    }
   ],
   "source": [
    "norm_p_values.count(0)"
   ]
  },
  {
   "cell_type": "code",
   "execution_count": 45,
   "metadata": {},
   "outputs": [],
   "source": [
    "#sum(norm_p_values < 0.2/len(norm_p_values))\n",
    "sig_bon_genes = [True if norm_p_values[i] < 0.2/len(norm_p_values) else False for i in range(len(norm_p_values))]"
   ]
  },
  {
   "cell_type": "code",
   "execution_count": 46,
   "metadata": {},
   "outputs": [
    {
     "data": {
      "text/plain": [
       "531"
      ]
     },
     "execution_count": 46,
     "metadata": {},
     "output_type": "execute_result"
    }
   ],
   "source": [
    "sum(sig_bon_genes)"
   ]
  },
  {
   "cell_type": "code",
   "execution_count": 47,
   "metadata": {},
   "outputs": [
    {
     "data": {
      "text/plain": [
       "13     AASDH\n",
       "94     ACADS\n",
       "141    ACSL1\n",
       "143    ACSL4\n",
       "144    ACSL5\n",
       "Name: ID, dtype: object"
      ]
     },
     "execution_count": 47,
     "metadata": {},
     "output_type": "execute_result"
    }
   ],
   "source": [
    "#tmp_sorted_indices = np.argsort(norm_p_values)\n",
    "#bon_sig_index = tmp_sorted_indices[:norm_p_values.count(0)]\n",
    "\n",
    "#bon_sig_genes = [data_df_subset[\"ID\"].iloc[bon_sig_index[i]] for i in range(len(bon_sig_index))]\n",
    "bon_sig_genes = data_df_subset[sig_bon_genes][\"ID\"]\n",
    "bon_sig_genes[:5]"
   ]
  },
  {
   "cell_type": "code",
   "execution_count": 48,
   "metadata": {},
   "outputs": [
    {
     "data": {
      "text/plain": [
       "(531,)"
      ]
     },
     "execution_count": 48,
     "metadata": {},
     "output_type": "execute_result"
    }
   ],
   "source": [
    "bon_sig_genes.shape"
   ]
  },
  {
   "cell_type": "markdown",
   "metadata": {
    "colab_type": "text",
    "id": "1wbHwRJkSH7K"
   },
   "source": [
    "**Benjamini–Hochberg procedure**"
   ]
  },
  {
   "cell_type": "markdown",
   "metadata": {
    "colab_type": "text",
    "id": "ltfby0LWSM4c"
   },
   "source": [
    " Put the individual P values in order, from smallest to largest. The smallest P value has a rank of i=1, then next smallest has i=2, etc. Compare each individual P value to its Benjamini-Hochberg critical value, (i/m)Q, where i is the rank, m is the total number of tests, and Q is the false discovery rate you choose. The largest P value that has P<(i/m)Q is significant, and all of the P values smaller than it are also significant, even the ones that aren't less than their Benjamini-Hochberg critical value."
   ]
  },
  {
   "cell_type": "code",
   "execution_count": 49,
   "metadata": {
    "colab": {},
    "colab_type": "code",
    "id": "CSvKOcR5SIZJ"
   },
   "outputs": [],
   "source": [
    "def benjamin_hochberg_corrected_p_values(p_values, fdr):\n",
    "  num_genes = len(p_values)\n",
    "  sorted_indices = np.argsort(p_values)\n",
    "  sorted_p_values = sorted(p_values)\n",
    "  benjamini_hochberg_critical_values = [((i+1)/num_genes)*fdr for i in range(num_genes)]\n",
    "  for i, p_value in reversed(list(enumerate(sorted_p_values))):\n",
    "    #print(str(p_value) + \" \" + str(benjamini_hochberg_critical_values[i])+\" \" + str(i)+ \"\\n\")\n",
    "    if p_value < benjamini_hochberg_critical_values[i]:\n",
    "      break\n",
    "  return i, sorted_indices"
   ]
  },
  {
   "cell_type": "code",
   "execution_count": 51,
   "metadata": {
    "colab": {
     "base_uri": "https://localhost:8080/",
     "height": 34
    },
    "colab_type": "code",
    "id": "fGZnls8PSRaf",
    "outputId": "9d878dd4-abbd-4a08-8268-5e79272e11a0",
    "tags": []
   },
   "outputs": [
    {
     "name": "stdout",
     "output_type": "stream",
     "text": [
      "Number of significant genes:  6073\n"
     ]
    }
   ],
   "source": [
    "norm_p_values = pickle.load( open( \"norm_p_values_unpaired_raw.p\", \"rb\" ) )\n",
    "i, sorted_indices = benjamin_hochberg_corrected_p_values(norm_p_values, 0.05)\n",
    "num_sig_genes = i+1\n",
    "print(\"Number of significant genes: \", num_sig_genes)"
   ]
  },
  {
   "cell_type": "code",
   "execution_count": 52,
   "metadata": {
    "colab": {
     "base_uri": "https://localhost:8080/",
     "height": 34
    },
    "colab_type": "code",
    "id": "nhaIX-MTSf2_",
    "outputId": "b092dc06-a8ec-484e-9ebe-e0c4d629affe"
   },
   "outputs": [
    {
     "data": {
      "text/plain": [
       "['CCDC107',\n",
       " 'IL1R1',\n",
       " 'CSF2RB',\n",
       " 'PHC2',\n",
       " 'SRSF8',\n",
       " 'IL1R2',\n",
       " 'SRSF7',\n",
       " 'PHF20L1',\n",
       " 'PHF21A',\n",
       " 'AEN']"
      ]
     },
     "execution_count": 52,
     "metadata": {},
     "output_type": "execute_result"
    }
   ],
   "source": [
    "significant_genes = []\n",
    "\n",
    "significant_genes = [data_df_subset[\"ID\"].iloc[sorted_indices[i]] for i in range(len(sorted_indices))]\n",
    "significant_genes[:10]"
   ]
  },
  {
   "cell_type": "code",
   "execution_count": 53,
   "metadata": {
    "colab": {
     "base_uri": "https://localhost:8080/",
     "height": 170
    },
    "colab_type": "code",
    "id": "6wYK5OdSSirJ",
    "outputId": "37a1646e-69cb-421c-9898-466db0a45024",
    "tags": []
   },
   "outputs": [
    {
     "name": "stdout",
     "output_type": "stream",
     "text": [
      "       RowID        ID                                        Description\n",
      "0          1      A1BG                             alpha-1-B glycoprotein\n",
      "1          2  A1BG-AS1                               A1BG antisense RNA 1\n",
      "2          3   A2M-AS1                 A2M antisense RNA 1 (head to head)\n",
      "3          4      AAAS                       aladin WD repeat nucleoporin\n",
      "4          5      AACS                         acetoacetyl-CoA synthetase\n",
      "...      ...       ...                                                ...\n",
      "15565  15566      ZXDC                           ZXD family zinc finger C\n",
      "15566  15567    ZYG11B       zyg-11 family member B, cell cycle regulator\n",
      "15567  15568       ZYX                                              zyxin\n",
      "15568  15569     ZZEF1  zinc finger ZZ-type and EF-hand domain contain...\n",
      "15569  15570      ZZZ3                   zinc finger ZZ-type containing 3\n",
      "\n",
      "[15250 rows x 3 columns]\n"
     ]
    }
   ],
   "source": [
    "print(data_df_subset.loc[data_df_subset['ID'].isin(significant_genes)][['RowID', 'ID', 'Description']])"
   ]
  },
  {
   "cell_type": "code",
   "execution_count": 55,
   "metadata": {
    "colab": {},
    "colab_type": "code",
    "id": "DCbRAr5yRp7A"
   },
   "outputs": [],
   "source": [
    "#draw histogram\n",
    "\n",
    "def draw_hist(d, observed):\n",
    "    print(observed)\n",
    "    hist,bin_edges = np.histogram(d,bins =100)    \n",
    "    plt.figure(figsize=[8,8])\n",
    "    plt.bar(bin_edges[:-1], hist, width = 0.01, color='#0504aa',alpha=0.7)\n",
    "    #plt.xlim(min(min(bin_edges),-4), max(max(bin_edges),4))\n",
    "    plt.grid(axis='y', alpha=0.75)\n",
    "    plt.xlabel('Value',fontsize=15)\n",
    "    plt.ylabel('Frequency',fontsize=15)\n",
    "    plt.xticks(fontsize=15)\n",
    "    plt.yticks(fontsize=15)\n",
    "    plt.ylabel('Frequency',fontsize=15)\n",
    "    plt.title('Normal Distribution Histogram',fontsize=15)\n",
    "    plt.axvline(x=observed, color='r', linestyle='dashed', linewidth=2)\n",
    "    plt.show()"
   ]
  },
  {
   "cell_type": "code",
   "execution_count": 56,
   "metadata": {
    "colab": {},
    "colab_type": "code",
    "id": "iFjKawc_tu-h"
   },
   "outputs": [
    {
     "name": "stdout",
     "output_type": "stream",
     "text": [
      "0.05\n"
     ]
    },
    {
     "data": {
      "image/png": "[encoded data removed]",
      "text/plain": [
       "<Figure size 576x576 with 1 Axes>"
      ]
     },
     "metadata": {
      "needs_background": "light"
     },
     "output_type": "display_data"
    }
   ],
   "source": [
    "draw_hist(norm_p_values, 0.05)"
   ]
  },
  {
   "cell_type": "code",
   "execution_count": 57,
   "metadata": {},
   "outputs": [
    {
     "data": {
      "text/html": [
       "<div>\n",
       "<style scoped>\n",
       "    .dataframe tbody tr th:only-of-type {\n",
       "        vertical-align: middle;\n",
       "    }\n",
       "\n",
       "    .dataframe tbody tr th {\n",
       "        vertical-align: top;\n",
       "    }\n",
       "\n",
       "    .dataframe thead th {\n",
       "        text-align: right;\n",
       "    }\n",
       "</style>\n",
       "<table border=\"1\" class=\"dataframe\">\n",
       "  <thead>\n",
       "    <tr style=\"text-align: right;\">\n",
       "      <th></th>\n",
       "      <th>ID</th>\n",
       "      <th>variable</th>\n",
       "      <th>value</th>\n",
       "    </tr>\n",
       "  </thead>\n",
       "  <tbody>\n",
       "    <tr>\n",
       "      <th>0</th>\n",
       "      <td>A1BG</td>\n",
       "      <td>HC</td>\n",
       "      <td>3.573084</td>\n",
       "    </tr>\n",
       "    <tr>\n",
       "      <th>1</th>\n",
       "      <td>A1BG-AS1</td>\n",
       "      <td>HC</td>\n",
       "      <td>2.161495</td>\n",
       "    </tr>\n",
       "    <tr>\n",
       "      <th>2</th>\n",
       "      <td>A2M-AS1</td>\n",
       "      <td>HC</td>\n",
       "      <td>3.264299</td>\n",
       "    </tr>\n",
       "    <tr>\n",
       "      <th>3</th>\n",
       "      <td>AAAS</td>\n",
       "      <td>HC</td>\n",
       "      <td>7.102057</td>\n",
       "    </tr>\n",
       "    <tr>\n",
       "      <th>4</th>\n",
       "      <td>AACS</td>\n",
       "      <td>HC</td>\n",
       "      <td>8.778318</td>\n",
       "    </tr>\n",
       "  </tbody>\n",
       "</table>\n",
       "</div>"
      ],
      "text/plain": [
       "         ID variable     value\n",
       "0      A1BG       HC  3.573084\n",
       "1  A1BG-AS1       HC  2.161495\n",
       "2   A2M-AS1       HC  3.264299\n",
       "3      AAAS       HC  7.102057\n",
       "4      AACS       HC  8.778318"
      ]
     },
     "execution_count": 57,
     "metadata": {},
     "output_type": "execute_result"
    }
   ],
   "source": [
    "norm_hc_cf_with_genename = [\"ID\"]\n",
    "norm_hc_cf_with_genename.extend(healthy)\n",
    "norm_hc_cf_with_genename_melt = data_df_subset[norm_hc_cf_with_genename].melt(\"ID\")\n",
    "norm_hc_cf_with_genename_melt.variable=\"HC\"\n",
    "#print(norm_hc_cf_with_genename_melt.shape)\n",
    "\n",
    "\n",
    "norm_cf_with_genename = [\"ID\"]\n",
    "norm_cf_with_genename.extend(cf_base)\n",
    "norm_cf_with_genename_melt = data_df_subset[norm_cf_with_genename].melt(\"ID\")\n",
    "norm_cf_with_genename_melt.variable=\"CF\"\n",
    "#print(norm_cf_with_genename_melt.shape)\n",
    "\n",
    "norm_hc_cf_with_genename_melt = norm_hc_cf_with_genename_melt.append(norm_cf_with_genename_melt, ignore_index=True)\n",
    "norm_hc_cf_with_genename_melt.head()"
   ]
  },
  {
   "cell_type": "code",
   "execution_count": null,
   "metadata": {},
   "outputs": [],
   "source": [
    "#list(norm_hc_cf_with_genename_melt.ID.values)"
   ]
  },
  {
   "cell_type": "markdown",
   "metadata": {},
   "source": [
    "## Violin Plots"
   ]
  },
  {
   "cell_type": "code",
   "execution_count": null,
   "metadata": {},
   "outputs": [],
   "source": [
    "#norm_hc_cf_with_genename_melt.\n",
    "\n",
    "\n",
    "# plot log2fc instead of expression values.\n"
   ]
  },
  {
   "cell_type": "code",
   "execution_count": 58,
   "metadata": {},
   "outputs": [],
   "source": [
    "#data_df.iloc(tmp_sorted_indices[0])\n",
    "#genestoplot=norm_hc_cf_with_genename_melt[norm_hc_cf_with_genename_melt.ID.isin(top_sorted_genes[2:3])]\n",
    "genestoplot=norm_hc_cf_with_genename_melt[norm_hc_cf_with_genename_melt.ID.isin(bon_sig_genes[2:3])]\n"
   ]
  },
  {
   "cell_type": "code",
   "execution_count": 59,
   "metadata": {},
   "outputs": [
    {
     "data": {
      "text/plain": [
       "<AxesSubplot:xlabel='ID', ylabel='value'>"
      ]
     },
     "execution_count": 59,
     "metadata": {},
     "output_type": "execute_result"
    },
    {
     "data": {
      "image/png": "[encoded data removed]",
      "text/plain": [
       "<Figure size 432x288 with 1 Axes>"
      ]
     },
     "metadata": {
      "needs_background": "light"
     },
     "output_type": "display_data"
    }
   ],
   "source": [
    "sns.violinplot(x=\"ID\", y=\"value\", hue=\"variable\",data=genestoplot)"
   ]
  },
  {
   "cell_type": "code",
   "execution_count": 60,
   "metadata": {},
   "outputs": [],
   "source": [
    "tmp_sorted_p_values = sorted(norm_p_values)"
   ]
  },
  {
   "cell_type": "code",
   "execution_count": 61,
   "metadata": {},
   "outputs": [
    {
     "data": {
      "text/plain": [
       "366"
      ]
     },
     "execution_count": 61,
     "metadata": {},
     "output_type": "execute_result"
    }
   ],
   "source": [
    "tmp_sorted_p_values.count(0)"
   ]
  },
  {
   "cell_type": "code",
   "execution_count": 62,
   "metadata": {},
   "outputs": [],
   "source": [
    "tmp_critical_values = [((i+1)/15000)*0.05 for i in range(15000)]"
   ]
  },
  {
   "cell_type": "code",
   "execution_count": 63,
   "metadata": {},
   "outputs": [
    {
     "data": {
      "text/plain": [
       "[3.3333333333333337e-06,\n",
       " 6.6666666666666675e-06,\n",
       " 1e-05,\n",
       " 1.3333333333333335e-05,\n",
       " 1.6666666666666667e-05,\n",
       " 2e-05,\n",
       " 2.3333333333333336e-05,\n",
       " 2.666666666666667e-05,\n",
       " 2.9999999999999997e-05,\n",
       " 3.3333333333333335e-05]"
      ]
     },
     "execution_count": 63,
     "metadata": {},
     "output_type": "execute_result"
    }
   ],
   "source": [
    "tmp_critical_values[:10]"
   ]
  },
  {
   "cell_type": "markdown",
   "metadata": {},
   "source": [
    "# Compare results to published."
   ]
  },
  {
   "cell_type": "code",
   "execution_count": 64,
   "metadata": {},
   "outputs": [
    {
     "data": {
      "text/plain": [
       "1944"
      ]
     },
     "execution_count": 64,
     "metadata": {},
     "output_type": "execute_result"
    }
   ],
   "source": [
    "#np.count_nonzero(abs(2) < abs(a))\n",
    "published_sig_logic = data_df_subset['pre_drug.vs.control_pAdj'] < 0.05\n",
    "np.count_nonzero(published_sig_logic)"
   ]
  },
  {
   "cell_type": "code",
   "execution_count": 65,
   "metadata": {},
   "outputs": [],
   "source": [
    "published_sig_index = [i for i, x in enumerate(published_sig_logic) if x]"
   ]
  },
  {
   "cell_type": "code",
   "execution_count": 66,
   "metadata": {},
   "outputs": [
    {
     "data": {
      "text/plain": [
       "['ABAT', 'ABCA13', 'ABCA2', 'ABHD13', 'ABHD14A']"
      ]
     },
     "execution_count": 66,
     "metadata": {},
     "output_type": "execute_result"
    }
   ],
   "source": [
    "published_significant_genes = []\n",
    "published_significant_genes = [data_df_subset[\"ID\"].iloc[published_sig_index[i]] for i in range(len(published_sig_index))]\n",
    "published_significant_genes[:5]"
   ]
  },
  {
   "cell_type": "code",
   "execution_count": 67,
   "metadata": {},
   "outputs": [],
   "source": [
    "def intersection(lst1, lst2): \n",
    "    lst3 = [value for value in lst1 if value in lst2] \n",
    "    return lst3 \n",
    "\n",
    "sig_intersection = intersection(published_significant_genes, significant_genes)"
   ]
  },
  {
   "cell_type": "code",
   "execution_count": 68,
   "metadata": {},
   "outputs": [
    {
     "data": {
      "text/plain": [
       "1944"
      ]
     },
     "execution_count": 68,
     "metadata": {},
     "output_type": "execute_result"
    }
   ],
   "source": [
    "len(sig_intersection)"
   ]
  },
  {
   "cell_type": "code",
   "execution_count": 69,
   "metadata": {},
   "outputs": [
    {
     "data": {
      "text/plain": [
       "392"
      ]
     },
     "execution_count": 69,
     "metadata": {},
     "output_type": "execute_result"
    }
   ],
   "source": [
    "len(intersection(bon_sig_genes, published_significant_genes))"
   ]
  },
  {
   "cell_type": "markdown",
   "metadata": {},
   "source": [
    "## Check if setting 0 to lowest possible p-value changes results"
   ]
  },
  {
   "cell_type": "code",
   "execution_count": 70,
   "metadata": {},
   "outputs": [],
   "source": [
    "new_norm_p_values = [x if x>0 else 0.00001 for x in norm_p_values]"
   ]
  },
  {
   "cell_type": "code",
   "execution_count": 71,
   "metadata": {},
   "outputs": [
    {
     "data": {
      "text/plain": [
       "531"
      ]
     },
     "execution_count": 71,
     "metadata": {},
     "output_type": "execute_result"
    }
   ],
   "source": [
    "new_norm_p_values.count(0.00001)"
   ]
  },
  {
   "cell_type": "code",
   "execution_count": 72,
   "metadata": {},
   "outputs": [
    {
     "name": "stdout",
     "output_type": "stream",
     "text": [
      "Number of significant genes:  6073\n"
     ]
    }
   ],
   "source": [
    "i, sorted_indices = benjamin_hochberg_corrected_p_values(new_norm_p_values, 0.05)\n",
    "num_sig_genes = i+1\n",
    "print(\"Number of significant genes: \", num_sig_genes)"
   ]
  },
  {
   "cell_type": "code",
   "execution_count": 73,
   "metadata": {},
   "outputs": [],
   "source": [
    "import statsmodels.stats.multitest as ssm\n",
    "new_norm_p_values_np = np.array(new_norm_p_values, float)\n",
    "\n",
    "rej, s_adjpval = ssm.multipletests(new_norm_p_values_np, alpha=0.05, method=\"s\")[:2]\n",
    "rej, fdr_adjpval = ssm.multipletests(new_norm_p_values_np, alpha=0.05, method=\"fdr_i\")[:2]"
   ]
  },
  {
   "cell_type": "code",
   "execution_count": 74,
   "metadata": {},
   "outputs": [
    {
     "data": {
      "text/plain": [
       "6073"
      ]
     },
     "execution_count": 74,
     "metadata": {},
     "output_type": "execute_result"
    }
   ],
   "source": [
    "sum(np.array(fdr_adjpval)<0.05)"
   ]
  },
  {
   "cell_type": "code",
   "execution_count": 75,
   "metadata": {},
   "outputs": [],
   "source": [
    "import statsmodels.stats.multitest as ssm\n",
    "norm_p_values_np = np.array(norm_p_values, float)\n",
    "\n",
    "rej, s_adjpval = ssm.multipletests(norm_p_values_np, alpha=0.05, method=\"s\")[:2]\n",
    "rej, fdr_adjpval = ssm.multipletests(norm_p_values_np, alpha=0.05, method=\"fdr_i\")[:2]"
   ]
  },
  {
   "cell_type": "code",
   "execution_count": 76,
   "metadata": {},
   "outputs": [
    {
     "data": {
      "text/plain": [
       "[0.0, 0.0, 0.0, 0.0, 0.0, 0.0, 0.0, 0.0, 0.0, 0.0]"
      ]
     },
     "execution_count": 76,
     "metadata": {},
     "output_type": "execute_result"
    }
   ],
   "source": [
    "tmp_sorted_s_adjpval = sorted(s_adjpval)\n",
    "tmp_sorted_s_adjpval[:10]"
   ]
  },
  {
   "cell_type": "code",
   "execution_count": 77,
   "metadata": {},
   "outputs": [
    {
     "data": {
      "text/plain": [
       "[0.0, 0.0, 0.0, 0.0, 0.0, 0.0, 0.0, 0.0, 0.0, 0.0]"
      ]
     },
     "execution_count": 77,
     "metadata": {},
     "output_type": "execute_result"
    }
   ],
   "source": [
    "tmp_sorted_fdr_adjpval = sorted(fdr_adjpval)\n",
    "tmp_sorted_fdr_adjpval[:10]"
   ]
  },
  {
   "cell_type": "code",
   "execution_count": 78,
   "metadata": {},
   "outputs": [
    {
     "data": {
      "text/plain": [
       "6073"
      ]
     },
     "execution_count": 78,
     "metadata": {},
     "output_type": "execute_result"
    }
   ],
   "source": [
    "sum(np.array(tmp_sorted_fdr_adjpval)<0.05)"
   ]
  },
  {
   "cell_type": "code",
   "execution_count": 79,
   "metadata": {},
   "outputs": [
    {
     "data": {
      "text/html": [
       "<div>\n",
       "<style scoped>\n",
       "    .dataframe tbody tr th:only-of-type {\n",
       "        vertical-align: middle;\n",
       "    }\n",
       "\n",
       "    .dataframe tbody tr th {\n",
       "        vertical-align: top;\n",
       "    }\n",
       "\n",
       "    .dataframe thead th {\n",
       "        text-align: right;\n",
       "    }\n",
       "</style>\n",
       "<table border=\"1\" class=\"dataframe\">\n",
       "  <thead>\n",
       "    <tr style=\"text-align: right;\">\n",
       "      <th></th>\n",
       "      <th>0</th>\n",
       "      <th>1</th>\n",
       "      <th>2</th>\n",
       "      <th>3</th>\n",
       "      <th>4</th>\n",
       "      <th>5</th>\n",
       "      <th>6</th>\n",
       "      <th>7</th>\n",
       "      <th>8</th>\n",
       "      <th>9</th>\n",
       "    </tr>\n",
       "  </thead>\n",
       "  <tbody>\n",
       "    <tr>\n",
       "      <th>0</th>\n",
       "      <td>0.0</td>\n",
       "      <td>0.0</td>\n",
       "      <td>0.0</td>\n",
       "      <td>0.0</td>\n",
       "      <td>0.0</td>\n",
       "      <td>0.0</td>\n",
       "      <td>0.0</td>\n",
       "      <td>0.0</td>\n",
       "      <td>0.0</td>\n",
       "      <td>0.0</td>\n",
       "    </tr>\n",
       "    <tr>\n",
       "      <th>1</th>\n",
       "      <td>0.0</td>\n",
       "      <td>0.0</td>\n",
       "      <td>0.0</td>\n",
       "      <td>0.0</td>\n",
       "      <td>0.0</td>\n",
       "      <td>0.0</td>\n",
       "      <td>0.0</td>\n",
       "      <td>0.0</td>\n",
       "      <td>0.0</td>\n",
       "      <td>0.0</td>\n",
       "    </tr>\n",
       "    <tr>\n",
       "      <th>2</th>\n",
       "      <td>0.0</td>\n",
       "      <td>0.0</td>\n",
       "      <td>0.0</td>\n",
       "      <td>0.0</td>\n",
       "      <td>0.0</td>\n",
       "      <td>0.0</td>\n",
       "      <td>0.0</td>\n",
       "      <td>0.0</td>\n",
       "      <td>0.0</td>\n",
       "      <td>0.0</td>\n",
       "    </tr>\n",
       "  </tbody>\n",
       "</table>\n",
       "</div>"
      ],
      "text/plain": [
       "     0    1    2    3    4    5    6    7    8    9\n",
       "0  0.0  0.0  0.0  0.0  0.0  0.0  0.0  0.0  0.0  0.0\n",
       "1  0.0  0.0  0.0  0.0  0.0  0.0  0.0  0.0  0.0  0.0\n",
       "2  0.0  0.0  0.0  0.0  0.0  0.0  0.0  0.0  0.0  0.0"
      ]
     },
     "execution_count": 79,
     "metadata": {},
     "output_type": "execute_result"
    }
   ],
   "source": [
    "pd.DataFrame([tmp_sorted_p_values[:10],tmp_sorted_fdr_adjpval[:10],tmp_sorted_s_adjpval[:10]])"
   ]
  },
  {
   "cell_type": "markdown",
   "metadata": {},
   "source": [
    "# Healthy control vs CF confidence interval"
   ]
  },
  {
   "cell_type": "code",
   "execution_count": 80,
   "metadata": {},
   "outputs": [
    {
     "name": "stdout",
     "output_type": "stream",
     "text": [
      "(531, 20) (531, 20)\n"
     ]
    }
   ],
   "source": [
    "# We will only look at the confidence intervals of the genes that had 0 events.\n",
    "#data_df_subset[healthy], data_df_subset[cf_base]\n",
    "data_df_subset_bon = data_df_subset[data_df_subset.ID.isin(bon_sig_genes)]\n",
    "df_norm_hc_bon_sig = data_df_subset_bon[healthy]\n",
    "df_norm_cf_bon_sig = data_df_subset_bon[cf_base]\n",
    "print(df_norm_cf_bon_sig.shape,df_norm_hc_bon_sig.shape)"
   ]
  },
  {
   "cell_type": "code",
   "execution_count": 81,
   "metadata": {},
   "outputs": [],
   "source": [
    "def bootstrap(x):\n",
    "\tsamp_x = []\n",
    "\tfor i in range(len(x)):\n",
    "\t\tsamp_x.append(random.choice(x))\n",
    "\treturn samp_x"
   ]
  },
  {
   "cell_type": "code",
   "execution_count": 82,
   "metadata": {},
   "outputs": [],
   "source": [
    "def diff2meanconf(grpA, grpB, conf_interval):\n",
    "    # list of lists\n",
    "    samples = [grpA, grpB] \n",
    "    a = 0\n",
    "    b = 1\n",
    "\n",
    "    observed_mean_diff = meanlogFC(samples[a], samples[b])\n",
    "    num_resamples = 1000   # number of times we will resample from our original samples\n",
    "    out = []                # will store results of each time we resample\n",
    "    for i in range(num_resamples):\n",
    "        # get bootstrap samples for each of our groups\n",
    "        # then compute our statistic of interest\n",
    "        # append statistic to out\n",
    "        bootstrap_samples = []  # list of lists\n",
    "        for sample in samples:\n",
    "            bootstrap_samples.append(bootstrap(sample))\n",
    "        # now we have a list of bootstrap samples, run meandiff\n",
    "        out.append(meanlogFC(bootstrap_samples[a], bootstrap_samples[b]))\n",
    "    out.sort()\n",
    "    tails = (1 - conf_interval) / 2\n",
    "    # in case our lower and upper bounds are not integers,\n",
    "    # we decrease the range (the values we include in our interval),\n",
    "    # so that we can keep the same level of confidence\n",
    "    lower_bound = int(math.ceil(num_resamples * tails))\n",
    "    upper_bound = int(math.floor(num_resamples * (1 - tails)))\n",
    "    return([out[lower_bound], out[upper_bound]])"
   ]
  },
  {
   "cell_type": "code",
   "execution_count": 83,
   "metadata": {},
   "outputs": [
    {
     "data": {
      "text/plain": [
       "[-1.0538133254240782, -0.44982151274782395]"
      ]
     },
     "execution_count": 83,
     "metadata": {},
     "output_type": "execute_result"
    }
   ],
   "source": [
    "diff2meanconf(list(df_norm_hc_bon_sig.values[1]),\n",
    "              list(df_norm_cf_bon_sig.values[1]),.90)"
   ]
  },
  {
   "cell_type": "code",
   "execution_count": 84,
   "metadata": {},
   "outputs": [],
   "source": [
    "fullzip = list(zip(df_norm_hc_bon_sig.values, df_norm_cf_bon_sig.values))\n",
    "all_conf_intervals = [diff2meanconf(fullzip[i][0],fullzip[i][1], 0.90) for i in range(len(fullzip))]\n",
    "   "
   ]
  },
  {
   "cell_type": "code",
   "execution_count": 85,
   "metadata": {},
   "outputs": [],
   "source": [
    "pickle.dump( all_conf_intervals, open( \"all_conf_intervals_raw.p\", \"wb\" ) )"
   ]
  },
  {
   "cell_type": "code",
   "execution_count": 86,
   "metadata": {},
   "outputs": [],
   "source": [
    "all_conf_intervals = pickle.load( open( \"all_conf_intervals_raw.p\", \"rb\" ) )"
   ]
  },
  {
   "cell_type": "code",
   "execution_count": 87,
   "metadata": {},
   "outputs": [],
   "source": [
    "max_conf = [abs(max(all_conf_intervals[i], key=abs)) for i in range(len(all_conf_intervals))]"
   ]
  },
  {
   "cell_type": "code",
   "execution_count": 88,
   "metadata": {},
   "outputs": [
    {
     "data": {
      "text/plain": [
       "array([246, 276, 291, 446,  21, 170, 203, 345, 333, 213])"
      ]
     },
     "execution_count": 88,
     "metadata": {},
     "output_type": "execute_result"
    }
   ],
   "source": [
    "sorted_max_conf = sorted(max_conf, reverse=True)\n",
    "#sorted_max_conf[:10]\n",
    "sorted_max_conf_index = np.argsort(max_conf)\n",
    "\n",
    "top10_conf_index = sorted_max_conf_index[::-1][:10]\n",
    "top10_conf_index"
   ]
  },
  {
   "cell_type": "code",
   "execution_count": 89,
   "metadata": {},
   "outputs": [],
   "source": [
    "top10_ci_genes = [data_df_subset_bon[\"ID\"].iloc[top10_conf_index[i]] for i in range(len(top10_conf_index))]"
   ]
  },
  {
   "cell_type": "code",
   "execution_count": 90,
   "metadata": {},
   "outputs": [
    {
     "data": {
      "text/plain": [
       "['LOC105372578',\n",
       " 'MCEMP1',\n",
       " 'MMP9',\n",
       " 'SOCS3',\n",
       " 'ANXA3',\n",
       " 'G0S2',\n",
       " 'IL1R2',\n",
       " 'PFKFB3',\n",
       " 'OSM',\n",
       " 'ITGB4']"
      ]
     },
     "execution_count": 90,
     "metadata": {},
     "output_type": "execute_result"
    }
   ],
   "source": [
    "top10_ci_genes"
   ]
  },
  {
   "cell_type": "code",
   "execution_count": 91,
   "metadata": {},
   "outputs": [
    {
     "data": {
      "text/plain": [
       "[nan,\n",
       " 'mast cell-expressed membrane protein 1',\n",
       " 'matrix metallopeptidase 9',\n",
       " 'suppressor of cytokine signaling 3',\n",
       " 'annexin A3',\n",
       " 'G0/G1 switch 2',\n",
       " 'interleukin 1 receptor type 2',\n",
       " '6-phosphofructo-2-kinase/fructose-2,6-biphosphatase 3',\n",
       " 'oncostatin M',\n",
       " 'integrin subunit beta 4']"
      ]
     },
     "execution_count": 91,
     "metadata": {},
     "output_type": "execute_result"
    }
   ],
   "source": [
    "top10_ci_gene_description = [data_df_subset_bon[\"Description\"].iloc[top10_conf_index[i]] for i in range(len(top10_conf_index))]\n",
    "top10_ci_gene_description"
   ]
  },
  {
   "cell_type": "code",
   "execution_count": 92,
   "metadata": {},
   "outputs": [],
   "source": [
    "top10conf = [all_conf_intervals[i] for i in top10_conf_index]"
   ]
  },
  {
   "cell_type": "code",
   "execution_count": 93,
   "metadata": {},
   "outputs": [
    {
     "data": {
      "text/plain": [
       "[[1.7614043271106299, 3.161189532672288],\n",
       " [1.563696812355711, 2.603696214411879],\n",
       " [1.6391422627760681, 2.4874355245675845],\n",
       " [1.3865411836826045, 2.2398359974692257],\n",
       " [1.3089158487480603, 2.226817255502452],\n",
       " [1.3780856441115017, 2.1579259755626925],\n",
       " [0.9346586302457188, 2.140776879805022],\n",
       " [1.431472480169909, 2.1017978055178723],\n",
       " [1.276851455081839, 2.0467853043486666],\n",
       " [1.1120525186308732, 1.9797754393277724]]"
      ]
     },
     "execution_count": 93,
     "metadata": {},
     "output_type": "execute_result"
    }
   ],
   "source": [
    "top10conf"
   ]
  },
  {
   "cell_type": "code",
   "execution_count": 94,
   "metadata": {},
   "outputs": [],
   "source": [
    "genestoplot=norm_hc_cf_with_genename_melt[norm_hc_cf_with_genename_melt.ID.isin(top10_ci_genes[9:10])]\n"
   ]
  },
  {
   "cell_type": "code",
   "execution_count": 95,
   "metadata": {},
   "outputs": [
    {
     "data": {
      "text/plain": [
       "<AxesSubplot:xlabel='ID', ylabel='value'>"
      ]
     },
     "execution_count": 95,
     "metadata": {},
     "output_type": "execute_result"
    },
    {
     "data": {
      "image/png": "[encoded data removed]",
      "text/plain": [
       "<Figure size 432x288 with 1 Axes>"
      ]
     },
     "metadata": {
      "needs_background": "light"
     },
     "output_type": "display_data"
    }
   ],
   "source": [
    "sns.violinplot(x=\"ID\", y=\"value\", hue=\"variable\",data=genestoplot)\n"
   ]
  },
  {
   "cell_type": "code",
   "execution_count": 96,
   "metadata": {},
   "outputs": [
    {
     "data": {
      "text/plain": [
       "<AxesSubplot:xlabel='ID', ylabel='value'>"
      ]
     },
     "execution_count": 96,
     "metadata": {},
     "output_type": "execute_result"
    },
    {
     "data": {
      "image/png": "[encoded data removed]",
      "text/plain": [
       "<Figure size 432x288 with 1 Axes>"
      ]
     },
     "metadata": {
      "needs_background": "light"
     },
     "output_type": "display_data"
    }
   ],
   "source": [
    "genestoplot=norm_hc_cf_with_genename_melt[norm_hc_cf_with_genename_melt.ID.isin(top10_ci_genes[5:6])]\n",
    "sns.violinplot(x=\"ID\", y=\"value\", hue=\"variable\",data=genestoplot)\n"
   ]
  },
  {
   "cell_type": "code",
   "execution_count": 97,
   "metadata": {},
   "outputs": [
    {
     "data": {
      "text/plain": [
       "<AxesSubplot:xlabel='ID', ylabel='value'>"
      ]
     },
     "execution_count": 97,
     "metadata": {},
     "output_type": "execute_result"
    },
    {
     "data": {
      "image/png": "[encoded data removed]",
      "text/plain": [
       "<Figure size 432x288 with 1 Axes>"
      ]
     },
     "metadata": {
      "needs_background": "light"
     },
     "output_type": "display_data"
    }
   ],
   "source": [
    "genestoplot=norm_hc_cf_with_genename_melt[norm_hc_cf_with_genename_melt.ID.isin(top10_ci_genes[6:7])]\n",
    "sns.violinplot(x=\"ID\", y=\"value\", hue=\"variable\",data=genestoplot)\n"
   ]
  },
  {
   "cell_type": "markdown",
   "metadata": {},
   "source": [
    "## Machine Learning Models"
   ]
  },
  {
   "cell_type": "markdown",
   "metadata": {},
   "source": [
    "First we need to make subset of the dataframe to contain only our top 10 genes"
   ]
  },
  {
   "cell_type": "code",
   "execution_count": 98,
   "metadata": {},
   "outputs": [
    {
     "name": "stdout",
     "output_type": "stream",
     "text": [
      "(10, 20) (10, 20)\n"
     ]
    }
   ],
   "source": [
    "data_df_subset_bon_top10ci = data_df_subset[data_df_subset.ID.isin(top10_ci_genes)]\n",
    "df_norm_hc_bon_sig_top10ci = data_df_subset_bon_top10ci[healthy]\n",
    "df_norm_cf_bon_sig_top10ci = data_df_subset_bon_top10ci[cf_base]\n",
    "print(df_norm_hc_bon_sig_top10ci.shape,df_norm_cf_bon_sig_top10ci.shape)"
   ]
  },
  {
   "cell_type": "code",
   "execution_count": 99,
   "metadata": {},
   "outputs": [
    {
     "data": {
      "text/plain": [
       "['LOC105372578',\n",
       " 'MCEMP1',\n",
       " 'MMP9',\n",
       " 'SOCS3',\n",
       " 'ANXA3',\n",
       " 'G0S2',\n",
       " 'IL1R2',\n",
       " 'PFKFB3',\n",
       " 'OSM',\n",
       " 'ITGB4']"
      ]
     },
     "execution_count": 99,
     "metadata": {},
     "output_type": "execute_result"
    }
   ],
   "source": [
    "top10_ci_genes"
   ]
  },
  {
   "cell_type": "code",
   "execution_count": 100,
   "metadata": {},
   "outputs": [
    {
     "data": {
      "text/plain": [
       "555             ANXA3\n",
       "4206             G0S2\n",
       "5313            IL1R2\n",
       "5496            ITGB4\n",
       "6886     LOC105372578\n",
       "8139           MCEMP1\n",
       "8458             MMP9\n",
       "9470              OSM\n",
       "9800           PFKFB3\n",
       "12605           SOCS3\n",
       "Name: ID, dtype: object"
      ]
     },
     "execution_count": 100,
     "metadata": {},
     "output_type": "execute_result"
    }
   ],
   "source": [
    "data_df_subset_bon_top10ci[\"ID\"]"
   ]
  },
  {
   "cell_type": "code",
   "execution_count": 101,
   "metadata": {},
   "outputs": [
    {
     "data": {
      "text/plain": [
       "array(['ANXA3', 'G0S2', 'IL1R2', 'ITGB4', 'LOC105372578', 'MCEMP1',\n",
       "       'MMP9', 'OSM', 'PFKFB3', 'SOCS3'], dtype=object)"
      ]
     },
     "execution_count": 101,
     "metadata": {},
     "output_type": "execute_result"
    }
   ],
   "source": [
    "data_df_subset_bon_top10ci.ID.values"
   ]
  },
  {
   "cell_type": "code",
   "execution_count": 102,
   "metadata": {},
   "outputs": [],
   "source": [
    "df_norm_healthy_T = df_norm_hc_bon_sig_top10ci.T\n",
    "labels_healthy = [1]*20\n",
    "\n",
    "df_norm_base_T = df_norm_cf_bon_sig_top10ci.T\n",
    "labels_patient = [0]*20"
   ]
  },
  {
   "cell_type": "code",
   "execution_count": 103,
   "metadata": {},
   "outputs": [],
   "source": [
    "X1 = df_norm_healthy_T.values\n",
    "X2 = df_norm_base_T.values\n",
    "Y1 = np.zeros((1,20))\n",
    "Y2 = np.ones((1,20))"
   ]
  },
  {
   "cell_type": "code",
   "execution_count": 104,
   "metadata": {},
   "outputs": [
    {
     "data": {
      "text/plain": [
       "(40, 10)"
      ]
     },
     "execution_count": 104,
     "metadata": {},
     "output_type": "execute_result"
    }
   ],
   "source": [
    "X = np.concatenate((X1, X2), axis=0)\n",
    "X.shape"
   ]
  },
  {
   "cell_type": "code",
   "execution_count": 105,
   "metadata": {},
   "outputs": [
    {
     "data": {
      "text/plain": [
       "(40,)"
      ]
     },
     "execution_count": 105,
     "metadata": {},
     "output_type": "execute_result"
    }
   ],
   "source": [
    "Y = np.concatenate((Y1, Y2), axis=1)\n",
    "Y = np.reshape(Y, 40)\n",
    "Y.shape"
   ]
  },
  {
   "cell_type": "code",
   "execution_count": 106,
   "metadata": {},
   "outputs": [],
   "source": [
    "from sklearn.ensemble import RandomForestClassifier\n",
    "from sklearn.model_selection import train_test_split\n",
    "from sklearn.metrics import f1_score\n",
    "from sklearn.model_selection import cross_val_score\n",
    "from sklearn.model_selection import cross_validate"
   ]
  },
  {
   "cell_type": "code",
   "execution_count": 107,
   "metadata": {},
   "outputs": [],
   "source": [
    "test_precision = []\n",
    "test_recall = []\n",
    "test_f1 = []\n",
    "for i in range(100):\n",
    "    clf = RandomForestClassifier()\n",
    "    scoring = {'precision': 'precision',\n",
    "               'recall': 'recall',\n",
    "              'f1_macro':'f1_macro'}\n",
    "    scores = cross_validate(clf, X, Y, cv=5, scoring=scoring, return_train_score=True)\n",
    "    test_precision.append(scores['test_precision'].mean())\n",
    "    test_recall.append(scores['test_recall'].mean())\n",
    "    test_f1.append(scores['test_f1_macro'].mean())"
   ]
  },
  {
   "cell_type": "code",
   "execution_count": null,
   "metadata": {},
   "outputs": [],
   "source": []
  },
  {
   "cell_type": "code",
   "execution_count": 108,
   "metadata": {},
   "outputs": [
    {
     "data": {
      "text/plain": [
       "<AxesSubplot:xlabel='variable', ylabel='value'>"
      ]
     },
     "execution_count": 108,
     "metadata": {},
     "output_type": "execute_result"
    },
    {
     "data": {
      "image/png": "[encoded data removed]",
      "text/plain": [
       "<Figure size 432x288 with 1 Axes>"
      ]
     },
     "metadata": {
      "needs_background": "light"
     },
     "output_type": "display_data"
    }
   ],
   "source": [
    "test_stats = {\"f1_score\" : test_f1,\n",
    "              \"precision\": test_precision,\n",
    "              \"recall\": test_recall}\n",
    "test_stats_df = pd.DataFrame(data=test_stats)\n",
    "test_stats_melt = pd.melt(test_stats_df, value_vars=[\"precision\",\"recall\",\"f1_score\"])\n",
    "#clf_feature_imp_df\n",
    "#sns.scatterplot(y=\"precision\", x=\"recall\", data=test_stats_df, estimator=None)\n",
    "test_stats_melt.iloc[98:105]\n",
    "# make the axis start from 0.\n",
    "sns.violinplot(x=\"variable\",y=\"value\",data=test_stats_melt)"
   ]
  },
  {
   "cell_type": "code",
   "execution_count": 109,
   "metadata": {},
   "outputs": [],
   "source": [
    "# figure caption: Recall and precision of deciding whether someone has cystic fibrosis.\n",
    "# vertical axis shows precision and horizontal axis shows recall when patients are ordered,\n",
    "# in descending order of their scores. \n",
    "# Thus, we expect higher precision for the patients on the left.\n",
    "# the average precision is __, average recall ___ ,\n",
    "# and average f is ____ ( with 90% interval of f )\n"
   ]
  },
  {
   "cell_type": "code",
   "execution_count": 110,
   "metadata": {},
   "outputs": [
    {
     "ename": "NotFittedError",
     "evalue": "This RandomForestClassifier instance is not fitted yet. Call 'fit' with appropriate arguments before using this estimator.",
     "output_type": "error",
     "traceback": [
      "\u001b[0;31m---------------------------------------------------------------------------\u001b[0m",
      "\u001b[0;31mNotFittedError\u001b[0m                            Traceback (most recent call last)",
      "\u001b[0;32m<ipython-input-110-e4ce79c47429>\u001b[0m in \u001b[0;36m<module>\u001b[0;34m\u001b[0m\n\u001b[0;32m----> 1\u001b[0;31m \u001b[0mclf\u001b[0m\u001b[0;34m.\u001b[0m\u001b[0mfeature_importances_\u001b[0m\u001b[0;34m\u001b[0m\u001b[0;34m\u001b[0m\u001b[0m\n\u001b[0m",
      "\u001b[0;32m~/miniconda3/envs/jupyterlab/lib/python3.8/site-packages/sklearn/ensemble/_forest.py\u001b[0m in \u001b[0;36mfeature_importances_\u001b[0;34m(self)\u001b[0m\n\u001b[1;32m    442\u001b[0m             \u001b[0marray\u001b[0m \u001b[0mof\u001b[0m \u001b[0mzeros\u001b[0m\u001b[0;34m.\u001b[0m\u001b[0;34m\u001b[0m\u001b[0;34m\u001b[0m\u001b[0m\n\u001b[1;32m    443\u001b[0m         \"\"\"\n\u001b[0;32m--> 444\u001b[0;31m         \u001b[0mcheck_is_fitted\u001b[0m\u001b[0;34m(\u001b[0m\u001b[0mself\u001b[0m\u001b[0;34m)\u001b[0m\u001b[0;34m\u001b[0m\u001b[0;34m\u001b[0m\u001b[0m\n\u001b[0m\u001b[1;32m    445\u001b[0m \u001b[0;34m\u001b[0m\u001b[0m\n\u001b[1;32m    446\u001b[0m         all_importances = Parallel(n_jobs=self.n_jobs,\n",
      "\u001b[0;32m~/miniconda3/envs/jupyterlab/lib/python3.8/site-packages/sklearn/utils/validation.py\u001b[0m in \u001b[0;36minner_f\u001b[0;34m(*args, **kwargs)\u001b[0m\n\u001b[1;32m     70\u001b[0m                           FutureWarning)\n\u001b[1;32m     71\u001b[0m         \u001b[0mkwargs\u001b[0m\u001b[0;34m.\u001b[0m\u001b[0mupdate\u001b[0m\u001b[0;34m(\u001b[0m\u001b[0;34m{\u001b[0m\u001b[0mk\u001b[0m\u001b[0;34m:\u001b[0m \u001b[0marg\u001b[0m \u001b[0;32mfor\u001b[0m \u001b[0mk\u001b[0m\u001b[0;34m,\u001b[0m \u001b[0marg\u001b[0m \u001b[0;32min\u001b[0m \u001b[0mzip\u001b[0m\u001b[0;34m(\u001b[0m\u001b[0msig\u001b[0m\u001b[0;34m.\u001b[0m\u001b[0mparameters\u001b[0m\u001b[0;34m,\u001b[0m \u001b[0margs\u001b[0m\u001b[0;34m)\u001b[0m\u001b[0;34m}\u001b[0m\u001b[0;34m)\u001b[0m\u001b[0;34m\u001b[0m\u001b[0;34m\u001b[0m\u001b[0m\n\u001b[0;32m---> 72\u001b[0;31m         \u001b[0;32mreturn\u001b[0m \u001b[0mf\u001b[0m\u001b[0;34m(\u001b[0m\u001b[0;34m**\u001b[0m\u001b[0mkwargs\u001b[0m\u001b[0;34m)\u001b[0m\u001b[0;34m\u001b[0m\u001b[0;34m\u001b[0m\u001b[0m\n\u001b[0m\u001b[1;32m     73\u001b[0m     \u001b[0;32mreturn\u001b[0m \u001b[0minner_f\u001b[0m\u001b[0;34m\u001b[0m\u001b[0;34m\u001b[0m\u001b[0m\n\u001b[1;32m     74\u001b[0m \u001b[0;34m\u001b[0m\u001b[0m\n",
      "\u001b[0;32m~/miniconda3/envs/jupyterlab/lib/python3.8/site-packages/sklearn/utils/validation.py\u001b[0m in \u001b[0;36mcheck_is_fitted\u001b[0;34m(estimator, attributes, msg, all_or_any)\u001b[0m\n\u001b[1;32m   1017\u001b[0m \u001b[0;34m\u001b[0m\u001b[0m\n\u001b[1;32m   1018\u001b[0m     \u001b[0;32mif\u001b[0m \u001b[0;32mnot\u001b[0m \u001b[0mattrs\u001b[0m\u001b[0;34m:\u001b[0m\u001b[0;34m\u001b[0m\u001b[0;34m\u001b[0m\u001b[0m\n\u001b[0;32m-> 1019\u001b[0;31m         \u001b[0;32mraise\u001b[0m \u001b[0mNotFittedError\u001b[0m\u001b[0;34m(\u001b[0m\u001b[0mmsg\u001b[0m \u001b[0;34m%\u001b[0m \u001b[0;34m{\u001b[0m\u001b[0;34m'name'\u001b[0m\u001b[0;34m:\u001b[0m \u001b[0mtype\u001b[0m\u001b[0;34m(\u001b[0m\u001b[0mestimator\u001b[0m\u001b[0;34m)\u001b[0m\u001b[0;34m.\u001b[0m\u001b[0m__name__\u001b[0m\u001b[0;34m}\u001b[0m\u001b[0;34m)\u001b[0m\u001b[0;34m\u001b[0m\u001b[0;34m\u001b[0m\u001b[0m\n\u001b[0m\u001b[1;32m   1020\u001b[0m \u001b[0;34m\u001b[0m\u001b[0m\n\u001b[1;32m   1021\u001b[0m \u001b[0;34m\u001b[0m\u001b[0m\n",
      "\u001b[0;31mNotFittedError\u001b[0m: This RandomForestClassifier instance is not fitted yet. Call 'fit' with appropriate arguments before using this estimator."
     ]
    }
   ],
   "source": [
    "#clf.feature_importances_"
   ]
  },
  {
   "cell_type": "code",
   "execution_count": 111,
   "metadata": {},
   "outputs": [],
   "source": [
    "# AUC , PR curve for all 100, provide information of the F score and mean of the 90% interval"
   ]
  },
  {
   "cell_type": "code",
   "execution_count": 112,
   "metadata": {},
   "outputs": [
    {
     "data": {
      "text/plain": [
       "<AxesSubplot:xlabel='important', ylabel='genes'>"
      ]
     },
     "execution_count": 112,
     "metadata": {},
     "output_type": "execute_result"
    },
    {
     "data": {
      "image/png": "[encoded data removed]",
      "text/plain": [
       "<Figure size 432x288 with 1 Axes>"
      ]
     },
     "metadata": {
      "needs_background": "light"
     },
     "output_type": "display_data"
    }
   ],
   "source": [
    "important_score = []\n",
    "important_genes = []\n",
    "for i in range(100):\n",
    "    clf = RandomForestClassifier().fit(X, Y)\n",
    "    important_score.extend(list(clf.feature_importances_))\n",
    "    important_genes.extend(data_df_subset_bon_top10ci.ID.values)\n",
    "\n",
    "clf_feature_imp = {\"important\" : important_score,\n",
    "                   \"genes\" : important_genes}\n",
    "clf_feature_imp_df = pd.DataFrame(data=clf_feature_imp)\n",
    "sns.boxplot(y=\"genes\",x=\"important\", data=clf_feature_imp_df)"
   ]
  },
  {
   "cell_type": "code",
   "execution_count": null,
   "metadata": {},
   "outputs": [],
   "source": [
    "# figure caption: The horizontal axis shows names of the most influential genes\n",
    "# vertical axis shows their relative importance. Because random forest uses randomness,\n",
    "# the exact importance of the gene can vary, the importance values exhibit dispersion.\n",
    "\n",
    "# make it vertical, rotate the names."
   ]
  },
  {
   "cell_type": "code",
   "execution_count": 114,
   "metadata": {},
   "outputs": [
    {
     "data": {
      "text/plain": [
       "0.8587603174603177"
      ]
     },
     "execution_count": 114,
     "metadata": {},
     "output_type": "execute_result"
    }
   ],
   "source": [
    "from sklearn.tree import DecisionTreeClassifier\n",
    "\n",
    "test_precision = []\n",
    "test_recall = []\n",
    "test_f1 = []\n",
    "for i in range(100):\n",
    "    clf = DecisionTreeClassifier(criterion=\"gini\")\n",
    "    scoring = {'precision': 'precision',\n",
    "               'recall': 'recall',\n",
    "              'f1_macro':'f1_macro'}\n",
    "    scores = cross_validate(clf, X, Y, cv=5, scoring=scoring, return_train_score=True)\n",
    "    test_precision.append(scores['test_precision'].mean())\n",
    "    test_recall.append(scores['test_recall'].mean())\n",
    "    test_f1.append(scores['test_f1_macro'].mean())\n",
    "    \n",
    "np.array(test_f1).mean()"
   ]
  },
  {
   "cell_type": "code",
   "execution_count": 115,
   "metadata": {},
   "outputs": [
    {
     "data": {
      "text/plain": [
       "array([0., 0., 0., 0., 0., 0., 0., 0., 0., 0., 0., 0., 0., 0., 0., 0., 0.,\n",
       "       0., 0., 0., 1., 1., 1., 1., 1., 1., 1., 1., 1., 1., 1., 1., 1., 1.,\n",
       "       1., 1., 1., 1., 1., 1.])"
      ]
     },
     "execution_count": 115,
     "metadata": {},
     "output_type": "execute_result"
    }
   ],
   "source": [
    "Y"
   ]
  },
  {
   "cell_type": "code",
   "execution_count": 116,
   "metadata": {},
   "outputs": [
    {
     "data": {
      "image/png": "[encoded data removed]",
      "text/plain": [
       "<Figure size 1200x1200 with 1 Axes>"
      ]
     },
     "metadata": {},
     "output_type": "display_data"
    }
   ],
   "source": [
    "from sklearn import tree\n",
    "plt.style.use('seaborn-notebook')\n",
    "clf_gini = DecisionTreeClassifier(criterion=\"gini\", max_depth=2).fit(X, Y)\n",
    "fig, axes = plt.subplots(nrows = 1,ncols = 1,figsize = (4,4), dpi=300, facecolor=\"lightgray\")\n",
    "plt.rcParams['lines.markeredgecolor']='black'\n",
    "plt.rcParams['lines.linewidth']=1\n",
    "\n",
    "tree.plot_tree(clf_gini,\n",
    "               feature_names = data_df_subset_bon_top10ci.ID.values,\n",
    "               class_names= [\"H\",\"CF\"],\n",
    "               filled = True,\n",
    "              fontsize=4,\n",
    "              )\n",
    "fig.savefig('rnaseq_decision_tree.png')"
   ]
  },
  {
   "cell_type": "code",
   "execution_count": null,
   "metadata": {},
   "outputs": [],
   "source": [
    "#plt.rcParams.keys()"
   ]
  },
  {
   "cell_type": "code",
   "execution_count": null,
   "metadata": {},
   "outputs": [],
   "source": [
    "# figure caption: The root of the decision tree is MMP9. \n",
    "# Based on branching on its expression value, the tree separates 17 out of the 20 \n",
    "# healthy people. Of those greater than ... 20  have cf and 3 do not. \n",
    "#The gene LOC can distinguish the remaining except for one."
   ]
  },
  {
   "cell_type": "code",
   "execution_count": null,
   "metadata": {},
   "outputs": [],
   "source": [
    "#X"
   ]
  },
  {
   "cell_type": "code",
   "execution_count": null,
   "metadata": {},
   "outputs": [],
   "source": []
  }
 ],
 "metadata": {
  "colab": {
   "name": "RNA_Seq_Data_Significant_Genes.ipynb",
   "provenance": []
  },
  "kernelspec": {
   "display_name": "Python 3",
   "language": "python",
   "name": "python3"
  },
  "language_info": {
   "codemirror_mode": {
    "name": "ipython",
    "version": 3
   },
   "file_extension": ".py",
   "mimetype": "text/x-python",
   "name": "python",
   "nbconvert_exporter": "python",
   "pygments_lexer": "ipython3",
   "version": "3.8.5"
  }
 },
 "nbformat": 4,
 "nbformat_minor": 4
}
