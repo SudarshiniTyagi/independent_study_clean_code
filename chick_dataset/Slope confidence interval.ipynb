{
 "cells": [
  {
   "cell_type": "code",
   "execution_count": 18,
   "metadata": {},
   "outputs": [],
   "source": [
    "import pandas as pd\n",
    "import matplotlib.pyplot as plt\n",
    "from sklearn.model_selection import train_test_split\n",
    "from sklearn.linear_model import LinearRegression\n",
    "import random\n",
    "\n",
    "chickweight = pd.read_csv('chick_weight.csv')"
   ]
  },
  {
   "cell_type": "code",
   "execution_count": 19,
   "metadata": {},
   "outputs": [],
   "source": [
    "import numpy as np\n",
    "from numpy.polynomial.polynomial import polyfit\n",
    "import matplotlib.pyplot as plt\n",
    "from itertools import combinations"
   ]
  },
  {
   "cell_type": "code",
   "execution_count": 20,
   "metadata": {},
   "outputs": [],
   "source": [
    "def get_slope(X, Y):\n",
    "    z = np.polyfit(X, Y, 1)\n",
    "    p = np.poly1d(z)\n",
    "    xp = np.linspace(0, 22, 100)\n",
    "    return z[0]"
   ]
  },
  {
   "cell_type": "code",
   "execution_count": 21,
   "metadata": {},
   "outputs": [],
   "source": [
    "def bootstrap(x):\n",
    "    samp_x = []\n",
    "    for i in range(len(x)):\n",
    "        samp_x.append(random.choice(x))\n",
    "    return samp_x"
   ]
  },
  {
   "cell_type": "code",
   "execution_count": 22,
   "metadata": {},
   "outputs": [],
   "source": [
    "def bootstrap_data(data):\n",
    "    new_df = pd.DataFrame(columns=[\"weight\",\"Time\",\"Chick\",\"Diet\"])\n",
    "    for i in range(22):\n",
    "        temp = data.loc[data['Time']==i]\n",
    "        count_row = temp.shape[0]\n",
    "        if(count_row==0):\n",
    "            continue\n",
    "        else:\n",
    "            temp['weight'] = bootstrap(temp['weight'].values)\n",
    "            new_df = pd.concat([new_df, temp], ignore_index=True)\n",
    "    return new_df"
   ]
  },
  {
   "cell_type": "code",
   "execution_count": 23,
   "metadata": {},
   "outputs": [],
   "source": [
    "def get_slopes(chickweight):\n",
    "    weight = 0\n",
    "    time = 1\n",
    "    uniqueDiets = chickweight.Diet.unique()\n",
    "    chickweight = chickweight.drop(['Unnamed: 0'], axis=1)\n",
    "    num_shuffles = 100\n",
    "    slope_out_dict = {}\n",
    "    for diet in uniqueDiets:\n",
    "        slope_out = []\n",
    "        for i in range(num_shuffles):\n",
    "            if(i%10 == 0):\n",
    "                print(\"Done: \", i)\n",
    "            df_this_diet = chickweight[:][chickweight.Diet == diet]\n",
    "            bootstrapped_df = bootstrap_data(df_this_diet)\n",
    "            df_this_diet_values = bootstrapped_df.values\n",
    "            X = np.array(df_this_diet_values[:,time], dtype=float)\n",
    "            Y = np.array(df_this_diet_values[:,weight], dtype=float)\n",
    "            \n",
    "            slope = get_slope(X, Y)\n",
    "            slope_out.append(slope)\n",
    "        slope_out_dict[diet] = slope_out\n",
    "    return slope_out_dict"
   ]
  },
  {
   "cell_type": "code",
   "execution_count": 24,
   "metadata": {},
   "outputs": [],
   "source": [
    "observed_slope = {1: 6.8417972,\n",
    "                  2: 8.60913629,\n",
    "                  3: 11.42287097,\n",
    "                  4: 9.71436556}"
   ]
  },
  {
   "cell_type": "code",
   "execution_count": 25,
   "metadata": {},
   "outputs": [
    {
     "name": "stdout",
     "output_type": "stream",
     "text": [
      "Done:  0\n"
     ]
    },
    {
     "name": "stderr",
     "output_type": "stream",
     "text": [
      "/anaconda3/lib/python3.6/site-packages/ipykernel_launcher.py:9: SettingWithCopyWarning: \n",
      "A value is trying to be set on a copy of a slice from a DataFrame.\n",
      "Try using .loc[row_indexer,col_indexer] = value instead\n",
      "\n",
      "See the caveats in the documentation: http://pandas.pydata.org/pandas-docs/stable/indexing.html#indexing-view-versus-copy\n",
      "  if __name__ == '__main__':\n"
     ]
    },
    {
     "name": "stdout",
     "output_type": "stream",
     "text": [
      "Done:  10\n",
      "Done:  20\n",
      "Done:  30\n",
      "Done:  40\n",
      "Done:  50\n",
      "Done:  60\n",
      "Done:  70\n",
      "Done:  80\n",
      "Done:  90\n",
      "Done:  0\n",
      "Done:  10\n",
      "Done:  20\n",
      "Done:  30\n",
      "Done:  40\n",
      "Done:  50\n",
      "Done:  60\n",
      "Done:  70\n",
      "Done:  80\n",
      "Done:  90\n",
      "Done:  0\n",
      "Done:  10\n",
      "Done:  20\n",
      "Done:  30\n",
      "Done:  40\n",
      "Done:  50\n",
      "Done:  60\n",
      "Done:  70\n",
      "Done:  80\n",
      "Done:  90\n",
      "Done:  0\n",
      "Done:  10\n",
      "Done:  20\n",
      "Done:  30\n",
      "Done:  40\n",
      "Done:  50\n",
      "Done:  60\n",
      "Done:  70\n",
      "Done:  80\n",
      "Done:  90\n"
     ]
    }
   ],
   "source": [
    "slope_out = get_slopes(chickweight)"
   ]
  },
  {
   "cell_type": "code",
   "execution_count": 26,
   "metadata": {},
   "outputs": [
    {
     "name": "stdout",
     "output_type": "stream",
     "text": [
      "**********Diet:  1 **********\n",
      "Observed slope: 6.84\n",
      "We have 90.0 % confidence that the true slope is between: 6.18 and 7.41\n",
      " \n",
      "**********Diet:  2 **********\n",
      "Observed slope: 8.61\n",
      "We have 90.0 % confidence that the true slope is between: 7.71 and 9.55\n",
      " \n",
      "**********Diet:  3 **********\n",
      "Observed slope: 11.42\n",
      "We have 90.0 % confidence that the true slope is between: 10.63 and 12.49\n",
      " \n",
      "**********Diet:  4 **********\n",
      "Observed slope: 9.71\n",
      "We have 90.0 % confidence that the true slope is between: 9.15 and 10.27\n",
      " \n"
     ]
    }
   ],
   "source": [
    "import math\n",
    "conf_interval = 0.9\n",
    "for key, value in slope_out.items():\n",
    "    diet = key\n",
    "    value.sort()\n",
    "    \n",
    "    tails = (1 - conf_interval) / 2\n",
    "    # in case our lower and upper bounds are not integers,\n",
    "    # we decrease the range (the values we include in our interval),\n",
    "    # so that we can keep the same level of confidence\n",
    "    lower_bound = int(math.ceil(100 * tails))\n",
    "    upper_bound = int(math.floor(100 * (1 - tails)))\n",
    "\n",
    "    ######################################\n",
    "    #\n",
    "    # Output\n",
    "    #\n",
    "    ######################################\n",
    "\n",
    "    # print observed value and then confidence interval\n",
    "    print(\"**********Diet: \", diet,\"**********\")\n",
    "    print (\"Observed slope: %.2f\" % observed_slope[key])\n",
    "    print (\"We have\", conf_interval * 100, \"% confidence that the true slope\", end=\" \")\n",
    "    print (\"is between: %.2f\" % value[lower_bound], \"and %.2f\" % value[upper_bound])\n",
    "    print (\" \")"
   ]
  },
  {
   "cell_type": "code",
   "execution_count": null,
   "metadata": {},
   "outputs": [],
   "source": []
  }
 ],
 "metadata": {
  "kernelspec": {
   "display_name": "Python 3",
   "language": "python",
   "name": "python3"
  },
  "language_info": {
   "codemirror_mode": {
    "name": "ipython",
    "version": 3
   },
   "file_extension": ".py",
   "mimetype": "text/x-python",
   "name": "python",
   "nbconvert_exporter": "python",
   "pygments_lexer": "ipython3",
   "version": "3.6.4"
  }
 },
 "nbformat": 4,
 "nbformat_minor": 2
}
