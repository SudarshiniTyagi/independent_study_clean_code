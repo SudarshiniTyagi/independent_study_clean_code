{
 "cells": [
  {
   "cell_type": "code",
   "execution_count": 33,
   "metadata": {},
   "outputs": [],
   "source": [
    "import pandas as pd\n",
    "import matplotlib.pyplot as plt\n",
    "from sklearn.model_selection import train_test_split\n",
    "from sklearn.linear_model import LinearRegression\n",
    "import random\n",
    "\n",
    "chickweight = pd.read_csv('chick_weight.csv')"
   ]
  },
  {
   "cell_type": "code",
   "execution_count": 34,
   "metadata": {},
   "outputs": [],
   "source": [
    "import numpy as np\n",
    "from numpy.polynomial.polynomial import polyfit\n",
    "import matplotlib.pyplot as plt\n",
    "from itertools import combinations"
   ]
  },
  {
   "cell_type": "code",
   "execution_count": 35,
   "metadata": {},
   "outputs": [],
   "source": [
    "def get_slope(X, Y):\n",
    "    z = np.polyfit(X, Y, 1)\n",
    "    p = np.poly1d(z)\n",
    "    xp = np.linspace(0, 22, 100)\n",
    "    return z[0], z[1]"
   ]
  },
  {
   "cell_type": "code",
   "execution_count": 36,
   "metadata": {},
   "outputs": [],
   "source": [
    "def bootstrap(x):\n",
    "    samp_x = []\n",
    "    for i in range(len(x)):\n",
    "        samp_x.append(random.choice(x))\n",
    "    return samp_x"
   ]
  },
  {
   "cell_type": "code",
   "execution_count": 37,
   "metadata": {},
   "outputs": [],
   "source": [
    "def bootstrap_data(data):\n",
    "    new_df = pd.DataFrame(columns=[\"weight\",\"Time\",\"Chick\",\"Diet\"])\n",
    "    for i in range(22):\n",
    "        temp = data.loc[data['Time']==i]\n",
    "        count_row = temp.shape[0]\n",
    "        if(count_row==0):\n",
    "            continue\n",
    "        else:\n",
    "            temp['weight'] = bootstrap(temp['weight'].values)\n",
    "            new_df = pd.concat([new_df, temp], ignore_index=True)\n",
    "    return new_df"
   ]
  },
  {
   "cell_type": "code",
   "execution_count": 38,
   "metadata": {},
   "outputs": [],
   "source": [
    "def get_slopes(chickweight):\n",
    "    weight = 0\n",
    "    time = 1\n",
    "    uniqueDiets = chickweight.Diet.unique()\n",
    "    chickweight = chickweight.drop(['Unnamed: 0'], axis=1)\n",
    "    num_shuffles = 100\n",
    "    slope_out_dict = {}\n",
    "    intercept_out_dict = {}\n",
    "    for diet in uniqueDiets:\n",
    "        slope_out = []\n",
    "        intercept_out = []\n",
    "        for i in range(num_shuffles):\n",
    "            if(i%10 == 0):\n",
    "                print(\"Done: \", i)\n",
    "            df_this_diet = chickweight[:][chickweight.Diet == diet]\n",
    "            bootstrapped_df = bootstrap_data(df_this_diet)\n",
    "            df_this_diet_values = bootstrapped_df.values\n",
    "            X = np.array(df_this_diet_values[:,time], dtype=float)\n",
    "            Y = np.array(df_this_diet_values[:,weight], dtype=float)\n",
    "            \n",
    "            slope, intercept = get_slope(X, Y)\n",
    "            slope_out.append(slope)\n",
    "            intercept_out.append(intercept)\n",
    "        slope_out_dict[diet] = slope_out\n",
    "        intercept_out_dict[diet] = intercept_out\n",
    "    return slope_out_dict, intercept_out_dict"
   ]
  },
  {
   "cell_type": "code",
   "execution_count": 42,
   "metadata": {},
   "outputs": [],
   "source": [
    "observed_slope = {1: 6.8417972,\n",
    "                  2: 8.60913629,\n",
    "                  3: 11.42287097,\n",
    "                  4: 9.71436556}\n",
    "observed_intercept = {1: 30.93,\n",
    "                  2: 28.63,\n",
    "                  3: 18.25,\n",
    "                  4: 30.79}"
   ]
  },
  {
   "cell_type": "code",
   "execution_count": 40,
   "metadata": {},
   "outputs": [
    {
     "name": "stdout",
     "output_type": "stream",
     "text": [
      "Done:  0\n"
     ]
    },
    {
     "name": "stderr",
     "output_type": "stream",
     "text": [
      "/anaconda3/lib/python3.6/site-packages/ipykernel_launcher.py:9: SettingWithCopyWarning: \n",
      "A value is trying to be set on a copy of a slice from a DataFrame.\n",
      "Try using .loc[row_indexer,col_indexer] = value instead\n",
      "\n",
      "See the caveats in the documentation: http://pandas.pydata.org/pandas-docs/stable/indexing.html#indexing-view-versus-copy\n",
      "  if __name__ == '__main__':\n"
     ]
    },
    {
     "name": "stdout",
     "output_type": "stream",
     "text": [
      "Done:  10\n",
      "Done:  20\n",
      "Done:  30\n",
      "Done:  40\n",
      "Done:  50\n",
      "Done:  60\n",
      "Done:  70\n",
      "Done:  80\n",
      "Done:  90\n",
      "Done:  0\n",
      "Done:  10\n",
      "Done:  20\n",
      "Done:  30\n",
      "Done:  40\n",
      "Done:  50\n",
      "Done:  60\n",
      "Done:  70\n",
      "Done:  80\n",
      "Done:  90\n",
      "Done:  0\n",
      "Done:  10\n",
      "Done:  20\n",
      "Done:  30\n",
      "Done:  40\n",
      "Done:  50\n",
      "Done:  60\n",
      "Done:  70\n",
      "Done:  80\n",
      "Done:  90\n",
      "Done:  0\n",
      "Done:  10\n",
      "Done:  20\n",
      "Done:  30\n",
      "Done:  40\n",
      "Done:  50\n",
      "Done:  60\n",
      "Done:  70\n",
      "Done:  80\n",
      "Done:  90\n"
     ]
    }
   ],
   "source": [
    "slope_out, intercept_out = get_slopes(chickweight)"
   ]
  },
  {
   "cell_type": "code",
   "execution_count": 26,
   "metadata": {},
   "outputs": [
    {
     "name": "stdout",
     "output_type": "stream",
     "text": [
      "**********Diet:  1 **********\n",
      "Observed slope: 6.84\n",
      "We have 90.0 % confidence that the true slope is between: 6.18 and 7.41\n",
      " \n",
      "**********Diet:  2 **********\n",
      "Observed slope: 8.61\n",
      "We have 90.0 % confidence that the true slope is between: 7.71 and 9.55\n",
      " \n",
      "**********Diet:  3 **********\n",
      "Observed slope: 11.42\n",
      "We have 90.0 % confidence that the true slope is between: 10.63 and 12.49\n",
      " \n",
      "**********Diet:  4 **********\n",
      "Observed slope: 9.71\n",
      "We have 90.0 % confidence that the true slope is between: 9.15 and 10.27\n",
      " \n"
     ]
    }
   ],
   "source": [
    "import math\n",
    "conf_interval = 0.9\n",
    "for key, value in slope_out.items():\n",
    "    diet = key\n",
    "    value.sort()\n",
    "    \n",
    "    tails = (1 - conf_interval) / 2\n",
    "    # in case our lower and upper bounds are not integers,\n",
    "    # we decrease the range (the values we include in our interval),\n",
    "    # so that we can keep the same level of confidence\n",
    "    lower_bound = int(math.ceil(100 * tails))\n",
    "    upper_bound = int(math.floor(100 * (1 - tails)))\n",
    "\n",
    "    ######################################\n",
    "    #\n",
    "    # Output\n",
    "    #\n",
    "    ######################################\n",
    "\n",
    "    # print observed value and then confidence interval\n",
    "    print(\"**********Diet: \", diet,\"**********\")\n",
    "    print (\"Observed slope: %.2f\" % observed_slope[key])\n",
    "    print (\"We have\", conf_interval * 100, \"% confidence that the true slope\", end=\" \")\n",
    "    print (\"is between: %.2f\" % value[lower_bound], \"and %.2f\" % value[upper_bound])\n",
    "    print (\" \")"
   ]
  },
  {
   "cell_type": "code",
   "execution_count": 43,
   "metadata": {},
   "outputs": [
    {
     "name": "stdout",
     "output_type": "stream",
     "text": [
      "**********Diet:  1 **********\n",
      "Observed intercept: 30.93\n",
      "We have 90.0 % confidence that the true slope is between: 27.14 and 35.10\n",
      " \n",
      "**********Diet:  2 **********\n",
      "Observed intercept: 28.63\n",
      "We have 90.0 % confidence that the true slope is between: 22.27 and 35.35\n",
      " \n",
      "**********Diet:  3 **********\n",
      "Observed intercept: 18.25\n",
      "We have 90.0 % confidence that the true slope is between: 12.36 and 23.99\n",
      " \n",
      "**********Diet:  4 **********\n",
      "Observed intercept: 30.79\n",
      "We have 90.0 % confidence that the true slope is between: 27.01 and 34.17\n",
      " \n"
     ]
    }
   ],
   "source": [
    "import math\n",
    "conf_interval = 0.9\n",
    "for key, value in intercept_out.items():\n",
    "    diet = key\n",
    "    value.sort()\n",
    "    \n",
    "    tails = (1 - conf_interval) / 2\n",
    "    # in case our lower and upper bounds are not integers,\n",
    "    # we decrease the range (the values we include in our interval),\n",
    "    # so that we can keep the same level of confidence\n",
    "    lower_bound = int(math.ceil(100 * tails))\n",
    "    upper_bound = int(math.floor(100 * (1 - tails)))\n",
    "\n",
    "    ######################################\n",
    "    #\n",
    "    # Output\n",
    "    #\n",
    "    ######################################\n",
    "\n",
    "    # print observed value and then confidence interval\n",
    "    print(\"**********Diet: \", diet,\"**********\")\n",
    "    print (\"Observed intercept: %.2f\" % observed_intercept[key])\n",
    "    print (\"We have\", conf_interval * 100, \"% confidence that the true slope\", end=\" \")\n",
    "    print (\"is between: %.2f\" % value[lower_bound], \"and %.2f\" % value[upper_bound])\n",
    "    print (\" \")"
   ]
  },
  {
   "cell_type": "code",
   "execution_count": 47,
   "metadata": {},
   "outputs": [
    {
     "name": "stdout",
     "output_type": "stream",
     "text": [
      "[ 8.60913629 28.63359552]\n",
      "[7.71, 35.35]\n",
      "[9.55, 22.27]\n"
     ]
    },
    {
     "data": {
      "text/plain": [
       "<matplotlib.collections.PolyCollection at 0x1171e0dd8>"
      ]
     },
     "execution_count": 47,
     "metadata": {},
     "output_type": "execute_result"
    },
    {
     "data": {
      "image/png": "[encoded data removed]",
      "text/plain": [
       "<matplotlib.figure.Figure at 0x11acf5b38>"
      ]
     },
     "metadata": {},
     "output_type": "display_data"
    }
   ],
   "source": [
    "weight = 0\n",
    "time = 1\n",
    "# chickweight = chickweight.drop(['Unnamed: 0'], axis=1)\n",
    "df_this_diet = chickweight[:][chickweight.Diet == 2]\n",
    "df_this_diet_values = df_this_diet.values\n",
    "X = np.array(df_this_diet_values[:,time], dtype=float)\n",
    "Y = np.array(df_this_diet_values[:,weight], dtype=float)\n",
    "\n",
    "fig, ax = plt.subplots(figsize=(8, 4))\n",
    "ax.scatter(X, Y, alpha=0.5, color='orchid')\n",
    "fig.suptitle('Example Scatter Plot')\n",
    "fig.tight_layout(pad=2)\n",
    "ax.grid(True)\n",
    "z = np.polyfit(X, Y, 1)\n",
    "print(z)\n",
    "p = np.poly1d(z)\n",
    "xp = np.linspace(0, 22, 100)\n",
    "ax.plot(xp, p(xp),'-', color='darkorchid', linewidth=2)\n",
    "\n",
    "z_lower = [7.71, 35.35]\n",
    "print(z_lower)\n",
    "lower_p = np.poly1d(z_lower)\n",
    "lower = lower_p(xp)\n",
    "\n",
    "z_upper = [9.55, 22.27]\n",
    "print(z_upper)\n",
    "upper_p = np.poly1d(z_upper)\n",
    "upper = upper_p(xp)\n",
    "ax.fill_between(xp, lower, upper, color='#555555', alpha=0.4)\n",
    "# fig.savefig('filename3.png', dpi=125)"
   ]
  },
  {
   "cell_type": "code",
   "execution_count": 23,
   "metadata": {},
   "outputs": [],
   "source": []
  },
  {
   "cell_type": "code",
   "execution_count": null,
   "metadata": {},
   "outputs": [],
   "source": []
  }
 ],
 "metadata": {
  "kernelspec": {
   "display_name": "Python 3",
   "language": "python",
   "name": "python3"
  },
  "language_info": {
   "codemirror_mode": {
    "name": "ipython",
    "version": 3
   },
   "file_extension": ".py",
   "mimetype": "text/x-python",
   "name": "python",
   "nbconvert_exporter": "python",
   "pygments_lexer": "ipython3",
   "version": "3.6.4"
  }
 },
 "nbformat": 4,
 "nbformat_minor": 2
}
