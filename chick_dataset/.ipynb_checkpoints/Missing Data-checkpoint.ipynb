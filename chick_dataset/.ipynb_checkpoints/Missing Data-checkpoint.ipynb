{
 "cells": [
  {
   "cell_type": "code",
   "execution_count": 1,
   "metadata": {},
   "outputs": [],
   "source": [
    "import pandas as pd\n",
    "import random\n",
    "random.seed(10000)\n",
    "import numpy as np\n",
    "import math"
   ]
  },
  {
   "cell_type": "code",
   "execution_count": 2,
   "metadata": {},
   "outputs": [],
   "source": [
    "import warnings\n",
    "warnings.filterwarnings(\"ignore\")"
   ]
  },
  {
   "cell_type": "code",
   "execution_count": 3,
   "metadata": {},
   "outputs": [],
   "source": [
    "chickweight = pd.read_csv('chick_weight.csv')\n",
    "chickweight = chickweight.drop(['Unnamed: 0'], axis=1)\n",
    "chickweight_one_diet = chickweight[:][chickweight.Diet == 1]"
   ]
  },
  {
   "cell_type": "code",
   "execution_count": 4,
   "metadata": {},
   "outputs": [],
   "source": [
    "def remove_missing_data_row(data):\n",
    "    indices = data.index.values\n",
    "    indices_to_remove = []\n",
    "    for idx in indices:\n",
    "        if data.loc[idx][\"weight\"] == 0:\n",
    "            indices_to_remove.append(idx)\n",
    "            \n",
    "    data = data.drop(indices_to_remove)\n",
    "    return data"
   ]
  },
  {
   "cell_type": "code",
   "execution_count": 5,
   "metadata": {},
   "outputs": [],
   "source": [
    "def get_slope_from_data(df):\n",
    "    X = np.array(df[\"Time\"], dtype=float)\n",
    "    Y = np.array(df[\"weight\"], dtype=float)\n",
    "\n",
    "    #least squares polynomial fit. Fit a polynomial of degree deg to points (x,y) np.polyfit(x, y, deg)\n",
    "    z = np.polyfit(X, Y, 1)  \n",
    "    \n",
    "    #poly1d consructs the 1d polynomial from the given coefficients\n",
    "    p = np.poly1d(z) \n",
    "    \n",
    "    #linspace returns evenly spaced numbers over a specified interval np.linspace(start, stop, num_of_samples)\n",
    "    xp = np.linspace(0, 22, 100)\n",
    "    \n",
    "    #Plotting\n",
    "#     plt.plot(X,Y,'.',xp, p(xp),'-')\n",
    "#     plt.show()\n",
    "    return z[0]\n",
    "\n",
    "def get_slope_from_x_y(X, Y):\n",
    "    z = np.polyfit(X, Y, 1)\n",
    "    p = np.poly1d(z)\n",
    "    xp = np.linspace(0, 22, 100)\n",
    "    return z[0]\n",
    "\n",
    "def get_slope_diff_from_data(portion_1_data, portion_2_data):\n",
    "    new_df_portion_1_values = portion_1_data.values\n",
    "    new_df_portion_2_values = portion_2_data.values\n",
    "\n",
    "    weight = 0\n",
    "    time = 1\n",
    "    \n",
    "    X1 = np.array(new_df_portion_1_values[:,time], dtype=float)\n",
    "    Y1 = np.array(new_df_portion_1_values[:,weight], dtype=float)\n",
    "    X2 = np.array(new_df_portion_2_values[:,time], dtype=float)\n",
    "    Y2 = np.array(new_df_portion_2_values[:,weight], dtype=float)\n",
    "    \n",
    "    return (get_slope_from_x_y(X1, Y1) - get_slope_from_x_y(X2, Y2))\n"
   ]
  },
  {
   "cell_type": "code",
   "execution_count": 6,
   "metadata": {},
   "outputs": [],
   "source": [
    "def get_data_with_missing_values(data, portion_to_remove):\n",
    "    random.seed(10000)\n",
    "    # Randomly removing data to create data containing missing values\n",
    "    # portion_to_remove: fraction of data to be removed, eg. 0.1, 0.2, etc.\n",
    "    chickweight_with_missing_values = data.copy()\n",
    "    Y = chickweight_with_missing_values[\"weight\"]\n",
    "    for i in range(len(Y)):\n",
    "        if random.random()<portion_to_remove:\n",
    "            Y[i] = 0  ##Randomly making few weights 0 to mimic missing data\n",
    "    return chickweight_with_missing_values"
   ]
  },
  {
   "cell_type": "code",
   "execution_count": 7,
   "metadata": {},
   "outputs": [],
   "source": [
    "def find_median(data):\n",
    "    data = [x for x in data if x != 0]\n",
    "    data.sort()\n",
    "    if(len(data) % 2 != 0):\n",
    "        mididx = math.floor(len(data)/2)\n",
    "        median = data[mididx]\n",
    "    else:\n",
    "        mididx1 = math.floor(len(data)/2)\n",
    "        mididx2 = math.floor(len(data)/2)-1\n",
    "        median = (data[mididx1] + data[mididx2]) /2\n",
    "    return median\n",
    "\n",
    "def find_mean(data):\n",
    "    count = 0\n",
    "    for ele in data:\n",
    "        if ele==0:\n",
    "            continue\n",
    "        else:\n",
    "            count += 1\n",
    "    return sum(data)/count\n",
    "  \n",
    "def replace(data, replacement):\n",
    "    data_array = np.array(data)\n",
    "    for idx in range(len(data_array)):\n",
    "        if data_array[idx] ==0:\n",
    "            data_array[idx] = replacement\n",
    "        else:\n",
    "            continue\n",
    "    return data_array\n",
    "\n",
    "def replace_interpolation(data, replacement):\n",
    "    r = 0\n",
    "    data_array = np.array(data)\n",
    "    for idx in range(len(data_array)):\n",
    "        if data_array[idx] == 0:\n",
    "            data_array[idx] = replacement[r]\n",
    "            r += 1\n",
    "        else:\n",
    "            continue\n",
    "    return data_array"
   ]
  },
  {
   "cell_type": "code",
   "execution_count": 8,
   "metadata": {},
   "outputs": [],
   "source": [
    "def replace_missing_values(data_per_diet, replacement_parameter):\n",
    "    new_df = pd.DataFrame(columns=[\"weight\",\"Time\",\"Chick\",\"Diet\"])\n",
    "    for i in range(22):\n",
    "            temp_time = data_per_diet.loc[data_per_diet['Time'] == i]\n",
    "            count_row = temp_time.shape[0]\n",
    "            if(count_row==0):\n",
    "                continue\n",
    "            else:\n",
    "                if(replacement_parameter == \"mean\"):\n",
    "                    replacement = find_mean(temp_time[\"weight\"])\n",
    "                elif(replacement_parameter == \"median\"):\n",
    "                    replacement = find_median(temp_time[\"weight\"])\n",
    "                temp_time[\"weight\"] = replace(temp_time[\"weight\"], replacement)\n",
    "                new_df = pd.concat([new_df, temp_time], ignore_index=True)\n",
    "    return new_df"
   ]
  },
  {
   "cell_type": "code",
   "execution_count": 18,
   "metadata": {},
   "outputs": [],
   "source": [
    "def replacement_by_interpolation(data_per_diet):\n",
    "    new_df = pd.DataFrame(columns=[\"weight\",\"Time\",\"Chick\",\"Diet\"])\n",
    "    chicks = data_per_diet.Chick.unique()\n",
    "    for chicknum in chicks:\n",
    "        temp_chick = data_per_diet.loc[data_per_diet.Chick == chicknum]\n",
    "        #get the known records (where weights are not missing)\n",
    "        known = temp_chick.loc[temp_chick.weight != 0]\n",
    "        #get the unknown records (where chick weight is missing)\n",
    "        unknown = temp_chick.loc[temp_chick.weight == 0]\n",
    "        x_known = known['Time'].values.tolist()\n",
    "        y_known = known['weight'].values.tolist()\n",
    "        x_unknown = unknown['Time'].values.tolist()\n",
    "        #use interpolation to find the y_unknowns\n",
    "        y_unknown = np.interp(x_unknown, x_known, y_known)\n",
    "        replacement = y_unknown\n",
    "        temp_chick[\"weight\"] = replace_interpolation(temp_chick[\"weight\"], replacement)\n",
    "        new_df = pd.concat([new_df, temp_chick], ignore_index=True)\n",
    "    return new_df"
   ]
  },
  {
   "cell_type": "code",
   "execution_count": 10,
   "metadata": {},
   "outputs": [],
   "source": [
    "def get_new_slope(data, replacement_parameter):\n",
    "    if replacement_parameter == \"remove_missing\":\n",
    "        temp_diet_new = remove_missing_data_row(data)\n",
    "    elif replacement_parameter == \"linear_interpolation\":\n",
    "        temp_diet_new = replacement_by_interpolation(data)\n",
    "    else:\n",
    "        temp_diet_new = replace_missing_values(data, replacement_parameter)\n",
    "    slope = get_slope_from_data(temp_diet_new)\n",
    "    return slope"
   ]
  },
  {
   "cell_type": "code",
   "execution_count": 11,
   "metadata": {},
   "outputs": [],
   "source": [
    "def shuffle_missing_labels(data):\n",
    "    new_df = pd.DataFrame(columns=[\"weight\",\"Time\",\"Chick\",\"Diet\", \"missing\"])\n",
    "    for i in range(22):\n",
    "        temp = data.loc[data['Time']==i]\n",
    "        count_row = temp.shape[0]\n",
    "        if(count_row==0):\n",
    "            continue\n",
    "        else:\n",
    "            temp['missing'] = np.random.permutation(temp['missing'].values)\n",
    "            new_df = pd.concat([new_df, temp], ignore_index=True)\n",
    "    return new_df"
   ]
  },
  {
   "cell_type": "code",
   "execution_count": 24,
   "metadata": {},
   "outputs": [],
   "source": [
    "def significance_test_missing_data_slope(portion, replacement_parameter):\n",
    "\n",
    "    portion1 = 0.0\n",
    "    portion2 = portion\n",
    "    \n",
    "    chickweight_with_missing_values = get_data_with_missing_values(chickweight_one_diet, portion_to_remove=portion)\n",
    "    chickweight_with_missing_values[\"missing\"] = [portion]*len(chickweight_with_missing_values.index)\n",
    "    \n",
    "    chickweight_original = chickweight_one_diet.copy()\n",
    "    chickweight_original[\"missing\"] = [0.0]*len(chickweight_with_missing_values.index)\n",
    "    \n",
    "    observed_slope_diff = get_new_slope(chickweight_with_missing_values, replacement_parameter) -  get_slope_from_data(chickweight_original)\n",
    "\n",
    "    \n",
    "    data = pd.concat([chickweight_original,chickweight_with_missing_values])\n",
    "        \n",
    "    count = 0\n",
    "    num_shuffles = 100\n",
    "        \n",
    "    for i in range(num_shuffles):\n",
    "#         if(i!=0 and i%20 ==0):\n",
    "#             print(\"Done: \", i)\n",
    "        new_df = shuffle_missing_labels(data)\n",
    "\n",
    "        new_df_portion_1 = new_df[:][new_df.missing == portion1]\n",
    "        new_df_portion_2 = new_df[:][new_df.missing == portion2]\n",
    "        \n",
    "        slope_diff = get_slope_diff_from_data(new_df_portion_1,new_df_portion_2)   \n",
    "        \n",
    "        if observed_slope_diff < 0 and slope_diff <= observed_slope_diff:\n",
    "            count += 1\n",
    "        elif observed_slope_diff >= 0 and slope_diff >= observed_slope_diff:\n",
    "            count += 1\n",
    "    ######################################\n",
    "    #\n",
    "    # Output\n",
    "    #\n",
    "    ######################################\n",
    "    print(\"**********Removing \", portion*100, \"% of data****************\")\n",
    "\n",
    "    print (\"Observed difference of two slopes: %.2f\" % observed_slope_diff)\n",
    "    print (count, \"out of\", num_shuffles, \"experiments had a difference of two slopes\", end=\" \")\n",
    "    if observed_slope_diff < 0:\n",
    "        print (\"less than or equal to\", end=\" \")\n",
    "    else:\n",
    "        print (\"greater than or equal to\", end=\" \")\n",
    "    print (\"%.2f\" % observed_slope_diff, \".\")\n",
    "    print (\"The chance of getting a difference of two slopes\", end=\" \")\n",
    "    if observed_slope_diff < 0:\n",
    "        print (\"less than or equal to\", end=\" \")\n",
    "    else:\n",
    "        print (\"greater than or equal to\", end=\" \")\n",
    "    print (\"%.2f\" % observed_slope_diff, \"is %.4f\"%(count / float(num_shuffles)), \"\\n\")"
   ]
  },
  {
   "cell_type": "code",
   "execution_count": 25,
   "metadata": {},
   "outputs": [
    {
     "name": "stdout",
     "output_type": "stream",
     "text": [
      "**********Removing  10.0 % of data****************\n",
      "Observed difference of two slopes: 0.30\n",
      "40 out of 100 experiments had a difference of two slopes greater than or equal to 0.30 .\n",
      "The chance of getting a difference of two slopes greater than or equal to 0.30 is 0.4000 \n",
      "\n",
      "**********Removing  20.0 % of data****************\n",
      "Observed difference of two slopes: 0.27\n",
      "40 out of 100 experiments had a difference of two slopes greater than or equal to 0.27 .\n",
      "The chance of getting a difference of two slopes greater than or equal to 0.27 is 0.4000 \n",
      "\n",
      "**********Removing  30.0 % of data****************\n",
      "Observed difference of two slopes: 0.25\n",
      "34 out of 100 experiments had a difference of two slopes greater than or equal to 0.25 .\n",
      "The chance of getting a difference of two slopes greater than or equal to 0.25 is 0.3400 \n",
      "\n",
      "**********Removing  40.0 % of data****************\n",
      "Observed difference of two slopes: 0.00\n",
      "49 out of 100 experiments had a difference of two slopes greater than or equal to 0.00 .\n",
      "The chance of getting a difference of two slopes greater than or equal to 0.00 is 0.4900 \n",
      "\n",
      "**********Removing  50.0 % of data****************\n",
      "Observed difference of two slopes: 0.16\n",
      "40 out of 100 experiments had a difference of two slopes greater than or equal to 0.16 .\n",
      "The chance of getting a difference of two slopes greater than or equal to 0.16 is 0.4000 \n",
      "\n",
      "**********Removing  60.0 % of data****************\n",
      "Observed difference of two slopes: -0.09\n",
      "36 out of 100 experiments had a difference of two slopes less than or equal to -0.09 .\n",
      "The chance of getting a difference of two slopes less than or equal to -0.09 is 0.3600 \n",
      "\n"
     ]
    }
   ],
   "source": [
    "portion_to_remove = [0.1, 0.2, 0.3, 0.4, 0.5, 0.6]\n",
    "for portion in portion_to_remove:\n",
    "    significance_test_missing_data_slope(portion, \"remove_missing\")"
   ]
  },
  {
   "cell_type": "code",
   "execution_count": 26,
   "metadata": {},
   "outputs": [
    {
     "name": "stdout",
     "output_type": "stream",
     "text": [
      "**********Removing  10.0 % of data****************\n",
      "Observed difference of two slopes: 0.29\n",
      "21 out of 100 experiments had a difference of two slopes greater than or equal to 0.29 .\n",
      "The chance of getting a difference of two slopes greater than or equal to 0.29 is 0.2100 \n",
      "\n",
      "**********Removing  20.0 % of data****************\n",
      "Observed difference of two slopes: 0.24\n",
      "33 out of 100 experiments had a difference of two slopes greater than or equal to 0.24 .\n",
      "The chance of getting a difference of two slopes greater than or equal to 0.24 is 0.3300 \n",
      "\n",
      "**********Removing  30.0 % of data****************\n",
      "Observed difference of two slopes: 0.20\n",
      "32 out of 100 experiments had a difference of two slopes greater than or equal to 0.20 .\n",
      "The chance of getting a difference of two slopes greater than or equal to 0.20 is 0.3200 \n",
      "\n",
      "**********Removing  40.0 % of data****************\n",
      "Observed difference of two slopes: -0.06\n",
      "54 out of 100 experiments had a difference of two slopes less than or equal to -0.06 .\n",
      "The chance of getting a difference of two slopes less than or equal to -0.06 is 0.5400 \n",
      "\n",
      "**********Removing  50.0 % of data****************\n",
      "Observed difference of two slopes: 0.08\n",
      "49 out of 100 experiments had a difference of two slopes greater than or equal to 0.08 .\n",
      "The chance of getting a difference of two slopes greater than or equal to 0.08 is 0.4900 \n",
      "\n",
      "**********Removing  60.0 % of data****************\n",
      "Observed difference of two slopes: -0.14\n",
      "45 out of 100 experiments had a difference of two slopes less than or equal to -0.14 .\n",
      "The chance of getting a difference of two slopes less than or equal to -0.14 is 0.4500 \n",
      "\n"
     ]
    }
   ],
   "source": [
    "portion_to_remove = [0.1, 0.2, 0.3, 0.4, 0.5, 0.6]\n",
    "for portion in portion_to_remove:\n",
    "    significance_test_missing_data_slope(portion, \"mean\")"
   ]
  },
  {
   "cell_type": "code",
   "execution_count": 27,
   "metadata": {},
   "outputs": [
    {
     "name": "stdout",
     "output_type": "stream",
     "text": [
      "**********Removing  10.0 % of data****************\n",
      "Observed difference of two slopes: 0.31\n",
      "33 out of 100 experiments had a difference of two slopes greater than or equal to 0.31 .\n",
      "The chance of getting a difference of two slopes greater than or equal to 0.31 is 0.3300 \n",
      "\n",
      "**********Removing  20.0 % of data****************\n",
      "Observed difference of two slopes: 0.21\n",
      "39 out of 100 experiments had a difference of two slopes greater than or equal to 0.21 .\n",
      "The chance of getting a difference of two slopes greater than or equal to 0.21 is 0.3900 \n",
      "\n",
      "**********Removing  30.0 % of data****************\n",
      "Observed difference of two slopes: 0.20\n",
      "34 out of 100 experiments had a difference of two slopes greater than or equal to 0.20 .\n",
      "The chance of getting a difference of two slopes greater than or equal to 0.20 is 0.3400 \n",
      "\n",
      "**********Removing  40.0 % of data****************\n",
      "Observed difference of two slopes: -0.14\n",
      "47 out of 100 experiments had a difference of two slopes less than or equal to -0.14 .\n",
      "The chance of getting a difference of two slopes less than or equal to -0.14 is 0.4700 \n",
      "\n",
      "**********Removing  50.0 % of data****************\n",
      "Observed difference of two slopes: -0.00\n",
      "48 out of 100 experiments had a difference of two slopes less than or equal to -0.00 .\n",
      "The chance of getting a difference of two slopes less than or equal to -0.00 is 0.4800 \n",
      "\n",
      "**********Removing  60.0 % of data****************\n",
      "Observed difference of two slopes: -0.24\n",
      "42 out of 100 experiments had a difference of two slopes less than or equal to -0.24 .\n",
      "The chance of getting a difference of two slopes less than or equal to -0.24 is 0.4200 \n",
      "\n"
     ]
    }
   ],
   "source": [
    "portion_to_remove = [0.1, 0.2, 0.3, 0.4, 0.5, 0.6]\n",
    "for portion in portion_to_remove:\n",
    "    significance_test_missing_data_slope(portion, \"median\")"
   ]
  },
  {
   "cell_type": "markdown",
   "metadata": {},
   "source": [
    "### Linear Interpolation"
   ]
  },
  {
   "cell_type": "markdown",
   "metadata": {},
   "source": [
    "In mathematics, linear interpolation is a method of curve fitting using linear polynomials to construct new data points within the range of a discrete set of known data points. In order to use Linear interpolation, we use the individual chick data and impute the missing values for that chick. We repeat this process for all the chicks to impute all the missing data."
   ]
  },
  {
   "cell_type": "code",
   "execution_count": 28,
   "metadata": {},
   "outputs": [
    {
     "name": "stdout",
     "output_type": "stream",
     "text": [
      "**********Removing  10.0 % of data****************\n",
      "Observed difference of two slopes: -0.04\n",
      "47 out of 100 experiments had a difference of two slopes less than or equal to -0.04 .\n",
      "The chance of getting a difference of two slopes less than or equal to -0.04 is 0.4700 \n",
      "\n",
      "**********Removing  20.0 % of data****************\n",
      "Observed difference of two slopes: -0.07\n",
      "46 out of 100 experiments had a difference of two slopes less than or equal to -0.07 .\n",
      "The chance of getting a difference of two slopes less than or equal to -0.07 is 0.4600 \n",
      "\n",
      "**********Removing  30.0 % of data****************\n",
      "Observed difference of two slopes: -0.19\n",
      "39 out of 100 experiments had a difference of two slopes less than or equal to -0.19 .\n",
      "The chance of getting a difference of two slopes less than or equal to -0.19 is 0.3900 \n",
      "\n",
      "**********Removing  40.0 % of data****************\n",
      "Observed difference of two slopes: -0.28\n",
      "42 out of 100 experiments had a difference of two slopes less than or equal to -0.28 .\n",
      "The chance of getting a difference of two slopes less than or equal to -0.28 is 0.4200 \n",
      "\n",
      "**********Removing  50.0 % of data****************\n",
      "Observed difference of two slopes: -0.56\n",
      "22 out of 100 experiments had a difference of two slopes less than or equal to -0.56 .\n",
      "The chance of getting a difference of two slopes less than or equal to -0.56 is 0.2200 \n",
      "\n",
      "**********Removing  60.0 % of data****************\n",
      "Observed difference of two slopes: -0.79\n",
      "18 out of 100 experiments had a difference of two slopes less than or equal to -0.79 .\n",
      "The chance of getting a difference of two slopes less than or equal to -0.79 is 0.1800 \n",
      "\n"
     ]
    }
   ],
   "source": [
    "portion_to_remove = [0.1, 0.2, 0.3, 0.4, 0.5, 0.6]\n",
    "for portion in portion_to_remove:\n",
    "    significance_test_missing_data_slope(portion, \"linear_interpolation\")"
   ]
  },
  {
   "cell_type": "code",
   "execution_count": null,
   "metadata": {},
   "outputs": [],
   "source": []
  }
 ],
 "metadata": {
  "kernelspec": {
   "display_name": "Python 3",
   "language": "python",
   "name": "python3"
  },
  "language_info": {
   "codemirror_mode": {
    "name": "ipython",
    "version": 3
   },
   "file_extension": ".py",
   "mimetype": "text/x-python",
   "name": "python",
   "nbconvert_exporter": "python",
   "pygments_lexer": "ipython3",
   "version": "3.6.4"
  }
 },
 "nbformat": 4,
 "nbformat_minor": 2
}
