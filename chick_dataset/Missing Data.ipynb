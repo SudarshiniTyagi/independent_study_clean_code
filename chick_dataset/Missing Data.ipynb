{
 "cells": [
  {
   "cell_type": "code",
   "execution_count": 1,
   "metadata": {},
   "outputs": [],
   "source": [
    "import pandas as pd\n",
    "import random\n",
    "# random.seed(10000)\n",
    "import numpy as np\n",
    "import math"
   ]
  },
  {
   "cell_type": "code",
   "execution_count": 2,
   "metadata": {},
   "outputs": [],
   "source": [
    "import warnings\n",
    "warnings.filterwarnings(\"ignore\")"
   ]
  },
  {
   "cell_type": "code",
   "execution_count": 3,
   "metadata": {},
   "outputs": [],
   "source": [
    "chickweight = pd.read_csv('chick_weight.csv')\n",
    "chickweight = chickweight.drop(['Unnamed: 0'], axis=1)\n",
    "chickweight_one_diet = chickweight[:][chickweight.Diet == 1]"
   ]
  },
  {
   "cell_type": "code",
   "execution_count": 4,
   "metadata": {},
   "outputs": [],
   "source": [
    "def remove_missing_data_row(data):\n",
    "    indices = data.index.values\n",
    "    indices_to_remove = []\n",
    "    for idx in indices:\n",
    "        if data.loc[idx][\"weight\"] == 0:\n",
    "            indices_to_remove.append(idx)\n",
    "            \n",
    "    data = data.drop(indices_to_remove)\n",
    "    return data"
   ]
  },
  {
   "cell_type": "code",
   "execution_count": 5,
   "metadata": {},
   "outputs": [],
   "source": [
    "def get_slope_from_data(df):\n",
    "    X = np.array(df[\"Time\"], dtype=float)\n",
    "    Y = np.array(df[\"weight\"], dtype=float)\n",
    "\n",
    "    #least squares polynomial fit. Fit a polynomial of degree deg to points (x,y) np.polyfit(x, y, deg)\n",
    "    z = np.polyfit(X, Y, 1)  \n",
    "    \n",
    "    #poly1d consructs the 1d polynomial from the given coefficients\n",
    "    p = np.poly1d(z) \n",
    "    \n",
    "    #linspace returns evenly spaced numbers over a specified interval np.linspace(start, stop, num_of_samples)\n",
    "    xp = np.linspace(0, 22, 100)\n",
    "    \n",
    "    #Plotting\n",
    "#     plt.plot(X,Y,'.',xp, p(xp),'-')\n",
    "#     plt.show()\n",
    "    return z[0]\n",
    "\n",
    "def get_slope_from_x_y(X, Y):\n",
    "    z = np.polyfit(X, Y, 1)\n",
    "    p = np.poly1d(z)\n",
    "    xp = np.linspace(0, 22, 100)\n",
    "    return z[0]\n",
    "\n",
    "def get_slope_diff_from_data(portion_1_data, portion_2_data):\n",
    "    new_df_portion_1_values = portion_1_data.values\n",
    "    new_df_portion_2_values = portion_2_data.values\n",
    "\n",
    "    weight = 0\n",
    "    time = 1\n",
    "    \n",
    "    X1 = np.array(new_df_portion_1_values[:,time], dtype=float)\n",
    "    Y1 = np.array(new_df_portion_1_values[:,weight], dtype=float)\n",
    "    X2 = np.array(new_df_portion_2_values[:,time], dtype=float)\n",
    "    Y2 = np.array(new_df_portion_2_values[:,weight], dtype=float)\n",
    "    \n",
    "    return (get_slope_from_x_y(X1, Y1) - get_slope_from_x_y(X2, Y2))\n"
   ]
  },
  {
   "cell_type": "code",
   "execution_count": 6,
   "metadata": {},
   "outputs": [],
   "source": [
    "def get_data_with_missing_values(data, portion_to_remove):\n",
    "#     random.seed(10000)\n",
    "    # Randomly removing data to create data containing missing values\n",
    "    # portion_to_remove: fraction of data to be removed, eg. 0.1, 0.2, etc.\n",
    "    chickweight_with_missing_values = data.copy()\n",
    "    Y = chickweight_with_missing_values[\"weight\"]\n",
    "    for i in range(len(Y)):\n",
    "        if random.random()<portion_to_remove:\n",
    "            Y[i] = 0  ##Randomly making few weights 0 to mimic missing data\n",
    "    return chickweight_with_missing_values"
   ]
  },
  {
   "cell_type": "code",
   "execution_count": 7,
   "metadata": {},
   "outputs": [],
   "source": [
    "def find_median(data):\n",
    "    data = [x for x in data if x != 0]\n",
    "    data.sort()\n",
    "    if(len(data) % 2 != 0):\n",
    "        mididx = math.floor(len(data)/2)\n",
    "        median = data[mididx]\n",
    "    else:\n",
    "        mididx1 = math.floor(len(data)/2)\n",
    "        mididx2 = math.floor(len(data)/2)-1\n",
    "        median = (data[mididx1] + data[mididx2]) /2\n",
    "    return median\n",
    "\n",
    "def find_mean(data):\n",
    "    count = 0\n",
    "    for ele in data:\n",
    "        if ele==0:\n",
    "            continue\n",
    "        else:\n",
    "            count += 1\n",
    "    return sum(data)/count\n",
    "  \n",
    "def replace(data, replacement):\n",
    "    data_array = np.array(data)\n",
    "    for idx in range(len(data_array)):\n",
    "        if data_array[idx] ==0:\n",
    "            data_array[idx] = replacement\n",
    "        else:\n",
    "            continue\n",
    "    return data_array\n",
    "\n",
    "def replace_interpolation(data, replacement):\n",
    "    r = 0\n",
    "    data_array = np.array(data)\n",
    "    for idx in range(len(data_array)):\n",
    "        if data_array[idx] == 0:\n",
    "            data_array[idx] = replacement[r]\n",
    "            r += 1\n",
    "        else:\n",
    "            continue\n",
    "    return data_array"
   ]
  },
  {
   "cell_type": "code",
   "execution_count": 8,
   "metadata": {},
   "outputs": [],
   "source": [
    "def replace_missing_values(data_per_diet, replacement_parameter):\n",
    "    new_df = pd.DataFrame(columns=[\"weight\",\"Time\",\"Chick\",\"Diet\"])\n",
    "    for i in range(22):\n",
    "            temp_time = data_per_diet.loc[data_per_diet['Time'] == i]\n",
    "            count_row = temp_time.shape[0]\n",
    "            if(count_row==0):\n",
    "                continue\n",
    "            else:\n",
    "                if(replacement_parameter == \"mean\"):\n",
    "                    replacement = find_mean(temp_time[\"weight\"])\n",
    "                elif(replacement_parameter == \"median\"):\n",
    "                    replacement = find_median(temp_time[\"weight\"])\n",
    "                temp_time[\"weight\"] = replace(temp_time[\"weight\"], replacement)\n",
    "                new_df = pd.concat([new_df, temp_time], ignore_index=True)\n",
    "    return new_df"
   ]
  },
  {
   "cell_type": "code",
   "execution_count": 9,
   "metadata": {},
   "outputs": [],
   "source": [
    "def replacement_by_interpolation(data_per_diet):\n",
    "    new_df = pd.DataFrame(columns=[\"weight\",\"Time\",\"Chick\",\"Diet\"])\n",
    "    chicks = data_per_diet.Chick.unique()\n",
    "    for chicknum in chicks:\n",
    "        temp_chick = data_per_diet.loc[data_per_diet.Chick == chicknum]\n",
    "        #get the known records (where weights are not missing)\n",
    "        known = temp_chick.loc[temp_chick.weight != 0]\n",
    "        #get the unknown records (where chick weight is missing)\n",
    "        unknown = temp_chick.loc[temp_chick.weight == 0]\n",
    "        x_known = known['Time'].values.tolist()\n",
    "        y_known = known['weight'].values.tolist()\n",
    "        x_unknown = unknown['Time'].values.tolist()\n",
    "        #use interpolation to find the y_unknowns\n",
    "        y_unknown = np.interp(x_unknown, x_known, y_known)\n",
    "        replacement = y_unknown\n",
    "        temp_chick[\"weight\"] = replace_interpolation(temp_chick[\"weight\"], replacement)\n",
    "        new_df = pd.concat([new_df, temp_chick], ignore_index=True)\n",
    "    return new_df"
   ]
  },
  {
   "cell_type": "code",
   "execution_count": 10,
   "metadata": {},
   "outputs": [],
   "source": [
    "def get_new_slope(data, replacement_parameter):\n",
    "    if replacement_parameter == \"remove_missing\":\n",
    "        temp_diet_new = remove_missing_data_row(data)\n",
    "    elif replacement_parameter == \"linear_interpolation\":\n",
    "        temp_diet_new = replacement_by_interpolation(data)\n",
    "    else:\n",
    "        temp_diet_new = replace_missing_values(data, replacement_parameter)\n",
    "    slope = get_slope_from_data(temp_diet_new)\n",
    "    return slope"
   ]
  },
  {
   "cell_type": "code",
   "execution_count": 11,
   "metadata": {},
   "outputs": [],
   "source": [
    "def shuffle_missing_labels(data):\n",
    "    new_df = pd.DataFrame(columns=[\"weight\",\"Time\",\"Chick\",\"Diet\", \"missing\"])\n",
    "    for i in range(22):\n",
    "        temp = data.loc[data['Time']==i]\n",
    "        count_row = temp.shape[0]\n",
    "        if(count_row==0):\n",
    "            continue\n",
    "        else:\n",
    "            temp['missing'] = np.random.permutation(temp['missing'].values)\n",
    "            new_df = pd.concat([new_df, temp], ignore_index=True)\n",
    "    return new_df"
   ]
  },
  {
   "cell_type": "code",
   "execution_count": 12,
   "metadata": {},
   "outputs": [],
   "source": [
    "def significance_test_missing_data_slope(portion, replacement_parameter):\n",
    "\n",
    "    portion1 = 0.0\n",
    "    portion2 = portion\n",
    "    \n",
    "    chickweight_with_missing_values = get_data_with_missing_values(chickweight_one_diet, portion_to_remove=portion)\n",
    "    chickweight_with_missing_values[\"missing\"] = [portion]*len(chickweight_with_missing_values.index)\n",
    "    \n",
    "    chickweight_original = chickweight_one_diet.copy()\n",
    "    chickweight_original[\"missing\"] = [0.0]*len(chickweight_with_missing_values.index)\n",
    "    \n",
    "    observed_slope_diff = get_new_slope(chickweight_with_missing_values, replacement_parameter) -  get_slope_from_data(chickweight_original)\n",
    "\n",
    "    \n",
    "    data = pd.concat([chickweight_original,chickweight_with_missing_values])\n",
    "        \n",
    "    count = 0\n",
    "    num_shuffles = 100\n",
    "        \n",
    "    for i in range(num_shuffles):\n",
    "#         if(i!=0 and i%20 ==0):\n",
    "#             print(\"Done: \", i)\n",
    "        new_df = shuffle_missing_labels(data)\n",
    "\n",
    "        new_df_portion_1 = new_df[:][new_df.missing == portion1]\n",
    "        new_df_portion_2 = new_df[:][new_df.missing == portion2]\n",
    "        \n",
    "        slope_diff = get_slope_diff_from_data(new_df_portion_1,new_df_portion_2)   \n",
    "        \n",
    "        if observed_slope_diff < 0 and slope_diff <= observed_slope_diff:\n",
    "            count += 1\n",
    "        elif observed_slope_diff >= 0 and slope_diff >= observed_slope_diff:\n",
    "            count += 1\n",
    "    ######################################\n",
    "    #\n",
    "    # Output\n",
    "    #\n",
    "    ######################################\n",
    "    print(\"**********Removing \", portion*100, \"% of data****************\")\n",
    "\n",
    "    print (\"Observed difference of two slopes: %.2f\" % observed_slope_diff)\n",
    "    print (count, \"out of\", num_shuffles, \"experiments had a difference of two slopes\", end=\" \")\n",
    "    if observed_slope_diff < 0:\n",
    "        print (\"less than or equal to\", end=\" \")\n",
    "    else:\n",
    "        print (\"greater than or equal to\", end=\" \")\n",
    "    print (\"%.2f\" % observed_slope_diff, \".\")\n",
    "    print (\"The chance of getting a difference of two slopes\", end=\" \")\n",
    "    if observed_slope_diff < 0:\n",
    "        print (\"less than or equal to\", end=\" \")\n",
    "    else:\n",
    "        print (\"greater than or equal to\", end=\" \")\n",
    "    print (\"%.2f\" % observed_slope_diff, \"is %.4f\"%(count / float(num_shuffles)), \"\\n\")"
   ]
  },
  {
   "cell_type": "code",
   "execution_count": 13,
   "metadata": {},
   "outputs": [
    {
     "name": "stdout",
     "output_type": "stream",
     "text": [
      "**********Removing  10.0 % of data****************\n",
      "Observed difference of two slopes: -0.06\n",
      "46 out of 100 experiments had a difference of two slopes less than or equal to -0.06 .\n",
      "The chance of getting a difference of two slopes less than or equal to -0.06 is 0.4600 \n",
      "\n",
      "**********Removing  20.0 % of data****************\n",
      "Observed difference of two slopes: 0.26\n",
      "29 out of 100 experiments had a difference of two slopes greater than or equal to 0.26 .\n",
      "The chance of getting a difference of two slopes greater than or equal to 0.26 is 0.2900 \n",
      "\n",
      "**********Removing  30.0 % of data****************\n",
      "Observed difference of two slopes: -0.14\n",
      "43 out of 100 experiments had a difference of two slopes less than or equal to -0.14 .\n",
      "The chance of getting a difference of two slopes less than or equal to -0.14 is 0.4300 \n",
      "\n",
      "**********Removing  40.0 % of data****************\n",
      "Observed difference of two slopes: 0.05\n",
      "52 out of 100 experiments had a difference of two slopes greater than or equal to 0.05 .\n",
      "The chance of getting a difference of two slopes greater than or equal to 0.05 is 0.5200 \n",
      "\n",
      "**********Removing  50.0 % of data****************\n",
      "Observed difference of two slopes: -0.10\n",
      "48 out of 100 experiments had a difference of two slopes less than or equal to -0.10 .\n",
      "The chance of getting a difference of two slopes less than or equal to -0.10 is 0.4800 \n",
      "\n",
      "**********Removing  60.0 % of data****************\n",
      "Observed difference of two slopes: 0.03\n",
      "47 out of 100 experiments had a difference of two slopes greater than or equal to 0.03 .\n",
      "The chance of getting a difference of two slopes greater than or equal to 0.03 is 0.4700 \n",
      "\n"
     ]
    }
   ],
   "source": [
    "portion_to_remove = [0.1, 0.2, 0.3, 0.4, 0.5, 0.6]\n",
    "for portion in portion_to_remove:\n",
    "    significance_test_missing_data_slope(portion, \"remove_missing\")"
   ]
  },
  {
   "cell_type": "code",
   "execution_count": 14,
   "metadata": {},
   "outputs": [
    {
     "name": "stdout",
     "output_type": "stream",
     "text": [
      "**********Removing  10.0 % of data****************\n",
      "Observed difference of two slopes: 0.09\n",
      "44 out of 100 experiments had a difference of two slopes greater than or equal to 0.09 .\n",
      "The chance of getting a difference of two slopes greater than or equal to 0.09 is 0.4400 \n",
      "\n",
      "**********Removing  20.0 % of data****************\n",
      "Observed difference of two slopes: -0.06\n",
      "49 out of 100 experiments had a difference of two slopes less than or equal to -0.06 .\n",
      "The chance of getting a difference of two slopes less than or equal to -0.06 is 0.4900 \n",
      "\n",
      "**********Removing  30.0 % of data****************\n",
      "Observed difference of two slopes: -0.00\n",
      "48 out of 100 experiments had a difference of two slopes less than or equal to -0.00 .\n",
      "The chance of getting a difference of two slopes less than or equal to -0.00 is 0.4800 \n",
      "\n",
      "**********Removing  40.0 % of data****************\n",
      "Observed difference of two slopes: 0.08\n",
      "47 out of 100 experiments had a difference of two slopes greater than or equal to 0.08 .\n",
      "The chance of getting a difference of two slopes greater than or equal to 0.08 is 0.4700 \n",
      "\n",
      "**********Removing  50.0 % of data****************\n",
      "Observed difference of two slopes: 0.26\n",
      "42 out of 100 experiments had a difference of two slopes greater than or equal to 0.26 .\n",
      "The chance of getting a difference of two slopes greater than or equal to 0.26 is 0.4200 \n",
      "\n",
      "**********Removing  60.0 % of data****************\n",
      "Observed difference of two slopes: 0.25\n",
      "37 out of 100 experiments had a difference of two slopes greater than or equal to 0.25 .\n",
      "The chance of getting a difference of two slopes greater than or equal to 0.25 is 0.3700 \n",
      "\n"
     ]
    }
   ],
   "source": [
    "portion_to_remove = [0.1, 0.2, 0.3, 0.4, 0.5, 0.6]\n",
    "for portion in portion_to_remove:\n",
    "    significance_test_missing_data_slope(portion, \"mean\")"
   ]
  },
  {
   "cell_type": "code",
   "execution_count": 15,
   "metadata": {},
   "outputs": [
    {
     "name": "stdout",
     "output_type": "stream",
     "text": [
      "**********Removing  10.0 % of data****************\n",
      "Observed difference of two slopes: 0.03\n",
      "52 out of 100 experiments had a difference of two slopes greater than or equal to 0.03 .\n",
      "The chance of getting a difference of two slopes greater than or equal to 0.03 is 0.5200 \n",
      "\n",
      "**********Removing  20.0 % of data****************\n",
      "Observed difference of two slopes: -0.14\n",
      "35 out of 100 experiments had a difference of two slopes less than or equal to -0.14 .\n",
      "The chance of getting a difference of two slopes less than or equal to -0.14 is 0.3500 \n",
      "\n",
      "**********Removing  30.0 % of data****************\n",
      "Observed difference of two slopes: 0.14\n",
      "40 out of 100 experiments had a difference of two slopes greater than or equal to 0.14 .\n",
      "The chance of getting a difference of two slopes greater than or equal to 0.14 is 0.4000 \n",
      "\n",
      "**********Removing  40.0 % of data****************\n",
      "Observed difference of two slopes: 0.49\n",
      "32 out of 100 experiments had a difference of two slopes greater than or equal to 0.49 .\n",
      "The chance of getting a difference of two slopes greater than or equal to 0.49 is 0.3200 \n",
      "\n",
      "**********Removing  50.0 % of data****************\n",
      "Observed difference of two slopes: -0.10\n",
      "45 out of 100 experiments had a difference of two slopes less than or equal to -0.10 .\n",
      "The chance of getting a difference of two slopes less than or equal to -0.10 is 0.4500 \n",
      "\n",
      "**********Removing  60.0 % of data****************\n",
      "Observed difference of two slopes: -0.56\n",
      "29 out of 100 experiments had a difference of two slopes less than or equal to -0.56 .\n",
      "The chance of getting a difference of two slopes less than or equal to -0.56 is 0.2900 \n",
      "\n"
     ]
    }
   ],
   "source": [
    "portion_to_remove = [0.1, 0.2, 0.3, 0.4, 0.5, 0.6]\n",
    "for portion in portion_to_remove:\n",
    "    significance_test_missing_data_slope(portion, \"median\")"
   ]
  },
  {
   "cell_type": "markdown",
   "metadata": {},
   "source": [
    "### Linear Interpolation"
   ]
  },
  {
   "cell_type": "markdown",
   "metadata": {},
   "source": [
    "In mathematics, linear interpolation is a method of curve fitting using linear polynomials to construct new data points within the range of a discrete set of known data points. In order to use Linear interpolation, we use the individual chick data and impute the missing values for that chick. We repeat this process for all the chicks to impute all the missing data."
   ]
  },
  {
   "cell_type": "code",
   "execution_count": 17,
   "metadata": {},
   "outputs": [
    {
     "name": "stdout",
     "output_type": "stream",
     "text": [
      "**********Removing  10.0 % of data****************\n",
      "Observed difference of two slopes: -0.02\n",
      "49 out of 100 experiments had a difference of two slopes less than or equal to -0.02 .\n",
      "The chance of getting a difference of two slopes less than or equal to -0.02 is 0.4900 \n",
      "\n",
      "**********Removing  20.0 % of data****************\n",
      "Observed difference of two slopes: -0.00\n",
      "48 out of 100 experiments had a difference of two slopes less than or equal to -0.00 .\n",
      "The chance of getting a difference of two slopes less than or equal to -0.00 is 0.4800 \n",
      "\n"
     ]
    },
    {
     "ename": "ValueError",
     "evalue": "array of sample points is empty",
     "output_type": "error",
     "traceback": [
      "\u001b[0;31m---------------------------------------------------------------------------\u001b[0m",
      "\u001b[0;31mValueError\u001b[0m                                Traceback (most recent call last)",
      "\u001b[0;32m<ipython-input-17-eb9edf1a8aa4>\u001b[0m in \u001b[0;36m<module>\u001b[0;34m()\u001b[0m\n\u001b[1;32m      1\u001b[0m \u001b[0mportion_to_remove\u001b[0m \u001b[0;34m=\u001b[0m \u001b[0;34m[\u001b[0m\u001b[0;36m0.1\u001b[0m\u001b[0;34m,\u001b[0m \u001b[0;36m0.2\u001b[0m\u001b[0;34m,\u001b[0m \u001b[0;36m0.3\u001b[0m\u001b[0;34m,\u001b[0m \u001b[0;36m0.4\u001b[0m\u001b[0;34m,\u001b[0m \u001b[0;36m0.5\u001b[0m\u001b[0;34m,\u001b[0m \u001b[0;36m0.6\u001b[0m\u001b[0;34m]\u001b[0m\u001b[0;34m\u001b[0m\u001b[0m\n\u001b[1;32m      2\u001b[0m \u001b[0;32mfor\u001b[0m \u001b[0mportion\u001b[0m \u001b[0;32min\u001b[0m \u001b[0mportion_to_remove\u001b[0m\u001b[0;34m:\u001b[0m\u001b[0;34m\u001b[0m\u001b[0m\n\u001b[0;32m----> 3\u001b[0;31m     \u001b[0msignificance_test_missing_data_slope\u001b[0m\u001b[0;34m(\u001b[0m\u001b[0mportion\u001b[0m\u001b[0;34m,\u001b[0m \u001b[0;34m\"linear_interpolation\"\u001b[0m\u001b[0;34m)\u001b[0m\u001b[0;34m\u001b[0m\u001b[0m\n\u001b[0m",
      "\u001b[0;32m<ipython-input-12-f6767b8b5f3a>\u001b[0m in \u001b[0;36msignificance_test_missing_data_slope\u001b[0;34m(portion, replacement_parameter)\u001b[0m\n\u001b[1;32m     10\u001b[0m     \u001b[0mchickweight_original\u001b[0m\u001b[0;34m[\u001b[0m\u001b[0;34m\"missing\"\u001b[0m\u001b[0;34m]\u001b[0m \u001b[0;34m=\u001b[0m \u001b[0;34m[\u001b[0m\u001b[0;36m0.0\u001b[0m\u001b[0;34m]\u001b[0m\u001b[0;34m*\u001b[0m\u001b[0mlen\u001b[0m\u001b[0;34m(\u001b[0m\u001b[0mchickweight_with_missing_values\u001b[0m\u001b[0;34m.\u001b[0m\u001b[0mindex\u001b[0m\u001b[0;34m)\u001b[0m\u001b[0;34m\u001b[0m\u001b[0m\n\u001b[1;32m     11\u001b[0m \u001b[0;34m\u001b[0m\u001b[0m\n\u001b[0;32m---> 12\u001b[0;31m     \u001b[0mobserved_slope_diff\u001b[0m \u001b[0;34m=\u001b[0m \u001b[0mget_new_slope\u001b[0m\u001b[0;34m(\u001b[0m\u001b[0mchickweight_with_missing_values\u001b[0m\u001b[0;34m,\u001b[0m \u001b[0mreplacement_parameter\u001b[0m\u001b[0;34m)\u001b[0m \u001b[0;34m-\u001b[0m  \u001b[0mget_slope_from_data\u001b[0m\u001b[0;34m(\u001b[0m\u001b[0mchickweight_original\u001b[0m\u001b[0;34m)\u001b[0m\u001b[0;34m\u001b[0m\u001b[0m\n\u001b[0m\u001b[1;32m     13\u001b[0m \u001b[0;34m\u001b[0m\u001b[0m\n\u001b[1;32m     14\u001b[0m \u001b[0;34m\u001b[0m\u001b[0m\n",
      "\u001b[0;32m<ipython-input-10-bf14f1b1560d>\u001b[0m in \u001b[0;36mget_new_slope\u001b[0;34m(data, replacement_parameter)\u001b[0m\n\u001b[1;32m      3\u001b[0m         \u001b[0mtemp_diet_new\u001b[0m \u001b[0;34m=\u001b[0m \u001b[0mremove_missing_data_row\u001b[0m\u001b[0;34m(\u001b[0m\u001b[0mdata\u001b[0m\u001b[0;34m)\u001b[0m\u001b[0;34m\u001b[0m\u001b[0m\n\u001b[1;32m      4\u001b[0m     \u001b[0;32melif\u001b[0m \u001b[0mreplacement_parameter\u001b[0m \u001b[0;34m==\u001b[0m \u001b[0;34m\"linear_interpolation\"\u001b[0m\u001b[0;34m:\u001b[0m\u001b[0;34m\u001b[0m\u001b[0m\n\u001b[0;32m----> 5\u001b[0;31m         \u001b[0mtemp_diet_new\u001b[0m \u001b[0;34m=\u001b[0m \u001b[0mreplacement_by_interpolation\u001b[0m\u001b[0;34m(\u001b[0m\u001b[0mdata\u001b[0m\u001b[0;34m)\u001b[0m\u001b[0;34m\u001b[0m\u001b[0m\n\u001b[0m\u001b[1;32m      6\u001b[0m     \u001b[0;32melse\u001b[0m\u001b[0;34m:\u001b[0m\u001b[0;34m\u001b[0m\u001b[0m\n\u001b[1;32m      7\u001b[0m         \u001b[0mtemp_diet_new\u001b[0m \u001b[0;34m=\u001b[0m \u001b[0mreplace_missing_values\u001b[0m\u001b[0;34m(\u001b[0m\u001b[0mdata\u001b[0m\u001b[0;34m,\u001b[0m \u001b[0mreplacement_parameter\u001b[0m\u001b[0;34m)\u001b[0m\u001b[0;34m\u001b[0m\u001b[0m\n",
      "\u001b[0;32m<ipython-input-9-be95fba80711>\u001b[0m in \u001b[0;36mreplacement_by_interpolation\u001b[0;34m(data_per_diet)\u001b[0m\n\u001b[1;32m     12\u001b[0m         \u001b[0mx_unknown\u001b[0m \u001b[0;34m=\u001b[0m \u001b[0munknown\u001b[0m\u001b[0;34m[\u001b[0m\u001b[0;34m'Time'\u001b[0m\u001b[0;34m]\u001b[0m\u001b[0;34m.\u001b[0m\u001b[0mvalues\u001b[0m\u001b[0;34m.\u001b[0m\u001b[0mtolist\u001b[0m\u001b[0;34m(\u001b[0m\u001b[0;34m)\u001b[0m\u001b[0;34m\u001b[0m\u001b[0m\n\u001b[1;32m     13\u001b[0m         \u001b[0;31m#use interpolation to find the y_unknowns\u001b[0m\u001b[0;34m\u001b[0m\u001b[0;34m\u001b[0m\u001b[0m\n\u001b[0;32m---> 14\u001b[0;31m         \u001b[0my_unknown\u001b[0m \u001b[0;34m=\u001b[0m \u001b[0mnp\u001b[0m\u001b[0;34m.\u001b[0m\u001b[0minterp\u001b[0m\u001b[0;34m(\u001b[0m\u001b[0mx_unknown\u001b[0m\u001b[0;34m,\u001b[0m \u001b[0mx_known\u001b[0m\u001b[0;34m,\u001b[0m \u001b[0my_known\u001b[0m\u001b[0;34m)\u001b[0m\u001b[0;34m\u001b[0m\u001b[0m\n\u001b[0m\u001b[1;32m     15\u001b[0m         \u001b[0mreplacement\u001b[0m \u001b[0;34m=\u001b[0m \u001b[0my_unknown\u001b[0m\u001b[0;34m\u001b[0m\u001b[0m\n\u001b[1;32m     16\u001b[0m         \u001b[0mtemp_chick\u001b[0m\u001b[0;34m[\u001b[0m\u001b[0;34m\"weight\"\u001b[0m\u001b[0;34m]\u001b[0m \u001b[0;34m=\u001b[0m \u001b[0mreplace_interpolation\u001b[0m\u001b[0;34m(\u001b[0m\u001b[0mtemp_chick\u001b[0m\u001b[0;34m[\u001b[0m\u001b[0;34m\"weight\"\u001b[0m\u001b[0;34m]\u001b[0m\u001b[0;34m,\u001b[0m \u001b[0mreplacement\u001b[0m\u001b[0;34m)\u001b[0m\u001b[0;34m\u001b[0m\u001b[0m\n",
      "\u001b[0;32m/anaconda3/lib/python3.6/site-packages/numpy/lib/function_base.py\u001b[0m in \u001b[0;36minterp\u001b[0;34m(x, xp, fp, left, right, period)\u001b[0m\n\u001b[1;32m   2059\u001b[0m             \u001b[0;32mreturn\u001b[0m \u001b[0minterp_func\u001b[0m\u001b[0;34m(\u001b[0m\u001b[0;34m[\u001b[0m\u001b[0mx\u001b[0m\u001b[0;34m]\u001b[0m\u001b[0;34m,\u001b[0m \u001b[0mxp\u001b[0m\u001b[0;34m,\u001b[0m \u001b[0mfp\u001b[0m\u001b[0;34m,\u001b[0m \u001b[0mleft\u001b[0m\u001b[0;34m,\u001b[0m \u001b[0mright\u001b[0m\u001b[0;34m)\u001b[0m\u001b[0;34m.\u001b[0m\u001b[0mitem\u001b[0m\u001b[0;34m(\u001b[0m\u001b[0;34m)\u001b[0m\u001b[0;34m\u001b[0m\u001b[0m\n\u001b[1;32m   2060\u001b[0m         \u001b[0;32melse\u001b[0m\u001b[0;34m:\u001b[0m\u001b[0;34m\u001b[0m\u001b[0m\n\u001b[0;32m-> 2061\u001b[0;31m             \u001b[0;32mreturn\u001b[0m \u001b[0minterp_func\u001b[0m\u001b[0;34m(\u001b[0m\u001b[0mx\u001b[0m\u001b[0;34m,\u001b[0m \u001b[0mxp\u001b[0m\u001b[0;34m,\u001b[0m \u001b[0mfp\u001b[0m\u001b[0;34m,\u001b[0m \u001b[0mleft\u001b[0m\u001b[0;34m,\u001b[0m \u001b[0mright\u001b[0m\u001b[0;34m)\u001b[0m\u001b[0;34m\u001b[0m\u001b[0m\n\u001b[0m\u001b[1;32m   2062\u001b[0m     \u001b[0;32melse\u001b[0m\u001b[0;34m:\u001b[0m\u001b[0;34m\u001b[0m\u001b[0m\n\u001b[1;32m   2063\u001b[0m         \u001b[0;32mif\u001b[0m \u001b[0mperiod\u001b[0m \u001b[0;34m==\u001b[0m \u001b[0;36m0\u001b[0m\u001b[0;34m:\u001b[0m\u001b[0;34m\u001b[0m\u001b[0m\n",
      "\u001b[0;31mValueError\u001b[0m: array of sample points is empty"
     ]
    }
   ],
   "source": [
    "portion_to_remove = [0.1, 0.2, 0.3, 0.4, 0.5, 0.6]\n",
    "for portion in portion_to_remove:\n",
    "    significance_test_missing_data_slope(portion, \"linear_interpolation\")"
   ]
  },
  {
   "cell_type": "code",
   "execution_count": null,
   "metadata": {},
   "outputs": [],
   "source": []
  }
 ],
 "metadata": {
  "kernelspec": {
   "display_name": "Python 3",
   "language": "python",
   "name": "python3"
  },
  "language_info": {
   "codemirror_mode": {
    "name": "ipython",
    "version": 3
   },
   "file_extension": ".py",
   "mimetype": "text/x-python",
   "name": "python",
   "nbconvert_exporter": "python",
   "pygments_lexer": "ipython3",
   "version": "3.6.4"
  }
 },
 "nbformat": 4,
 "nbformat_minor": 2
}
