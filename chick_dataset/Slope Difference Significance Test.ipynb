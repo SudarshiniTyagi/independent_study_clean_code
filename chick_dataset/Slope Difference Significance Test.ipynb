{
 "cells": [
  {
   "cell_type": "code",
   "execution_count": 21,
   "metadata": {},
   "outputs": [],
   "source": [
    "import pandas as pd\n",
    "import numpy as np\n",
    "from itertools import combinations"
   ]
  },
  {
   "cell_type": "code",
   "execution_count": 14,
   "metadata": {},
   "outputs": [],
   "source": [
    "def get_slope(X, Y):\n",
    "    z = np.polyfit(X, Y, 1)\n",
    "    p = np.poly1d(z)\n",
    "    xp = np.linspace(0, 22, 100)\n",
    "    return z[0]"
   ]
  },
  {
   "cell_type": "code",
   "execution_count": 15,
   "metadata": {},
   "outputs": [],
   "source": [
    "def get_slope_diff(diet_1_data, diet_2_data):\n",
    "    X1, Y1 = diet_1_data\n",
    "    X2, Y2 = diet_2_data\n",
    "    return (get_slope(X1, Y1) - get_slope(X2, Y2))"
   ]
  },
  {
   "cell_type": "code",
   "execution_count": 16,
   "metadata": {},
   "outputs": [],
   "source": [
    "def shuffle_diet_labels(data):\n",
    "    new_df = pd.DataFrame(columns=[\"weight\",\"Time\",\"Chick\",\"Diet\"])\n",
    "    for i in range(22):\n",
    "        temp = data.loc[data['Time']==i]\n",
    "        count_row = temp.shape[0]\n",
    "        if(count_row==0):\n",
    "            continue\n",
    "        else:\n",
    "            temp['Diet'] = np.random.permutation(temp['Diet'].values)\n",
    "            new_df = pd.concat([new_df, temp], ignore_index=True)\n",
    "    return new_df"
   ]
  },
  {
   "cell_type": "code",
   "execution_count": 43,
   "metadata": {},
   "outputs": [],
   "source": [
    "def get_slope_diff_count(data, observed_slope_diff, diet_1, diet_2, num_shuffles):\n",
    "    count = 0\n",
    "    weight = 0\n",
    "    time = 1 \n",
    "    for i in range(num_shuffles):\n",
    "        if (i>0 and i%20 == 0):\n",
    "            print(\"Done: \", i)\n",
    "        new_df = shuffle_diet_labels(data)\n",
    "        new_df_diet_1 = new_df[:][new_df.Diet == diet_1]\n",
    "        new_df_diet_2 = new_df[:][new_df.Diet == diet_2]\n",
    "\n",
    "        new_df_diet_1_values = new_df_diet_1.values\n",
    "        new_df_diet_2_values = new_df_diet_2.values\n",
    "\n",
    "        X1 = np.array(new_df_diet_1_values[:,time], dtype=float)\n",
    "        Y1 = np.array(new_df_diet_1_values[:,weight], dtype=float)\n",
    "        X2 = np.array(new_df_diet_2_values[:,time], dtype=float)\n",
    "        Y2 = np.array(new_df_diet_2_values[:,weight], dtype=float)\n",
    "\n",
    "        slope_diff = get_slope_diff((X1,Y1),(X2,Y2))   \n",
    "        if observed_slope_diff < 0 and slope_diff <= observed_slope_diff:\n",
    "            count += 1\n",
    "        elif observed_slope_diff >= 0 and slope_diff >= observed_slope_diff:\n",
    "            count += 1\n",
    "    return count\n"
   ]
  },
  {
   "cell_type": "code",
   "execution_count": 44,
   "metadata": {},
   "outputs": [],
   "source": [
    "observed_diff = {(1,2): -1.769,\n",
    "                 (1,3): -4.5828,\n",
    "                 (1,4):  -2.874,\n",
    "                 (2,3): -2.8137,\n",
    "                 (2,4): -1.105,\n",
    "                 (3,4):1.7085}"
   ]
  },
  {
   "cell_type": "code",
   "execution_count": 45,
   "metadata": {},
   "outputs": [],
   "source": [
    "def slope_diff_sig_test(chickweight):\n",
    "    unique_diets = chickweight.Diet.unique()\n",
    "    diet_comparisons = list(combinations(unique_diets, 2))\n",
    "    num_shuffles = 100\n",
    "    for ele in diet_comparisons:\n",
    "        observed_slope_diff = observed_diff[ele]\n",
    "        diet_1, diet_2 = ele\n",
    "        data = chickweight.loc[(chickweight['Diet'] == diet_1) | (chickweight['Diet'] == diet_2)]\n",
    "        count = get_slope_diff_count(data, observed_slope_diff, diet_1, diet_2, num_shuffles)\n",
    "        ######################################\n",
    "        #\n",
    "        # Output\n",
    "        #\n",
    "        ######################################\n",
    "        print(\"**********Diet: \", diet_1, \" vs Diet: \", diet_2,\"**********\")\n",
    "\n",
    "        print (\"Observed difference of two slopes: %.2f\" % observed_slope_diff)\n",
    "        print (count, \"out of\", num_shuffles, \"experiments had a difference of two means\", end=\" \")\n",
    "        if observed_slope_diff < 0:\n",
    "            print (\"less than or equal to\", end=\" \")\n",
    "        else:\n",
    "            print (\"greater than or equal to\", end=\" \")\n",
    "        print (\"%.2f\" % observed_slope_diff, \".\")\n",
    "        print (\"The chance of getting a difference of two means\", end=\" \")\n",
    "        if observed_slope_diff < 0:\n",
    "            print (\"less than or equal to\", end=\" \")\n",
    "        else:\n",
    "            print (\"greater than or equal to\", end=\" \")\n",
    "        print (\"%.2f\" % observed_slope_diff, \"is\", (count / float(num_shuffles)), \"\\n\")"
   ]
  },
  {
   "cell_type": "code",
   "execution_count": 46,
   "metadata": {},
   "outputs": [
    {
     "name": "stderr",
     "output_type": "stream",
     "text": [
      "/anaconda3/lib/python3.6/site-packages/ipykernel_launcher.py:9: SettingWithCopyWarning: \n",
      "A value is trying to be set on a copy of a slice from a DataFrame.\n",
      "Try using .loc[row_indexer,col_indexer] = value instead\n",
      "\n",
      "See the caveats in the documentation: http://pandas.pydata.org/pandas-docs/stable/indexing.html#indexing-view-versus-copy\n",
      "  if __name__ == '__main__':\n"
     ]
    },
    {
     "name": "stdout",
     "output_type": "stream",
     "text": [
      "Done:  20\n",
      "Done:  40\n",
      "Done:  60\n",
      "Done:  80\n",
      "**********Diet:  1  vs Diet:  2 **********\n",
      "Observed difference of two slopes: -1.77\n",
      "1 out of 100 experiments had a difference of two means less than or equal to -1.77 .\n",
      "The chance of getting a difference of two means less than or equal to -1.77 is 0.01 \n",
      "\n",
      "Done:  20\n",
      "Done:  40\n",
      "Done:  60\n",
      "Done:  80\n",
      "**********Diet:  1  vs Diet:  3 **********\n",
      "Observed difference of two slopes: -4.58\n",
      "0 out of 100 experiments had a difference of two means less than or equal to -4.58 .\n",
      "The chance of getting a difference of two means less than or equal to -4.58 is 0.0 \n",
      "\n",
      "Done:  20\n",
      "Done:  40\n",
      "Done:  60\n",
      "Done:  80\n",
      "**********Diet:  1  vs Diet:  4 **********\n",
      "Observed difference of two slopes: -2.87\n",
      "0 out of 100 experiments had a difference of two means less than or equal to -2.87 .\n",
      "The chance of getting a difference of two means less than or equal to -2.87 is 0.0 \n",
      "\n",
      "Done:  20\n",
      "Done:  40\n",
      "Done:  60\n",
      "Done:  80\n",
      "**********Diet:  2  vs Diet:  3 **********\n",
      "Observed difference of two slopes: -2.81\n",
      "0 out of 100 experiments had a difference of two means less than or equal to -2.81 .\n",
      "The chance of getting a difference of two means less than or equal to -2.81 is 0.0 \n",
      "\n",
      "Done:  20\n",
      "Done:  40\n",
      "Done:  60\n",
      "Done:  80\n",
      "**********Diet:  2  vs Diet:  4 **********\n",
      "Observed difference of two slopes: -1.10\n",
      "7 out of 100 experiments had a difference of two means less than or equal to -1.10 .\n",
      "The chance of getting a difference of two means less than or equal to -1.10 is 0.07 \n",
      "\n",
      "Done:  20\n",
      "Done:  40\n",
      "Done:  60\n",
      "Done:  80\n",
      "**********Diet:  3  vs Diet:  4 **********\n",
      "Observed difference of two slopes: 1.71\n",
      "1 out of 100 experiments had a difference of two means greater than or equal to 1.71 .\n",
      "The chance of getting a difference of two means greater than or equal to 1.71 is 0.01 \n",
      "\n"
     ]
    }
   ],
   "source": [
    "chickweight = pd.read_csv('chick_weight.csv')\n",
    "chickweight = chickweight.drop(['Unnamed: 0'], axis=1)\n",
    "\n",
    "slope_diff_sig_test(chickweight)"
   ]
  }
 ],
 "metadata": {
  "kernelspec": {
   "display_name": "Python 3",
   "language": "python",
   "name": "python3"
  },
  "language_info": {
   "codemirror_mode": {
    "name": "ipython",
    "version": 3
   },
   "file_extension": ".py",
   "mimetype": "text/x-python",
   "name": "python",
   "nbconvert_exporter": "python",
   "pygments_lexer": "ipython3",
   "version": "3.6.4"
  }
 },
 "nbformat": 4,
 "nbformat_minor": 2
}
