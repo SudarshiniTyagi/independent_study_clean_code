{
 "cells": [
  {
   "cell_type": "code",
   "execution_count": 17,
   "metadata": {},
   "outputs": [],
   "source": [
    "import pandas as pd\n",
    "import random\n",
    "import numpy as np\n",
    "import warnings\n",
    "warnings.filterwarnings(\"ignore\")\n",
    "import math\n",
    "from operator import itemgetter\n",
    "import matplotlib.pyplot as plt"
   ]
  },
  {
   "cell_type": "markdown",
   "metadata": {},
   "source": [
    "# Data preparation"
   ]
  },
  {
   "cell_type": "code",
   "execution_count": 2,
   "metadata": {},
   "outputs": [],
   "source": [
    "chickweight = pd.read_csv('chick_weight.csv')\n",
    "chickweight = chickweight.drop(['Unnamed: 0'], axis=1)\n",
    "chickweight_one_diet = chickweight[:][chickweight.Diet == 1]"
   ]
  },
  {
   "cell_type": "code",
   "execution_count": 3,
   "metadata": {},
   "outputs": [],
   "source": [
    "def get_data_with_missing_values(data, portion_to_remove):\n",
    "    \"\"\"\n",
    "    Randomly removing data to create data containing missing values\n",
    "    portion_to_remove: fraction of data to be removed, eg. 0.1, 0.2, etc.\n",
    "    \"\"\"\n",
    "    #     random.seed(10000)\n",
    "    chickweight_with_missing_values = data.copy()\n",
    "    Y = chickweight_with_missing_values[\"weight\"]\n",
    "    for i in range(len(Y)):\n",
    "        if random.random()<portion_to_remove:\n",
    "            Y[i] = 0  ##Randomly making few weights 0 to mimic missing data\n",
    "    return chickweight_with_missing_values"
   ]
  },
  {
   "cell_type": "code",
   "execution_count": 4,
   "metadata": {},
   "outputs": [],
   "source": [
    "def remove_missing_data_row(data):\n",
    "    indices = data.index.values\n",
    "    indices_to_remove = []\n",
    "    for idx in indices:\n",
    "        if data.loc[idx][\"weight\"] == 0:\n",
    "            indices_to_remove.append(idx)\n",
    "            \n",
    "    data = data.drop(indices_to_remove)\n",
    "    return data"
   ]
  },
  {
   "cell_type": "code",
   "execution_count": 5,
   "metadata": {},
   "outputs": [],
   "source": [
    "def find_median(data):\n",
    "    data = [x for x in data if x != 0]\n",
    "    data.sort()\n",
    "    if(len(data) % 2 != 0):\n",
    "        mididx = math.floor(len(data)/2)\n",
    "        median = data[mididx]\n",
    "    else:\n",
    "        mididx1 = math.floor(len(data)/2)\n",
    "        mididx2 = math.floor(len(data)/2)-1\n",
    "        median = (data[mididx1] + data[mididx2]) /2\n",
    "    return median\n",
    "\n",
    "def find_mean(data):\n",
    "    count = 0\n",
    "    for ele in data:\n",
    "        if ele==0:\n",
    "            continue\n",
    "        else:\n",
    "            count += 1\n",
    "    return sum(data)/count\n",
    "  \n",
    "def replace(data, replacement):\n",
    "    data_array = np.array(data)\n",
    "    for idx in range(len(data_array)):\n",
    "        if data_array[idx] ==0:\n",
    "            data_array[idx] = replacement\n",
    "        else:\n",
    "            continue\n",
    "    return data_array\n",
    "\n",
    "def replace_missing_values(data_per_diet, replacement_parameter):\n",
    "    new_df = pd.DataFrame(columns=[\"weight\",\"Time\",\"Chick\",\"Diet\"])\n",
    "    for i in range(22):\n",
    "            temp_time = data_per_diet.loc[data_per_diet['Time'] == i]\n",
    "            count_row = temp_time.shape[0]\n",
    "            if(count_row==0):\n",
    "                continue\n",
    "            else:\n",
    "                if(replacement_parameter == \"mean\"):\n",
    "                    replacement = find_mean(temp_time[\"weight\"])\n",
    "                elif(replacement_parameter == \"median\"):\n",
    "                    replacement = find_median(temp_time[\"weight\"])\n",
    "                temp_time[\"weight\"] = replace(temp_time[\"weight\"], replacement)\n",
    "                new_df = pd.concat([new_df, temp_time], ignore_index=True)\n",
    "    return new_df\n",
    "\n",
    "def replace_missing_values_all_diets(chickweight_with_missing_values, replacement_parameter):\n",
    "    new_df = pd.DataFrame(columns=[\"weight\",\"Time\",\"Chick\",\"Diet\"])\n",
    "    unique_diets = chickweight.Diet.unique()\n",
    "    for diet in unique_diets:\n",
    "        chickweight_one_diet = chickweight_with_missing_values[:][chickweight_with_missing_values.Diet == diet]\n",
    "        chickweight_imputed_missing = replace_missing_values(chickweight_one_diet, replacement_parameter)\n",
    "        new_df = pd.concat([new_df, chickweight_imputed_missing], ignore_index=True)\n",
    "    return new_df"
   ]
  },
  {
   "cell_type": "code",
   "execution_count": 6,
   "metadata": {},
   "outputs": [],
   "source": [
    "def replace_interpolation(data, replacement):\n",
    "    r = 0\n",
    "    data_array = np.array(data)\n",
    "    for idx in range(len(data_array)):\n",
    "        if data_array[idx] == 0:\n",
    "            data_array[idx] = replacement[r]\n",
    "            r += 1\n",
    "        else:\n",
    "            continue\n",
    "    return data_array\n",
    "\n",
    "def replacement_by_interpolation(data_per_diet):\n",
    "    new_df = pd.DataFrame(columns=[\"weight\",\"Time\",\"Chick\",\"Diet\"])\n",
    "    chicks = data_per_diet.Chick.unique()\n",
    "    for chicknum in chicks:\n",
    "        temp_chick = data_per_diet.loc[data_per_diet.Chick == chicknum]\n",
    "        #get the known records (where weights are not missing)\n",
    "        known = temp_chick.loc[temp_chick.weight != 0]\n",
    "        #get the unknown records (where chick weight is missing)\n",
    "        unknown = temp_chick.loc[temp_chick.weight == 0]\n",
    "        x_known = known['Time'].values.tolist()\n",
    "        y_known = known['weight'].values.tolist()\n",
    "        x_unknown = unknown['Time'].values.tolist()\n",
    "        #use interpolation to find the y_unknowns\n",
    "        y_unknown = np.interp(x_unknown, x_known, y_known)\n",
    "        replacement = y_unknown\n",
    "        temp_chick[\"weight\"] = replace_interpolation(temp_chick[\"weight\"], replacement)\n",
    "        new_df = pd.concat([new_df, temp_chick], ignore_index=True)\n",
    "    return new_df\n",
    "\n",
    "def replacement_by_interpolation_all_diets(chickweight_with_missing_values):\n",
    "    new_df = pd.DataFrame(columns=[\"weight\",\"Time\",\"Chick\",\"Diet\"])\n",
    "    unique_diets = chickweight.Diet.unique()\n",
    "    for diet in unique_diets:\n",
    "        chickweight_one_diet = chickweight_with_missing_values[:][chickweight_with_missing_values.Diet == diet]\n",
    "        chickweight_imputed_missing = replacement_by_interpolation(chickweight_one_diet)\n",
    "        new_df = pd.concat([new_df, chickweight_imputed_missing], ignore_index=True)\n",
    "    return new_df"
   ]
  },
  {
   "cell_type": "code",
   "execution_count": 7,
   "metadata": {},
   "outputs": [],
   "source": [
    "portions = [0.1, 0.2, 0.3, 0.4, 0.5]\n",
    "missing_data = {}\n",
    "removed_data = {}\n",
    "mean_imputed_data = {}\n",
    "median_imputed_data = {}\n",
    "interpolation_imputed_data = {}\n",
    "\n",
    "for portion in portions:\n",
    "    missing_data[portion] = get_data_with_missing_values(chickweight, portion)\n",
    "for portion in portions:\n",
    "    removed_data[portion] = remove_missing_data_row(missing_data[portion])\n",
    "    mean_imputed_data[portion] = replace_missing_values_all_diets(missing_data[portion], \"mean\")\n",
    "    median_imputed_data[portion] = replace_missing_values_all_diets(missing_data[portion], \"median\")\n",
    "    interpolation_imputed_data[portion] = replacement_by_interpolation_all_diets(missing_data[portion])    "
   ]
  },
  {
   "cell_type": "markdown",
   "metadata": {},
   "source": [
    "# Effect of missing data on Confidence Interval"
   ]
  },
  {
   "cell_type": "code",
   "execution_count": 15,
   "metadata": {},
   "outputs": [],
   "source": [
    "import math\n",
    "\n",
    "def plot_confidence(df_this_diet, z_lower, z_upper):\n",
    "    weight = 0\n",
    "    time = 1\n",
    "    # chickweight = chickweight.drop(['Unnamed: 0'], axis=1)\n",
    "#     df_this_diet = chickweight[:][chickweight.Diet == 2]\n",
    "    df_this_diet_values = df_this_diet.values\n",
    "    X = np.array(df_this_diet_values[:,time], dtype=float)\n",
    "    Y = np.array(df_this_diet_values[:,weight], dtype=float)\n",
    "\n",
    "    fig, ax = plt.subplots(figsize=(8, 4))\n",
    "    ax.scatter(X, Y, alpha=0.5, color='orchid')\n",
    "    fig.suptitle('Example Scatter Plot')\n",
    "    fig.tight_layout(pad=2)\n",
    "    ax.grid(True)\n",
    "    z = np.polyfit(X, Y, 1)\n",
    "    p = np.poly1d(z)\n",
    "    xp = np.linspace(0, 22, 100)\n",
    "    ax.plot(xp, p(xp),'-', color='darkorchid', linewidth=2)\n",
    "\n",
    "    lower_p = np.poly1d(z_lower)\n",
    "    lower = lower_p(xp)\n",
    "\n",
    "    upper_p = np.poly1d(z_upper)\n",
    "    upper = upper_p(xp)\n",
    "    ax.fill_between(xp, lower, upper, color='#555555', alpha=0.4)\n",
    "    plt.show(fig)\n",
    "\n",
    "def get_slope_and_intercept(X, Y):\n",
    "    z = np.polyfit(X, Y, 1)\n",
    "    p = np.poly1d(z)\n",
    "    xp = np.linspace(0, 22, 100)\n",
    "    return (z[0], z[1])\n",
    "\n",
    "def bootstrap(x):\n",
    "    samp_x = []\n",
    "    for i in range(len(x)):\n",
    "        samp_x.append(random.choice(x))\n",
    "    return samp_x\n",
    "\n",
    "def bootstrap_data(data):\n",
    "    new_df = pd.DataFrame(columns=[\"weight\",\"Time\",\"Chick\",\"Diet\"])\n",
    "    for i in range(22):\n",
    "        temp = data.loc[data['Time']==i]\n",
    "        count_row = temp.shape[0]\n",
    "        if(count_row==0):\n",
    "            continue\n",
    "        else:\n",
    "            temp['weight'] = bootstrap(temp['weight'].values)\n",
    "            new_df = pd.concat([new_df, temp], ignore_index=True)\n",
    "    return new_df\n",
    "\n",
    "def get_slopes_and_intercepts(chickweight):\n",
    "    weight = 0\n",
    "    time = 1\n",
    "    uniqueDiets = chickweight.Diet.unique()\n",
    "    num_shuffles = 100\n",
    "    out_dict = {}\n",
    "    for diet in uniqueDiets:\n",
    "        output_this_diet = []\n",
    "        for i in range(num_shuffles):\n",
    "            df_this_diet = chickweight[:][chickweight.Diet == diet]\n",
    "            bootstrapped_df = bootstrap_data(df_this_diet)\n",
    "            df_this_diet_values = bootstrapped_df.values\n",
    "            X = np.array(df_this_diet_values[:,time], dtype=float)\n",
    "            Y = np.array(df_this_diet_values[:,weight], dtype=float)\n",
    "            \n",
    "            slope_and_intercept = get_slope_and_intercept(X, Y)\n",
    "            output_this_diet.append(slope_and_intercept)\n",
    "            \n",
    "        out_dict[diet] = output_this_diet\n",
    "    return out_dict\n",
    "\n",
    "def get_confidence_interval(data):\n",
    "    slope_out = get_slopes_and_intercepts(data)\n",
    "    slope_confs = {}\n",
    "    intercept_confs = {}\n",
    "    conf_interval = 0.9\n",
    "    for key, value in slope_out.items():\n",
    "        slope_conf = []\n",
    "        diet = key\n",
    "        value.sort(key=itemgetter(0))\n",
    "        tails = (1 - conf_interval) / 2\n",
    "        lower_bound = int(math.ceil(100 * tails))\n",
    "        upper_bound = int(math.floor(100 * (1 - tails)))\n",
    "        slope_conf.append(value[lower_bound])\n",
    "        slope_conf.append(value[upper_bound])\n",
    "        slope_confs[key] = slope_conf\n",
    "    \n",
    "    return slope_confs\n",
    "\n",
    "def get_new_conf_intervals(new_data):\n",
    "    slope_confs_all_portions = {}\n",
    "    result = pd.DataFrame(columns=[\"portion\",\"diet\",\"lower_bound\",\"upper_bound\"])\n",
    "    for portion in portions:\n",
    "        new_df = new_data[portion]\n",
    "        slope_confs = get_confidence_interval(new_df)\n",
    "        slope_confs_all_portions[portion] = slope_confs\n",
    "        unique_diets = chickweight.Diet.unique()\n",
    "        for diet in unique_diets:\n",
    "            slope_conf = slope_confs[diet]\n",
    "            result = result.append(\n",
    "            {\"portion\": portion, \n",
    "             \"diet\": diet,\n",
    "             \"lower_bound\": slope_conf[0][0], \n",
    "             \"upper_bound\": slope_conf[1][0]}, ignore_index=True)\n",
    "        print(\"portion finished: \", portion)\n",
    "    return result,slope_confs_all_portions\n",
    "\n",
    "def plot_all_confidences(diet, portion, slope_confs_all_portions):\n",
    "    slope_conf = slope_confs_all_portions[portion][diet]\n",
    "    z_lower = [slope_conf[0][0], slope_conf[0][1]]\n",
    "    z_upper = [slope_conf[1][0], slope_conf[1][1]]\n",
    "    chickweight_one_diet = chickweight[:][chickweight.Diet == diet]\n",
    "    plot_confidence(chickweight_one_diet, z_lower, z_upper)"
   ]
  },
  {
   "cell_type": "code",
   "execution_count": null,
   "metadata": {},
   "outputs": [],
   "source": [
    "portions = [0.1,0.2]"
   ]
  },
  {
   "cell_type": "markdown",
   "metadata": {},
   "source": [
    "## Removing rows with missing values"
   ]
  },
  {
   "cell_type": "code",
   "execution_count": 50,
   "metadata": {},
   "outputs": [
    {
     "name": "stdout",
     "output_type": "stream",
     "text": [
      "Lala\n",
      "portion finished:  0.1\n",
      "Lala\n",
      "portion finished:  0.2\n"
     ]
    },
    {
     "data": {
      "image/png": "[encoded data removed]",
      "text/plain": [
       "<matplotlib.figure.Figure at 0x11cd7db70>"
      ]
     },
     "metadata": {},
     "output_type": "display_data"
    }
   ],
   "source": [
    "result_removed, slope_confs_removed = get_new_conf_intervals(removed_data)\n",
    "plot_all_confidences(1, 0.1, slope_confs_removed)"
   ]
  },
  {
   "cell_type": "markdown",
   "metadata": {},
   "source": [
    "## Impute missing data with mean"
   ]
  },
  {
   "cell_type": "code",
   "execution_count": 52,
   "metadata": {},
   "outputs": [
    {
     "name": "stdout",
     "output_type": "stream",
     "text": [
      "Lala\n",
      "portion finished:  0.1\n",
      "Lala\n",
      "portion finished:  0.2\n"
     ]
    },
    {
     "data": {
      "image/png": "[encoded data removed]",
      "text/plain": [
       "<matplotlib.figure.Figure at 0x11c992080>"
      ]
     },
     "metadata": {},
     "output_type": "display_data"
    }
   ],
   "source": [
    "result_mean, slope_confs_mean = get_new_conf_intervals(mean_imputed_data)\n",
    "plot_all_confidences(1, 0.1, slope_confs_mean)"
   ]
  },
  {
   "cell_type": "markdown",
   "metadata": {},
   "source": [
    "## Impute missing data with median"
   ]
  },
  {
   "cell_type": "code",
   "execution_count": 53,
   "metadata": {},
   "outputs": [
    {
     "name": "stdout",
     "output_type": "stream",
     "text": [
      "Lala\n",
      "portion finished:  0.1\n",
      "Lala\n",
      "portion finished:  0.2\n"
     ]
    },
    {
     "data": {
      "image/png": "[encoded data removed]",
      "text/plain": [
       "<matplotlib.figure.Figure at 0x11ce81908>"
      ]
     },
     "metadata": {},
     "output_type": "display_data"
    }
   ],
   "source": [
    "result_median, slope_confs_median = get_new_conf_intervals(median_imputed_data)\n",
    "plot_all_confidences(1, 0.1, slope_confs_median)"
   ]
  },
  {
   "cell_type": "markdown",
   "metadata": {},
   "source": [
    "## Impute missing data with linear interpolation"
   ]
  },
  {
   "cell_type": "code",
   "execution_count": null,
   "metadata": {},
   "outputs": [],
   "source": [
    "result_interpolation, slope_confs_interpolation = get_new_conf_intervals(interpolation_imputed_data)\n",
    "plot_all_confidences(1, 0.1, slope_confs_interpolation)"
   ]
  },
  {
   "cell_type": "code",
   "execution_count": null,
   "metadata": {},
   "outputs": [],
   "source": []
  }
 ],
 "metadata": {
  "kernelspec": {
   "display_name": "Python 3",
   "language": "python",
   "name": "python3"
  },
  "language_info": {
   "codemirror_mode": {
    "name": "ipython",
    "version": 3
   },
   "file_extension": ".py",
   "mimetype": "text/x-python",
   "name": "python",
   "nbconvert_exporter": "python",
   "pygments_lexer": "ipython3",
   "version": "3.6.4"
  }
 },
 "nbformat": 4,
 "nbformat_minor": 2
}
