{
 "cells": [
  {
   "cell_type": "code",
   "execution_count": 1,
   "metadata": {},
   "outputs": [],
   "source": [
    "import random\n",
    "import math\n",
    "import sys"
   ]
  },
  {
   "cell_type": "code",
   "execution_count": 2,
   "metadata": {},
   "outputs": [],
   "source": [
    "def bootstrap(x):\n",
    "\tsamp_x = []\n",
    "\tfor i in range(len(x)):\n",
    "\t\tsamp_x.append(random.choice(x))\n",
    "\treturn samp_x"
   ]
  },
  {
   "cell_type": "code",
   "execution_count": 3,
   "metadata": {},
   "outputs": [],
   "source": [
    "# subtracts group a mean from group b mean and returns result\n",
    "def meandiff(grpA, grpB):\n",
    "\treturn sum(grpB) / float(len(grpB)) - sum(grpA) / float(len(grpA))"
   ]
  },
  {
   "cell_type": "code",
   "execution_count": 15,
   "metadata": {},
   "outputs": [],
   "source": [
    "def diff2meanconf(diet_1, diet_2, grpA, grpB, conf_interval):\n",
    "    # list of lists\n",
    "    samples = [grpA, grpB] \n",
    "    a = 0\n",
    "    b = 1\n",
    "\n",
    "    observed_mean_diff = meandiff(samples[a], samples[b])\n",
    "\n",
    "    num_resamples = 10000   # number of times we will resample from our original samples\n",
    "    out = []                # will store results of each time we resample\n",
    "\n",
    "    for i in range(num_resamples):\n",
    "        # get bootstrap samples for each of our groups\n",
    "        # then compute our statistic of interest\n",
    "        # append statistic to out\n",
    "        bootstrap_samples = []  # list of lists\n",
    "        for sample in samples:\n",
    "            bootstrap_samples.append(bootstrap(sample))\n",
    "        # now we have a list of bootstrap samples, run meandiff\n",
    "        out.append(meandiff(bootstrap_samples[a], bootstrap_samples[b]))\n",
    "\n",
    "    out.sort()\n",
    "\n",
    "    tails = (1 - conf_interval) / 2\n",
    "\n",
    "    # in case our lower and upper bounds are not integers,\n",
    "    # we decrease the range (the values we include in our interval),\n",
    "    # so that we can keep the same level of confidence\n",
    "    lower_bound = int(math.ceil(num_resamples * tails))\n",
    "    upper_bound = int(math.floor(num_resamples * (1 - tails)))\n",
    "\n",
    "    ######################################\n",
    "    #\n",
    "    # Output\n",
    "    #\n",
    "    ######################################\n",
    "\n",
    "    # print observed value and then confidence interval\n",
    "    print(\"**********Diet: \", diet_1, \" vs Diet: \", diet_2,\"**********\")\n",
    "    print (\"Observed difference between the means: %.2f\" % observed_mean_diff)\n",
    "    print (\"We have\", conf_interval * 100, \"% confidence that the true difference between the means\", end=\" \")\n",
    "    print (\"is between: %.2f\" % out[lower_bound], \"and %.2f\" % out[upper_bound])"
   ]
  },
  {
   "cell_type": "code",
   "execution_count": 16,
   "metadata": {},
   "outputs": [],
   "source": [
    "import pandas as pd\n",
    "import numpy as np\n",
    "import matplotlib.pyplot as plt\n",
    "import warnings\n",
    "warnings.filterwarnings(\"ignore\")"
   ]
  },
  {
   "cell_type": "code",
   "execution_count": 17,
   "metadata": {},
   "outputs": [],
   "source": [
    "chickweight = pd.read_csv('chick_weight.csv')\n",
    "chickweight = chickweight.drop(['Unnamed: 0'], axis=1)"
   ]
  },
  {
   "cell_type": "code",
   "execution_count": 18,
   "metadata": {},
   "outputs": [],
   "source": [
    "def get_final_weights_for_diet(diet):\n",
    "    df_this_diet = chickweight[chickweight['Diet']==diet]\n",
    "    final_weights = []\n",
    "    chicks = list(df_this_diet.Chick.unique())\n",
    "    for chick_num in chicks:\n",
    "        temp_df = df_this_diet[df_this_diet['Chick']==chick_num]\n",
    "        final_weight = list(temp_df['weight'])[-1]\n",
    "        final_weights.append(final_weight)\n",
    "    return final_weights"
   ]
  },
  {
   "cell_type": "code",
   "execution_count": 19,
   "metadata": {},
   "outputs": [],
   "source": [
    "all_final_weights = {}\n",
    "for i in range(1,5):\n",
    "    all_final_weights[i] = get_final_weights_for_diet(i)"
   ]
  },
  {
   "cell_type": "code",
   "execution_count": 20,
   "metadata": {},
   "outputs": [],
   "source": [
    "combinations = [[1,2], [1,3], [1,4], [2,3], [2,4], [3,4]]"
   ]
  },
  {
   "cell_type": "code",
   "execution_count": null,
   "metadata": {},
   "outputs": [
    {
     "name": "stdout",
     "output_type": "stream",
     "text": [
      "**********Diet:  1  vs Diet:  2 **********\n",
      "Observed difference between the means: 58.40\n",
      "We have 90.0 % confidence that the true difference between the means is between: 11.05 and 104.35\n",
      "**********Diet:  1  vs Diet:  3 **********\n",
      "Observed difference between the means: 114.00\n",
      "We have 90.0 % confidence that the true difference between the means is between: 70.30 and 156.45\n",
      "**********Diet:  1  vs Diet:  4 **********\n",
      "Observed difference between the means: 73.00\n",
      "We have 90.0 % confidence that the true difference between the means is between: 37.10 and 108.00\n",
      "**********Diet:  2  vs Diet:  3 **********\n",
      "Observed difference between the means: 55.60\n",
      "We have 90.0 % confidence that the true difference between the means is between: 2.90 and 108.00\n"
     ]
    }
   ],
   "source": [
    "for combination in combinations:\n",
    "    diet_1, diet_2 = combination\n",
    "    diff2meanconf(diet_1, diet_2, all_final_weights[diet_1], all_final_weights[diet_2], conf_interval = 0.9)"
   ]
  },
  {
   "cell_type": "code",
   "execution_count": null,
   "metadata": {},
   "outputs": [],
   "source": []
  }
 ],
 "metadata": {
  "kernelspec": {
   "display_name": "Python 3",
   "language": "python",
   "name": "python3"
  },
  "language_info": {
   "codemirror_mode": {
    "name": "ipython",
    "version": 3
   },
   "file_extension": ".py",
   "mimetype": "text/x-python",
   "name": "python",
   "nbconvert_exporter": "python",
   "pygments_lexer": "ipython3",
   "version": "3.7.3"
  }
 },
 "nbformat": 4,
 "nbformat_minor": 2
}
