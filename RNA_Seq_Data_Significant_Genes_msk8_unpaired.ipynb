{
 "cells": [
  {
   "cell_type": "code",
   "execution_count": 13,
   "metadata": {
    "colab": {},
    "colab_type": "code",
    "id": "FAIqfRcaRTt-"
   },
   "outputs": [],
   "source": [
    "import pandas as pd\n",
    "import matplotlib.pyplot as plt\n",
    "import re\n",
    "import numpy as np\n",
    "import random\n",
    "import pickle\n",
    "import seaborn as sns\n",
    "import math\n",
    "import sys"
   ]
  },
  {
   "cell_type": "markdown",
   "metadata": {
    "colab_type": "text",
    "id": "1zkjQXQtgXRW"
   },
   "source": [
    "### Reads the data into a dataframe and renames the columns to remove unnecessary numbers "
   ]
  },
  {
   "cell_type": "code",
   "execution_count": 14,
   "metadata": {},
   "outputs": [],
   "source": [
    "\n",
    "testdownload = pd.read_excel(\"https://ftp.ncbi.nlm.nih.gov/geo/series/\\\n",
    "GSE124nnn/GSE124548/suppl/GSE124548_AllData_170308_RNAseq_Kopp_Results.xlsx\")"
   ]
  },
  {
   "cell_type": "code",
   "execution_count": 3,
   "metadata": {},
   "outputs": [
    {
     "data": {
      "text/plain": [
       "(15570, 140)"
      ]
     },
     "execution_count": 3,
     "metadata": {},
     "output_type": "execute_result"
    }
   ],
   "source": [
    "testdownload.shape"
   ]
  },
  {
   "cell_type": "code",
   "execution_count": 15,
   "metadata": {
    "colab": {},
    "colab_type": "code",
    "id": "E8JZsjDRRbla"
   },
   "outputs": [],
   "source": [
    "data_df = testdownload\n",
    "#data_df = pd.read_excel(\"RNASeqData.xlsx\")\n",
    "#data_df.shape"
   ]
  },
  {
   "cell_type": "code",
   "execution_count": 16,
   "metadata": {},
   "outputs": [
    {
     "data": {
      "text/plain": [
       "15570"
      ]
     },
     "execution_count": 16,
     "metadata": {},
     "output_type": "execute_result"
    }
   ],
   "source": [
    "data_df.shape[0]"
   ]
  },
  {
   "cell_type": "code",
   "execution_count": 17,
   "metadata": {
    "colab": {},
    "colab_type": "code",
    "id": "L5SIC7ykeqLo"
   },
   "outputs": [],
   "source": [
    "data_df = data_df.rename(columns=lambda x: re.sub(\"w_[0-9]+_O\", \"w_O\",x))\n",
    "data_df = data_df.rename(columns=lambda x: re.sub(\"m_[0-9]+_O\", \"m_O\",x))"
   ]
  },
  {
   "cell_type": "code",
   "execution_count": 18,
   "metadata": {
    "colab": {},
    "colab_type": "code",
    "id": "RfuwTmgERdju"
   },
   "outputs": [],
   "source": [
    "columns = list(data_df.columns) "
   ]
  },
  {
   "cell_type": "code",
   "execution_count": 19,
   "metadata": {
    "colab": {},
    "colab_type": "code",
    "id": "53N3U1QORlyV"
   },
   "outputs": [],
   "source": [
    "norm_cols = [x for x in columns if \"Norm\" in x] # get all normalized values\n",
    "healthy_control = [x for x in norm_cols if \"HC\" in x] # healthy control norm values\n",
    "norm_cols_base = [x for x in norm_cols if \"Base\" in x] # cf without treatment\n",
    "norm_cols_v2 = [x for x in norm_cols if \"V2\" in x] # cf with treatment\n",
    "\n"
   ]
  },
  {
   "cell_type": "markdown",
   "metadata": {},
   "source": [
    "## Find out how many genes have zeroes"
   ]
  },
  {
   "cell_type": "code",
   "execution_count": 20,
   "metadata": {},
   "outputs": [],
   "source": [
    "number_of_zeroes = [ list(data_df[norm_cols].values[i]).count(0) for i in range(data_df.shape[0])]\n",
    "genes_no_zeroes_logic = [number_of_zeroes[i] == 0 for i in range(len(number_of_zeroes))]"
   ]
  },
  {
   "cell_type": "markdown",
   "metadata": {},
   "source": [
    "Keep only genes with no zeroes"
   ]
  },
  {
   "cell_type": "code",
   "execution_count": 21,
   "metadata": {},
   "outputs": [
    {
     "data": {
      "text/plain": [
       "(15250, 140)"
      ]
     },
     "execution_count": 21,
     "metadata": {},
     "output_type": "execute_result"
    }
   ],
   "source": [
    "data_df_subset = data_df[genes_no_zeroes_logic]\n",
    "data_df_subset.shape"
   ]
  },
  {
   "cell_type": "code",
   "execution_count": 22,
   "metadata": {},
   "outputs": [
    {
     "data": {
      "text/html": [
       "<div>\n",
       "<style scoped>\n",
       "    .dataframe tbody tr th:only-of-type {\n",
       "        vertical-align: middle;\n",
       "    }\n",
       "\n",
       "    .dataframe tbody tr th {\n",
       "        vertical-align: top;\n",
       "    }\n",
       "\n",
       "    .dataframe thead th {\n",
       "        text-align: right;\n",
       "    }\n",
       "</style>\n",
       "<table border=\"1\" class=\"dataframe\">\n",
       "  <thead>\n",
       "    <tr style=\"text-align: right;\">\n",
       "      <th></th>\n",
       "      <th>RowID</th>\n",
       "      <th>ID</th>\n",
       "      <th>Description</th>\n",
       "      <th>EntrezID</th>\n",
       "      <th>Class</th>\n",
       "      <th>pre_drug.vs.control_ShrunkenLog2FC</th>\n",
       "      <th>pre_drug.vs.control_MLELog2FC</th>\n",
       "      <th>pre_drug.vs.control_pVal</th>\n",
       "      <th>pre_drug.vs.control_pAdj</th>\n",
       "      <th>post_drug.vs.control_ShrunkenLog2FC</th>\n",
       "      <th>...</th>\n",
       "      <th>Raw_Orkambi_021_Base</th>\n",
       "      <th>Raw_Orkambi_021_V2</th>\n",
       "      <th>Raw_Orkambi_022_Base</th>\n",
       "      <th>Raw_Orkambi_022_V2</th>\n",
       "      <th>Raw_Orkambi_024_Base</th>\n",
       "      <th>Raw_Orkambi_024_V2</th>\n",
       "      <th>Raw_Orkambi_025_Base</th>\n",
       "      <th>Raw_Orkambi_025_V2</th>\n",
       "      <th>Raw_Orkambi_026_Base</th>\n",
       "      <th>Raw_Orkambi_026_V2</th>\n",
       "    </tr>\n",
       "  </thead>\n",
       "  <tbody>\n",
       "    <tr>\n",
       "      <th>0</th>\n",
       "      <td>1</td>\n",
       "      <td>A1BG</td>\n",
       "      <td>alpha-1-B glycoprotein</td>\n",
       "      <td>1</td>\n",
       "      <td>protein_coding</td>\n",
       "      <td>-0.050497</td>\n",
       "      <td>-0.066327</td>\n",
       "      <td>0.691693</td>\n",
       "      <td>0.824882</td>\n",
       "      <td>0.082631</td>\n",
       "      <td>...</td>\n",
       "      <td>113</td>\n",
       "      <td>89</td>\n",
       "      <td>31</td>\n",
       "      <td>125</td>\n",
       "      <td>44</td>\n",
       "      <td>78</td>\n",
       "      <td>113</td>\n",
       "      <td>98</td>\n",
       "      <td>38</td>\n",
       "      <td>70</td>\n",
       "    </tr>\n",
       "    <tr>\n",
       "      <th>1</th>\n",
       "      <td>2</td>\n",
       "      <td>A1BG-AS1</td>\n",
       "      <td>A1BG antisense RNA 1</td>\n",
       "      <td>503538</td>\n",
       "      <td>lncRNA</td>\n",
       "      <td>0.004178</td>\n",
       "      <td>0.032895</td>\n",
       "      <td>0.971929</td>\n",
       "      <td>0.986309</td>\n",
       "      <td>0.155902</td>\n",
       "      <td>...</td>\n",
       "      <td>40</td>\n",
       "      <td>36</td>\n",
       "      <td>26</td>\n",
       "      <td>87</td>\n",
       "      <td>23</td>\n",
       "      <td>72</td>\n",
       "      <td>74</td>\n",
       "      <td>55</td>\n",
       "      <td>64</td>\n",
       "      <td>53</td>\n",
       "    </tr>\n",
       "    <tr>\n",
       "      <th>2</th>\n",
       "      <td>3</td>\n",
       "      <td>A2M-AS1</td>\n",
       "      <td>A2M antisense RNA 1 (head to head)</td>\n",
       "      <td>144571</td>\n",
       "      <td>lncRNA</td>\n",
       "      <td>0.356337</td>\n",
       "      <td>0.932311</td>\n",
       "      <td>0.050847</td>\n",
       "      <td>0.179776</td>\n",
       "      <td>-0.359549</td>\n",
       "      <td>...</td>\n",
       "      <td>16</td>\n",
       "      <td>23</td>\n",
       "      <td>40</td>\n",
       "      <td>104</td>\n",
       "      <td>370</td>\n",
       "      <td>199</td>\n",
       "      <td>81</td>\n",
       "      <td>30</td>\n",
       "      <td>228</td>\n",
       "      <td>33</td>\n",
       "    </tr>\n",
       "    <tr>\n",
       "      <th>3</th>\n",
       "      <td>4</td>\n",
       "      <td>AAAS</td>\n",
       "      <td>aladin WD repeat nucleoporin</td>\n",
       "      <td>8086</td>\n",
       "      <td>protein_coding</td>\n",
       "      <td>-0.139005</td>\n",
       "      <td>-0.152091</td>\n",
       "      <td>0.285215</td>\n",
       "      <td>0.495514</td>\n",
       "      <td>-0.118870</td>\n",
       "      <td>...</td>\n",
       "      <td>130</td>\n",
       "      <td>71</td>\n",
       "      <td>28</td>\n",
       "      <td>178</td>\n",
       "      <td>62</td>\n",
       "      <td>219</td>\n",
       "      <td>176</td>\n",
       "      <td>106</td>\n",
       "      <td>160</td>\n",
       "      <td>121</td>\n",
       "    </tr>\n",
       "    <tr>\n",
       "      <th>4</th>\n",
       "      <td>5</td>\n",
       "      <td>AACS</td>\n",
       "      <td>acetoacetyl-CoA synthetase</td>\n",
       "      <td>65985</td>\n",
       "      <td>protein_coding</td>\n",
       "      <td>0.138032</td>\n",
       "      <td>0.143003</td>\n",
       "      <td>0.088856</td>\n",
       "      <td>0.251817</td>\n",
       "      <td>0.075925</td>\n",
       "      <td>...</td>\n",
       "      <td>192</td>\n",
       "      <td>157</td>\n",
       "      <td>71</td>\n",
       "      <td>228</td>\n",
       "      <td>130</td>\n",
       "      <td>185</td>\n",
       "      <td>198</td>\n",
       "      <td>114</td>\n",
       "      <td>131</td>\n",
       "      <td>157</td>\n",
       "    </tr>\n",
       "  </tbody>\n",
       "</table>\n",
       "<p>5 rows × 140 columns</p>\n",
       "</div>"
      ],
      "text/plain": [
       "   RowID        ID                         Description  EntrezID  \\\n",
       "0      1      A1BG              alpha-1-B glycoprotein         1   \n",
       "1      2  A1BG-AS1                A1BG antisense RNA 1    503538   \n",
       "2      3   A2M-AS1  A2M antisense RNA 1 (head to head)    144571   \n",
       "3      4      AAAS        aladin WD repeat nucleoporin      8086   \n",
       "4      5      AACS          acetoacetyl-CoA synthetase     65985   \n",
       "\n",
       "            Class  pre_drug.vs.control_ShrunkenLog2FC  \\\n",
       "0  protein_coding                           -0.050497   \n",
       "1          lncRNA                            0.004178   \n",
       "2          lncRNA                            0.356337   \n",
       "3  protein_coding                           -0.139005   \n",
       "4  protein_coding                            0.138032   \n",
       "\n",
       "   pre_drug.vs.control_MLELog2FC  pre_drug.vs.control_pVal  \\\n",
       "0                      -0.066327                  0.691693   \n",
       "1                       0.032895                  0.971929   \n",
       "2                       0.932311                  0.050847   \n",
       "3                      -0.152091                  0.285215   \n",
       "4                       0.143003                  0.088856   \n",
       "\n",
       "   pre_drug.vs.control_pAdj  post_drug.vs.control_ShrunkenLog2FC  ...  \\\n",
       "0                  0.824882                             0.082631  ...   \n",
       "1                  0.986309                             0.155902  ...   \n",
       "2                  0.179776                            -0.359549  ...   \n",
       "3                  0.495514                            -0.118870  ...   \n",
       "4                  0.251817                             0.075925  ...   \n",
       "\n",
       "   Raw_Orkambi_021_Base  Raw_Orkambi_021_V2  Raw_Orkambi_022_Base  \\\n",
       "0                   113                  89                    31   \n",
       "1                    40                  36                    26   \n",
       "2                    16                  23                    40   \n",
       "3                   130                  71                    28   \n",
       "4                   192                 157                    71   \n",
       "\n",
       "   Raw_Orkambi_022_V2  Raw_Orkambi_024_Base  Raw_Orkambi_024_V2  \\\n",
       "0                 125                    44                  78   \n",
       "1                  87                    23                  72   \n",
       "2                 104                   370                 199   \n",
       "3                 178                    62                 219   \n",
       "4                 228                   130                 185   \n",
       "\n",
       "   Raw_Orkambi_025_Base  Raw_Orkambi_025_V2  Raw_Orkambi_026_Base  \\\n",
       "0                   113                  98                    38   \n",
       "1                    74                  55                    64   \n",
       "2                    81                  30                   228   \n",
       "3                   176                 106                   160   \n",
       "4                   198                 114                   131   \n",
       "\n",
       "   Raw_Orkambi_026_V2  \n",
       "0                  70  \n",
       "1                  53  \n",
       "2                  33  \n",
       "3                 121  \n",
       "4                 157  \n",
       "\n",
       "[5 rows x 140 columns]"
      ]
     },
     "execution_count": 22,
     "metadata": {},
     "output_type": "execute_result"
    }
   ],
   "source": [
    "data_df_subset.head()"
   ]
  },
  {
   "cell_type": "code",
   "execution_count": 23,
   "metadata": {},
   "outputs": [],
   "source": [
    "def shuffle(grps):\n",
    "\tnum_grps = len(grps)\n",
    "\tpool = []\n",
    "\t\n",
    "\t# pool all values\n",
    "\tfor i in range(num_grps):\n",
    "\t\tpool.extend(grps[i])\n",
    "\t# mix them up\n",
    "\trandom.shuffle(pool)\n",
    "\t# reassign to groups of same size as original groups\n",
    "\tnew_grps = []\n",
    "\tstart_index = 0\n",
    "\tend_index = 0\n",
    "\tfor i in range(num_grps):\n",
    "\t\tend_index = start_index + len(grps[i])\n",
    "\t\tnew_grps.append(pool[start_index:end_index])\n",
    "\t\tstart_index = end_index\n",
    "\treturn new_grps"
   ]
  },
  {
   "cell_type": "code",
   "execution_count": 69,
   "metadata": {},
   "outputs": [],
   "source": [
    "def meandiff(grpA, grpB):\n",
    "\treturn sum(grpB) / float(len(grpB)) - sum(grpA) / float(len(grpA))"
   ]
  },
  {
   "cell_type": "code",
   "execution_count": 70,
   "metadata": {},
   "outputs": [],
   "source": [
    "def meanlogFC(grpA, grpB):\n",
    "    return math.log2( (sum(grpB) / float(len(grpB))) / (sum(grpA) / float(len(grpA))))"
   ]
  },
  {
   "cell_type": "code",
   "execution_count": 71,
   "metadata": {},
   "outputs": [],
   "source": [
    "def diff2meansig(grpA, grpB):\n",
    "\n",
    "    # list of lists\n",
    "    samples = [grpA, grpB]\n",
    "    a = 0\n",
    "    b = 1\n",
    "\n",
    "    observed_mean_diff = meandiff(samples[a], samples[b])\n",
    "    all_mean_diffs = []\n",
    "\n",
    "    count = 0\n",
    "    num_shuffles = 100000\n",
    "\n",
    "    for i in range(num_shuffles):\n",
    "        new_samples = shuffle(samples)\n",
    "        mean_diff = meandiff(new_samples[a], new_samples[b])\n",
    "        all_mean_diffs.append(mean_diff)\n",
    "        # if the observed difference is negative, look for differences that are smaller\n",
    "        # if the observed difference is positive, look for differences that are greater\n",
    "        if observed_mean_diff < 0 and mean_diff <= observed_mean_diff:\n",
    "            count = count + 1\n",
    "        elif observed_mean_diff >= 0 and mean_diff >= observed_mean_diff:\n",
    "            count = count + 1\n",
    "    \n",
    "    return count/num_shuffles"
   ]
  },
  {
   "cell_type": "code",
   "execution_count": 72,
   "metadata": {},
   "outputs": [],
   "source": [
    "def lfc2meansig(grpA, grpB):\n",
    "\n",
    "    # list of lists\n",
    "    samples = [grpA, grpB]\n",
    "    a = 0\n",
    "    b = 1\n",
    "\n",
    "    observed_mean_diff = meanlogFC(samples[a], samples[b])\n",
    "    all_mean_diffs = []\n",
    "\n",
    "    count = 0\n",
    "    num_shuffles = 100000\n",
    "\n",
    "    for i in range(num_shuffles):\n",
    "        new_samples = shuffle(samples)\n",
    "        mean_diff = meanlogFC(new_samples[a], new_samples[b])\n",
    "        all_mean_diffs.append(mean_diff)\n",
    "        # if the observed difference is negative, look for differences that are smaller\n",
    "        # if the observed difference is positive, look for differences that are greater\n",
    "        if observed_mean_diff < 0 and mean_diff <= observed_mean_diff:\n",
    "            count = count + 1\n",
    "        elif observed_mean_diff >= 0 and mean_diff >= observed_mean_diff:\n",
    "            count = count + 1\n",
    "    \n",
    "    return count/num_shuffles"
   ]
  },
  {
   "cell_type": "code",
   "execution_count": 24,
   "metadata": {},
   "outputs": [],
   "source": [
    "df_norm_hc = data_df_subset[healthy_control]\n",
    "df_norm_cf = data_df_subset[norm_cols_base]"
   ]
  },
  {
   "cell_type": "code",
   "execution_count": 102,
   "metadata": {},
   "outputs": [],
   "source": [
    "def avg_diff_sig_test(df_norm_hc, df_norm_cf):\n",
    "    fullzip = list(zip(df_norm_hc.values, df_norm_cf.values))\n",
    "    #print(fullzip[0][1])\n",
    "    #all_p_sig_values = [diff2meansig(fullzip[i][0],fullzip[i][1]) for i in range(100)]\n",
    "    #all_p_sig_values = [diff2meansig(fullzip[i][0],fullzip[i][1]) for i in range(len(fullzip))]\n",
    "    all_p_sig_values = [lfc2meansig(fullzip[i][0],fullzip[i][1]) for i in range(len(fullzip))]\n",
    "    \n",
    "    return list(all_p_sig_values)"
   ]
  },
  {
   "cell_type": "code",
   "execution_count": 103,
   "metadata": {},
   "outputs": [
    {
     "name": "stdout",
     "output_type": "stream",
     "text": [
      "58962.5330247879\n"
     ]
    }
   ],
   "source": [
    "import time\n",
    "a = time.time()\n",
    "norm_p_values = avg_diff_sig_test(df_norm_hc, df_norm_cf)\n",
    "b = time.time()\n",
    "print(b - a)"
   ]
  },
  {
   "cell_type": "code",
   "execution_count": 26,
   "metadata": {
    "colab": {
     "base_uri": "https://localhost:8080/",
     "height": 164
    },
    "colab_type": "code",
    "id": "UjjjK_laeQq0",
    "outputId": "4d3ea549-fbb8-49de-f164-4b2921839883"
   },
   "outputs": [
    {
     "data": {
      "text/plain": [
       "[0.3615, 0.47724, 0.17866, 0.09279, 0.00214]"
      ]
     },
     "execution_count": 26,
     "metadata": {},
     "output_type": "execute_result"
    }
   ],
   "source": [
    "norm_p_values[0:5]"
   ]
  },
  {
   "cell_type": "code",
   "execution_count": 25,
   "metadata": {
    "colab": {},
    "colab_type": "code",
    "id": "2quyhpBaRy0f"
   },
   "outputs": [],
   "source": [
    "pickle.dump( norm_p_values, open( \"norm_p_values_unpaired.p\", \"wb\" ) )"
   ]
  },
  {
   "cell_type": "markdown",
   "metadata": {
    "colab_type": "text",
    "id": "If3jPZW6R13a"
   },
   "source": [
    "**Bonferroni correction**"
   ]
  },
  {
   "cell_type": "markdown",
   "metadata": {
    "colab_type": "text",
    "id": "gb-bYne4R6TZ"
   },
   "source": [
    "In this method, we divide the threshold by the number of genes. So, if we take a default threshold of 5% (or 0.05), now our threshold would be `0.05/len(norm_p_values)`"
   ]
  },
  {
   "cell_type": "markdown",
   "metadata": {},
   "source": [
    "Bonferroni may just be all genes that have only 0.\n",
    " - count the number of p-values that are 0\n",
    "violin plot of a set, 5-10 genes to see if they are really separate. \n",
    "confirm that their diagnostics are also present here.\n",
    "Take top 5 genes to do machine learning.\n",
    " - do decision tree and random forest\n"
   ]
  },
  {
   "cell_type": "code",
   "execution_count": 27,
   "metadata": {
    "colab": {
     "base_uri": "https://localhost:8080/",
     "height": 170
    },
    "colab_type": "code",
    "id": "joWk5fWbSBRK",
    "outputId": "18fa802f-1bea-4efa-9c3b-873835adfc8e",
    "tags": []
   },
   "outputs": [
    {
     "name": "stdout",
     "output_type": "stream",
     "text": [
      "Number of significant genes:  613\n"
     ]
    }
   ],
   "source": [
    "norm_p_values = pickle.load( open( \"norm_p_values_unpaired.p\", \"rb\" ) )\n",
    "count_significant_genes_bonferroni = 0\n",
    "for i, ele in enumerate(norm_p_values):\n",
    "  if ele < (0.05/len(norm_p_values)):\n",
    "    count_significant_genes_bonferroni += 1\n",
    "    #print(i+1)\n",
    "print(\"Number of significant genes: \", count_significant_genes_bonferroni)"
   ]
  },
  {
   "cell_type": "code",
   "execution_count": 28,
   "metadata": {},
   "outputs": [
    {
     "data": {
      "text/plain": [
       "613"
      ]
     },
     "execution_count": 28,
     "metadata": {},
     "output_type": "execute_result"
    }
   ],
   "source": [
    "norm_p_values.count(0)"
   ]
  },
  {
   "cell_type": "code",
   "execution_count": 29,
   "metadata": {},
   "outputs": [],
   "source": [
    "tmp_sorted_indices = np.argsort(norm_p_values)"
   ]
  },
  {
   "cell_type": "code",
   "execution_count": 51,
   "metadata": {},
   "outputs": [
    {
     "data": {
      "text/plain": [
       "['AKAP10', 'YTHDF3', 'TBC1D1', 'CARD6', 'TBC1D14']"
      ]
     },
     "execution_count": 51,
     "metadata": {},
     "output_type": "execute_result"
    }
   ],
   "source": [
    "# bonferroni is 1248, so let's take the top 1248 and compare\n",
    "\n",
    "bon_sig_index = tmp_sorted_indices[:613]\n",
    "\n",
    "bon_sig_genes = [data_df_subset[\"ID\"].iloc[bon_sig_index[i]] for i in range(len(bon_sig_index))]\n",
    "bon_sig_genes[:5]"
   ]
  },
  {
   "cell_type": "markdown",
   "metadata": {
    "colab_type": "text",
    "id": "1wbHwRJkSH7K"
   },
   "source": [
    "**Benjamini–Hochberg procedure**"
   ]
  },
  {
   "cell_type": "markdown",
   "metadata": {
    "colab_type": "text",
    "id": "ltfby0LWSM4c"
   },
   "source": [
    " Put the individual P values in order, from smallest to largest. The smallest P value has a rank of i=1, then next smallest has i=2, etc. Compare each individual P value to its Benjamini-Hochberg critical value, (i/m)Q, where i is the rank, m is the total number of tests, and Q is the false discovery rate you choose. The largest P value that has P<(i/m)Q is significant, and all of the P values smaller than it are also significant, even the ones that aren't less than their Benjamini-Hochberg critical value."
   ]
  },
  {
   "cell_type": "code",
   "execution_count": 31,
   "metadata": {
    "colab": {},
    "colab_type": "code",
    "id": "CSvKOcR5SIZJ"
   },
   "outputs": [],
   "source": [
    "def benjamin_hochberg_corrected_p_values(p_values, fdr):\n",
    "  num_genes = len(p_values)\n",
    "  sorted_indices = np.argsort(p_values)\n",
    "  sorted_p_values = sorted(p_values)\n",
    "  benjamini_hochberg_critical_values = [((i+1)/num_genes)*fdr for i in range(num_genes)]\n",
    "  for i, p_value in reversed(list(enumerate(sorted_p_values))):\n",
    "    if p_value < benjamini_hochberg_critical_values[i]:\n",
    "      break\n",
    "  return i, sorted_indices"
   ]
  },
  {
   "cell_type": "code",
   "execution_count": 32,
   "metadata": {
    "colab": {
     "base_uri": "https://localhost:8080/",
     "height": 34
    },
    "colab_type": "code",
    "id": "fGZnls8PSRaf",
    "outputId": "9d878dd4-abbd-4a08-8268-5e79272e11a0",
    "tags": []
   },
   "outputs": [
    {
     "name": "stdout",
     "output_type": "stream",
     "text": [
      "Number of significant genes:  5338\n"
     ]
    }
   ],
   "source": [
    "norm_p_values = pickle.load( open( \"norm_p_values_unpaired.p\", \"rb\" ) )\n",
    "i, sorted_indices = benjamin_hochberg_corrected_p_values(norm_p_values, 0.05)\n",
    "num_sig_genes = i+1\n",
    "print(\"Number of significant genes: \", num_sig_genes)"
   ]
  },
  {
   "cell_type": "code",
   "execution_count": 33,
   "metadata": {
    "colab": {
     "base_uri": "https://localhost:8080/",
     "height": 34
    },
    "colab_type": "code",
    "id": "nhaIX-MTSf2_",
    "outputId": "b092dc06-a8ec-484e-9ebe-e0c4d629affe"
   },
   "outputs": [
    {
     "data": {
      "text/plain": [
       "['AKAP10', 'YTHDF3', 'TBC1D1', 'CARD6', 'TBC1D14']"
      ]
     },
     "execution_count": 33,
     "metadata": {},
     "output_type": "execute_result"
    }
   ],
   "source": [
    "significant_genes = []\n",
    "\n",
    "significant_genes = [data_df_subset[\"ID\"].iloc[sorted_indices[i]] for i in range(len(sorted_indices))]\n",
    "significant_genes[:5]"
   ]
  },
  {
   "cell_type": "code",
   "execution_count": 35,
   "metadata": {
    "colab": {
     "base_uri": "https://localhost:8080/",
     "height": 170
    },
    "colab_type": "code",
    "id": "6wYK5OdSSirJ",
    "outputId": "37a1646e-69cb-421c-9898-466db0a45024",
    "tags": []
   },
   "outputs": [
    {
     "name": "stdout",
     "output_type": "stream",
     "text": [
      "       RowID        ID                                        Description\n",
      "0          1      A1BG                             alpha-1-B glycoprotein\n",
      "1          2  A1BG-AS1                               A1BG antisense RNA 1\n",
      "2          3   A2M-AS1                 A2M antisense RNA 1 (head to head)\n",
      "3          4      AAAS                       aladin WD repeat nucleoporin\n",
      "4          5      AACS                         acetoacetyl-CoA synthetase\n",
      "...      ...       ...                                                ...\n",
      "15565  15566      ZXDC                           ZXD family zinc finger C\n",
      "15566  15567    ZYG11B       zyg-11 family member B, cell cycle regulator\n",
      "15567  15568       ZYX                                              zyxin\n",
      "15568  15569     ZZEF1  zinc finger ZZ-type and EF-hand domain contain...\n",
      "15569  15570      ZZZ3                   zinc finger ZZ-type containing 3\n",
      "\n",
      "[15250 rows x 3 columns]\n"
     ]
    }
   ],
   "source": [
    "print(data_df_subset.loc[data_df_subset['ID'].isin(significant_genes)][['RowID', 'ID', 'Description']])"
   ]
  },
  {
   "cell_type": "code",
   "execution_count": 36,
   "metadata": {
    "colab": {},
    "colab_type": "code",
    "id": "DCbRAr5yRp7A"
   },
   "outputs": [],
   "source": [
    "#draw histogram\n",
    "\n",
    "def draw_hist(d, observed):\n",
    "    print(observed)\n",
    "    hist,bin_edges = np.histogram(d,bins =100)    \n",
    "    plt.figure(figsize=[8,8])\n",
    "    plt.bar(bin_edges[:-1], hist, width = 0.01, color='#0504aa',alpha=0.7)\n",
    "    #plt.xlim(min(min(bin_edges),-4), max(max(bin_edges),4))\n",
    "    plt.grid(axis='y', alpha=0.75)\n",
    "    plt.xlabel('Value',fontsize=15)\n",
    "    plt.ylabel('Frequency',fontsize=15)\n",
    "    plt.xticks(fontsize=15)\n",
    "    plt.yticks(fontsize=15)\n",
    "    plt.ylabel('Frequency',fontsize=15)\n",
    "    plt.title('Normal Distribution Histogram',fontsize=15)\n",
    "    plt.axvline(x=observed, color='r', linestyle='dashed', linewidth=2)\n",
    "    plt.show()"
   ]
  },
  {
   "cell_type": "code",
   "execution_count": 37,
   "metadata": {
    "colab": {},
    "colab_type": "code",
    "id": "iFjKawc_tu-h"
   },
   "outputs": [
    {
     "name": "stdout",
     "output_type": "stream",
     "text": [
      "0.05\n"
     ]
    },
    {
     "data": {
      "image/png": "[encoded data removed]",
      "text/plain": [
       "<Figure size 576x576 with 1 Axes>"
      ]
     },
     "metadata": {
      "needs_background": "light"
     },
     "output_type": "display_data"
    }
   ],
   "source": [
    "draw_hist(norm_p_values, 0.05)"
   ]
  },
  {
   "cell_type": "code",
   "execution_count": 38,
   "metadata": {},
   "outputs": [
    {
     "data": {
      "text/html": [
       "<div>\n",
       "<style scoped>\n",
       "    .dataframe tbody tr th:only-of-type {\n",
       "        vertical-align: middle;\n",
       "    }\n",
       "\n",
       "    .dataframe tbody tr th {\n",
       "        vertical-align: top;\n",
       "    }\n",
       "\n",
       "    .dataframe thead th {\n",
       "        text-align: right;\n",
       "    }\n",
       "</style>\n",
       "<table border=\"1\" class=\"dataframe\">\n",
       "  <thead>\n",
       "    <tr style=\"text-align: right;\">\n",
       "      <th></th>\n",
       "      <th>ID</th>\n",
       "      <th>variable</th>\n",
       "      <th>value</th>\n",
       "    </tr>\n",
       "  </thead>\n",
       "  <tbody>\n",
       "    <tr>\n",
       "      <th>0</th>\n",
       "      <td>A1BG</td>\n",
       "      <td>HC</td>\n",
       "      <td>77.278533</td>\n",
       "    </tr>\n",
       "    <tr>\n",
       "      <th>1</th>\n",
       "      <td>A1BG-AS1</td>\n",
       "      <td>HC</td>\n",
       "      <td>46.748742</td>\n",
       "    </tr>\n",
       "    <tr>\n",
       "      <th>2</th>\n",
       "      <td>A2M-AS1</td>\n",
       "      <td>HC</td>\n",
       "      <td>70.600142</td>\n",
       "    </tr>\n",
       "    <tr>\n",
       "      <th>3</th>\n",
       "      <td>AAAS</td>\n",
       "      <td>HC</td>\n",
       "      <td>153.603011</td>\n",
       "    </tr>\n",
       "    <tr>\n",
       "      <th>4</th>\n",
       "      <td>AACS</td>\n",
       "      <td>HC</td>\n",
       "      <td>189.857138</td>\n",
       "    </tr>\n",
       "  </tbody>\n",
       "</table>\n",
       "</div>"
      ],
      "text/plain": [
       "         ID variable       value\n",
       "0      A1BG       HC   77.278533\n",
       "1  A1BG-AS1       HC   46.748742\n",
       "2   A2M-AS1       HC   70.600142\n",
       "3      AAAS       HC  153.603011\n",
       "4      AACS       HC  189.857138"
      ]
     },
     "execution_count": 38,
     "metadata": {},
     "output_type": "execute_result"
    }
   ],
   "source": [
    "norm_hc_cf_with_genename = [\"ID\"]\n",
    "norm_hc_cf_with_genename.extend(healthy_control)\n",
    "norm_hc_cf_with_genename_melt = data_df_subset[norm_hc_cf_with_genename].melt(\"ID\")\n",
    "norm_hc_cf_with_genename_melt.variable=\"HC\"\n",
    "#print(norm_hc_cf_with_genename_melt.shape)\n",
    "\n",
    "\n",
    "norm_cf_with_genename = [\"ID\"]\n",
    "norm_cf_with_genename.extend(norm_cols_v2)\n",
    "norm_cf_with_genename_melt = data_df_subset[norm_cf_with_genename].melt(\"ID\")\n",
    "norm_cf_with_genename_melt.variable=\"CF\"\n",
    "#print(norm_cf_with_genename_melt.shape)\n",
    "\n",
    "norm_hc_cf_with_genename_melt = norm_hc_cf_with_genename_melt.append(norm_cf_with_genename_melt, ignore_index=True)\n",
    "norm_hc_cf_with_genename_melt.head()"
   ]
  },
  {
   "cell_type": "code",
   "execution_count": 70,
   "metadata": {},
   "outputs": [],
   "source": [
    "#list(norm_hc_cf_with_genename_melt.ID.values)"
   ]
  },
  {
   "cell_type": "markdown",
   "metadata": {},
   "source": [
    "## Violin Plots"
   ]
  },
  {
   "cell_type": "code",
   "execution_count": 71,
   "metadata": {},
   "outputs": [],
   "source": [
    "#norm_hc_cf_with_genename_melt."
   ]
  },
  {
   "cell_type": "code",
   "execution_count": 39,
   "metadata": {},
   "outputs": [],
   "source": [
    "#data_df.iloc(tmp_sorted_indices[0])\n",
    "#genestoplot=norm_hc_cf_with_genename_melt[norm_hc_cf_with_genename_melt.ID.isin(top_sorted_genes[2:3])]\n",
    "genestoplot=norm_hc_cf_with_genename_melt[norm_hc_cf_with_genename_melt.ID.isin(bon_sig_genes[2:3])]\n"
   ]
  },
  {
   "cell_type": "code",
   "execution_count": 40,
   "metadata": {},
   "outputs": [
    {
     "data": {
      "text/plain": [
       "<AxesSubplot:xlabel='ID', ylabel='value'>"
      ]
     },
     "execution_count": 40,
     "metadata": {},
     "output_type": "execute_result"
    },
    {
     "data": {
      "image/png": "[encoded data removed]",
      "text/plain": [
       "<Figure size 432x288 with 1 Axes>"
      ]
     },
     "metadata": {
      "needs_background": "light"
     },
     "output_type": "display_data"
    }
   ],
   "source": [
    "sns.violinplot(x=\"ID\", y=\"value\", hue=\"variable\",data=genestoplot)"
   ]
  },
  {
   "cell_type": "code",
   "execution_count": 41,
   "metadata": {},
   "outputs": [],
   "source": [
    "tmp_sorted_p_values = sorted(norm_p_values)"
   ]
  },
  {
   "cell_type": "code",
   "execution_count": 42,
   "metadata": {},
   "outputs": [
    {
     "data": {
      "text/plain": [
       "613"
      ]
     },
     "execution_count": 42,
     "metadata": {},
     "output_type": "execute_result"
    }
   ],
   "source": [
    "tmp_sorted_p_values.count(0)"
   ]
  },
  {
   "cell_type": "code",
   "execution_count": 43,
   "metadata": {},
   "outputs": [],
   "source": [
    "tmp_critical_values = [((i+1)/15000)*0.05 for i in range(15000)]"
   ]
  },
  {
   "cell_type": "code",
   "execution_count": 44,
   "metadata": {},
   "outputs": [
    {
     "data": {
      "text/plain": [
       "[3.3333333333333337e-06,\n",
       " 6.6666666666666675e-06,\n",
       " 1e-05,\n",
       " 1.3333333333333335e-05,\n",
       " 1.6666666666666667e-05,\n",
       " 2e-05,\n",
       " 2.3333333333333336e-05,\n",
       " 2.666666666666667e-05,\n",
       " 2.9999999999999997e-05,\n",
       " 3.3333333333333335e-05]"
      ]
     },
     "execution_count": 44,
     "metadata": {},
     "output_type": "execute_result"
    }
   ],
   "source": [
    "tmp_critical_values[:10]"
   ]
  },
  {
   "cell_type": "markdown",
   "metadata": {},
   "source": [
    "# Compare results to published."
   ]
  },
  {
   "cell_type": "code",
   "execution_count": 52,
   "metadata": {},
   "outputs": [
    {
     "data": {
      "text/plain": [
       "1944"
      ]
     },
     "execution_count": 52,
     "metadata": {},
     "output_type": "execute_result"
    }
   ],
   "source": [
    "#np.count_nonzero(abs(2) < abs(a))\n",
    "published_sig_logic = data_df_subset['pre_drug.vs.control_pAdj'] < 0.05\n",
    "np.count_nonzero(published_sig_logic)"
   ]
  },
  {
   "cell_type": "code",
   "execution_count": 53,
   "metadata": {},
   "outputs": [],
   "source": [
    "published_sig_index = [i for i, x in enumerate(published_sig_logic) if x]"
   ]
  },
  {
   "cell_type": "code",
   "execution_count": 54,
   "metadata": {},
   "outputs": [
    {
     "data": {
      "text/plain": [
       "['ABAT', 'ABCA13', 'ABCA2', 'ABHD13', 'ABHD14A']"
      ]
     },
     "execution_count": 54,
     "metadata": {},
     "output_type": "execute_result"
    }
   ],
   "source": [
    "published_significant_genes = []\n",
    "published_significant_genes = [data_df_subset[\"ID\"].iloc[published_sig_index[i]] for i in range(len(published_sig_index))]\n",
    "published_significant_genes[:5]"
   ]
  },
  {
   "cell_type": "code",
   "execution_count": 55,
   "metadata": {},
   "outputs": [],
   "source": [
    "def intersection(lst1, lst2): \n",
    "    lst3 = [value for value in lst1 if value in lst2] \n",
    "    return lst3 \n",
    "\n",
    "sig_intersection = intersection(published_significant_genes, significant_genes)"
   ]
  },
  {
   "cell_type": "code",
   "execution_count": 56,
   "metadata": {},
   "outputs": [
    {
     "data": {
      "text/plain": [
       "1944"
      ]
     },
     "execution_count": 56,
     "metadata": {},
     "output_type": "execute_result"
    }
   ],
   "source": [
    "len(sig_intersection)"
   ]
  },
  {
   "cell_type": "code",
   "execution_count": 57,
   "metadata": {},
   "outputs": [
    {
     "data": {
      "text/plain": [
       "577"
      ]
     },
     "execution_count": 57,
     "metadata": {},
     "output_type": "execute_result"
    }
   ],
   "source": [
    "len(intersection(bon_sig_genes, published_significant_genes))"
   ]
  },
  {
   "cell_type": "code",
   "execution_count": 58,
   "metadata": {},
   "outputs": [],
   "source": [
    "import statsmodels.stats.multitest as ssm\n",
    "norm_p_values_np = np.array(norm_p_values, float)\n",
    "\n",
    "rej, s_adjpval = ssm.multipletests(norm_p_values_np, alpha=0.05, method=\"s\")[:2]\n",
    "rej, fdr_adjpval = ssm.multipletests(norm_p_values_np, alpha=0.05, method=\"fdr_i\")[:2]"
   ]
  },
  {
   "cell_type": "code",
   "execution_count": 59,
   "metadata": {},
   "outputs": [
    {
     "data": {
      "text/plain": [
       "[0.0, 0.0, 0.0, 0.0, 0.0, 0.0, 0.0, 0.0, 0.0, 0.0]"
      ]
     },
     "execution_count": 59,
     "metadata": {},
     "output_type": "execute_result"
    }
   ],
   "source": [
    "tmp_sorted_s_adjpval = sorted(s_adjpval)\n",
    "tmp_sorted_s_adjpval[:10]"
   ]
  },
  {
   "cell_type": "code",
   "execution_count": 60,
   "metadata": {},
   "outputs": [
    {
     "data": {
      "text/plain": [
       "[0.0, 0.0, 0.0, 0.0, 0.0, 0.0, 0.0, 0.0, 0.0, 0.0]"
      ]
     },
     "execution_count": 60,
     "metadata": {},
     "output_type": "execute_result"
    }
   ],
   "source": [
    "tmp_sorted_fdr_adjpval = sorted(fdr_adjpval)\n",
    "tmp_sorted_fdr_adjpval[:10]"
   ]
  },
  {
   "cell_type": "code",
   "execution_count": 61,
   "metadata": {},
   "outputs": [
    {
     "data": {
      "text/plain": [
       "5338"
      ]
     },
     "execution_count": 61,
     "metadata": {},
     "output_type": "execute_result"
    }
   ],
   "source": [
    "sum(np.array(tmp_sorted_fdr_adjpval)<0.05)"
   ]
  },
  {
   "cell_type": "code",
   "execution_count": 62,
   "metadata": {},
   "outputs": [
    {
     "data": {
      "text/html": [
       "<div>\n",
       "<style scoped>\n",
       "    .dataframe tbody tr th:only-of-type {\n",
       "        vertical-align: middle;\n",
       "    }\n",
       "\n",
       "    .dataframe tbody tr th {\n",
       "        vertical-align: top;\n",
       "    }\n",
       "\n",
       "    .dataframe thead th {\n",
       "        text-align: right;\n",
       "    }\n",
       "</style>\n",
       "<table border=\"1\" class=\"dataframe\">\n",
       "  <thead>\n",
       "    <tr style=\"text-align: right;\">\n",
       "      <th></th>\n",
       "      <th>0</th>\n",
       "      <th>1</th>\n",
       "      <th>2</th>\n",
       "      <th>3</th>\n",
       "      <th>4</th>\n",
       "      <th>5</th>\n",
       "      <th>6</th>\n",
       "      <th>7</th>\n",
       "      <th>8</th>\n",
       "      <th>9</th>\n",
       "    </tr>\n",
       "  </thead>\n",
       "  <tbody>\n",
       "    <tr>\n",
       "      <th>0</th>\n",
       "      <td>0.0</td>\n",
       "      <td>0.0</td>\n",
       "      <td>0.0</td>\n",
       "      <td>0.0</td>\n",
       "      <td>0.0</td>\n",
       "      <td>0.0</td>\n",
       "      <td>0.0</td>\n",
       "      <td>0.0</td>\n",
       "      <td>0.0</td>\n",
       "      <td>0.0</td>\n",
       "    </tr>\n",
       "    <tr>\n",
       "      <th>1</th>\n",
       "      <td>0.0</td>\n",
       "      <td>0.0</td>\n",
       "      <td>0.0</td>\n",
       "      <td>0.0</td>\n",
       "      <td>0.0</td>\n",
       "      <td>0.0</td>\n",
       "      <td>0.0</td>\n",
       "      <td>0.0</td>\n",
       "      <td>0.0</td>\n",
       "      <td>0.0</td>\n",
       "    </tr>\n",
       "    <tr>\n",
       "      <th>2</th>\n",
       "      <td>0.0</td>\n",
       "      <td>0.0</td>\n",
       "      <td>0.0</td>\n",
       "      <td>0.0</td>\n",
       "      <td>0.0</td>\n",
       "      <td>0.0</td>\n",
       "      <td>0.0</td>\n",
       "      <td>0.0</td>\n",
       "      <td>0.0</td>\n",
       "      <td>0.0</td>\n",
       "    </tr>\n",
       "  </tbody>\n",
       "</table>\n",
       "</div>"
      ],
      "text/plain": [
       "     0    1    2    3    4    5    6    7    8    9\n",
       "0  0.0  0.0  0.0  0.0  0.0  0.0  0.0  0.0  0.0  0.0\n",
       "1  0.0  0.0  0.0  0.0  0.0  0.0  0.0  0.0  0.0  0.0\n",
       "2  0.0  0.0  0.0  0.0  0.0  0.0  0.0  0.0  0.0  0.0"
      ]
     },
     "execution_count": 62,
     "metadata": {},
     "output_type": "execute_result"
    }
   ],
   "source": [
    "pd.DataFrame([tmp_sorted_p_values[:10],tmp_sorted_fdr_adjpval[:10],tmp_sorted_s_adjpval[:10]])"
   ]
  },
  {
   "cell_type": "markdown",
   "metadata": {},
   "source": [
    "# Healthy control vs CF confidence interval"
   ]
  },
  {
   "cell_type": "code",
   "execution_count": 63,
   "metadata": {},
   "outputs": [
    {
     "name": "stdout",
     "output_type": "stream",
     "text": [
      "(613, 20) (613, 20)\n"
     ]
    }
   ],
   "source": [
    "# We will only look at the confidence intervals of the genes that had 0 events.\n",
    "data_df_subset_bon = data_df_subset[data_df_subset.ID.isin(bon_sig_genes)]\n",
    "df_norm_hc_bon_sig = df_norm_hc[data_df_subset.ID.isin(bon_sig_genes)]\n",
    "df_norm_cf_bon_sig = df_norm_cf[data_df_subset.ID.isin(bon_sig_genes)]\n",
    "print(df_norm_cf_bon_sig.shape,df_norm_hc_bon_sig.shape)"
   ]
  },
  {
   "cell_type": "code",
   "execution_count": 64,
   "metadata": {},
   "outputs": [],
   "source": [
    "def bootstrap(x):\n",
    "\tsamp_x = []\n",
    "\tfor i in range(len(x)):\n",
    "\t\tsamp_x.append(random.choice(x))\n",
    "\treturn samp_x"
   ]
  },
  {
   "cell_type": "code",
   "execution_count": 65,
   "metadata": {},
   "outputs": [],
   "source": [
    "def diff2meanconf(grpA, grpB, conf_interval):\n",
    "    # list of lists\n",
    "    samples = [grpA, grpB] \n",
    "    a = 0\n",
    "    b = 1\n",
    "\n",
    "    # for genes that have more than 50% missing data\n",
    "    # in either sample, return the value 0.\n",
    "    grpA_with_zero = list(grpA).count(0) / len(grpA)\n",
    "    grpB_with_zero = list(grpB).count(0) / len(grpB)\n",
    "    if (grpA_with_zero >= 0.01):\n",
    "        return [0,0]\n",
    "    elif (grpB_with_zero >= 0.01):\n",
    "        return [0,0]\n",
    "    else:\n",
    "        observed_mean_diff = meanlogFC(samples[a], samples[b])\n",
    "        num_resamples = 1000   # number of times we will resample from our original samples\n",
    "        out = []                # will store results of each time we resample\n",
    "        for i in range(num_resamples):\n",
    "            # get bootstrap samples for each of our groups\n",
    "            # then compute our statistic of interest\n",
    "            # append statistic to out\n",
    "            bootstrap_samples = []  # list of lists\n",
    "            for sample in samples:\n",
    "                bootstrap_samples.append(bootstrap(sample))\n",
    "            # now we have a list of bootstrap samples, run meandiff\n",
    "            out.append(meanlogFC(bootstrap_samples[a], bootstrap_samples[b]))\n",
    "        out.sort()\n",
    "        tails = (1 - conf_interval) / 2\n",
    "        # in case our lower and upper bounds are not integers,\n",
    "        # we decrease the range (the values we include in our interval),\n",
    "        # so that we can keep the same level of confidence\n",
    "        lower_bound = int(math.ceil(num_resamples * tails))\n",
    "        upper_bound = int(math.floor(num_resamples * (1 - tails)))\n",
    "        return([out[lower_bound], out[upper_bound]])"
   ]
  },
  {
   "cell_type": "code",
   "execution_count": 73,
   "metadata": {},
   "outputs": [
    {
     "data": {
      "text/plain": [
       "[-0.2150965337945239, 0.18247487449803246]"
      ]
     },
     "execution_count": 73,
     "metadata": {},
     "output_type": "execute_result"
    }
   ],
   "source": [
    "diff2meanconf(list(df_norm_hc_bon_sig.values[1]),list(df_norm_hc_bon_sig.values[1]),.90)"
   ]
  },
  {
   "cell_type": "code",
   "execution_count": 74,
   "metadata": {},
   "outputs": [],
   "source": [
    "fullzip = list(zip(df_norm_hc_bon_sig.values, df_norm_cf_bon_sig.values))\n",
    "all_conf_intervals = [diff2meanconf(fullzip[i][0],fullzip[i][1], 0.90) for i in range(len(fullzip))]\n",
    "   "
   ]
  },
  {
   "cell_type": "code",
   "execution_count": 76,
   "metadata": {},
   "outputs": [],
   "source": [
    "pickle.dump( all_conf_intervals, open( \"all_conf_intervals.p\", \"wb\" ) )"
   ]
  },
  {
   "cell_type": "code",
   "execution_count": 77,
   "metadata": {},
   "outputs": [],
   "source": [
    "all_conf_intervals = pickle.load( open( \"all_conf_intervals.p\", \"rb\" ) )"
   ]
  },
  {
   "cell_type": "code",
   "execution_count": 78,
   "metadata": {},
   "outputs": [],
   "source": [
    "max_conf = [abs(max(all_conf_intervals[i], key=abs)) for i in range(len(all_conf_intervals))]"
   ]
  },
  {
   "cell_type": "code",
   "execution_count": 79,
   "metadata": {},
   "outputs": [
    {
     "data": {
      "text/plain": [
       "array([379, 270, 316, 335, 215,  27, 508, 181, 394, 174])"
      ]
     },
     "execution_count": 79,
     "metadata": {},
     "output_type": "execute_result"
    }
   ],
   "source": [
    "sorted_max_conf = sorted(max_conf, reverse=True)\n",
    "#sorted_max_conf[:10]\n",
    "sorted_max_conf_index = np.argsort(max_conf)\n",
    "\n",
    "top10_conf_index = sorted_max_conf_index[::-1][:10]\n",
    "top10_conf_index"
   ]
  },
  {
   "cell_type": "code",
   "execution_count": 80,
   "metadata": {},
   "outputs": [],
   "source": [
    "top10_ci_genes = [data_df_subset_bon[\"ID\"].iloc[top10_conf_index[i]] for i in range(len(top10_conf_index))]"
   ]
  },
  {
   "cell_type": "code",
   "execution_count": 81,
   "metadata": {},
   "outputs": [
    {
     "data": {
      "text/plain": [
       "['OLAH',\n",
       " 'LOC105372578',\n",
       " 'MCEMP1',\n",
       " 'MMP9',\n",
       " 'IL1R2',\n",
       " 'ANXA3',\n",
       " 'SOCS3',\n",
       " 'G0S2',\n",
       " 'PFKFB3',\n",
       " 'FKBP5']"
      ]
     },
     "execution_count": 81,
     "metadata": {},
     "output_type": "execute_result"
    }
   ],
   "source": [
    "top10_ci_genes"
   ]
  },
  {
   "cell_type": "code",
   "execution_count": 82,
   "metadata": {},
   "outputs": [
    {
     "data": {
      "text/plain": [
       "['oleoyl-ACP hydrolase',\n",
       " nan,\n",
       " 'mast cell-expressed membrane protein 1',\n",
       " 'matrix metallopeptidase 9',\n",
       " 'interleukin 1 receptor type 2',\n",
       " 'annexin A3',\n",
       " 'suppressor of cytokine signaling 3',\n",
       " 'G0/G1 switch 2',\n",
       " '6-phosphofructo-2-kinase/fructose-2,6-biphosphatase 3',\n",
       " 'FK506 binding protein 5']"
      ]
     },
     "execution_count": 82,
     "metadata": {},
     "output_type": "execute_result"
    }
   ],
   "source": [
    "top10_ci_gene_description = [data_df_subset_bon[\"Description\"].iloc[top10_conf_index[i]] for i in range(len(top10_conf_index))]\n",
    "top10_ci_gene_description"
   ]
  },
  {
   "cell_type": "code",
   "execution_count": 83,
   "metadata": {},
   "outputs": [],
   "source": [
    "top10conf = [all_conf_intervals[i] for i in top10_conf_index]"
   ]
  },
  {
   "cell_type": "code",
   "execution_count": 84,
   "metadata": {},
   "outputs": [
    {
     "data": {
      "text/plain": [
       "[[1.8230629035565014, 4.733720738506132],\n",
       " [1.8554714585472232, 3.402753961946862],\n",
       " [1.7771704389195209, 2.8806887850455127],\n",
       " [1.8012407220742266, 2.7356793645219883],\n",
       " [1.0346081331472272, 2.50877695441414],\n",
       " [1.4647597913683876, 2.4845374779431824],\n",
       " [1.5366356061764157, 2.429375497132998],\n",
       " [1.5189916056832473, 2.3824895939148623],\n",
       " [1.5792492265992721, 2.3317526499261856],\n",
       " [0.849195895768444, 2.291423504563962]]"
      ]
     },
     "execution_count": 84,
     "metadata": {},
     "output_type": "execute_result"
    }
   ],
   "source": [
    "top10conf"
   ]
  },
  {
   "cell_type": "code",
   "execution_count": 85,
   "metadata": {},
   "outputs": [],
   "source": [
    "genestoplot=norm_hc_cf_with_genename_melt[norm_hc_cf_with_genename_melt.ID.isin(top10_ci_genes[3:4])]\n"
   ]
  },
  {
   "cell_type": "code",
   "execution_count": 86,
   "metadata": {},
   "outputs": [
    {
     "data": {
      "text/plain": [
       "<AxesSubplot:xlabel='ID', ylabel='value'>"
      ]
     },
     "execution_count": 86,
     "metadata": {},
     "output_type": "execute_result"
    },
    {
     "data": {
      "image/png": "[encoded data removed]",
      "text/plain": [
       "<Figure size 432x288 with 1 Axes>"
      ]
     },
     "metadata": {
      "needs_background": "light"
     },
     "output_type": "display_data"
    }
   ],
   "source": [
    "sns.violinplot(x=\"ID\", y=\"value\", hue=\"variable\",data=genestoplot)\n"
   ]
  },
  {
   "cell_type": "code",
   "execution_count": 87,
   "metadata": {},
   "outputs": [
    {
     "data": {
      "text/plain": [
       "<AxesSubplot:xlabel='ID', ylabel='value'>"
      ]
     },
     "execution_count": 87,
     "metadata": {},
     "output_type": "execute_result"
    },
    {
     "data": {
      "image/png": "[encoded data removed]",
      "text/plain": [
       "<Figure size 432x288 with 1 Axes>"
      ]
     },
     "metadata": {
      "needs_background": "light"
     },
     "output_type": "display_data"
    }
   ],
   "source": [
    "genestoplot=norm_hc_cf_with_genename_melt[norm_hc_cf_with_genename_melt.ID.isin(top10_ci_genes[5:6])]\n",
    "sns.violinplot(x=\"ID\", y=\"value\", hue=\"variable\",data=genestoplot)\n"
   ]
  },
  {
   "cell_type": "code",
   "execution_count": 88,
   "metadata": {},
   "outputs": [
    {
     "data": {
      "text/plain": [
       "<AxesSubplot:xlabel='ID', ylabel='value'>"
      ]
     },
     "execution_count": 88,
     "metadata": {},
     "output_type": "execute_result"
    },
    {
     "data": {
      "image/png": "[encoded data removed]",
      "text/plain": [
       "<Figure size 432x288 with 1 Axes>"
      ]
     },
     "metadata": {
      "needs_background": "light"
     },
     "output_type": "display_data"
    }
   ],
   "source": [
    "genestoplot=norm_hc_cf_with_genename_melt[norm_hc_cf_with_genename_melt.ID.isin(top10_ci_genes[6:7])]\n",
    "sns.violinplot(x=\"ID\", y=\"value\", hue=\"variable\",data=genestoplot)\n"
   ]
  },
  {
   "cell_type": "markdown",
   "metadata": {},
   "source": [
    "## Machine Learning Models"
   ]
  },
  {
   "cell_type": "markdown",
   "metadata": {},
   "source": [
    "First we need to make subset of the dataframe to contain only our top 10 genes"
   ]
  },
  {
   "cell_type": "code",
   "execution_count": 89,
   "metadata": {},
   "outputs": [
    {
     "name": "stdout",
     "output_type": "stream",
     "text": [
      "(10, 20) (10, 20)\n"
     ]
    }
   ],
   "source": [
    "data_df_subset_bon_top10ci = data_df_subset[data_df_subset.ID.isin(top10_ci_genes)]\n",
    "df_norm_hc_bon_sig_top10ci = df_norm_hc[data_df_subset.ID.isin(top10_ci_genes)]\n",
    "df_norm_cf_bon_sig_top10ci = df_norm_cf[data_df_subset.ID.isin(top10_ci_genes)]\n",
    "print(df_norm_hc_bon_sig_top10ci.shape,df_norm_cf_bon_sig_top10ci.shape)"
   ]
  },
  {
   "cell_type": "code",
   "execution_count": 90,
   "metadata": {},
   "outputs": [],
   "source": [
    "df_norm_healthy_T = df_norm_hc_bon_sig_top10ci.T\n",
    "labels_healthy = [1]*20\n",
    "\n",
    "df_norm_base_T = df_norm_cf_bon_sig_top10ci.T\n",
    "labels_patient = [0]*20"
   ]
  },
  {
   "cell_type": "code",
   "execution_count": 91,
   "metadata": {},
   "outputs": [],
   "source": [
    "X1 = df_norm_healthy_T.values\n",
    "X2 = df_norm_base_T.values\n",
    "Y1 = np.zeros((1,20))\n",
    "Y2 = np.ones((1,20))"
   ]
  },
  {
   "cell_type": "code",
   "execution_count": 92,
   "metadata": {},
   "outputs": [
    {
     "data": {
      "text/plain": [
       "(40, 10)"
      ]
     },
     "execution_count": 92,
     "metadata": {},
     "output_type": "execute_result"
    }
   ],
   "source": [
    "X = np.concatenate((X1, X2), axis=0)\n",
    "X.shape"
   ]
  },
  {
   "cell_type": "code",
   "execution_count": 93,
   "metadata": {},
   "outputs": [
    {
     "data": {
      "text/plain": [
       "(40,)"
      ]
     },
     "execution_count": 93,
     "metadata": {},
     "output_type": "execute_result"
    }
   ],
   "source": [
    "Y = np.concatenate((Y1, Y2), axis=1)\n",
    "Y = np.reshape(Y, 40)\n",
    "Y.shape"
   ]
  },
  {
   "cell_type": "code",
   "execution_count": 94,
   "metadata": {},
   "outputs": [],
   "source": [
    "from sklearn.ensemble import RandomForestClassifier\n",
    "from sklearn.model_selection import train_test_split\n",
    "from sklearn.metrics import f1_score"
   ]
  },
  {
   "cell_type": "code",
   "execution_count": 95,
   "metadata": {},
   "outputs": [],
   "source": [
    "X_train, X_test, Y_train, Y_test = train_test_split(X, Y, test_size = 0.20)"
   ]
  },
  {
   "cell_type": "code",
   "execution_count": 96,
   "metadata": {},
   "outputs": [],
   "source": [
    "def randomforest(X_train, X_test, Y_train, Y_test):\n",
    "    clf = RandomForestClassifier().fit(X_train, Y_train)\n",
    "    Y_train_predicted = clf.predict(X_train)\n",
    "    train_score = f1_score(Y_train, Y_train_predicted)\n",
    "    Y_test_predicted = clf.predict(X_test)\n",
    "    test_score = f1_score(Y_test, Y_test_predicted)\n",
    "    return [train_score, test_score]"
   ]
  },
  {
   "cell_type": "code",
   "execution_count": 98,
   "metadata": {},
   "outputs": [
    {
     "name": "stdout",
     "output_type": "stream",
     "text": [
      "5% [1.         0.57142857]\n",
      "95% [1. 1.]\n"
     ]
    }
   ],
   "source": [
    "from sklearn.inspection import permutation_importance\n",
    "score=np.zeros(shape=(100,2))\n",
    "feature_imp_sample=[]\n",
    "for i in range(100):\n",
    "    X_train, X_test, Y_train, Y_test = train_test_split(X, Y, test_size = 0.2, stratify=Y)\n",
    "    score[i,]=(randomforest(X_train, X_test, Y_train, Y_test))\n",
    "    clf = RandomForestClassifier().fit(X_train, Y_train)\n",
    "    perm_imp=permutation_importance(clf, X_train, Y_train, n_repeats=20, scoring='f1')\n",
    "    feature_imp_sample.append(perm_imp.importances_mean)\n",
    "\n",
    "score_sorted = np.sort(score, axis=0)\n",
    "\n",
    "print(\"5%\", score_sorted[5])\n",
    "print(\"95%\", score_sorted[95])"
   ]
  },
  {
   "cell_type": "code",
   "execution_count": 99,
   "metadata": {},
   "outputs": [
    {
     "data": {
      "text/plain": [
       "0.8303730158730153"
      ]
     },
     "execution_count": 99,
     "metadata": {},
     "output_type": "execute_result"
    }
   ],
   "source": [
    "sum(score[:,1])/len(score[:,1])"
   ]
  },
  {
   "cell_type": "code",
   "execution_count": 129,
   "metadata": {},
   "outputs": [],
   "source": [
    "clf = RandomForestClassifier().fit(X_train, Y_train)\n",
    "#result = permutation_importance(clf, X_train, Y_train, n_repeats=5, scoring='f1')\n",
    "result = permutation_importance(clf, X, Y, n_repeats=10)\n"
   ]
  },
  {
   "cell_type": "code",
   "execution_count": 128,
   "metadata": {},
   "outputs": [
    {
     "data": {
      "text/plain": [
       "<AxesSubplot:xlabel='value', ylabel='Gene'>"
      ]
     },
     "execution_count": 128,
     "metadata": {},
     "output_type": "execute_result"
    },
    {
     "data": {
      "image/png": "[encoded data removed]",
      "text/plain": [
       "<Figure size 576x396 with 1 Axes>"
      ]
     },
     "metadata": {},
     "output_type": "display_data"
    }
   ],
   "source": [
    "feature_imp_sample[:2]\n",
    "feature_imp_sample_df = pd.DataFrame(data=feature_imp_sample)\n",
    "feature_imp_sample_df.columns=top10_ci_genes\n",
    "feature_imp_sample_melt = feature_imp_sample_df.melt(var_name=\"Gene\")\n",
    "#feature_imp_sample_melt.head()\n",
    "sns.violinplot(y=\"Gene\",x=\"value\",data=feature_imp_sample_melt)"
   ]
  },
  {
   "cell_type": "code",
   "execution_count": 130,
   "metadata": {},
   "outputs": [
    {
     "data": {
      "text/plain": [
       "array([0.01976983, 0.12711144, 0.05535558, 0.18449754, 0.03179215,\n",
       "       0.05391421, 0.28714244, 0.0211416 , 0.09485545, 0.12441976])"
      ]
     },
     "execution_count": 130,
     "metadata": {},
     "output_type": "execute_result"
    }
   ],
   "source": [
    "clf.feature_importances_"
   ]
  },
  {
   "cell_type": "code",
   "execution_count": 131,
   "metadata": {},
   "outputs": [
    {
     "data": {
      "text/plain": [
       "<AxesSubplot:xlabel='important', ylabel='genes'>"
      ]
     },
     "execution_count": 131,
     "metadata": {},
     "output_type": "execute_result"
    },
    {
     "data": {
      "image/png": "[encoded data removed]",
      "text/plain": [
       "<Figure size 576x396 with 1 Axes>"
      ]
     },
     "metadata": {},
     "output_type": "display_data"
    }
   ],
   "source": [
    "clf_feature_imp = {\"important\" : list(clf.feature_importances_),\n",
    "                   \"genes\" : data_df_subset_bon_top10ci.ID.values}\n",
    "clf_feature_imp_df = pd.DataFrame(data=clf_feature_imp)\n",
    "#clf_feature_imp_df\n",
    "sns.barplot(y=\"genes\",x=\"important\", data=clf_feature_imp_df)"
   ]
  },
  {
   "cell_type": "code",
   "execution_count": 132,
   "metadata": {},
   "outputs": [],
   "source": [
    "result.importances\n",
    "feature_imp_data = {'variables':data_df_subset_bon_top10ci.ID.values,\n",
    "                 'mean':result.importances_mean,\n",
    "                 'sd':result.importances_std}\n",
    "feature_imp_df = pd.DataFrame(data=feature_imp_data)"
   ]
  },
  {
   "cell_type": "code",
   "execution_count": 133,
   "metadata": {},
   "outputs": [
    {
     "data": {
      "text/plain": [
       "array(['ANXA3', 'FKBP5', 'G0S2', 'IL1R2', 'LOC105372578', 'MCEMP1',\n",
       "       'MMP9', 'OLAH', 'PFKFB3', 'SOCS3'], dtype=object)"
      ]
     },
     "execution_count": 133,
     "metadata": {},
     "output_type": "execute_result"
    }
   ],
   "source": [
    "data_df_subset_bon_top10ci.ID.values"
   ]
  },
  {
   "cell_type": "code",
   "execution_count": 134,
   "metadata": {},
   "outputs": [
    {
     "data": {
      "image/png": "[encoded data removed]",
      "text/plain": [
       "<Figure size 576x396 with 1 Axes>"
      ]
     },
     "metadata": {},
     "output_type": "display_data"
    }
   ],
   "source": [
    "sns.set(font_scale=1)\n",
    "\n",
    "feature_plot = sns.barplot(x='variables',y='mean',data=feature_imp_df)\n",
    "feature_plot.set_xticklabels(feature_imp_df['variables'],rotation=90)\n",
    "plt.savefig(\"rnaseq_important_variable.png\")"
   ]
  },
  {
   "cell_type": "code",
   "execution_count": 135,
   "metadata": {},
   "outputs": [
    {
     "data": {
      "text/plain": [
       "array([[1.        , 0.75      ],\n",
       "       [1.        , 0.85714286],\n",
       "       [1.        , 0.8       ],\n",
       "       [1.        , 0.75      ],\n",
       "       [1.        , 0.75      ]])"
      ]
     },
     "execution_count": 135,
     "metadata": {},
     "output_type": "execute_result"
    }
   ],
   "source": [
    "score[:5]"
   ]
  },
  {
   "cell_type": "code",
   "execution_count": 136,
   "metadata": {},
   "outputs": [
    {
     "name": "stderr",
     "output_type": "stream",
     "text": [
      "/home/mkatari/miniconda3/envs/jupyterlab/lib/python3.8/site-packages/seaborn/distributions.py:283: UserWarning: Data must have variance to compute a kernel density estimate.\n",
      "  warnings.warn(msg, UserWarning)\n"
     ]
    },
    {
     "data": {
      "text/plain": [
       "Text(0.5, 1.0, 'Random Forest')"
      ]
     },
     "execution_count": 136,
     "metadata": {},
     "output_type": "execute_result"
    },
    {
     "data": {
      "image/png": "[encoded data removed]",
      "text/plain": [
       "<Figure size 576x396 with 1 Axes>"
      ]
     },
     "metadata": {},
     "output_type": "display_data"
    }
   ],
   "source": [
    "sns.set(font_scale=1)\n",
    "sns.distplot(score[:,0], label=\"train\")\n",
    "sns.distplot(score[:,1], label=\"test\")\n",
    "plt.legend()\n",
    "plt.title(\"Random Forest\")"
   ]
  },
  {
   "cell_type": "code",
   "execution_count": 137,
   "metadata": {},
   "outputs": [],
   "source": [
    "from sklearn.tree import DecisionTreeClassifier\n",
    "\n",
    "def decisiontree(X_train, X_test, Y_train, Y_test):\n",
    "    clf = DecisionTreeClassifier(criterion=\"gini\").fit(X_train, Y_train)\n",
    "    Y_train_predicted = clf.predict(X_train)\n",
    "    train_score = f1_score(Y_train, Y_train_predicted)\n",
    "    Y_test_predicted = clf.predict(X_test)\n",
    "    test_score = f1_score(Y_test, Y_test_predicted)\n",
    "    return [train_score, test_score]"
   ]
  },
  {
   "cell_type": "code",
   "execution_count": 115,
   "metadata": {},
   "outputs": [
    {
     "name": "stdout",
     "output_type": "stream",
     "text": [
      "5% [1.         0.57142857]\n",
      "95% [1. 1.]\n"
     ]
    }
   ],
   "source": [
    "score=np.zeros(shape=(100,2))\n",
    "for i in range(100):\n",
    "    X_train, X_test, Y_train, Y_test = train_test_split(X, Y, test_size = 0.2, stratify=Y)\n",
    "    score[i,]=(decisiontree(X_train, X_test, Y_train, Y_test))\n",
    "\n",
    "score_sorted = np.sort(score, axis=0)\n",
    "\n",
    "print(\"5%\", score_sorted[5])\n",
    "print(\"95%\", score_sorted[95])"
   ]
  },
  {
   "cell_type": "code",
   "execution_count": 138,
   "metadata": {},
   "outputs": [
    {
     "data": {
      "image/png": "[encoded data removed]",
      "text/plain": [
       "<Figure size 1200x1200 with 1 Axes>"
      ]
     },
     "metadata": {},
     "output_type": "display_data"
    }
   ],
   "source": [
    "from sklearn import tree\n",
    "plt.style.use('seaborn-notebook')\n",
    "clf_gini = DecisionTreeClassifier(criterion=\"gini\").fit(X, Y)\n",
    "fig, axes = plt.subplots(nrows = 1,ncols = 1,figsize = (4,4), dpi=300, facecolor=\"lightgray\")\n",
    "plt.rcParams['lines.markeredgecolor']='black'\n",
    "plt.rcParams['lines.linewidth']=500\n",
    "\n",
    "tree.plot_tree(clf_gini,\n",
    "               feature_names = top10_ci_genes,\n",
    "               class_names= [\"H\",\"CF\"],\n",
    "               filled = True,\n",
    "              fontsize=4,\n",
    "              )\n",
    "fig.savefig('rnaseq_decision_tree.png')"
   ]
  },
  {
   "cell_type": "code",
   "execution_count": 117,
   "metadata": {},
   "outputs": [
    {
     "data": {
      "text/plain": [
       "KeysView(RcParams({'_internal.classic_mode': False,\n",
       "          'agg.path.chunksize': 0,\n",
       "          'animation.avconv_args': [],\n",
       "          'animation.avconv_path': 'avconv',\n",
       "          'animation.bitrate': -1,\n",
       "          'animation.codec': 'h264',\n",
       "          'animation.convert_args': [],\n",
       "          'animation.convert_path': 'convert',\n",
       "          'animation.embed_limit': 20.0,\n",
       "          'animation.ffmpeg_args': [],\n",
       "          'animation.ffmpeg_path': 'ffmpeg',\n",
       "          'animation.frame_format': 'png',\n",
       "          'animation.html': 'none',\n",
       "          'animation.html_args': [],\n",
       "          'animation.writer': 'ffmpeg',\n",
       "          'axes.autolimit_mode': 'data',\n",
       "          'axes.axisbelow': True,\n",
       "          'axes.edgecolor': 'white',\n",
       "          'axes.facecolor': '#EAEAF2',\n",
       "          'axes.formatter.limits': [-5, 6],\n",
       "          'axes.formatter.min_exponent': 0,\n",
       "          'axes.formatter.offset_threshold': 4,\n",
       "          'axes.formatter.use_locale': False,\n",
       "          'axes.formatter.use_mathtext': False,\n",
       "          'axes.formatter.useoffset': True,\n",
       "          'axes.grid': True,\n",
       "          'axes.grid.axis': 'both',\n",
       "          'axes.grid.which': 'major',\n",
       "          'axes.labelcolor': '.15',\n",
       "          'axes.labelpad': 4.0,\n",
       "          'axes.labelsize': 11.0,\n",
       "          'axes.labelweight': 'normal',\n",
       "          'axes.linewidth': 1.25,\n",
       "          'axes.prop_cycle': cycler('color', [(0.2980392156862745, 0.4470588235294118, 0.6901960784313725), (0.8666666666666667, 0.5176470588235295, 0.3215686274509804), (0.3333333333333333, 0.6588235294117647, 0.40784313725490196), (0.7686274509803922, 0.3058823529411765, 0.3215686274509804), (0.5058823529411764, 0.4470588235294118, 0.7019607843137254), (0.5764705882352941, 0.47058823529411764, 0.3764705882352941), (0.8549019607843137, 0.5450980392156862, 0.7647058823529411), (0.5490196078431373, 0.5490196078431373, 0.5490196078431373), (0.8, 0.7254901960784313, 0.4549019607843137), (0.39215686274509803, 0.7098039215686275, 0.803921568627451)]),\n",
       "          'axes.spines.bottom': True,\n",
       "          'axes.spines.left': True,\n",
       "          'axes.spines.right': True,\n",
       "          'axes.spines.top': True,\n",
       "          'axes.titlecolor': 'auto',\n",
       "          'axes.titlelocation': 'center',\n",
       "          'axes.titlepad': 6.0,\n",
       "          'axes.titlesize': 12.0,\n",
       "          'axes.titleweight': 'normal',\n",
       "          'axes.titley': None,\n",
       "          'axes.unicode_minus': True,\n",
       "          'axes.xmargin': 0.05,\n",
       "          'axes.ymargin': 0.05,\n",
       "          'axes3d.grid': True,\n",
       "          'backend': 'module://ipykernel.pylab.backend_inline',\n",
       "          'backend_fallback': True,\n",
       "          'boxplot.bootstrap': None,\n",
       "          'boxplot.boxprops.color': 'black',\n",
       "          'boxplot.boxprops.linestyle': '-',\n",
       "          'boxplot.boxprops.linewidth': 1.0,\n",
       "          'boxplot.capprops.color': 'black',\n",
       "          'boxplot.capprops.linestyle': '-',\n",
       "          'boxplot.capprops.linewidth': 1.0,\n",
       "          'boxplot.flierprops.color': 'black',\n",
       "          'boxplot.flierprops.linestyle': 'none',\n",
       "          'boxplot.flierprops.linewidth': 1.0,\n",
       "          'boxplot.flierprops.marker': 'o',\n",
       "          'boxplot.flierprops.markeredgecolor': 'black',\n",
       "          'boxplot.flierprops.markeredgewidth': 1.0,\n",
       "          'boxplot.flierprops.markerfacecolor': 'none',\n",
       "          'boxplot.flierprops.markersize': 6.0,\n",
       "          'boxplot.meanline': False,\n",
       "          'boxplot.meanprops.color': 'C2',\n",
       "          'boxplot.meanprops.linestyle': '--',\n",
       "          'boxplot.meanprops.linewidth': 1.0,\n",
       "          'boxplot.meanprops.marker': '^',\n",
       "          'boxplot.meanprops.markeredgecolor': 'C2',\n",
       "          'boxplot.meanprops.markerfacecolor': 'C2',\n",
       "          'boxplot.meanprops.markersize': 6.0,\n",
       "          'boxplot.medianprops.color': 'C1',\n",
       "          'boxplot.medianprops.linestyle': '-',\n",
       "          'boxplot.medianprops.linewidth': 1.0,\n",
       "          'boxplot.notch': False,\n",
       "          'boxplot.patchartist': False,\n",
       "          'boxplot.showbox': True,\n",
       "          'boxplot.showcaps': True,\n",
       "          'boxplot.showfliers': True,\n",
       "          'boxplot.showmeans': False,\n",
       "          'boxplot.vertical': True,\n",
       "          'boxplot.whiskerprops.color': 'black',\n",
       "          'boxplot.whiskerprops.linestyle': '-',\n",
       "          'boxplot.whiskerprops.linewidth': 1.0,\n",
       "          'boxplot.whiskers': 1.5,\n",
       "          'contour.corner_mask': True,\n",
       "          'contour.linewidth': None,\n",
       "          'contour.negative_linestyle': 'dashed',\n",
       "          'date.autoformatter.day': '%Y-%m-%d',\n",
       "          'date.autoformatter.hour': '%m-%d %H',\n",
       "          'date.autoformatter.microsecond': '%M:%S.%f',\n",
       "          'date.autoformatter.minute': '%d %H:%M',\n",
       "          'date.autoformatter.month': '%Y-%m',\n",
       "          'date.autoformatter.second': '%H:%M:%S',\n",
       "          'date.autoformatter.year': '%Y',\n",
       "          'date.epoch': '1970-01-01T00:00:00',\n",
       "          'docstring.hardcopy': False,\n",
       "          'errorbar.capsize': 0.0,\n",
       "          'figure.autolayout': False,\n",
       "          'figure.constrained_layout.h_pad': 0.04167,\n",
       "          'figure.constrained_layout.hspace': 0.02,\n",
       "          'figure.constrained_layout.use': False,\n",
       "          'figure.constrained_layout.w_pad': 0.04167,\n",
       "          'figure.constrained_layout.wspace': 0.02,\n",
       "          'figure.dpi': 72.0,\n",
       "          'figure.edgecolor': (1, 1, 1, 0),\n",
       "          'figure.facecolor': 'white',\n",
       "          'figure.figsize': [8.0, 5.5],\n",
       "          'figure.frameon': True,\n",
       "          'figure.max_open_warning': 20,\n",
       "          'figure.raise_window': True,\n",
       "          'figure.subplot.bottom': 0.125,\n",
       "          'figure.subplot.hspace': 0.2,\n",
       "          'figure.subplot.left': 0.125,\n",
       "          'figure.subplot.right': 0.9,\n",
       "          'figure.subplot.top': 0.88,\n",
       "          'figure.subplot.wspace': 0.2,\n",
       "          'figure.titlesize': 'large',\n",
       "          'figure.titleweight': 'normal',\n",
       "          'font.cursive': ['Apple Chancery',\n",
       "                           'Textile',\n",
       "                           'Zapf Chancery',\n",
       "                           'Sand',\n",
       "                           'Script MT',\n",
       "                           'Felipa',\n",
       "                           'cursive'],\n",
       "          'font.family': ['sans-serif'],\n",
       "          'font.fantasy': ['Comic Neue',\n",
       "                           'Comic Sans MS',\n",
       "                           'Chicago',\n",
       "                           'Charcoal',\n",
       "                           'ImpactWestern',\n",
       "                           'Humor Sans',\n",
       "                           'xkcd',\n",
       "                           'fantasy'],\n",
       "          'font.monospace': ['DejaVu Sans Mono',\n",
       "                             'Bitstream Vera Sans Mono',\n",
       "                             'Computer Modern Typewriter',\n",
       "                             'Andale Mono',\n",
       "                             'Nimbus Mono L',\n",
       "                             'Courier New',\n",
       "                             'Courier',\n",
       "                             'Fixed',\n",
       "                             'Terminal',\n",
       "                             'monospace'],\n",
       "          'font.sans-serif': ['Arial',\n",
       "                              'DejaVu Sans',\n",
       "                              'Liberation Sans',\n",
       "                              'Bitstream Vera Sans',\n",
       "                              'sans-serif'],\n",
       "          'font.serif': ['DejaVu Serif',\n",
       "                         'Bitstream Vera Serif',\n",
       "                         'Computer Modern Roman',\n",
       "                         'New Century Schoolbook',\n",
       "                         'Century Schoolbook L',\n",
       "                         'Utopia',\n",
       "                         'ITC Bookman',\n",
       "                         'Bookman',\n",
       "                         'Nimbus Roman No9 L',\n",
       "                         'Times New Roman',\n",
       "                         'Times',\n",
       "                         'Palatino',\n",
       "                         'Charter',\n",
       "                         'serif'],\n",
       "          'font.size': 12.0,\n",
       "          'font.stretch': 'normal',\n",
       "          'font.style': 'normal',\n",
       "          'font.variant': 'normal',\n",
       "          'font.weight': 'normal',\n",
       "          'grid.alpha': 1.0,\n",
       "          'grid.color': 'white',\n",
       "          'grid.linestyle': '-',\n",
       "          'grid.linewidth': 1.0,\n",
       "          'hatch.color': 'black',\n",
       "          'hatch.linewidth': 1.0,\n",
       "          'hist.bins': 10,\n",
       "          'image.aspect': 'equal',\n",
       "          'image.cmap': 'rocket',\n",
       "          'image.composite_image': True,\n",
       "          'image.interpolation': 'antialiased',\n",
       "          'image.lut': 256,\n",
       "          'image.origin': 'upper',\n",
       "          'image.resample': True,\n",
       "          'interactive': True,\n",
       "          'keymap.all_axes': ['a'],\n",
       "          'keymap.back': ['left', 'c', 'backspace', 'MouseButton.BACK'],\n",
       "          'keymap.copy': ['ctrl+c', 'cmd+c'],\n",
       "          'keymap.forward': ['right', 'v', 'MouseButton.FORWARD'],\n",
       "          'keymap.fullscreen': ['f', 'ctrl+f'],\n",
       "          'keymap.grid': ['g'],\n",
       "          'keymap.grid_minor': ['G'],\n",
       "          'keymap.help': ['f1'],\n",
       "          'keymap.home': ['h', 'r', 'home'],\n",
       "          'keymap.pan': ['p'],\n",
       "          'keymap.quit': ['ctrl+w', 'cmd+w', 'q'],\n",
       "          'keymap.quit_all': [],\n",
       "          'keymap.save': ['s', 'ctrl+s'],\n",
       "          'keymap.xscale': ['k', 'L'],\n",
       "          'keymap.yscale': ['l'],\n",
       "          'keymap.zoom': ['o'],\n",
       "          'legend.borderaxespad': 0.5,\n",
       "          'legend.borderpad': 0.4,\n",
       "          'legend.columnspacing': 2.0,\n",
       "          'legend.edgecolor': '0.8',\n",
       "          'legend.facecolor': 'inherit',\n",
       "          'legend.fancybox': True,\n",
       "          'legend.fontsize': 10.0,\n",
       "          'legend.framealpha': 0.8,\n",
       "          'legend.frameon': True,\n",
       "          'legend.handleheight': 0.7,\n",
       "          'legend.handlelength': 2.0,\n",
       "          'legend.handletextpad': 0.8,\n",
       "          'legend.labelspacing': 0.5,\n",
       "          'legend.loc': 'best',\n",
       "          'legend.markerscale': 1.0,\n",
       "          'legend.numpoints': 1,\n",
       "          'legend.scatterpoints': 1,\n",
       "          'legend.shadow': False,\n",
       "          'legend.title_fontsize': 12.0,\n",
       "          'lines.antialiased': True,\n",
       "          'lines.color': 'C0',\n",
       "          'lines.dash_capstyle': 'butt',\n",
       "          'lines.dash_joinstyle': 'round',\n",
       "          'lines.dashdot_pattern': [6.4, 1.6, 1.0, 1.6],\n",
       "          'lines.dashed_pattern': [3.7, 1.6],\n",
       "          'lines.dotted_pattern': [1.0, 1.65],\n",
       "          'lines.linestyle': '-',\n",
       "          'lines.linewidth': 50.0,\n",
       "          'lines.marker': 'None',\n",
       "          'lines.markeredgecolor': 'black',\n",
       "          'lines.markeredgewidth': 0.0,\n",
       "          'lines.markerfacecolor': 'auto',\n",
       "          'lines.markersize': 7.0,\n",
       "          'lines.scale_dashes': True,\n",
       "          'lines.solid_capstyle': 'round',\n",
       "          'lines.solid_joinstyle': 'round',\n",
       "          'markers.fillstyle': 'full',\n",
       "          'mathtext.bf': 'sans:bold',\n",
       "          'mathtext.cal': 'cursive',\n",
       "          'mathtext.default': 'it',\n",
       "          'mathtext.fallback': 'cm',\n",
       "          'mathtext.fallback_to_cm': None,\n",
       "          'mathtext.fontset': 'dejavusans',\n",
       "          'mathtext.it': 'sans:italic',\n",
       "          'mathtext.rm': 'sans',\n",
       "          'mathtext.sf': 'sans',\n",
       "          'mathtext.tt': 'monospace',\n",
       "          'mpl_toolkits.legacy_colorbar': True,\n",
       "          'patch.antialiased': True,\n",
       "          'patch.edgecolor': 'w',\n",
       "          'patch.facecolor': (0.2980392156862745,\n",
       "                              0.4470588235294118,\n",
       "                              0.6901960784313725),\n",
       "          'patch.force_edgecolor': True,\n",
       "          'patch.linewidth': 0.3,\n",
       "          'path.effects': [],\n",
       "          'path.simplify': True,\n",
       "          'path.simplify_threshold': 0.111111111111,\n",
       "          'path.sketch': None,\n",
       "          'path.snap': True,\n",
       "          'pcolor.shading': 'flat',\n",
       "          'pdf.compression': 6,\n",
       "          'pdf.fonttype': 3,\n",
       "          'pdf.inheritcolor': False,\n",
       "          'pdf.use14corefonts': False,\n",
       "          'pgf.preamble': '',\n",
       "          'pgf.rcfonts': True,\n",
       "          'pgf.texsystem': 'xelatex',\n",
       "          'polaraxes.grid': True,\n",
       "          'ps.distiller.res': 6000,\n",
       "          'ps.fonttype': 3,\n",
       "          'ps.papersize': 'letter',\n",
       "          'ps.useafm': False,\n",
       "          'ps.usedistiller': None,\n",
       "          'savefig.bbox': None,\n",
       "          'savefig.directory': '~',\n",
       "          'savefig.dpi': 'figure',\n",
       "          'savefig.edgecolor': 'auto',\n",
       "          'savefig.facecolor': 'auto',\n",
       "          'savefig.format': 'png',\n",
       "          'savefig.jpeg_quality': 95,\n",
       "          'savefig.orientation': 'portrait',\n",
       "          'savefig.pad_inches': 0.1,\n",
       "          'savefig.transparent': False,\n",
       "          'scatter.edgecolors': 'face',\n",
       "          'scatter.marker': 'o',\n",
       "          'svg.fonttype': 'path',\n",
       "          'svg.hashsalt': None,\n",
       "          'svg.image_inline': True,\n",
       "          'text.antialiased': True,\n",
       "          'text.color': '.15',\n",
       "          'text.hinting': 'force_autohint',\n",
       "          'text.hinting_factor': 8,\n",
       "          'text.kerning_factor': 0,\n",
       "          'text.latex.preamble': '',\n",
       "          'text.latex.preview': False,\n",
       "          'text.usetex': False,\n",
       "          'timezone': 'UTC',\n",
       "          'tk.window_focus': False,\n",
       "          'toolbar': 'toolbar2',\n",
       "          'webagg.address': '127.0.0.1',\n",
       "          'webagg.open_in_browser': True,\n",
       "          'webagg.port': 8988,\n",
       "          'webagg.port_retries': 50,\n",
       "          'xaxis.labellocation': 'center',\n",
       "          'xtick.alignment': 'center',\n",
       "          'xtick.bottom': False,\n",
       "          'xtick.color': '.15',\n",
       "          'xtick.direction': 'out',\n",
       "          'xtick.labelbottom': True,\n",
       "          'xtick.labelsize': 10.0,\n",
       "          'xtick.labeltop': False,\n",
       "          'xtick.major.bottom': True,\n",
       "          'xtick.major.pad': 7.0,\n",
       "          'xtick.major.size': 6.0,\n",
       "          'xtick.major.top': True,\n",
       "          'xtick.major.width': 1.0,\n",
       "          'xtick.minor.bottom': True,\n",
       "          'xtick.minor.pad': 3.4,\n",
       "          'xtick.minor.size': 4.0,\n",
       "          'xtick.minor.top': True,\n",
       "          'xtick.minor.visible': False,\n",
       "          'xtick.minor.width': 0.5,\n",
       "          'xtick.top': False,\n",
       "          'yaxis.labellocation': 'center',\n",
       "          'ytick.alignment': 'center_baseline',\n",
       "          'ytick.color': '.15',\n",
       "          'ytick.direction': 'out',\n",
       "          'ytick.labelleft': True,\n",
       "          'ytick.labelright': False,\n",
       "          'ytick.labelsize': 10.0,\n",
       "          'ytick.left': False,\n",
       "          'ytick.major.left': True,\n",
       "          'ytick.major.pad': 7.0,\n",
       "          'ytick.major.right': True,\n",
       "          'ytick.major.size': 6.0,\n",
       "          'ytick.major.width': 1.0,\n",
       "          'ytick.minor.left': True,\n",
       "          'ytick.minor.pad': 3.4,\n",
       "          'ytick.minor.right': True,\n",
       "          'ytick.minor.size': 4.0,\n",
       "          'ytick.minor.visible': False,\n",
       "          'ytick.minor.width': 0.5,\n",
       "          'ytick.right': False}))"
      ]
     },
     "execution_count": 117,
     "metadata": {},
     "output_type": "execute_result"
    }
   ],
   "source": [
    "plt.rcParams.keys()"
   ]
  },
  {
   "cell_type": "code",
   "execution_count": 204,
   "metadata": {},
   "outputs": [
    {
     "data": {
      "text/plain": [
       "array([[1.19543213e+03, 2.67135671e+01, 8.87272050e+01, 1.19447807e+03,\n",
       "        7.53704215e+01, 1.26889444e+02, 1.04278317e+03, 2.86216790e+00,\n",
       "        8.57696315e+02, 1.44539479e+03],\n",
       "       [2.23662547e+03, 3.93623590e+01, 1.84159608e+02, 2.24224867e+03,\n",
       "        1.27927667e+02, 1.27927667e+02, 1.58714655e+03, 1.40579854e+00,\n",
       "        1.68414665e+03, 2.24084287e+03],\n",
       "       [1.91761143e+03, 4.78841715e+01, 2.43161808e+02, 1.97522207e+03,\n",
       "        8.08045394e+01, 1.09983956e+02, 1.26369321e+03, 4.48914108e+00,\n",
       "        1.49862493e+03, 2.14655763e+03],\n",
       "       [7.63621243e+02, 4.26869018e+01, 7.11448363e+01, 1.32708835e+03,\n",
       "        6.07102603e+01, 6.73504450e+01, 4.92322267e+02, 1.32803694e+01,\n",
       "        8.89784752e+02, 9.10653904e+02],\n",
       "       [2.20589579e+03, 4.36171266e+01, 2.35047849e+02, 2.20104944e+03,\n",
       "        1.58314015e+02, 1.41351799e+02, 1.24551128e+03, 3.23089826e+00,\n",
       "        1.25924260e+03, 2.48132987e+03],\n",
       "       [1.54452200e+03, 7.55605189e+01, 1.30809070e+02, 1.54370953e+03,\n",
       "        3.90802253e+02, 1.39746336e+02, 1.09684624e+03, 6.49982958e+00,\n",
       "        1.28127891e+03, 2.23350394e+03],\n",
       "       [3.30430345e+03, 7.73582748e+01, 1.35070004e+02, 1.98921278e+03,\n",
       "        3.74512283e+02, 2.29619006e+02, 1.53857013e+03, 3.68372737e+00,\n",
       "        1.59505395e+03, 3.25027545e+03],\n",
       "       [1.51650207e+03, 4.58839087e+01, 2.49639571e+02, 1.72959005e+03,\n",
       "        7.31031766e+01, 6.61039363e+01, 9.09901240e+02, 4.66616021e+00,\n",
       "        1.13543232e+03, 1.81047016e+03],\n",
       "       [7.55129075e+02, 1.86316317e+01, 2.95914151e+01, 1.06090703e+03,\n",
       "        3.06873935e+01, 8.54863103e+01, 9.76516699e+02, 1.09597834e+00,\n",
       "        7.33209508e+02, 7.12385919e+02],\n",
       "       [5.49863451e+02, 2.64994434e+01, 3.89210575e+01, 1.14444471e+03,\n",
       "        4.55459183e+01, 6.79048237e+01, 1.43759480e+03, 6.62486085e+00,\n",
       "        5.61456957e+02, 5.68909925e+02],\n",
       "       [1.18584470e+03, 3.41165639e+01, 6.35273948e+01, 1.19643260e+03,\n",
       "        5.64687954e+01, 1.09408291e+02, 6.22333183e+02, 2.35286647e+00,\n",
       "        8.08209634e+02, 1.39877912e+03],\n",
       "       [2.87667622e+03, 6.29720168e+01, 3.24401298e+02, 2.94632709e+03,\n",
       "        1.92732536e+02, 3.05318869e+02, 1.90347232e+03, 3.81648586e+00,\n",
       "        1.89774760e+03, 2.97304249e+03],\n",
       "       [6.51806544e+02, 2.42073957e+01, 3.13799574e+01, 7.02911046e+02,\n",
       "        8.06913191e+00, 5.55873531e+01, 6.05184893e+02, 3.58628085e+00,\n",
       "        6.90359063e+02, 8.40982859e+02],\n",
       "       [8.17206405e+02, 2.48355058e+01, 3.66619371e+01, 1.51378321e+03,\n",
       "        5.79495135e+01, 8.04197331e+01, 1.69236232e+03, 1.06437882e+01,\n",
       "        6.65828084e+02, 7.56891606e+02],\n",
       "       [2.84718788e+03, 8.39085413e+01, 2.28915535e+02, 2.07245950e+03,\n",
       "        6.57419347e+02, 2.06920092e+02, 1.66269255e+03, 3.42151333e+01,\n",
       "        1.87938839e+03, 2.07408880e+03],\n",
       "       [8.99346897e+02, 4.47521901e+01, 5.59402376e+01, 1.13687775e+03,\n",
       "        8.17588088e+01, 6.71282851e+01, 4.26867044e+02, 1.46305237e+01,\n",
       "        9.00207516e+02, 1.18765428e+03],\n",
       "       [1.74494446e+03, 4.88940042e+01, 1.35887232e+02, 1.59064260e+03,\n",
       "        1.39697155e+01, 8.19133317e+01, 1.57603790e+03, 1.39697155e+01,\n",
       "        1.50999925e+03, 1.57857785e+03],\n",
       "       [4.35145839e+03, 6.12085686e+01, 7.25086120e+01, 1.41909712e+03,\n",
       "        3.81376466e+02, 1.80800695e+02, 9.83103778e+02, 9.41670286e+00,\n",
       "        1.39178868e+03, 2.90599450e+03],\n",
       "       [1.41003096e+03, 4.94306752e+01, 7.54027249e+01, 1.13774334e+03,\n",
       "        1.64210379e+02, 6.53490283e+01, 8.00944501e+02, 4.18904027e+00,\n",
       "        1.05647596e+03, 1.46867752e+03],\n",
       "       [2.10325139e+03, 6.64393415e+01, 1.79485385e+02, 2.87969922e+03,\n",
       "        1.88410073e+01, 9.32134045e+01, 2.71013015e+03, 2.28075351e+01,\n",
       "        1.30895419e+03, 1.92079111e+03],\n",
       "       [1.77485528e+03, 1.35683917e+02, 1.28831194e+02, 2.33540802e+03,\n",
       "        1.89135157e+02, 1.21978471e+02, 1.72140404e+03, 1.09643569e+01,\n",
       "        1.49800526e+03, 3.29615980e+03],\n",
       "       [8.61544853e+03, 2.02335044e+02, 3.76723259e+02, 4.31610831e+03,\n",
       "        8.36169132e+02, 8.41758498e+02, 1.06432705e+04, 1.90038439e+01,\n",
       "        6.98558945e+03, 9.87529159e+03],\n",
       "       [1.61190651e+04, 2.96428010e+02, 8.56895221e+02, 5.41245157e+03,\n",
       "        2.27918638e+03, 1.64408409e+03, 1.79215728e+04, 3.45011223e+01,\n",
       "        1.00060296e+04, 9.80254335e+03],\n",
       "       [5.83125886e+03, 2.71670484e+02, 6.03855246e+02, 5.17718964e+03,\n",
       "        9.46340310e+02, 7.50634559e+02, 6.66558338e+03, 2.57507567e+01,\n",
       "        7.13682223e+03, 1.40187120e+04],\n",
       "       [1.11527404e+04, 2.92439580e+02, 1.24547928e+03, 3.65375404e+03,\n",
       "        1.80511812e+03, 9.69576464e+02, 6.12382406e+03, 2.61106768e+01,\n",
       "        7.44589466e+03, 8.86196369e+03],\n",
       "       [8.56883085e+02, 7.15559987e+01, 7.24504487e+01, 1.82467797e+03,\n",
       "        3.57779994e+01, 1.13595148e+02, 1.63684347e+03, 2.68334995e+00,\n",
       "        1.05008428e+03, 1.17888508e+03],\n",
       "       [2.01447716e+03, 3.70990269e+01, 2.30941442e+02, 3.81377996e+03,\n",
       "        1.74365426e+02, 2.30941442e+02, 2.37062782e+03, 6.12133944e+01,\n",
       "        1.62679233e+03, 1.81135999e+03],\n",
       "       [8.12259378e+03, 6.70870298e+01, 4.17711695e+02, 2.89233704e+03,\n",
       "        7.82260084e+02, 3.32903563e+02, 2.30754067e+03, 3.79737905e+00,\n",
       "        2.44171473e+03, 3.22903798e+03],\n",
       "       [3.52994122e+03, 3.12873898e+02, 1.73464100e+02, 5.85521151e+03,\n",
       "        5.71473752e+02, 4.61861468e+02, 5.99781390e+03, 6.17234220e+01,\n",
       "        6.63952465e+03, 1.71974224e+04],\n",
       "       [1.06197343e+04, 4.45965541e+01, 7.46632632e+02, 4.32054294e+04,\n",
       "        1.28610708e+03, 7.17860662e+02, 1.28466848e+04, 1.19259817e+03,\n",
       "        4.54884852e+03, 4.69126978e+03],\n",
       "       [1.21259083e+04, 5.30268907e+02, 9.74289257e+02, 3.54896841e+03,\n",
       "        1.43747595e+03, 1.41271942e+03, 1.34531777e+04, 1.07012099e+02,\n",
       "        8.29663205e+03, 8.99620368e+03],\n",
       "       [2.34221456e+03, 1.56348084e+02, 1.98441798e+02, 2.88041277e+03,\n",
       "        5.86305313e+02, 2.87139269e+02, 3.75536070e+03, 6.91539600e+01,\n",
       "        3.02022404e+03, 3.71627368e+03],\n",
       "       [7.47501814e+03, 2.29412321e+02, 3.02558279e+02, 5.19003817e+03,\n",
       "        9.30117347e+02, 3.32481625e+02, 3.96068736e+03, 3.57417747e+01,\n",
       "        3.51433078e+03, 2.87513485e+03],\n",
       "       [3.62069405e+03, 1.05464985e+02, 1.68743975e+02, 2.69665853e+03,\n",
       "        3.22885107e+02, 1.82535550e+02, 1.93244303e+03, 1.62253823e+01,\n",
       "        1.94055572e+03, 3.10716070e+03],\n",
       "       [2.22172453e+04, 3.11184446e+02, 1.61418655e+03, 6.19720514e+03,\n",
       "        2.54773989e+03, 2.16637342e+03, 1.04544732e+04, 6.62094566e+01,\n",
       "        1.05352487e+04, 1.49395018e+04],\n",
       "       [5.15361296e+03, 1.98519778e+02, 2.15310009e+02, 2.97483370e+03,\n",
       "        4.25681714e+02, 7.00251358e+02, 7.12498349e+03, 2.07408724e+01,\n",
       "        4.99855024e+03, 7.57041842e+03],\n",
       "       [7.51023933e+03, 2.53444716e+02, 3.28443662e+02, 5.50595714e+03,\n",
       "        2.41806948e+03, 2.68961739e+02, 3.82753244e+03, 1.78445769e+02,\n",
       "        4.84389747e+03, 1.59333969e+04],\n",
       "       [3.73062026e+03, 5.51549607e+01, 2.25216090e+02, 3.72142777e+03,\n",
       "        4.47368015e+02, 1.31759073e+02, 2.05605437e+03, 1.22566579e+01,\n",
       "        1.45394605e+03, 2.76234428e+03],\n",
       "       [4.61616894e+03, 1.51090591e+02, 2.68800703e+02, 2.82152895e+03,\n",
       "        3.21506724e+02, 3.47859734e+02, 4.04430862e+03, 3.86510815e+01,\n",
       "        2.87950557e+03, 5.87759970e+03],\n",
       "       [4.85076291e+02, 2.73963354e+01, 1.57931816e+02, 2.32385386e+03,\n",
       "        5.31811217e+01, 9.18583010e+01, 1.80654659e+03, 3.22309828e+00,\n",
       "        2.03699811e+03, 8.87963577e+02]])"
      ]
     },
     "execution_count": 204,
     "metadata": {},
     "output_type": "execute_result"
    }
   ],
   "source": [
    "X"
   ]
  },
  {
   "cell_type": "code",
   "execution_count": null,
   "metadata": {},
   "outputs": [],
   "source": []
  }
 ],
 "metadata": {
  "colab": {
   "name": "RNA_Seq_Data_Significant_Genes.ipynb",
   "provenance": []
  },
  "kernelspec": {
   "display_name": "Python 3",
   "language": "python",
   "name": "python3"
  },
  "language_info": {
   "codemirror_mode": {
    "name": "ipython",
    "version": 3
   },
   "file_extension": ".py",
   "mimetype": "text/x-python",
   "name": "python",
   "nbconvert_exporter": "python",
   "pygments_lexer": "ipython3",
   "version": "3.8.5"
  }
 },
 "nbformat": 4,
 "nbformat_minor": 4
}
