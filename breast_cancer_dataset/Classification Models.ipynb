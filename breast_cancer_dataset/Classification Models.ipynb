{
 "cells": [
  {
   "cell_type": "code",
   "execution_count": 1,
   "metadata": {},
   "outputs": [],
   "source": [
    "import pandas as pd\n",
    "import numpy as np\n",
    "from sklearn.model_selection import train_test_split\n",
    "from sklearn.linear_model import LogisticRegression\n",
    "from sklearn.tree import DecisionTreeClassifier\n",
    "from sklearn.ensemble import RandomForestClassifier\n",
    "from sklearn import svm"
   ]
  },
  {
   "cell_type": "markdown",
   "metadata": {},
   "source": [
    "### Loading data and removing non-relevant columns"
   ]
  },
  {
   "cell_type": "code",
   "execution_count": 2,
   "metadata": {},
   "outputs": [],
   "source": [
    "df = pd.read_csv('breast_cancer_data.csv')\n",
    "df = df.drop('Unnamed: 32', axis = 1)\n",
    "df = df.drop('id', axis = 1)"
   ]
  },
  {
   "cell_type": "code",
   "execution_count": 3,
   "metadata": {},
   "outputs": [],
   "source": [
    "#we generate labels, denoted by Y (diagnosis column) and the rest of the data will be denoted by X\n",
    "labels = df['diagnosis']\n",
    "Y = [1 if ele == \"M\" else 0 for ele in labels] #convert labels M and B to binary(1 and 0)\n",
    "df = df.drop('diagnosis', axis=1)#drop the diagnosis column from the dataframe"
   ]
  },
  {
   "cell_type": "code",
   "execution_count": 4,
   "metadata": {},
   "outputs": [],
   "source": [
    "#shuffling the dataframe\n",
    "df.sample(frac=1)\n",
    "X = df\n",
    "\n",
    "#splitting data into train and test\n",
    "#this is done to test on samples that the model has not been trained on, it leads to less bias\n",
    "X_train, X_test, Y_train, Y_test = train_test_split(X, Y, test_size = 0.2)"
   ]
  },
  {
   "cell_type": "markdown",
   "metadata": {},
   "source": [
    "### Logistic Regression"
   ]
  },
  {
   "cell_type": "code",
   "execution_count": 5,
   "metadata": {},
   "outputs": [
    {
     "name": "stdout",
     "output_type": "stream",
     "text": [
      "Train accuracy:  0.9560439560439561\n",
      "Test accuracy:  0.9385964912280702\n"
     ]
    }
   ],
   "source": [
    "samples = []\n",
    "clf = LogisticRegression().fit(X_train, Y_train)\n",
    "Y_predicted_lr = clf.predict(X_test)\n",
    "lr_accuracy = np.logical_xor(Y_predicted_lr, Y_test)\n",
    "lr_accuracy = np.logical_not(lr_accuracy)\n",
    "print(\"Train accuracy: \",clf.score(X_train, Y_train))\n",
    "print(\"Test accuracy: \",clf.score(X_test, Y_test))\n",
    "lr_accuracy_int = [1 if ele == True else 0 for ele in lr_accuracy]"
   ]
  },
  {
   "cell_type": "markdown",
   "metadata": {},
   "source": [
    "### Decision Tree Classifier"
   ]
  },
  {
   "cell_type": "code",
   "execution_count": 6,
   "metadata": {},
   "outputs": [
    {
     "name": "stdout",
     "output_type": "stream",
     "text": [
      "Train accuracy:  1.0\n",
      "Test accuracy:  0.9298245614035088\n"
     ]
    }
   ],
   "source": [
    "clf_gini = DecisionTreeClassifier(criterion=\"gini\").fit(X_train, Y_train)\n",
    "Y_predicted_dt = clf_gini.predict(X_test)\n",
    "dt_accuracy = np.logical_xor(Y_predicted_dt, Y_test)\n",
    "dt_accuracy = np.logical_not(dt_accuracy)\n",
    "print(\"Train accuracy: \",clf_gini.score(X_train, Y_train))\n",
    "print(\"Test accuracy: \",clf_gini.score(X_test, Y_test))\n",
    "dt_accuracy_int = [1 if ele == True else 0 for ele in dt_accuracy]"
   ]
  },
  {
   "cell_type": "markdown",
   "metadata": {},
   "source": [
    "### Random Forest Classifier "
   ]
  },
  {
   "cell_type": "code",
   "execution_count": 7,
   "metadata": {},
   "outputs": [
    {
     "name": "stdout",
     "output_type": "stream",
     "text": [
      "Train accuracy:  0.9956043956043956\n",
      "Test accuracy:  0.956140350877193\n"
     ]
    }
   ],
   "source": [
    "samples = []\n",
    "clf_random_forest = RandomForestClassifier().fit(X_train, Y_train)\n",
    "Y_predicted_rf = clf_random_forest.predict(X_test)\n",
    "rf_accuracy = np.logical_xor(Y_predicted_rf, Y_test)\n",
    "rf_accuracy = np.logical_not(rf_accuracy)\n",
    "print(\"Train accuracy: \",clf_random_forest.score(X_train, Y_train))\n",
    "print(\"Test accuracy: \",clf_random_forest.score(X_test, Y_test))\n",
    "rf_accuracy_int = [1 if ele == True else 0 for ele in rf_accuracy]"
   ]
  },
  {
   "cell_type": "markdown",
   "metadata": {},
   "source": [
    "### SVM"
   ]
  },
  {
   "cell_type": "code",
   "execution_count": 8,
   "metadata": {},
   "outputs": [
    {
     "name": "stdout",
     "output_type": "stream",
     "text": [
      "Train accuracy:  1.0\n",
      "Test accuracy:  0.6140350877192983\n"
     ]
    }
   ],
   "source": [
    "clf_svm = svm.SVC().fit(X_train, Y_train)\n",
    "Y_predicted_svm = clf_svm.predict(X_test)\n",
    "svm_accuracy = np.logical_xor(Y_predicted_svm, Y_test)\n",
    "svm_accuracy = np.logical_not(svm_accuracy)\n",
    "print(\"Train accuracy: \",clf_svm.score(X_train, Y_train))\n",
    "print(\"Test accuracy: \",clf_svm.score(X_test, Y_test))\n",
    "svm_accuracy_int = [1 if ele == True else 0 for ele in svm_accuracy]"
   ]
  }
 ],
 "metadata": {
  "kernelspec": {
   "display_name": "Python 3",
   "language": "python",
   "name": "python3"
  },
  "language_info": {
   "codemirror_mode": {
    "name": "ipython",
    "version": 3
   },
   "file_extension": ".py",
   "mimetype": "text/x-python",
   "name": "python",
   "nbconvert_exporter": "python",
   "pygments_lexer": "ipython3",
   "version": "3.6.4"
  }
 },
 "nbformat": 4,
 "nbformat_minor": 2
}
